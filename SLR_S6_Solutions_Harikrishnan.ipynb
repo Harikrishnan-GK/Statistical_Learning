{
 "cells": [
  {
   "cell_type": "markdown",
   "metadata": {},
   "source": [
    "![ieseg logo](./img/ieseg.png)\n",
    "\n",
    "#### MBD 2021-2022\n",
    "# Statistical & Machine Learning Approaches for Marketing\n",
    "\n",
    "## Section 6: Unsupervised Learning-Assignment"
   ]
  },
  {
   "cell_type": "markdown",
   "metadata": {},
   "source": [
    "### 1. Import all required libraries and datasets"
   ]
  },
  {
   "cell_type": "code",
   "execution_count": 1,
   "metadata": {},
   "outputs": [
    {
     "name": "stderr",
     "output_type": "stream",
     "text": [
      "Loading required package: ParamHelpers\n",
      "\n",
      "Warning message: 'mlr' is in 'maintenance-only' mode since July 2019.\n",
      "Future development will only happen in 'mlr3'\n",
      "(<https://mlr3.mlr-org.com>). Due to the focus on 'mlr3' there might be\n",
      "uncaught bugs meanwhile in {mlr} - please consider switching.\n",
      "\n"
     ]
    }
   ],
   "source": [
    "# Set environment params\n",
    "Sys.setenv(LANG='en')  # English\n",
    "\n",
    "# Import libraries\n",
    "library(mlr)         # ML toolkit\n",
    "library(ggplot2)     # Visualization\n",
    "\n",
    "# Import data\n",
    "library(ISLR)      # Data from the course book\n",
    "library(MASS)      # Boston housing dataset\n",
    "library(datasets)  # US crime dataset\n",
    "\n",
    "# Resize plot\n",
    "library(repr)  # String and binary representations\n",
    "#options(repr.plot.width=4, repr.plot.height=4)\n",
    "#par(cex.lab=0.8, cex.axis=0.8, cex.main=0.8, cex.sub=0.8)"
   ]
  },
  {
   "cell_type": "markdown",
   "metadata": {},
   "source": [
    "## Question - 3"
   ]
  },
  {
   "cell_type": "markdown",
   "metadata": {},
   "source": [
    "## A"
   ]
  },
  {
   "cell_type": "code",
   "execution_count": 3,
   "metadata": {},
   "outputs": [
    {
     "name": "stdout",
     "output_type": "stream",
     "text": [
      "'data.frame':\t50 obs. of  4 variables:\n",
      " $ Murder  : num  13.2 10 8.1 8.8 9 7.9 3.3 5.9 15.4 17.4 ...\n",
      " $ Assault : int  236 263 294 190 276 204 110 238 335 211 ...\n",
      " $ UrbanPop: int  58 48 80 50 91 78 77 72 80 60 ...\n",
      " $ Rape    : num  21.2 44.5 31 19.5 40.6 38.7 11.1 15.8 31.9 25.8 ...\n"
     ]
    }
   ],
   "source": [
    "crime <- USArrests\n",
    "str(crime)"
   ]
  },
  {
   "cell_type": "code",
   "execution_count": 4,
   "metadata": {},
   "outputs": [
    {
     "data": {
      "text/html": [
       "<table class=\"dataframe\">\n",
       "<caption>A data.frame: 6 × 4</caption>\n",
       "<thead>\n",
       "\t<tr><th></th><th scope=col>Murder</th><th scope=col>Assault</th><th scope=col>UrbanPop</th><th scope=col>Rape</th></tr>\n",
       "\t<tr><th></th><th scope=col>&lt;dbl&gt;</th><th scope=col>&lt;int&gt;</th><th scope=col>&lt;int&gt;</th><th scope=col>&lt;dbl&gt;</th></tr>\n",
       "</thead>\n",
       "<tbody>\n",
       "\t<tr><th scope=row>Alabama</th><td>13.2</td><td>236</td><td>58</td><td>21.2</td></tr>\n",
       "\t<tr><th scope=row>Alaska</th><td>10.0</td><td>263</td><td>48</td><td>44.5</td></tr>\n",
       "\t<tr><th scope=row>Arizona</th><td> 8.1</td><td>294</td><td>80</td><td>31.0</td></tr>\n",
       "\t<tr><th scope=row>Arkansas</th><td> 8.8</td><td>190</td><td>50</td><td>19.5</td></tr>\n",
       "\t<tr><th scope=row>California</th><td> 9.0</td><td>276</td><td>91</td><td>40.6</td></tr>\n",
       "\t<tr><th scope=row>Colorado</th><td> 7.9</td><td>204</td><td>78</td><td>38.7</td></tr>\n",
       "</tbody>\n",
       "</table>\n"
      ],
      "text/latex": [
       "A data.frame: 6 × 4\n",
       "\\begin{tabular}{r|llll}\n",
       "  & Murder & Assault & UrbanPop & Rape\\\\\n",
       "  & <dbl> & <int> & <int> & <dbl>\\\\\n",
       "\\hline\n",
       "\tAlabama & 13.2 & 236 & 58 & 21.2\\\\\n",
       "\tAlaska & 10.0 & 263 & 48 & 44.5\\\\\n",
       "\tArizona &  8.1 & 294 & 80 & 31.0\\\\\n",
       "\tArkansas &  8.8 & 190 & 50 & 19.5\\\\\n",
       "\tCalifornia &  9.0 & 276 & 91 & 40.6\\\\\n",
       "\tColorado &  7.9 & 204 & 78 & 38.7\\\\\n",
       "\\end{tabular}\n"
      ],
      "text/markdown": [
       "\n",
       "A data.frame: 6 × 4\n",
       "\n",
       "| <!--/--> | Murder &lt;dbl&gt; | Assault &lt;int&gt; | UrbanPop &lt;int&gt; | Rape &lt;dbl&gt; |\n",
       "|---|---|---|---|---|\n",
       "| Alabama | 13.2 | 236 | 58 | 21.2 |\n",
       "| Alaska | 10.0 | 263 | 48 | 44.5 |\n",
       "| Arizona |  8.1 | 294 | 80 | 31.0 |\n",
       "| Arkansas |  8.8 | 190 | 50 | 19.5 |\n",
       "| California |  9.0 | 276 | 91 | 40.6 |\n",
       "| Colorado |  7.9 | 204 | 78 | 38.7 |\n",
       "\n"
      ],
      "text/plain": [
       "           Murder Assault UrbanPop Rape\n",
       "Alabama    13.2   236     58       21.2\n",
       "Alaska     10.0   263     48       44.5\n",
       "Arizona     8.1   294     80       31.0\n",
       "Arkansas    8.8   190     50       19.5\n",
       "California  9.0   276     91       40.6\n",
       "Colorado    7.9   204     78       38.7"
      ]
     },
     "metadata": {},
     "output_type": "display_data"
    }
   ],
   "source": [
    "# Show the data\n",
    "head(crime)"
   ]
  },
  {
   "cell_type": "code",
   "execution_count": 5,
   "metadata": {},
   "outputs": [],
   "source": [
    "# Run PCA with variables scaled to sd = 1\n",
    "pca_out <- prcomp(crime, center=T, scale=T)"
   ]
  },
  {
   "cell_type": "code",
   "execution_count": 6,
   "metadata": {},
   "outputs": [
    {
     "data": {
      "text/html": [
       "<style>\n",
       ".list-inline {list-style: none; margin:0; padding: 0}\n",
       ".list-inline>li {display: inline-block}\n",
       ".list-inline>li:not(:last-child)::after {content: \"\\00b7\"; padding: 0 .5ex}\n",
       "</style>\n",
       "<ol class=list-inline><li>2.48024157914949</li><li>0.98976515253984</li><li>0.35656318058083</li><li>0.173430087729835</li></ol>\n"
      ],
      "text/latex": [
       "\\begin{enumerate*}\n",
       "\\item 2.48024157914949\n",
       "\\item 0.98976515253984\n",
       "\\item 0.35656318058083\n",
       "\\item 0.173430087729835\n",
       "\\end{enumerate*}\n"
      ],
      "text/markdown": [
       "1. 2.48024157914949\n",
       "2. 0.98976515253984\n",
       "3. 0.35656318058083\n",
       "4. 0.173430087729835\n",
       "\n",
       "\n"
      ],
      "text/plain": [
       "[1] 2.4802416 0.9897652 0.3565632 0.1734301"
      ]
     },
     "metadata": {},
     "output_type": "display_data"
    }
   ],
   "source": [
    "# Variance explained by each principal component\n",
    "pca_var <- pca_out$sdev ^ 2\n",
    "pca_var"
   ]
  },
  {
   "cell_type": "code",
   "execution_count": 7,
   "metadata": {},
   "outputs": [
    {
     "data": {
      "text/html": [
       "<style>\n",
       ".list-inline {list-style: none; margin:0; padding: 0}\n",
       ".list-inline>li {display: inline-block}\n",
       ".list-inline>li:not(:last-child)::after {content: \"\\00b7\"; padding: 0 .5ex}\n",
       "</style>\n",
       "<ol class=list-inline><li>0.620060394787374</li><li>0.24744128813496</li><li>0.0891407951452074</li><li>0.0433575219324588</li></ol>\n"
      ],
      "text/latex": [
       "\\begin{enumerate*}\n",
       "\\item 0.620060394787374\n",
       "\\item 0.24744128813496\n",
       "\\item 0.0891407951452074\n",
       "\\item 0.0433575219324588\n",
       "\\end{enumerate*}\n"
      ],
      "text/markdown": [
       "1. 0.620060394787374\n",
       "2. 0.24744128813496\n",
       "3. 0.0891407951452074\n",
       "4. 0.0433575219324588\n",
       "\n",
       "\n"
      ],
      "text/plain": [
       "[1] 0.62006039 0.24744129 0.08914080 0.04335752"
      ]
     },
     "metadata": {},
     "output_type": "display_data"
    }
   ],
   "source": [
    "# Proportion of variance explained (PVE) by each principal component\n",
    "pve <- pca_var / sum(pca_var)\n",
    "pve"
   ]
  },
  {
   "cell_type": "markdown",
   "metadata": {},
   "source": [
    "## B"
   ]
  },
  {
   "cell_type": "code",
   "execution_count": 15,
   "metadata": {},
   "outputs": [],
   "source": [
    "# The rotation matrix, principal component loading vectors\n",
    "rot <- pca_out$rotation"
   ]
  },
  {
   "cell_type": "code",
   "execution_count": 16,
   "metadata": {},
   "outputs": [],
   "source": [
    "crime2 <- scale(crime)"
   ]
  },
  {
   "cell_type": "code",
   "execution_count": 17,
   "metadata": {},
   "outputs": [],
   "source": [
    "crime_var <- sum(apply(as.matrix(crime2)^2, 2, sum))"
   ]
  },
  {
   "cell_type": "code",
   "execution_count": 18,
   "metadata": {},
   "outputs": [
    {
     "data": {
      "text/html": [
       "<style>\n",
       ".dl-inline {width: auto; margin:0; padding: 0}\n",
       ".dl-inline>dt, .dl-inline>dd {float: none; width: auto; display: inline-block}\n",
       ".dl-inline>dt::after {content: \":\\0020\"; padding-right: .5ex}\n",
       ".dl-inline>dt:not(:first-of-type) {padding-left: .5ex}\n",
       "</style><dl class=dl-inline><dt>PC1</dt><dd>0.620060394787374</dd><dt>PC2</dt><dd>0.24744128813496</dd><dt>PC3</dt><dd>0.0891407951452075</dd><dt>PC4</dt><dd>0.0433575219324588</dd></dl>\n"
      ],
      "text/latex": [
       "\\begin{description*}\n",
       "\\item[PC1] 0.620060394787374\n",
       "\\item[PC2] 0.24744128813496\n",
       "\\item[PC3] 0.0891407951452075\n",
       "\\item[PC4] 0.0433575219324588\n",
       "\\end{description*}\n"
      ],
      "text/markdown": [
       "PC1\n",
       ":   0.620060394787374PC2\n",
       ":   0.24744128813496PC3\n",
       ":   0.0891407951452075PC4\n",
       ":   0.0433575219324588\n",
       "\n"
      ],
      "text/plain": [
       "       PC1        PC2        PC3        PC4 \n",
       "0.62006039 0.24744129 0.08914080 0.04335752 "
      ]
     },
     "metadata": {},
     "output_type": "display_data"
    }
   ],
   "source": [
    "apply((as.matrix(crime2) %*% rot)^2, 2, sum) / crime_var"
   ]
  },
  {
   "cell_type": "markdown",
   "metadata": {},
   "source": [
    "## Question-4"
   ]
  },
  {
   "cell_type": "markdown",
   "metadata": {},
   "source": [
    "## Hierarchial Clustering"
   ]
  },
  {
   "cell_type": "code",
   "execution_count": 19,
   "metadata": {},
   "outputs": [
    {
     "name": "stdout",
     "output_type": "stream",
     "text": [
      "'data.frame':\t50 obs. of  4 variables:\n",
      " $ Murder  : num  13.2 10 8.1 8.8 9 7.9 3.3 5.9 15.4 17.4 ...\n",
      " $ Assault : int  236 263 294 190 276 204 110 238 335 211 ...\n",
      " $ UrbanPop: int  58 48 80 50 91 78 77 72 80 60 ...\n",
      " $ Rape    : num  21.2 44.5 31 19.5 40.6 38.7 11.1 15.8 31.9 25.8 ...\n"
     ]
    }
   ],
   "source": [
    "crime <- USArrests\n",
    "str(crime)"
   ]
  },
  {
   "cell_type": "code",
   "execution_count": 20,
   "metadata": {},
   "outputs": [
    {
     "data": {
      "text/html": [
       "<table class=\"dataframe\">\n",
       "<caption>A data.frame: 6 × 4</caption>\n",
       "<thead>\n",
       "\t<tr><th></th><th scope=col>Murder</th><th scope=col>Assault</th><th scope=col>UrbanPop</th><th scope=col>Rape</th></tr>\n",
       "\t<tr><th></th><th scope=col>&lt;dbl&gt;</th><th scope=col>&lt;int&gt;</th><th scope=col>&lt;int&gt;</th><th scope=col>&lt;dbl&gt;</th></tr>\n",
       "</thead>\n",
       "<tbody>\n",
       "\t<tr><th scope=row>Alabama</th><td>13.2</td><td>236</td><td>58</td><td>21.2</td></tr>\n",
       "\t<tr><th scope=row>Alaska</th><td>10.0</td><td>263</td><td>48</td><td>44.5</td></tr>\n",
       "\t<tr><th scope=row>Arizona</th><td> 8.1</td><td>294</td><td>80</td><td>31.0</td></tr>\n",
       "\t<tr><th scope=row>Arkansas</th><td> 8.8</td><td>190</td><td>50</td><td>19.5</td></tr>\n",
       "\t<tr><th scope=row>California</th><td> 9.0</td><td>276</td><td>91</td><td>40.6</td></tr>\n",
       "\t<tr><th scope=row>Colorado</th><td> 7.9</td><td>204</td><td>78</td><td>38.7</td></tr>\n",
       "</tbody>\n",
       "</table>\n"
      ],
      "text/latex": [
       "A data.frame: 6 × 4\n",
       "\\begin{tabular}{r|llll}\n",
       "  & Murder & Assault & UrbanPop & Rape\\\\\n",
       "  & <dbl> & <int> & <int> & <dbl>\\\\\n",
       "\\hline\n",
       "\tAlabama & 13.2 & 236 & 58 & 21.2\\\\\n",
       "\tAlaska & 10.0 & 263 & 48 & 44.5\\\\\n",
       "\tArizona &  8.1 & 294 & 80 & 31.0\\\\\n",
       "\tArkansas &  8.8 & 190 & 50 & 19.5\\\\\n",
       "\tCalifornia &  9.0 & 276 & 91 & 40.6\\\\\n",
       "\tColorado &  7.9 & 204 & 78 & 38.7\\\\\n",
       "\\end{tabular}\n"
      ],
      "text/markdown": [
       "\n",
       "A data.frame: 6 × 4\n",
       "\n",
       "| <!--/--> | Murder &lt;dbl&gt; | Assault &lt;int&gt; | UrbanPop &lt;int&gt; | Rape &lt;dbl&gt; |\n",
       "|---|---|---|---|---|\n",
       "| Alabama | 13.2 | 236 | 58 | 21.2 |\n",
       "| Alaska | 10.0 | 263 | 48 | 44.5 |\n",
       "| Arizona |  8.1 | 294 | 80 | 31.0 |\n",
       "| Arkansas |  8.8 | 190 | 50 | 19.5 |\n",
       "| California |  9.0 | 276 | 91 | 40.6 |\n",
       "| Colorado |  7.9 | 204 | 78 | 38.7 |\n",
       "\n"
      ],
      "text/plain": [
       "           Murder Assault UrbanPop Rape\n",
       "Alabama    13.2   236     58       21.2\n",
       "Alaska     10.0   263     48       44.5\n",
       "Arizona     8.1   294     80       31.0\n",
       "Arkansas    8.8   190     50       19.5\n",
       "California  9.0   276     91       40.6\n",
       "Colorado    7.9   204     78       38.7"
      ]
     },
     "metadata": {},
     "output_type": "display_data"
    }
   ],
   "source": [
    "head(crime)"
   ]
  },
  {
   "cell_type": "code",
   "execution_count": 33,
   "metadata": {},
   "outputs": [],
   "source": [
    "dist <- dist(crime)"
   ]
  },
  {
   "cell_type": "code",
   "execution_count": 34,
   "metadata": {},
   "outputs": [],
   "source": [
    "# Implement hierarchical clustering\n",
    "hc_complete <- hclust(dist, method='complete')  # Complete linkage\n",
    "hc_average <- hclust(dist, method='average')  # Average linkage\n",
    "hc_single <- hclust(dist, method='single')  # Single linkage"
   ]
  },
  {
   "cell_type": "code",
   "execution_count": 35,
   "metadata": {},
   "outputs": [
    {
     "data": {
      "image/png": "[encoded data removed]",
      "text/plain": [
       "Plot with title \"Complete Linkage\""
      ]
     },
     "metadata": {
      "image/png": {
       "height": 900,
       "width": 2400
      }
     },
     "output_type": "display_data"
    }
   ],
   "source": [
    "# Plot the dendrogram\n",
    "plot(hc_complete, main='Complete Linkage', xlab='', sub='', cex=1)\n"
   ]
  },
  {
   "cell_type": "markdown",
   "metadata": {},
   "source": [
    "## b.Cut the dendrogram at a height that results in three distinct clusters\n"
   ]
  },
  {
   "cell_type": "code",
   "execution_count": 28,
   "metadata": {},
   "outputs": [
    {
     "data": {
      "text/html": [
       "<style>\n",
       ".dl-inline {width: auto; margin:0; padding: 0}\n",
       ".dl-inline>dt, .dl-inline>dd {float: none; width: auto; display: inline-block}\n",
       ".dl-inline>dt::after {content: \":\\0020\"; padding-right: .5ex}\n",
       ".dl-inline>dt:not(:first-of-type) {padding-left: .5ex}\n",
       "</style><dl class=dl-inline><dt>Alabama</dt><dd>1</dd><dt>Alaska</dt><dd>1</dd><dt>Arizona</dt><dd>1</dd><dt>Arkansas</dt><dd>2</dd><dt>California</dt><dd>1</dd><dt>Colorado</dt><dd>2</dd><dt>Connecticut</dt><dd>3</dd><dt>Delaware</dt><dd>1</dd><dt>Florida</dt><dd>1</dd><dt>Georgia</dt><dd>2</dd><dt>Hawaii</dt><dd>3</dd><dt>Idaho</dt><dd>3</dd><dt>Illinois</dt><dd>1</dd><dt>Indiana</dt><dd>3</dd><dt>Iowa</dt><dd>3</dd><dt>Kansas</dt><dd>3</dd><dt>Kentucky</dt><dd>3</dd><dt>Louisiana</dt><dd>1</dd><dt>Maine</dt><dd>3</dd><dt>Maryland</dt><dd>1</dd><dt>Massachusetts</dt><dd>2</dd><dt>Michigan</dt><dd>1</dd><dt>Minnesota</dt><dd>3</dd><dt>Mississippi</dt><dd>1</dd><dt>Missouri</dt><dd>2</dd><dt>Montana</dt><dd>3</dd><dt>Nebraska</dt><dd>3</dd><dt>Nevada</dt><dd>1</dd><dt>New Hampshire</dt><dd>3</dd><dt>New Jersey</dt><dd>2</dd><dt>New Mexico</dt><dd>1</dd><dt>New York</dt><dd>1</dd><dt>North Carolina</dt><dd>1</dd><dt>North Dakota</dt><dd>3</dd><dt>Ohio</dt><dd>3</dd><dt>Oklahoma</dt><dd>2</dd><dt>Oregon</dt><dd>2</dd><dt>Pennsylvania</dt><dd>3</dd><dt>Rhode Island</dt><dd>2</dd><dt>South Carolina</dt><dd>1</dd><dt>South Dakota</dt><dd>3</dd><dt>Tennessee</dt><dd>2</dd><dt>Texas</dt><dd>2</dd><dt>Utah</dt><dd>3</dd><dt>Vermont</dt><dd>3</dd><dt>Virginia</dt><dd>2</dd><dt>Washington</dt><dd>2</dd><dt>West Virginia</dt><dd>3</dd><dt>Wisconsin</dt><dd>3</dd><dt>Wyoming</dt><dd>2</dd></dl>\n"
      ],
      "text/latex": [
       "\\begin{description*}\n",
       "\\item[Alabama] 1\n",
       "\\item[Alaska] 1\n",
       "\\item[Arizona] 1\n",
       "\\item[Arkansas] 2\n",
       "\\item[California] 1\n",
       "\\item[Colorado] 2\n",
       "\\item[Connecticut] 3\n",
       "\\item[Delaware] 1\n",
       "\\item[Florida] 1\n",
       "\\item[Georgia] 2\n",
       "\\item[Hawaii] 3\n",
       "\\item[Idaho] 3\n",
       "\\item[Illinois] 1\n",
       "\\item[Indiana] 3\n",
       "\\item[Iowa] 3\n",
       "\\item[Kansas] 3\n",
       "\\item[Kentucky] 3\n",
       "\\item[Louisiana] 1\n",
       "\\item[Maine] 3\n",
       "\\item[Maryland] 1\n",
       "\\item[Massachusetts] 2\n",
       "\\item[Michigan] 1\n",
       "\\item[Minnesota] 3\n",
       "\\item[Mississippi] 1\n",
       "\\item[Missouri] 2\n",
       "\\item[Montana] 3\n",
       "\\item[Nebraska] 3\n",
       "\\item[Nevada] 1\n",
       "\\item[New Hampshire] 3\n",
       "\\item[New Jersey] 2\n",
       "\\item[New Mexico] 1\n",
       "\\item[New York] 1\n",
       "\\item[North Carolina] 1\n",
       "\\item[North Dakota] 3\n",
       "\\item[Ohio] 3\n",
       "\\item[Oklahoma] 2\n",
       "\\item[Oregon] 2\n",
       "\\item[Pennsylvania] 3\n",
       "\\item[Rhode Island] 2\n",
       "\\item[South Carolina] 1\n",
       "\\item[South Dakota] 3\n",
       "\\item[Tennessee] 2\n",
       "\\item[Texas] 2\n",
       "\\item[Utah] 3\n",
       "\\item[Vermont] 3\n",
       "\\item[Virginia] 2\n",
       "\\item[Washington] 2\n",
       "\\item[West Virginia] 3\n",
       "\\item[Wisconsin] 3\n",
       "\\item[Wyoming] 2\n",
       "\\end{description*}\n"
      ],
      "text/markdown": [
       "Alabama\n",
       ":   1Alaska\n",
       ":   1Arizona\n",
       ":   1Arkansas\n",
       ":   2California\n",
       ":   1Colorado\n",
       ":   2Connecticut\n",
       ":   3Delaware\n",
       ":   1Florida\n",
       ":   1Georgia\n",
       ":   2Hawaii\n",
       ":   3Idaho\n",
       ":   3Illinois\n",
       ":   1Indiana\n",
       ":   3Iowa\n",
       ":   3Kansas\n",
       ":   3Kentucky\n",
       ":   3Louisiana\n",
       ":   1Maine\n",
       ":   3Maryland\n",
       ":   1Massachusetts\n",
       ":   2Michigan\n",
       ":   1Minnesota\n",
       ":   3Mississippi\n",
       ":   1Missouri\n",
       ":   2Montana\n",
       ":   3Nebraska\n",
       ":   3Nevada\n",
       ":   1New Hampshire\n",
       ":   3New Jersey\n",
       ":   2New Mexico\n",
       ":   1New York\n",
       ":   1North Carolina\n",
       ":   1North Dakota\n",
       ":   3Ohio\n",
       ":   3Oklahoma\n",
       ":   2Oregon\n",
       ":   2Pennsylvania\n",
       ":   3Rhode Island\n",
       ":   2South Carolina\n",
       ":   1South Dakota\n",
       ":   3Tennessee\n",
       ":   2Texas\n",
       ":   2Utah\n",
       ":   3Vermont\n",
       ":   3Virginia\n",
       ":   2Washington\n",
       ":   2West Virginia\n",
       ":   3Wisconsin\n",
       ":   3Wyoming\n",
       ":   2\n",
       "\n"
      ],
      "text/plain": [
       "       Alabama         Alaska        Arizona       Arkansas     California \n",
       "             1              1              1              2              1 \n",
       "      Colorado    Connecticut       Delaware        Florida        Georgia \n",
       "             2              3              1              1              2 \n",
       "        Hawaii          Idaho       Illinois        Indiana           Iowa \n",
       "             3              3              1              3              3 \n",
       "        Kansas       Kentucky      Louisiana          Maine       Maryland \n",
       "             3              3              1              3              1 \n",
       " Massachusetts       Michigan      Minnesota    Mississippi       Missouri \n",
       "             2              1              3              1              2 \n",
       "       Montana       Nebraska         Nevada  New Hampshire     New Jersey \n",
       "             3              3              1              3              2 \n",
       "    New Mexico       New York North Carolina   North Dakota           Ohio \n",
       "             1              1              1              3              3 \n",
       "      Oklahoma         Oregon   Pennsylvania   Rhode Island South Carolina \n",
       "             2              2              3              2              1 \n",
       "  South Dakota      Tennessee          Texas           Utah        Vermont \n",
       "             3              2              2              3              3 \n",
       "      Virginia     Washington  West Virginia      Wisconsin        Wyoming \n",
       "             2              2              3              3              2 "
      ]
     },
     "metadata": {},
     "output_type": "display_data"
    }
   ],
   "source": [
    "cutree(hc_complete, 3)"
   ]
  },
  {
   "cell_type": "markdown",
   "metadata": {},
   "source": [
    "## c.Hierarchically cluster the states using complete linkage and Eu- clidean distance, after scaling the variables to have standard deviation one.\n"
   ]
  },
  {
   "cell_type": "code",
   "execution_count": 29,
   "metadata": {},
   "outputs": [],
   "source": [
    "#standard dev\n",
    "sd_crime <- scale(crime)"
   ]
  },
  {
   "cell_type": "code",
   "execution_count": 31,
   "metadata": {},
   "outputs": [],
   "source": [
    "#hierarchial clustering\n",
    "sd_hc_complete <- hclust(dist(sd_crime), method = \"complete\") # Complete linkage"
   ]
  },
  {
   "cell_type": "code",
   "execution_count": 36,
   "metadata": {},
   "outputs": [
    {
     "data": {
      "image/png": "[encoded data removed]",
      "text/plain": [
       "Plot with title \"Complete Linkage\""
      ]
     },
     "metadata": {
      "image/png": {
       "height": 900,
       "width": 2400
      }
     },
     "output_type": "display_data"
    }
   ],
   "source": [
    "#plot the dendogram\n",
    "plot(sd_hc_complete, main='Complete Linkage', xlab='', sub='', cex=1)"
   ]
  },
  {
   "cell_type": "markdown",
   "metadata": {},
   "source": [
    "## d.)Does scaling the variables have on the hierarchical clustering obtained"
   ]
  },
  {
   "cell_type": "code",
   "execution_count": 37,
   "metadata": {},
   "outputs": [
    {
     "data": {
      "text/html": [
       "<style>\n",
       ".dl-inline {width: auto; margin:0; padding: 0}\n",
       ".dl-inline>dt, .dl-inline>dd {float: none; width: auto; display: inline-block}\n",
       ".dl-inline>dt::after {content: \":\\0020\"; padding-right: .5ex}\n",
       ".dl-inline>dt:not(:first-of-type) {padding-left: .5ex}\n",
       "</style><dl class=dl-inline><dt>Alabama</dt><dd>1</dd><dt>Alaska</dt><dd>1</dd><dt>Arizona</dt><dd>2</dd><dt>Arkansas</dt><dd>3</dd><dt>California</dt><dd>2</dd><dt>Colorado</dt><dd>2</dd><dt>Connecticut</dt><dd>3</dd><dt>Delaware</dt><dd>3</dd><dt>Florida</dt><dd>2</dd><dt>Georgia</dt><dd>1</dd><dt>Hawaii</dt><dd>3</dd><dt>Idaho</dt><dd>3</dd><dt>Illinois</dt><dd>2</dd><dt>Indiana</dt><dd>3</dd><dt>Iowa</dt><dd>3</dd><dt>Kansas</dt><dd>3</dd><dt>Kentucky</dt><dd>3</dd><dt>Louisiana</dt><dd>1</dd><dt>Maine</dt><dd>3</dd><dt>Maryland</dt><dd>2</dd><dt>Massachusetts</dt><dd>3</dd><dt>Michigan</dt><dd>2</dd><dt>Minnesota</dt><dd>3</dd><dt>Mississippi</dt><dd>1</dd><dt>Missouri</dt><dd>3</dd><dt>Montana</dt><dd>3</dd><dt>Nebraska</dt><dd>3</dd><dt>Nevada</dt><dd>2</dd><dt>New Hampshire</dt><dd>3</dd><dt>New Jersey</dt><dd>3</dd><dt>New Mexico</dt><dd>2</dd><dt>New York</dt><dd>2</dd><dt>North Carolina</dt><dd>1</dd><dt>North Dakota</dt><dd>3</dd><dt>Ohio</dt><dd>3</dd><dt>Oklahoma</dt><dd>3</dd><dt>Oregon</dt><dd>3</dd><dt>Pennsylvania</dt><dd>3</dd><dt>Rhode Island</dt><dd>3</dd><dt>South Carolina</dt><dd>1</dd><dt>South Dakota</dt><dd>3</dd><dt>Tennessee</dt><dd>1</dd><dt>Texas</dt><dd>2</dd><dt>Utah</dt><dd>3</dd><dt>Vermont</dt><dd>3</dd><dt>Virginia</dt><dd>3</dd><dt>Washington</dt><dd>3</dd><dt>West Virginia</dt><dd>3</dd><dt>Wisconsin</dt><dd>3</dd><dt>Wyoming</dt><dd>3</dd></dl>\n"
      ],
      "text/latex": [
       "\\begin{description*}\n",
       "\\item[Alabama] 1\n",
       "\\item[Alaska] 1\n",
       "\\item[Arizona] 2\n",
       "\\item[Arkansas] 3\n",
       "\\item[California] 2\n",
       "\\item[Colorado] 2\n",
       "\\item[Connecticut] 3\n",
       "\\item[Delaware] 3\n",
       "\\item[Florida] 2\n",
       "\\item[Georgia] 1\n",
       "\\item[Hawaii] 3\n",
       "\\item[Idaho] 3\n",
       "\\item[Illinois] 2\n",
       "\\item[Indiana] 3\n",
       "\\item[Iowa] 3\n",
       "\\item[Kansas] 3\n",
       "\\item[Kentucky] 3\n",
       "\\item[Louisiana] 1\n",
       "\\item[Maine] 3\n",
       "\\item[Maryland] 2\n",
       "\\item[Massachusetts] 3\n",
       "\\item[Michigan] 2\n",
       "\\item[Minnesota] 3\n",
       "\\item[Mississippi] 1\n",
       "\\item[Missouri] 3\n",
       "\\item[Montana] 3\n",
       "\\item[Nebraska] 3\n",
       "\\item[Nevada] 2\n",
       "\\item[New Hampshire] 3\n",
       "\\item[New Jersey] 3\n",
       "\\item[New Mexico] 2\n",
       "\\item[New York] 2\n",
       "\\item[North Carolina] 1\n",
       "\\item[North Dakota] 3\n",
       "\\item[Ohio] 3\n",
       "\\item[Oklahoma] 3\n",
       "\\item[Oregon] 3\n",
       "\\item[Pennsylvania] 3\n",
       "\\item[Rhode Island] 3\n",
       "\\item[South Carolina] 1\n",
       "\\item[South Dakota] 3\n",
       "\\item[Tennessee] 1\n",
       "\\item[Texas] 2\n",
       "\\item[Utah] 3\n",
       "\\item[Vermont] 3\n",
       "\\item[Virginia] 3\n",
       "\\item[Washington] 3\n",
       "\\item[West Virginia] 3\n",
       "\\item[Wisconsin] 3\n",
       "\\item[Wyoming] 3\n",
       "\\end{description*}\n"
      ],
      "text/markdown": [
       "Alabama\n",
       ":   1Alaska\n",
       ":   1Arizona\n",
       ":   2Arkansas\n",
       ":   3California\n",
       ":   2Colorado\n",
       ":   2Connecticut\n",
       ":   3Delaware\n",
       ":   3Florida\n",
       ":   2Georgia\n",
       ":   1Hawaii\n",
       ":   3Idaho\n",
       ":   3Illinois\n",
       ":   2Indiana\n",
       ":   3Iowa\n",
       ":   3Kansas\n",
       ":   3Kentucky\n",
       ":   3Louisiana\n",
       ":   1Maine\n",
       ":   3Maryland\n",
       ":   2Massachusetts\n",
       ":   3Michigan\n",
       ":   2Minnesota\n",
       ":   3Mississippi\n",
       ":   1Missouri\n",
       ":   3Montana\n",
       ":   3Nebraska\n",
       ":   3Nevada\n",
       ":   2New Hampshire\n",
       ":   3New Jersey\n",
       ":   3New Mexico\n",
       ":   2New York\n",
       ":   2North Carolina\n",
       ":   1North Dakota\n",
       ":   3Ohio\n",
       ":   3Oklahoma\n",
       ":   3Oregon\n",
       ":   3Pennsylvania\n",
       ":   3Rhode Island\n",
       ":   3South Carolina\n",
       ":   1South Dakota\n",
       ":   3Tennessee\n",
       ":   1Texas\n",
       ":   2Utah\n",
       ":   3Vermont\n",
       ":   3Virginia\n",
       ":   3Washington\n",
       ":   3West Virginia\n",
       ":   3Wisconsin\n",
       ":   3Wyoming\n",
       ":   3\n",
       "\n"
      ],
      "text/plain": [
       "       Alabama         Alaska        Arizona       Arkansas     California \n",
       "             1              1              2              3              2 \n",
       "      Colorado    Connecticut       Delaware        Florida        Georgia \n",
       "             2              3              3              2              1 \n",
       "        Hawaii          Idaho       Illinois        Indiana           Iowa \n",
       "             3              3              2              3              3 \n",
       "        Kansas       Kentucky      Louisiana          Maine       Maryland \n",
       "             3              3              1              3              2 \n",
       " Massachusetts       Michigan      Minnesota    Mississippi       Missouri \n",
       "             3              2              3              1              3 \n",
       "       Montana       Nebraska         Nevada  New Hampshire     New Jersey \n",
       "             3              3              2              3              3 \n",
       "    New Mexico       New York North Carolina   North Dakota           Ohio \n",
       "             2              2              1              3              3 \n",
       "      Oklahoma         Oregon   Pennsylvania   Rhode Island South Carolina \n",
       "             3              3              3              3              1 \n",
       "  South Dakota      Tennessee          Texas           Utah        Vermont \n",
       "             3              1              2              3              3 \n",
       "      Virginia     Washington  West Virginia      Wisconsin        Wyoming \n",
       "             3              3              3              3              3 "
      ]
     },
     "metadata": {},
     "output_type": "display_data"
    }
   ],
   "source": [
    "#cut the dendogram\n",
    "cutree(sd_hc_complete, 3)"
   ]
  },
  {
   "cell_type": "code",
   "execution_count": 38,
   "metadata": {},
   "outputs": [
    {
     "data": {
      "text/plain": [
       "   \n",
       "     1  2  3\n",
       "  1  6  9  1\n",
       "  2  2  2 10\n",
       "  3  0  0 20"
      ]
     },
     "metadata": {},
     "output_type": "display_data"
    }
   ],
   "source": [
    "#comparison\n",
    "table(cutree(hc_complete, 3), cutree(sd_hc_complete, 3))"
   ]
  },
  {
   "cell_type": "markdown",
   "metadata": {},
   "source": [
    "<b> From the table we can see that scaling the variables affect the clusters obtained. Since, the data measures have different units,The variables should be scaled beforehand"
   ]
  },
  {
   "cell_type": "markdown",
   "metadata": {},
   "source": [
    "## Question-10"
   ]
  },
  {
   "cell_type": "markdown",
   "metadata": {},
   "source": [
    "<b>a.Generate a simulated data set with 20 observations in each of three classe"
   ]
  },
  {
   "cell_type": "code",
   "execution_count": 40,
   "metadata": {},
   "outputs": [],
   "source": [
    "# Create sample data 60obs(20 in each) and 50 variables\n",
    "set.seed(2)\n",
    "X <- rbind(matrix(rnorm(20*50, mean = 0), nrow = 20),\n",
    "matrix(rnorm(20*50, mean=0.5), nrow = 20),\n",
    "matrix(rnorm(20*50, mean=1), nrow = 20))\n"
   ]
  },
  {
   "cell_type": "code",
   "execution_count": 41,
   "metadata": {},
   "outputs": [],
   "source": [
    "#true class\n",
    "true_class = c(rep(1,20), rep(2,20), rep(3,20))"
   ]
  },
  {
   "cell_type": "code",
   "execution_count": 42,
   "metadata": {},
   "outputs": [],
   "source": [
    "# Run PCA with variables scaled to sd = 1\n",
    "pca_out <- prcomp(X)\n"
   ]
  },
  {
   "cell_type": "code",
   "execution_count": 45,
   "metadata": {},
   "outputs": [],
   "source": [
    "pca <- pca_out$x"
   ]
  },
  {
   "cell_type": "code",
   "execution_count": 46,
   "metadata": {},
   "outputs": [
    {
     "name": "stdout",
     "output_type": "stream",
     "text": [
      " [1] 0.6136897 0.7848425 0.2533794 0.6120350 0.4306998 0.6531495 0.7436656\n",
      " [8] 0.3718346 0.5027482 0.5126478 0.5097232 0.5895119 0.3133456 0.7267606\n",
      "[15] 0.8212965 0.5839617 0.7666631 0.4647987 0.6023259 0.4779454 0.5939540\n",
      "[22] 0.6640079 0.4537051 0.4243165 0.4605692 0.6560024 0.9371158 0.6320955\n",
      "[29] 0.7150944 0.3720932 0.4533355 0.4681338 0.4894250 0.6636035 0.3933681\n",
      "[36] 0.6632761 0.5973158 0.2622648 0.5578043 0.4932231 0.4776150 0.6017268\n",
      "[43] 0.7595648 0.5531856 0.6158397 0.5284796 0.4990185 0.4115671 0.2447208\n",
      "[50] 0.5093892\n",
      "[1] FALSE\n"
     ]
    }
   ],
   "source": [
    "# Mean and sd of variables (used to scale)\n",
    "print(pca_out$center)  # Mean of the original variables\n",
    "print(pca_out$scale) \n"
   ]
  },
  {
   "cell_type": "markdown",
   "metadata": {},
   "source": [
    "<b>c.K-means.K = 3"
   ]
  },
  {
   "cell_type": "code",
   "execution_count": 48,
   "metadata": {},
   "outputs": [
    {
     "data": {
      "text/plain": [
       "K-means clustering with 3 clusters of sizes 24, 11, 25\n",
       "\n",
       "Cluster means:\n",
       "       [,1]      [,2]       [,3]         [,4]       [,5]      [,6]       [,7]\n",
       "1 0.9685514 0.9843458 0.01303060  1.043473653  0.5926499 0.7407722 1.12869196\n",
       "2 0.6123875 1.6859297 1.29745814  1.066035323  1.5999515 1.0578253 1.37555163\n",
       "3 0.2735954 0.1968409 0.02471972 -0.001906148 -0.2392431 0.3909744 0.09601047\n",
       "         [,8]      [,9]      [,10]     [,11]     [,12]       [,13]      [,14]\n",
       "1  0.75305943 0.6985295  0.9915461 0.6893035 0.8812409 -0.09782993 1.12560720\n",
       "2  0.50488674 0.9900709  1.2575185 0.8068305 0.9769073  1.04842284 1.45058698\n",
       "3 -0.05268411 0.1003762 -0.2748376 0.2065989 0.1389982  0.38464007 0.02538428\n",
       "      [,15]     [,16]     [,17]     [,18]      [,19]     [,20]      [,21]\n",
       "1 1.0719937 0.6316780 0.6094257 0.6986792 0.92338065 0.4837252  1.2339822\n",
       "2 1.4276078 1.6481509 1.3693164 0.3259864 1.06112212 0.6630642  1.0711862\n",
       "3 0.3138503 0.0699109 0.6524434 0.3013509 0.09224295 0.3909445 -0.2304551\n",
       "      [,22]       [,23]      [,24]      [,25]     [,26]     [,27]     [,28]\n",
       "1 0.8163281  0.69092403 0.32024779  0.9217759 0.8986637 1.0204229 0.7265580\n",
       "2 1.5188079  0.99317688 1.46272591  0.9401250 1.1114244 1.8799478 1.0843460\n",
       "3 0.1416686 -0.01139272 0.06732236 -0.1931938 0.2226619 0.4422949 0.3424213\n",
       "      [,29]      [,30]     [,31]     [,32]       [,33]       [,34]      [,35]\n",
       "1 0.7147945  0.6144652 0.8020535 0.5551800  0.64568713  1.22081150  0.7690546\n",
       "2 1.0506191  1.0392758 0.4665318 1.2648696  1.40204752  1.09116948  0.7621911\n",
       "3 0.5677514 -0.1541442 0.1127598 0.0340056 -0.06214065 -0.05944516 -0.1295730\n",
       "      [,36]     [,37]       [,38]      [,39]     [,40]      [,41]     [,42]\n",
       "1 0.7976408 0.5968362 -0.07035985 0.95449442 0.2767400  0.8103902 0.5567803\n",
       "2 1.1848743 1.4095123  1.39423377 0.89301145 1.5979707  1.1954353 1.4826482\n",
       "3 0.3047828 0.2404097  0.08351809 0.02949057 0.2149578 -0.1576900 0.2572699\n",
       "      [,43]     [,44]     [,45]     [,46]      [,47]      [,48]      [,49]\n",
       "1 0.9893961 0.7289294 1.2728986 0.5051269  0.6163173  0.7041669  0.7211628\n",
       "2 1.3442594 1.0305361 0.1493351 0.9964521  1.5082379  0.7700565  0.4446147\n",
       "3 0.2816612 0.1744373 0.1903252 0.3449902 -0.0576448 -0.0270641 -0.3006168\n",
       "      [,50]\n",
       "1 0.5752361\n",
       "2 1.2180792\n",
       "3 0.1343526\n",
       "\n",
       "Clustering vector:\n",
       " [1] 3 3 3 3 3 3 3 3 3 3 3 3 3 3 3 3 3 3 3 3 3 1 1 1 1 3 1 3 1 1 1 1 1 3 1 3 1 1\n",
       "[39] 1 1 1 1 2 2 2 2 2 1 1 1 2 2 2 2 1 1 2 1 2 1\n",
       "\n",
       "Within cluster sum of squares by cluster:\n",
       "[1] 1116.5294  490.1104 1262.0004\n",
       " (between_SS / total_SS =  17.9 %)\n",
       "\n",
       "Available components:\n",
       "\n",
       "[1] \"cluster\"      \"centers\"      \"totss\"        \"withinss\"     \"tot.withinss\"\n",
       "[6] \"betweenss\"    \"size\"         \"iter\"         \"ifault\"      "
      ]
     },
     "metadata": {},
     "output_type": "display_data"
    }
   ],
   "source": [
    "# Perform K-Means clustering with K=3\n",
    "km_out <- kmeans(X, 3)\n",
    "km_out"
   ]
  },
  {
   "cell_type": "code",
   "execution_count": 49,
   "metadata": {},
   "outputs": [
    {
     "data": {
      "text/plain": [
       "   true_class\n",
       "     1  2  3\n",
       "  1  0 15  9\n",
       "  2  0  0 11\n",
       "  3 20  5  0"
      ]
     },
     "metadata": {},
     "output_type": "display_data"
    }
   ],
   "source": [
    "#table\n",
    "table(km_out$cluster, true_class)\n"
   ]
  },
  {
   "cell_type": "markdown",
   "metadata": {},
   "source": [
    "<b>d.K-means.K = 2"
   ]
  },
  {
   "cell_type": "code",
   "execution_count": 50,
   "metadata": {},
   "outputs": [
    {
     "data": {
      "text/plain": [
       "K-means clustering with 2 clusters of sizes 30, 30\n",
       "\n",
       "Cluster means:\n",
       "       [,1]      [,2]       [,3]     [,4]       [,5]      [,6]      [,7]\n",
       "1 0.8981188 1.3418566 0.47167655 1.088663  1.0258277 0.9054867 1.3795745\n",
       "2 0.3292606 0.2278283 0.03508234 0.135407 -0.1644282 0.4008123 0.1077567\n",
       "       [,8]      [,9]      [,10]     [,11]     [,12]     [,13]     [,14]\n",
       "1 0.5803191 0.8643453  1.1113608 0.7434994 1.0685584 0.3426116 1.2420028\n",
       "2 0.1633501 0.1411510 -0.0860651 0.2759471 0.1104655 0.2840796 0.2115184\n",
       "      [,15]     [,16]     [,17]     [,18]     [,19]     [,20]      [,21]\n",
       "1 1.0590326 1.0488398 0.8855262 0.5604914 0.9422885 0.5721842  1.3145805\n",
       "2 0.5835604 0.1190836 0.6477999 0.3691060 0.2623633 0.3837066 -0.1266724\n",
       "      [,22]      [,23]      [,24]        [,25]     [,26]     [,27]     [,28]\n",
       "1 1.1330176 0.83831027 0.78964212  0.924528083 1.1309473 1.3320579 1.0170591\n",
       "2 0.1949982 0.06909987 0.05899092 -0.003389686 0.1810575 0.5421738 0.2471319\n",
       "      [,29]        [,30]     [,31]        [,32]      [,33]      [,34]\n",
       "1 0.8721763  0.745708167 0.6902713  0.945730969 0.96396769 1.27378387\n",
       "2 0.5580125 -0.001521671 0.2163997 -0.009463464 0.01488222 0.05342317\n",
       "        [,35]     [,36]     [,37]      [,38]     [,39]     [,40]     [,41]\n",
       "1  0.80114597 1.0671640 0.9973164 0.49856777 0.9358700 0.8833808 0.8371807\n",
       "2 -0.01440974 0.2593883 0.1973151 0.02596181 0.1797386 0.1030653 0.1180494\n",
       "      [,42]     [,43]     [,44]     [,45]     [,46]      [,47]       [,48]\n",
       "1 0.9401459 1.2024701 0.8324123 0.9344791 0.8003072 0.93223518  0.84001082\n",
       "2 0.2633076 0.3166594 0.2739589 0.2972004 0.2566520 0.06580191 -0.01687667\n",
       "        [,49]     [,50]\n",
       "1  0.57435557 0.8260664\n",
       "2 -0.08491392 0.1927120\n",
       "\n",
       "Clustering vector:\n",
       " [1] 2 2 2 2 2 2 2 2 2 2 2 2 2 2 2 2 2 2 2 2 2 1 1 2 2 2 1 2 1 1 1 2 2 2 1 2 2 1\n",
       "[39] 1 1 1 1 1 1 1 1 1 1 1 1 1 1 1 1 1 1 1 1 1 1\n",
       "\n",
       "Within cluster sum of squares by cluster:\n",
       "[1] 1475.421 1543.142\n",
       " (between_SS / total_SS =  13.6 %)\n",
       "\n",
       "Available components:\n",
       "\n",
       "[1] \"cluster\"      \"centers\"      \"totss\"        \"withinss\"     \"tot.withinss\"\n",
       "[6] \"betweenss\"    \"size\"         \"iter\"         \"ifault\"      "
      ]
     },
     "metadata": {},
     "output_type": "display_data"
    }
   ],
   "source": [
    "# Perform K-Means clustering with K=2\n",
    "km_out <- kmeans(X, 2)\n",
    "km_out"
   ]
  },
  {
   "cell_type": "code",
   "execution_count": 51,
   "metadata": {},
   "outputs": [
    {
     "data": {
      "text/plain": [
       "   true_class\n",
       "     1  2  3\n",
       "  1  0 10 20\n",
       "  2 20 10  0"
      ]
     },
     "metadata": {},
     "output_type": "display_data"
    }
   ],
   "source": [
    "#table\n",
    "table(km_out$cluster, true_class)"
   ]
  },
  {
   "cell_type": "markdown",
   "metadata": {},
   "source": [
    "<b>e.K-means.K = 4"
   ]
  },
  {
   "cell_type": "code",
   "execution_count": 52,
   "metadata": {},
   "outputs": [
    {
     "data": {
      "text/plain": [
       "K-means clustering with 4 clusters of sizes 13, 21, 16, 10\n",
       "\n",
       "Cluster means:\n",
       "       [,1]       [,2]        [,3]        [,4]       [,5]      [,6]      [,7]\n",
       "1 0.9114382 0.72759454  0.05504670  1.26073762  0.4795170 0.9037463 1.2938308\n",
       "2 0.2364949 0.08690357  0.08980423 -0.09027986 -0.3055880 0.4220260 0.1574016\n",
       "3 0.9653693 1.19242838 -0.07412722  0.76395019  0.5824176 0.5116641 0.6541300\n",
       "4 0.4560383 1.67279897  1.37873065  1.00051875  1.6706931 1.0391097 1.4028623\n",
       "        [,8]       [,9]      [,10]     [,11]      [,12]      [,13]      [,14]\n",
       "1  1.0093750  0.8132752  1.2567733 1.0332084 1.47317329 -0.1269728  1.0270260\n",
       "2 -0.1043370 -0.1072042 -0.2638531 0.1491331 0.07752544  0.2624885 -0.1202397\n",
       "3  0.3775483  0.7815820  0.4349129 0.2966694 0.31692871  0.3047855  1.1907171\n",
       "4  0.5338508  0.9338291  1.3003127 0.9273180 0.95205699  1.0062554  1.3727859\n",
       "      [,15]      [,16]     [,17]       [,18]     [,19]     [,20]      [,21]\n",
       "1 1.1217636 0.53196231 0.8160072  1.09969582 0.8821165 0.4010335  1.2395192\n",
       "2 0.3095060 0.09522746 0.6074713  0.45557722 0.1125475 0.1892263 -0.4138281\n",
       "3 0.7888385 0.68360575 0.4434357 -0.01632504 0.7326571 0.8900324  1.0064248\n",
       "4 1.5573821 1.51847252 1.5539821  0.42859554 1.0586028 0.5249017  1.2111087\n",
       "      [,22]      [,23]       [,24]      [,25]     [,26]     [,27]     [,28]\n",
       "1 0.8718461  0.8347243  0.21684197  1.0079404 1.4864158 1.1520074 0.8711625\n",
       "2 0.1683050 -0.0631898 -0.05679553 -0.2537948 0.1705169 0.4497816 0.3809870\n",
       "3 0.5175586  0.4798496  0.64608029  0.6846864 0.1996616 0.8034414 0.5071915\n",
       "4 1.6691132  1.0020280  1.34954670  0.8905635 1.3261298 1.8950376 1.0484828\n",
       "      [,29]      [,30]      [,31]      [,32]      [,33]       [,34]      [,35]\n",
       "1 0.8081955  0.8224370 0.72953645 0.52930510  0.8482950  1.79146641  1.0023473\n",
       "2 0.5891489 -0.2390502 0.01890946 0.08701659 -0.2896932 -0.06636741 -0.1359894\n",
       "3 0.5541919  0.4081569 0.74356843 0.39456840  0.6839008  0.50036440  0.3622383\n",
       "4 1.1159924  1.0123459 0.54219605 1.30666159  1.3478808  0.99150332  0.7631536\n",
       "       [,36]      [,37]       [,38]       [,39]     [,40]      [,41]     [,42]\n",
       "1 1.26315697 1.05776120 -0.05219847  1.05498288 0.4062458  0.5120574 0.7215794\n",
       "2 0.37973187 0.21563616  0.08918473 -0.08420498 0.1833666 -0.3602237 0.2470420\n",
       "3 0.09899904 0.08106265 -0.05519135  0.68907305 0.2252264  1.1450895 0.4328807\n",
       "4 1.38171723 1.62626896  1.54246496  1.04966147 1.6857868  1.1243422 1.4609099\n",
       "       [,43]     [,44]      [,45]     [,46]       [,47]      [,48]      [,49]\n",
       "1 1.09277152 0.4889268 1.65675501 0.6465587  0.65300942 1.12484175  1.1041811\n",
       "2 0.02302281 0.1070923 0.21400293 0.4592087 -0.03212815 0.01499797 -0.2744316\n",
       "3 1.02807089 0.9668335 0.63183012 0.1980782  0.56666799 0.24415477  0.0820962\n",
       "4 1.44352439 0.9116812 0.08092238 1.0490879  1.30599934 0.58496481  0.4778420\n",
       "       [,50]\n",
       "1  0.2108322\n",
       "2 -0.1640242\n",
       "3  1.3045214\n",
       "4  1.0394700\n",
       "\n",
       "Clustering vector:\n",
       " [1] 2 2 2 2 2 2 2 2 2 2 2 2 2 2 2 2 2 2 2 2 3 3 1 3 1 2 1 3 1 3 1 3 3 3 3 3 3 3\n",
       "[39] 3 3 1 3 4 4 3 4 4 1 1 1 4 4 4 4 1 1 4 1 4 1\n",
       "\n",
       "Within cluster sum of squares by cluster:\n",
       "[1]  565.9341 1040.8125  719.3011  425.9430\n",
       " (between_SS / total_SS =  21.2 %)\n",
       "\n",
       "Available components:\n",
       "\n",
       "[1] \"cluster\"      \"centers\"      \"totss\"        \"withinss\"     \"tot.withinss\"\n",
       "[6] \"betweenss\"    \"size\"         \"iter\"         \"ifault\"      "
      ]
     },
     "metadata": {},
     "output_type": "display_data"
    }
   ],
   "source": [
    "# Perform K-Means clustering with K=4\n",
    "km_out <- kmeans(X, 4)\n",
    "km_out"
   ]
  },
  {
   "cell_type": "code",
   "execution_count": 53,
   "metadata": {},
   "outputs": [
    {
     "data": {
      "text/plain": [
       "   true_class\n",
       "     1  2  3\n",
       "  1  0  5  8\n",
       "  2 20  1  0\n",
       "  3  0 14  2\n",
       "  4  0  0 10"
      ]
     },
     "metadata": {},
     "output_type": "display_data"
    }
   ],
   "source": [
    "#table\n",
    "table(km_out$cluster, true_class)"
   ]
  },
  {
   "cell_type": "markdown",
   "metadata": {},
   "source": [
    "<b>f.solution"
   ]
  },
  {
   "cell_type": "code",
   "execution_count": 54,
   "metadata": {},
   "outputs": [
    {
     "data": {
      "text/plain": [
       "K-means clustering with 3 clusters of sizes 20, 18, 22\n",
       "\n",
       "Cluster means:\n",
       "         PC1         PC2\n",
       "1  0.3828166 -0.30181748\n",
       "2  3.9391897  0.28926237\n",
       "3 -3.5709885  0.03771032\n",
       "\n",
       "Clustering vector:\n",
       " [1] 3 3 3 3 3 3 3 3 3 3 3 3 3 3 3 3 3 3 3 3 1 1 1 1 1 3 1 1 1 1 1 1 1 1 1 3 1 1\n",
       "[39] 1 1 2 1 2 2 2 2 2 2 2 2 2 2 2 2 2 2 2 2 1 2\n",
       "\n",
       "Within cluster sum of squares by cluster:\n",
       "[1]  56.28712  88.75801 109.62995\n",
       " (between_SS / total_SS =  69.0 %)\n",
       "\n",
       "Available components:\n",
       "\n",
       "[1] \"cluster\"      \"centers\"      \"totss\"        \"withinss\"     \"tot.withinss\"\n",
       "[6] \"betweenss\"    \"size\"         \"iter\"         \"ifault\"      "
      ]
     },
     "metadata": {},
     "output_type": "display_data"
    }
   ],
   "source": [
    "# Perform K-Means clustering with K=3\n",
    "km_out <- kmeans(pca[,1:2], 3)\n",
    "km_out"
   ]
  },
  {
   "cell_type": "code",
   "execution_count": 55,
   "metadata": {},
   "outputs": [
    {
     "data": {
      "text/plain": [
       "   true_class\n",
       "     1  2  3\n",
       "  1  0 18  2\n",
       "  2  0  0 18\n",
       "  3 20  2  0"
      ]
     },
     "metadata": {},
     "output_type": "display_data"
    }
   ],
   "source": [
    "#table\n",
    "table(km_out$cluster, true_class)"
   ]
  },
  {
   "cell_type": "markdown",
   "metadata": {},
   "source": [
    "<b>g.Solution"
   ]
  },
  {
   "cell_type": "code",
   "execution_count": 56,
   "metadata": {},
   "outputs": [
    {
     "data": {
      "text/plain": [
       "K-means clustering with 3 clusters of sizes 17, 21, 22\n",
       "\n",
       "Cluster means:\n",
       "        [,1]       [,2]       [,3]       [,4]       [,5]       [,6]       [,7]\n",
       "1  0.2271316  0.5885271  0.6022732  0.5095350  0.6265745  0.5798577  0.4612735\n",
       "2  0.1830229  0.1080940 -0.3203822  0.2298665  0.1134500 -0.2162637  0.1316427\n",
       "3 -0.3502144 -0.5579516 -0.1595735 -0.6131497 -0.5924644 -0.2416383 -0.4820976\n",
       "        [,8]       [,9]       [,10]       [,11]       [,12]       [,13]\n",
       "1  0.3751310  0.5224074  0.80918737  0.48662255  0.55074511  0.12718948\n",
       "2  0.1782427  0.1418643  0.06408854  0.00316903  0.03278755 -0.03374003\n",
       "3 -0.4600147 -0.5390944 -0.68645657 -0.37905150 -0.45687297 -0.06607639\n",
       "       [,14]       [,15]      [,16]      [,17]       [,18]      [,19]\n",
       "1  0.5980460  0.46550965  0.6984916  0.5761217  0.22620710  0.4616036\n",
       "2  0.2581182  0.08398052 -0.1162374 -0.3169360 -0.15667527  0.1097966\n",
       "3 -0.7085120 -0.43987523 -0.4287897 -0.1426551 -0.02524273 -0.4614995\n",
       "        [,20]      [,21]       [,22]       [,23]      [,24]      [,25]\n",
       "1  0.24546394  0.4674734  0.69900133  0.59837673  0.5905770  0.4708209\n",
       "2  0.03297511  0.4046208 -0.03281202  0.04626374 -0.1315425  0.3174551\n",
       "3 -0.22115293 -0.7474583 -0.50881683 -0.50654286 -0.3307916 -0.6668415\n",
       "        [,26]      [,27]      [,28]      [,29]       [,30]      [,31]\n",
       "1  0.60592871  0.8146686  0.5355317  0.3681376  0.69345647  0.1177906\n",
       "2 -0.02511381 -0.1796379 -0.2306396 -0.1584530  0.09753242  0.4109177\n",
       "3 -0.44424536 -0.4580441 -0.1936640 -0.1332193 -0.62895185 -0.4832597\n",
       "        [,32]         [,33]       [,34]      [,35]       [,36]       [,37]\n",
       "1  0.42819681  0.8042464127  0.60655786  0.3422482  0.46145066  0.49658914\n",
       "2 -0.01426042 -0.0006300683  0.02088369  0.2472644 -0.04810724  0.01991082\n",
       "3 -0.31726714 -0.6208617082 -0.48863823 -0.5004896 -0.31065496 -0.40273376\n",
       "       [,38]      [,39]      [,40]      [,41]       [,42]      [,43]      [,44]\n",
       "1  0.7063731  0.3815063  0.8336436  0.4544134  0.65221578  0.5472408  0.2438293\n",
       "2 -0.4020884  0.4090736 -0.3571185  0.3348713 -0.09551735  0.2043547  0.2683087\n",
       "3 -0.1620221 -0.6852797 -0.3032933 -0.6707875 -0.41280927 -0.6179338 -0.4445264\n",
       "       [,45]      [,46]       [,47]       [,48]       [,49]       [,50]\n",
       "1  0.1140469  0.4646716  0.55631027  0.44687619  0.51976226  0.50959113\n",
       "2  0.3936489 -0.2132133  0.06849812  0.08399318  0.05204148  0.09872709\n",
       "3 -0.4638829 -0.1555426 -0.49526069 -0.42548873 -0.45131043 -0.48801445\n",
       "\n",
       "Clustering vector:\n",
       " [1] 3 3 3 3 3 3 3 3 3 3 3 3 3 3 3 3 3 3 3 3 2 2 2 2 2 3 2 2 2 2 2 2 2 2 2 3 2 2\n",
       "[39] 2 2 1 2 1 1 1 1 1 1 2 1 1 1 1 1 1 1 1 1 1 2\n",
       "\n",
       "Within cluster sum of squares by cluster:\n",
       "[1] 694.8598 798.1002 932.1312\n",
       " (between_SS / total_SS =  17.8 %)\n",
       "\n",
       "Available components:\n",
       "\n",
       "[1] \"cluster\"      \"centers\"      \"totss\"        \"withinss\"     \"tot.withinss\"\n",
       "[6] \"betweenss\"    \"size\"         \"iter\"         \"ifault\"      "
      ]
     },
     "metadata": {},
     "output_type": "display_data"
    }
   ],
   "source": [
    "# Perform K-Means clustering with K=3\n",
    "km_out <- kmeans(scale(X), 3)\n",
    "km_out"
   ]
  },
  {
   "cell_type": "code",
   "execution_count": 57,
   "metadata": {},
   "outputs": [
    {
     "data": {
      "text/plain": [
       "   true_class\n",
       "     1  2  3\n",
       "  1  0  0 17\n",
       "  2  0 18  3\n",
       "  3 20  2  0"
      ]
     },
     "metadata": {},
     "output_type": "display_data"
    }
   ],
   "source": [
    "#table\n",
    "table(km_out$cluster, true_class)"
   ]
  }
 ],
 "metadata": {
  "kernelspec": {
   "display_name": "R",
   "language": "R",
   "name": "ir"
  },
  "language_info": {
   "codemirror_mode": "r",
   "file_extension": ".r",
   "mimetype": "text/x-r-source",
   "name": "R",
   "pygments_lexer": "r",
   "version": "4.0.5"
  }
 },
 "nbformat": 4,
 "nbformat_minor": 2
}
