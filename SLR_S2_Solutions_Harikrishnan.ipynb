{
 "cells": [
  {
   "cell_type": "markdown",
   "id": "0476341a",
   "metadata": {},
   "source": [
    "# SLR-Session 2 Classification -Solutions"
   ]
  },
  {
   "cell_type": "markdown",
   "id": "8c7fdf9f",
   "metadata": {},
   "source": [
    "### Question 1 "
   ]
  },
  {
   "cell_type": "code",
   "execution_count": 1,
   "id": "452e2d2e",
   "metadata": {},
   "outputs": [
    {
     "name": "stderr",
     "output_type": "stream",
     "text": [
      "Loading required package: ParamHelpers\n",
      "\n",
      "Warning message: 'mlr' is in 'maintenance-only' mode since July 2019.\n",
      "Future development will only happen in 'mlr3'\n",
      "(<https://mlr3.mlr-org.com>). Due to the focus on 'mlr3' there might be\n",
      "uncaught bugs meanwhile in {mlr} - please consider switching.\n",
      "\n",
      "Loading required package: ggplot2\n",
      "\n",
      "Loading required package: lattice\n",
      "\n",
      "\n",
      "Attaching package: 'caret'\n",
      "\n",
      "\n",
      "The following object is masked from 'package:mlr':\n",
      "\n",
      "    train\n",
      "\n",
      "\n",
      "Type 'citation(\"pROC\")' for a citation.\n",
      "\n",
      "\n",
      "Attaching package: 'pROC'\n",
      "\n",
      "\n",
      "The following objects are masked from 'package:stats':\n",
      "\n",
      "    cov, smooth, var\n",
      "\n",
      "\n",
      "\n",
      "Attaching package: 'e1071'\n",
      "\n",
      "\n",
      "The following object is masked from 'package:mlr':\n",
      "\n",
      "    impute\n",
      "\n",
      "\n",
      "\n",
      "Attaching package: 'kknn'\n",
      "\n",
      "\n",
      "The following object is masked from 'package:caret':\n",
      "\n",
      "    contr.dummy\n",
      "\n",
      "\n",
      "dummies-1.5.6 provided by Decision Patterns\n",
      "\n",
      "\n"
     ]
    }
   ],
   "source": [
    "#importing libraries\n",
    "# Set environment params\n",
    "Sys.setenv(LANG='en')  # English\n",
    "\n",
    "# Import libraries\n",
    "library(data.table)  # Data manipulate\n",
    "library(mlr)         # ML toolkit\n",
    "library(caret)       # ML toolkit\n",
    "library(ggplot2)     # Visualization\n",
    "library(pROC)        # AUC, ROC\n",
    "library(e1071)       # Evaluation\n",
    "library(gridExtra)   # Visualization\n",
    "library(kknn)        # kNN model\n",
    "library(nnet)        # One-vs-All Logistic Regression\n",
    "library(dummies)     # Data processing\n",
    "\n",
    "# Import data\n",
    "library(ISLR)      # Data from the course book\n",
    "library(MASS)      # Boston housing dataset\n",
    "library(datasets)  # US crime dataset\n",
    "\n",
    "# Resize plot\n",
    "library(repr)  # String and binary representations\n",
    "#options(repr.plot.width=4, repr.plot.height=4)"
   ]
  },
  {
   "cell_type": "markdown",
   "id": "2df0fe2d",
   "metadata": {},
   "source": [
    "### Solution :(a)"
   ]
  },
  {
   "cell_type": "code",
   "execution_count": 2,
   "id": "ebe096df",
   "metadata": {},
   "outputs": [
    {
     "data": {
      "text/html": [
       "0.378"
      ],
      "text/latex": [
       "0.378"
      ],
      "text/markdown": [
       "0.378"
      ],
      "text/plain": [
       "[1] 0.378"
      ]
     },
     "metadata": {},
     "output_type": "display_data"
    }
   ],
   "source": [
    "#Given : X1  = hours studied, X2 = undergrad GPA, Y = Receive an A,βˆ0 = −6, βˆ1 = 0.05, βˆ2 = 1\n",
    "# X1= 40, X2 = 3.5\n",
    "P <- function(X1,X2) {\n",
    "    z <- exp(-6 + 0.05*X1 + 1*X2);\n",
    "    return ( round(z/(1+z),3))\n",
    "}\n",
    "P(40,3.5)"
   ]
  },
  {
   "cell_type": "markdown",
   "id": "275b2daf",
   "metadata": {},
   "source": [
    "### Solution :(b)"
   ]
  },
  {
   "cell_type": "code",
   "execution_count": 3,
   "id": "9910ee91",
   "metadata": {},
   "outputs": [
    {
     "data": {
      "text/html": [
       "<style>\n",
       ".dl-inline {width: auto; margin:0; padding: 0}\n",
       ".dl-inline>dt, .dl-inline>dd {float: none; width: auto; display: inline-block}\n",
       ".dl-inline>dt::after {content: \":\\0020\"; padding-right: .5ex}\n",
       ".dl-inline>dt:not(:first-of-type) {padding-left: .5ex}\n",
       "</style><dl class=dl-inline><dt>40h</dt><dd>0.378</dd><dt>41h</dt><dd>0.389</dd><dt>42h</dt><dd>0.401</dd><dt>43h</dt><dd>0.413</dd><dt>44h</dt><dd>0.426</dd><dt>45h</dt><dd>0.438</dd><dt>46h</dt><dd>0.45</dd><dt>47h</dt><dd>0.463</dd><dt>48h</dt><dd>0.475</dd><dt>49h</dt><dd>0.488</dd><dt>50h</dt><dd>0.5</dd><dt>51h</dt><dd>0.512</dd><dt>52h</dt><dd>0.525</dd><dt>53h</dt><dd>0.537</dd><dt>54h</dt><dd>0.55</dd><dt>55h</dt><dd>0.562</dd></dl>\n"
      ],
      "text/latex": [
       "\\begin{description*}\n",
       "\\item[40h] 0.378\n",
       "\\item[41h] 0.389\n",
       "\\item[42h] 0.401\n",
       "\\item[43h] 0.413\n",
       "\\item[44h] 0.426\n",
       "\\item[45h] 0.438\n",
       "\\item[46h] 0.45\n",
       "\\item[47h] 0.463\n",
       "\\item[48h] 0.475\n",
       "\\item[49h] 0.488\n",
       "\\item[50h] 0.5\n",
       "\\item[51h] 0.512\n",
       "\\item[52h] 0.525\n",
       "\\item[53h] 0.537\n",
       "\\item[54h] 0.55\n",
       "\\item[55h] 0.562\n",
       "\\end{description*}\n"
      ],
      "text/markdown": [
       "40h\n",
       ":   0.37841h\n",
       ":   0.38942h\n",
       ":   0.40143h\n",
       ":   0.41344h\n",
       ":   0.42645h\n",
       ":   0.43846h\n",
       ":   0.4547h\n",
       ":   0.46348h\n",
       ":   0.47549h\n",
       ":   0.48850h\n",
       ":   0.551h\n",
       ":   0.51252h\n",
       ":   0.52553h\n",
       ":   0.53754h\n",
       ":   0.5555h\n",
       ":   0.562\n",
       "\n"
      ],
      "text/plain": [
       "  40h   41h   42h   43h   44h   45h   46h   47h   48h   49h   50h   51h   52h \n",
       "0.378 0.389 0.401 0.413 0.426 0.438 0.450 0.463 0.475 0.488 0.500 0.512 0.525 \n",
       "  53h   54h   55h \n",
       "0.537 0.550 0.562 "
      ]
     },
     "metadata": {},
     "output_type": "display_data"
    }
   ],
   "source": [
    "#Find X1 for P=0.5\n",
    "H <- seq(40,55,1)\n",
    "Prob <- sapply(H,3.5,FUN=P)\n",
    "names(Prob) <- paste0(H,\"h\")\n",
    "Prob "
   ]
  },
  {
   "cell_type": "markdown",
   "id": "56b34f7e",
   "metadata": {},
   "source": [
    "Student need to study 50 hours to have a 50% chance of getting an A in the class"
   ]
  },
  {
   "cell_type": "markdown",
   "id": "60ce63c8",
   "metadata": {},
   "source": [
    "### Question 2"
   ]
  },
  {
   "cell_type": "markdown",
   "id": "1460d4c4",
   "metadata": {},
   "source": [
    "### Solution "
   ]
  },
  {
   "cell_type": "markdown",
   "id": "69bc22cf",
   "metadata": {},
   "source": [
    "Logistic Regression.If we use KNN with K=1, There will not be any training error (zero) and it will be classified correctly. Hence for the KNN with average error rate of 18%, the test error rate is 36% .So, the logistic regression with test error rate 30% will be better for classification when compared to KNN"
   ]
  },
  {
   "cell_type": "markdown",
   "id": "84d714b9",
   "metadata": {},
   "source": [
    "### Question 3"
   ]
  },
  {
   "cell_type": "markdown",
   "id": "ced8a4e7",
   "metadata": {},
   "source": [
    "### Solution : (a)"
   ]
  },
  {
   "cell_type": "code",
   "execution_count": 4,
   "id": "27a6bf3d",
   "metadata": {},
   "outputs": [
    {
     "name": "stdout",
     "output_type": "stream",
     "text": [
      "[1] 0.270073\n"
     ]
    }
   ],
   "source": [
    "#P(X)=exp(βˆ0+ βˆ1*X1 + βˆ2*X2+...) /(1+exp(βˆ0+ βˆ1*X1 + βˆ2*X2+...)) \n",
    "#odds = P/1-P = 0.37\n",
    "print( 0.37/(1+0.37))"
   ]
  },
  {
   "cell_type": "markdown",
   "id": "7959943e",
   "metadata": {},
   "source": [
    "27% of people with an odds of 0.37 of defaulting on their credit card payment will in fact default"
   ]
  },
  {
   "cell_type": "markdown",
   "id": "4fdea349",
   "metadata": {},
   "source": [
    "### Solution : (b)"
   ]
  },
  {
   "cell_type": "code",
   "execution_count": 5,
   "id": "b7874c7c",
   "metadata": {},
   "outputs": [
    {
     "name": "stdout",
     "output_type": "stream",
     "text": [
      "[1] 0.1904762\n"
     ]
    }
   ],
   "source": [
    "#Given : P = 0.16\n",
    "#odds = P/1-P\n",
    "print(0.16/(1-0.16))"
   ]
  },
  {
   "cell_type": "markdown",
   "id": "463a4fba",
   "metadata": {},
   "source": [
    "odds of 0.19 that she will default"
   ]
  },
  {
   "cell_type": "markdown",
   "id": "69acd906",
   "metadata": {},
   "source": [
    "### Question 4"
   ]
  },
  {
   "cell_type": "markdown",
   "id": "540319af",
   "metadata": {},
   "source": [
    "### Solution : (a)"
   ]
  },
  {
   "cell_type": "code",
   "execution_count": 6,
   "id": "ba59ab7e",
   "metadata": {},
   "outputs": [
    {
     "data": {
      "text/html": [
       "<table class=\"dataframe\">\n",
       "<caption>A data.frame: 6 × 9</caption>\n",
       "<thead>\n",
       "\t<tr><th></th><th scope=col>Year</th><th scope=col>Lag1</th><th scope=col>Lag2</th><th scope=col>Lag3</th><th scope=col>Lag4</th><th scope=col>Lag5</th><th scope=col>Volume</th><th scope=col>Today</th><th scope=col>Direction</th></tr>\n",
       "\t<tr><th></th><th scope=col>&lt;dbl&gt;</th><th scope=col>&lt;dbl&gt;</th><th scope=col>&lt;dbl&gt;</th><th scope=col>&lt;dbl&gt;</th><th scope=col>&lt;dbl&gt;</th><th scope=col>&lt;dbl&gt;</th><th scope=col>&lt;dbl&gt;</th><th scope=col>&lt;dbl&gt;</th><th scope=col>&lt;fct&gt;</th></tr>\n",
       "</thead>\n",
       "<tbody>\n",
       "\t<tr><th scope=row>1</th><td>1990</td><td> 0.816</td><td> 1.572</td><td>-3.936</td><td>-0.229</td><td>-3.484</td><td>0.1549760</td><td>-0.270</td><td>Down</td></tr>\n",
       "\t<tr><th scope=row>2</th><td>1990</td><td>-0.270</td><td> 0.816</td><td> 1.572</td><td>-3.936</td><td>-0.229</td><td>0.1485740</td><td>-2.576</td><td>Down</td></tr>\n",
       "\t<tr><th scope=row>3</th><td>1990</td><td>-2.576</td><td>-0.270</td><td> 0.816</td><td> 1.572</td><td>-3.936</td><td>0.1598375</td><td> 3.514</td><td>Up  </td></tr>\n",
       "\t<tr><th scope=row>4</th><td>1990</td><td> 3.514</td><td>-2.576</td><td>-0.270</td><td> 0.816</td><td> 1.572</td><td>0.1616300</td><td> 0.712</td><td>Up  </td></tr>\n",
       "\t<tr><th scope=row>5</th><td>1990</td><td> 0.712</td><td> 3.514</td><td>-2.576</td><td>-0.270</td><td> 0.816</td><td>0.1537280</td><td> 1.178</td><td>Up  </td></tr>\n",
       "\t<tr><th scope=row>6</th><td>1990</td><td> 1.178</td><td> 0.712</td><td> 3.514</td><td>-2.576</td><td>-0.270</td><td>0.1544440</td><td>-1.372</td><td>Down</td></tr>\n",
       "</tbody>\n",
       "</table>\n"
      ],
      "text/latex": [
       "A data.frame: 6 × 9\n",
       "\\begin{tabular}{r|lllllllll}\n",
       "  & Year & Lag1 & Lag2 & Lag3 & Lag4 & Lag5 & Volume & Today & Direction\\\\\n",
       "  & <dbl> & <dbl> & <dbl> & <dbl> & <dbl> & <dbl> & <dbl> & <dbl> & <fct>\\\\\n",
       "\\hline\n",
       "\t1 & 1990 &  0.816 &  1.572 & -3.936 & -0.229 & -3.484 & 0.1549760 & -0.270 & Down\\\\\n",
       "\t2 & 1990 & -0.270 &  0.816 &  1.572 & -3.936 & -0.229 & 0.1485740 & -2.576 & Down\\\\\n",
       "\t3 & 1990 & -2.576 & -0.270 &  0.816 &  1.572 & -3.936 & 0.1598375 &  3.514 & Up  \\\\\n",
       "\t4 & 1990 &  3.514 & -2.576 & -0.270 &  0.816 &  1.572 & 0.1616300 &  0.712 & Up  \\\\\n",
       "\t5 & 1990 &  0.712 &  3.514 & -2.576 & -0.270 &  0.816 & 0.1537280 &  1.178 & Up  \\\\\n",
       "\t6 & 1990 &  1.178 &  0.712 &  3.514 & -2.576 & -0.270 & 0.1544440 & -1.372 & Down\\\\\n",
       "\\end{tabular}\n"
      ],
      "text/markdown": [
       "\n",
       "A data.frame: 6 × 9\n",
       "\n",
       "| <!--/--> | Year &lt;dbl&gt; | Lag1 &lt;dbl&gt; | Lag2 &lt;dbl&gt; | Lag3 &lt;dbl&gt; | Lag4 &lt;dbl&gt; | Lag5 &lt;dbl&gt; | Volume &lt;dbl&gt; | Today &lt;dbl&gt; | Direction &lt;fct&gt; |\n",
       "|---|---|---|---|---|---|---|---|---|---|\n",
       "| 1 | 1990 |  0.816 |  1.572 | -3.936 | -0.229 | -3.484 | 0.1549760 | -0.270 | Down |\n",
       "| 2 | 1990 | -0.270 |  0.816 |  1.572 | -3.936 | -0.229 | 0.1485740 | -2.576 | Down |\n",
       "| 3 | 1990 | -2.576 | -0.270 |  0.816 |  1.572 | -3.936 | 0.1598375 |  3.514 | Up   |\n",
       "| 4 | 1990 |  3.514 | -2.576 | -0.270 |  0.816 |  1.572 | 0.1616300 |  0.712 | Up   |\n",
       "| 5 | 1990 |  0.712 |  3.514 | -2.576 | -0.270 |  0.816 | 0.1537280 |  1.178 | Up   |\n",
       "| 6 | 1990 |  1.178 |  0.712 |  3.514 | -2.576 | -0.270 | 0.1544440 | -1.372 | Down |\n",
       "\n"
      ],
      "text/plain": [
       "  Year Lag1   Lag2   Lag3   Lag4   Lag5   Volume    Today  Direction\n",
       "1 1990  0.816  1.572 -3.936 -0.229 -3.484 0.1549760 -0.270 Down     \n",
       "2 1990 -0.270  0.816  1.572 -3.936 -0.229 0.1485740 -2.576 Down     \n",
       "3 1990 -2.576 -0.270  0.816  1.572 -3.936 0.1598375  3.514 Up       \n",
       "4 1990  3.514 -2.576 -0.270  0.816  1.572 0.1616300  0.712 Up       \n",
       "5 1990  0.712  3.514 -2.576 -0.270  0.816 0.1537280  1.178 Up       \n",
       "6 1990  1.178  0.712  3.514 -2.576 -0.270 0.1544440 -1.372 Down     "
      ]
     },
     "metadata": {},
     "output_type": "display_data"
    }
   ],
   "source": [
    "# Input data\n",
    "library(ISLR)\n",
    "\n",
    "head(Weekly)"
   ]
  },
  {
   "cell_type": "code",
   "execution_count": 7,
   "id": "caf4b505",
   "metadata": {},
   "outputs": [],
   "source": [
    "# Show variables description\n",
    "help(Weekly)"
   ]
  },
  {
   "cell_type": "code",
   "execution_count": 8,
   "id": "31d7d065",
   "metadata": {},
   "outputs": [
    {
     "name": "stdout",
     "output_type": "stream",
     "text": [
      "'data.frame':\t1089 obs. of  9 variables:\n",
      " $ Year     : num  1990 1990 1990 1990 1990 1990 1990 1990 1990 1990 ...\n",
      " $ Lag1     : num  0.816 -0.27 -2.576 3.514 0.712 ...\n",
      " $ Lag2     : num  1.572 0.816 -0.27 -2.576 3.514 ...\n",
      " $ Lag3     : num  -3.936 1.572 0.816 -0.27 -2.576 ...\n",
      " $ Lag4     : num  -0.229 -3.936 1.572 0.816 -0.27 ...\n",
      " $ Lag5     : num  -3.484 -0.229 -3.936 1.572 0.816 ...\n",
      " $ Volume   : num  0.155 0.149 0.16 0.162 0.154 ...\n",
      " $ Today    : num  -0.27 -2.576 3.514 0.712 1.178 ...\n",
      " $ Direction: Factor w/ 2 levels \"Down\",\"Up\": 1 1 2 2 2 1 2 2 2 1 ...\n"
     ]
    }
   ],
   "source": [
    "str(Weekly)"
   ]
  },
  {
   "cell_type": "code",
   "execution_count": 9,
   "id": "4da7ff00",
   "metadata": {},
   "outputs": [
    {
     "data": {
      "text/plain": [
       "      Year           Lag1               Lag2               Lag3         \n",
       " Min.   :1990   Min.   :-18.1950   Min.   :-18.1950   Min.   :-18.1950  \n",
       " 1st Qu.:1995   1st Qu.: -1.1540   1st Qu.: -1.1540   1st Qu.: -1.1580  \n",
       " Median :2000   Median :  0.2410   Median :  0.2410   Median :  0.2410  \n",
       " Mean   :2000   Mean   :  0.1506   Mean   :  0.1511   Mean   :  0.1472  \n",
       " 3rd Qu.:2005   3rd Qu.:  1.4050   3rd Qu.:  1.4090   3rd Qu.:  1.4090  \n",
       " Max.   :2010   Max.   : 12.0260   Max.   : 12.0260   Max.   : 12.0260  \n",
       "      Lag4               Lag5              Volume            Today         \n",
       " Min.   :-18.1950   Min.   :-18.1950   Min.   :0.08747   Min.   :-18.1950  \n",
       " 1st Qu.: -1.1580   1st Qu.: -1.1660   1st Qu.:0.33202   1st Qu.: -1.1540  \n",
       " Median :  0.2380   Median :  0.2340   Median :1.00268   Median :  0.2410  \n",
       " Mean   :  0.1458   Mean   :  0.1399   Mean   :1.57462   Mean   :  0.1499  \n",
       " 3rd Qu.:  1.4090   3rd Qu.:  1.4050   3rd Qu.:2.05373   3rd Qu.:  1.4050  \n",
       " Max.   : 12.0260   Max.   : 12.0260   Max.   :9.32821   Max.   : 12.0260  \n",
       " Direction \n",
       " Down:484  \n",
       " Up  :605  \n",
       "           \n",
       "           \n",
       "           \n",
       "           "
      ]
     },
     "metadata": {},
     "output_type": "display_data"
    }
   ],
   "source": [
    "summary(Weekly)"
   ]
  },
  {
   "cell_type": "code",
   "execution_count": 10,
   "id": "db5f5fa3",
   "metadata": {},
   "outputs": [
    {
     "ename": "ERROR",
     "evalue": "Error in corrplot(W1, method = \"number\"): could not find function \"corrplot\"\n",
     "output_type": "error",
     "traceback": [
      "Error in corrplot(W1, method = \"number\"): could not find function \"corrplot\"\nTraceback:\n"
     ]
    }
   ],
   "source": [
    "W1 <- Weekly[-9]\n",
    "W1 <- cor(W1)\n",
    "corrplot(W1,method = 'number')\n",
    "W1\n"
   ]
  },
  {
   "cell_type": "markdown",
   "id": "9dd5c90d",
   "metadata": {},
   "source": [
    "From the plot,we can see that Volume and Year are the only variables with  the strong correlation rest all lag variables have a weak correlation with the Today's returns "
   ]
  },
  {
   "cell_type": "markdown",
   "id": "328aecd9",
   "metadata": {},
   "source": [
    "### Solution : (b)"
   ]
  },
  {
   "cell_type": "code",
   "execution_count": 11,
   "id": "5a82201b",
   "metadata": {},
   "outputs": [
    {
     "data": {
      "text/plain": [
       "\n",
       "Call:\n",
       "glm(formula = Direction ~ . - Year - Today, family = \"binomial\", \n",
       "    data = Weekly)\n",
       "\n",
       "Deviance Residuals: \n",
       "    Min       1Q   Median       3Q      Max  \n",
       "-1.6949  -1.2565   0.9913   1.0849   1.4579  \n",
       "\n",
       "Coefficients:\n",
       "            Estimate Std. Error z value Pr(>|z|)   \n",
       "(Intercept)  0.26686    0.08593   3.106   0.0019 **\n",
       "Lag1        -0.04127    0.02641  -1.563   0.1181   \n",
       "Lag2         0.05844    0.02686   2.175   0.0296 * \n",
       "Lag3        -0.01606    0.02666  -0.602   0.5469   \n",
       "Lag4        -0.02779    0.02646  -1.050   0.2937   \n",
       "Lag5        -0.01447    0.02638  -0.549   0.5833   \n",
       "Volume      -0.02274    0.03690  -0.616   0.5377   \n",
       "---\n",
       "Signif. codes:  0 '***' 0.001 '**' 0.01 '*' 0.05 '.' 0.1 ' ' 1\n",
       "\n",
       "(Dispersion parameter for binomial family taken to be 1)\n",
       "\n",
       "    Null deviance: 1496.2  on 1088  degrees of freedom\n",
       "Residual deviance: 1486.4  on 1082  degrees of freedom\n",
       "AIC: 1500.4\n",
       "\n",
       "Number of Fisher Scoring iterations: 4\n"
      ]
     },
     "metadata": {},
     "output_type": "display_data"
    }
   ],
   "source": [
    "#Fit the Logistic regression model with full dataset\n",
    "wk_logreg = glm(Direction ~ . - Year - Today, data = Weekly, family = \"binomial\")\n",
    "summary(wk_logreg)"
   ]
  },
  {
   "cell_type": "markdown",
   "id": "aeede6e5",
   "metadata": {},
   "source": [
    "Lag2 is the the only statistically significant predictor with a p-value of 0.0296 (at 5% level of significance).Hence it rejects the null hypothesis and accept the alternate hypothesis i.e Lag2 predictor is related to the response-Direction "
   ]
  },
  {
   "cell_type": "markdown",
   "id": "44d4064a",
   "metadata": {},
   "source": [
    "### Solution : (c)"
   ]
  },
  {
   "cell_type": "code",
   "execution_count": 12,
   "id": "3a820ce9",
   "metadata": {},
   "outputs": [
    {
     "data": {
      "text/html": [
       "<style>\n",
       ".dl-inline {width: auto; margin:0; padding: 0}\n",
       ".dl-inline>dt, .dl-inline>dd {float: none; width: auto; display: inline-block}\n",
       ".dl-inline>dt::after {content: \":\\0020\"; padding-right: .5ex}\n",
       ".dl-inline>dt:not(:first-of-type) {padding-left: .5ex}\n",
       "</style><dl class=dl-inline><dt>1</dt><dd>0.608624944335381</dd><dt>2</dt><dd>0.601031436565434</dd><dt>3</dt><dd>0.587569945934812</dd><dt>4</dt><dd>0.481641563622447</dd><dt>5</dt><dd>0.61690129222657</dd><dt>6</dt><dd>0.568419018945013</dd></dl>\n"
      ],
      "text/latex": [
       "\\begin{description*}\n",
       "\\item[1] 0.608624944335381\n",
       "\\item[2] 0.601031436565434\n",
       "\\item[3] 0.587569945934812\n",
       "\\item[4] 0.481641563622447\n",
       "\\item[5] 0.61690129222657\n",
       "\\item[6] 0.568419018945013\n",
       "\\end{description*}\n"
      ],
      "text/markdown": [
       "1\n",
       ":   0.6086249443353812\n",
       ":   0.6010314365654343\n",
       ":   0.5875699459348124\n",
       ":   0.4816415636224475\n",
       ":   0.616901292226576\n",
       ":   0.568419018945013\n",
       "\n"
      ],
      "text/plain": [
       "        1         2         3         4         5         6 \n",
       "0.6086249 0.6010314 0.5875699 0.4816416 0.6169013 0.5684190 "
      ]
     },
     "metadata": {},
     "output_type": "display_data"
    }
   ],
   "source": [
    "# Make prediction\n",
    "pred_wk_prob <- predict(wk_logreg,type='response')\n",
    "head(pred_wk_prob)"
   ]
  },
  {
   "cell_type": "code",
   "execution_count": 13,
   "id": "dc992565",
   "metadata": {},
   "outputs": [
    {
     "name": "stdout",
     "output_type": "stream",
     "text": [
      "[1] \"Confusion matrix:\"\n"
     ]
    },
    {
     "data": {
      "text/plain": [
       "       \n",
       "wk_pred Down  Up\n",
       "   Down   54  48\n",
       "   Up    430 557"
      ]
     },
     "metadata": {},
     "output_type": "display_data"
    }
   ],
   "source": [
    "# Compute the confusion matrix\n",
    "threshold <- 0.5  # Decision threshold\n",
    "wk_pred <- rep('Down', length(pred_wk_prob))\n",
    "wk_pred[pred_wk_prob > threshold] <- 'Up'\n",
    "\n",
    "# Confusion matrix\n",
    "print('Confusion matrix:')\n",
    "table(wk_pred, Weekly$Direction)"
   ]
  },
  {
   "cell_type": "code",
   "execution_count": 14,
   "id": "a533d0c2",
   "metadata": {},
   "outputs": [
    {
     "data": {
      "text/html": [
       "0.561065197428834"
      ],
      "text/latex": [
       "0.561065197428834"
      ],
      "text/markdown": [
       "0.561065197428834"
      ],
      "text/plain": [
       "[1] 0.5610652"
      ]
     },
     "metadata": {},
     "output_type": "display_data"
    }
   ],
   "source": [
    "#overall fraction of correct predictions\n",
    "mean(wk_pred == Weekly$Direction)"
   ]
  },
  {
   "cell_type": "markdown",
   "id": "850468f6",
   "metadata": {},
   "source": [
    "Overall 56.1% of responses are predicted correctly.but the Training error rate = 478/1089 = 43.89% .Only 54 out of 484 down weeks accurately predicted but \n",
    "557 out of 605 of up weeks are predicted.So,the Predictions are correct only 11% of market down weeks and 92% of market up weeks. "
   ]
  },
  {
   "cell_type": "markdown",
   "id": "053b2d24",
   "metadata": {},
   "source": [
    "### Solution : (d)"
   ]
  },
  {
   "cell_type": "code",
   "execution_count": 15,
   "id": "fcc4cad4",
   "metadata": {},
   "outputs": [],
   "source": [
    "# Separate data to train and test\n",
    "stock_train <- Weekly[Weekly$Year < 2009, ] #985 obs\n",
    "stock_test <- Weekly[Weekly$Year >= 2009, ] #104 obs"
   ]
  },
  {
   "cell_type": "code",
   "execution_count": 16,
   "id": "30d2b61a",
   "metadata": {},
   "outputs": [
    {
     "name": "stdout",
     "output_type": "stream",
     "text": [
      "'data.frame':\t104 obs. of  9 variables:\n",
      " $ Year     : num  2009 2009 2009 2009 2009 ...\n",
      " $ Lag1     : num  6.76 -4.45 -4.52 -2.14 -0.73 ...\n",
      " $ Lag2     : num  -1.7 6.76 -4.45 -4.52 -2.14 ...\n",
      " $ Lag3     : num  0.926 -1.698 6.76 -4.448 -4.518 ...\n",
      " $ Lag4     : num  0.418 0.926 -1.698 6.76 -4.448 ...\n",
      " $ Lag5     : num  -2.251 0.418 0.926 -1.698 6.76 ...\n",
      " $ Volume   : num  3.79 5.04 5.95 6.13 5.6 ...\n",
      " $ Today    : num  -4.45 -4.52 -2.14 -0.73 5.17 ...\n",
      " $ Direction: Factor w/ 2 levels \"Down\",\"Up\": 1 1 1 1 2 1 1 1 1 2 ...\n"
     ]
    }
   ],
   "source": [
    "str(stock_test)"
   ]
  },
  {
   "cell_type": "code",
   "execution_count": 17,
   "id": "6c858337",
   "metadata": {},
   "outputs": [
    {
     "data": {
      "text/plain": [
       "\n",
       "Call:\n",
       "glm(formula = Direction ~ Lag2, family = binomial, data = stock_train)\n",
       "\n",
       "Deviance Residuals: \n",
       "   Min      1Q  Median      3Q     Max  \n",
       "-1.536  -1.264   1.021   1.091   1.368  \n",
       "\n",
       "Coefficients:\n",
       "            Estimate Std. Error z value Pr(>|z|)   \n",
       "(Intercept)  0.20326    0.06428   3.162  0.00157 **\n",
       "Lag2         0.05810    0.02870   2.024  0.04298 * \n",
       "---\n",
       "Signif. codes:  0 '***' 0.001 '**' 0.01 '*' 0.05 '.' 0.1 ' ' 1\n",
       "\n",
       "(Dispersion parameter for binomial family taken to be 1)\n",
       "\n",
       "    Null deviance: 1354.7  on 984  degrees of freedom\n",
       "Residual deviance: 1350.5  on 983  degrees of freedom\n",
       "AIC: 1354.5\n",
       "\n",
       "Number of Fisher Scoring iterations: 4\n"
      ]
     },
     "metadata": {},
     "output_type": "display_data"
    }
   ],
   "source": [
    "# Fit Logistic Regression model\n",
    "wk_logreg <- glm(Direction ∼  Lag2,\n",
    "                 data=stock_train, family=binomial)\n",
    "summary(wk_logreg)"
   ]
  },
  {
   "cell_type": "code",
   "execution_count": 18,
   "id": "f6ca315c",
   "metadata": {},
   "outputs": [
    {
     "data": {
      "text/html": [
       "<style>\n",
       ".dl-inline {width: auto; margin:0; padding: 0}\n",
       ".dl-inline>dt, .dl-inline>dd {float: none; width: auto; display: inline-block}\n",
       ".dl-inline>dt::after {content: \":\\0020\"; padding-right: .5ex}\n",
       ".dl-inline>dt:not(:first-of-type) {padding-left: .5ex}\n",
       "</style><dl class=dl-inline><dt>1</dt><dd>0.573117800529911</dd><dt>2</dt><dd>0.562339721520228</dd><dt>3</dt><dd>0.546755921708936</dd><dt>4</dt><dd>0.513397797700026</dd><dt>5</dt><dd>0.600465289715245</dd><dt>6</dt><dd>0.560852169153098</dd></dl>\n"
      ],
      "text/latex": [
       "\\begin{description*}\n",
       "\\item[1] 0.573117800529911\n",
       "\\item[2] 0.562339721520228\n",
       "\\item[3] 0.546755921708936\n",
       "\\item[4] 0.513397797700026\n",
       "\\item[5] 0.600465289715245\n",
       "\\item[6] 0.560852169153098\n",
       "\\end{description*}\n"
      ],
      "text/markdown": [
       "1\n",
       ":   0.5731178005299112\n",
       ":   0.5623397215202283\n",
       ":   0.5467559217089364\n",
       ":   0.5133977977000265\n",
       ":   0.6004652897152456\n",
       ":   0.560852169153098\n",
       "\n"
      ],
      "text/plain": [
       "        1         2         3         4         5         6 \n",
       "0.5731178 0.5623397 0.5467559 0.5133978 0.6004653 0.5608522 "
      ]
     },
     "metadata": {},
     "output_type": "display_data"
    },
    {
     "data": {
      "text/html": [
       "<style>\n",
       ".dl-inline {width: auto; margin:0; padding: 0}\n",
       ".dl-inline>dt, .dl-inline>dd {float: none; width: auto; display: inline-block}\n",
       ".dl-inline>dt::after {content: \":\\0020\"; padding-right: .5ex}\n",
       ".dl-inline>dt:not(:first-of-type) {padding-left: .5ex}\n",
       "</style><dl class=dl-inline><dt>986</dt><dd>0.526129091983662</dd><dt>987</dt><dd>0.644736382341784</dd><dt>988</dt><dd>0.486215914785251</dd><dt>989</dt><dd>0.485200078646375</dd><dt>990</dt><dd>0.519766653751134</dd><dt>991</dt><dd>0.540125497414024</dd></dl>\n"
      ],
      "text/latex": [
       "\\begin{description*}\n",
       "\\item[986] 0.526129091983662\n",
       "\\item[987] 0.644736382341784\n",
       "\\item[988] 0.486215914785251\n",
       "\\item[989] 0.485200078646375\n",
       "\\item[990] 0.519766653751134\n",
       "\\item[991] 0.540125497414024\n",
       "\\end{description*}\n"
      ],
      "text/markdown": [
       "986\n",
       ":   0.526129091983662987\n",
       ":   0.644736382341784988\n",
       ":   0.486215914785251989\n",
       ":   0.485200078646375990\n",
       ":   0.519766653751134991\n",
       ":   0.540125497414024\n",
       "\n"
      ],
      "text/plain": [
       "      986       987       988       989       990       991 \n",
       "0.5261291 0.6447364 0.4862159 0.4852001 0.5197667 0.5401255 "
      ]
     },
     "metadata": {},
     "output_type": "display_data"
    }
   ],
   "source": [
    "# Make prediction on both train and test data\n",
    "pred_train_prob <- predict(wk_logreg, newdata=stock_train, type='response')\n",
    "head(pred_train_prob)\n",
    "\n",
    "pred_test_prob <- predict(wk_logreg, newdata=stock_test, type='response')\n",
    "head(pred_test_prob)"
   ]
  },
  {
   "cell_type": "code",
   "execution_count": 19,
   "id": "ad9c58ab",
   "metadata": {},
   "outputs": [
    {
     "name": "stdout",
     "output_type": "stream",
     "text": [
      "[1] \"Confusion matrix:\"\n"
     ]
    },
    {
     "data": {
      "text/plain": [
       "         \n",
       "pred_test Down Up\n",
       "     Down    9  5\n",
       "     Up     34 56"
      ]
     },
     "metadata": {},
     "output_type": "display_data"
    }
   ],
   "source": [
    "# Evaluation model on test\n",
    "threshold <- 0.5  # Decision threshold\n",
    "pred_test <- rep('Down', length(pred_test_prob))\n",
    "pred_test[pred_test_prob > threshold] <- 'Up'\n",
    "\n",
    "# Confusion matrix\n",
    "print('Confusion matrix:')\n",
    "table(pred_test, stock_test$Direction)"
   ]
  },
  {
   "cell_type": "code",
   "execution_count": 20,
   "id": "cdc6f1fe",
   "metadata": {},
   "outputs": [
    {
     "name": "stdout",
     "output_type": "stream",
     "text": [
      "[1] \"Accuracy = 0.62 %\"\n"
     ]
    }
   ],
   "source": [
    "#Accuracy-Overall fraction of correct predictions\n",
    "acc <- mean(pred_test == stock_test$Direction)\n",
    "print(paste('Accuracy =', round(acc, 2), '%'))"
   ]
  },
  {
   "cell_type": "markdown",
   "id": "452bcfe0",
   "metadata": {},
   "source": [
    "The overall fractions of correct predictions of the test data is 62%"
   ]
  },
  {
   "cell_type": "markdown",
   "id": "b6ad65f2",
   "metadata": {},
   "source": [
    "### Solution : (e)"
   ]
  },
  {
   "cell_type": "markdown",
   "id": "947f955d",
   "metadata": {},
   "source": [
    "###  Linear Discriminant Analysis (LDA)"
   ]
  },
  {
   "cell_type": "code",
   "execution_count": 21,
   "id": "71ac2e2a",
   "metadata": {},
   "outputs": [
    {
     "data": {
      "text/plain": [
       "        Length Class  Mode     \n",
       "prior   2      -none- numeric  \n",
       "counts  2      -none- numeric  \n",
       "means   2      -none- numeric  \n",
       "scaling 1      -none- numeric  \n",
       "lev     2      -none- character\n",
       "svd     1      -none- numeric  \n",
       "N       1      -none- numeric  \n",
       "call    3      -none- call     \n",
       "terms   3      terms  call     \n",
       "xlevels 0      -none- list     "
      ]
     },
     "metadata": {},
     "output_type": "display_data"
    },
    {
     "data": {
      "text/plain": [
       "Call:\n",
       "lda(Direction ~ Lag2, data = stock_train)\n",
       "\n",
       "Prior probabilities of groups:\n",
       "     Down        Up \n",
       "0.4477157 0.5522843 \n",
       "\n",
       "Group means:\n",
       "            Lag2\n",
       "Down -0.03568254\n",
       "Up    0.26036581\n",
       "\n",
       "Coefficients of linear discriminants:\n",
       "           LD1\n",
       "Lag2 0.4414162"
      ]
     },
     "metadata": {},
     "output_type": "display_data"
    }
   ],
   "source": [
    "\n",
    "# Fit the LDA model with Lag2 predictor from LogRes model\n",
    "library(MASS)\n",
    "wk_lda <- lda(Direction ~ Lag2, data=stock_train)\n",
    "summary(wk_lda)\n",
    "wk_lda"
   ]
  },
  {
   "cell_type": "code",
   "execution_count": 22,
   "id": "be5722c9",
   "metadata": {},
   "outputs": [
    {
     "data": {
      "image/png": "[encoded data removed]",
      "text/plain": [
       "plot without title"
      ]
     },
     "metadata": {
      "image/png": {
       "height": 420,
       "width": 420
      }
     },
     "output_type": "display_data"
    }
   ],
   "source": [
    "# options(repr.plot.width=4, repr.plot.height=8)\n",
    "plot(wk_lda)"
   ]
  },
  {
   "cell_type": "code",
   "execution_count": 23,
   "id": "41bcc01c",
   "metadata": {},
   "outputs": [
    {
     "data": {
      "text/html": [
       "<style>\n",
       ".list-inline {list-style: none; margin:0; padding: 0}\n",
       ".list-inline>li {display: inline-block}\n",
       ".list-inline>li:not(:last-child)::after {content: \"\\00b7\"; padding: 0 .5ex}\n",
       "</style>\n",
       "<ol class=list-inline><li>Up</li><li>Up</li><li>Down</li><li>Down</li><li>Up</li><li>Up</li></ol>\n",
       "\n",
       "<details>\n",
       "\t<summary style=display:list-item;cursor:pointer>\n",
       "\t\t<strong>Levels</strong>:\n",
       "\t</summary>\n",
       "\t<style>\n",
       "\t.list-inline {list-style: none; margin:0; padding: 0}\n",
       "\t.list-inline>li {display: inline-block}\n",
       "\t.list-inline>li:not(:last-child)::after {content: \"\\00b7\"; padding: 0 .5ex}\n",
       "\t</style>\n",
       "\t<ol class=list-inline><li>'Down'</li><li>'Up'</li></ol>\n",
       "</details>"
      ],
      "text/latex": [
       "\\begin{enumerate*}\n",
       "\\item Up\n",
       "\\item Up\n",
       "\\item Down\n",
       "\\item Down\n",
       "\\item Up\n",
       "\\item Up\n",
       "\\end{enumerate*}\n",
       "\n",
       "\\emph{Levels}: \\begin{enumerate*}\n",
       "\\item 'Down'\n",
       "\\item 'Up'\n",
       "\\end{enumerate*}\n"
      ],
      "text/markdown": [
       "1. Up\n",
       "2. Up\n",
       "3. Down\n",
       "4. Down\n",
       "5. Up\n",
       "6. Up\n",
       "\n",
       "\n",
       "\n",
       "**Levels**: 1. 'Down'\n",
       "2. 'Up'\n",
       "\n",
       "\n"
      ],
      "text/plain": [
       "[1] Up   Up   Down Down Up   Up  \n",
       "Levels: Down Up"
      ]
     },
     "metadata": {},
     "output_type": "display_data"
    },
    {
     "data": {
      "text/html": [
       "<table class=\"dataframe\">\n",
       "<caption>A matrix: 6 × 2 of type dbl</caption>\n",
       "<thead>\n",
       "\t<tr><th></th><th scope=col>Down</th><th scope=col>Up</th></tr>\n",
       "</thead>\n",
       "<tbody>\n",
       "\t<tr><th scope=row>986</th><td>0.4736555</td><td>0.5263445</td></tr>\n",
       "\t<tr><th scope=row>987</th><td>0.3558617</td><td>0.6441383</td></tr>\n",
       "\t<tr><th scope=row>988</th><td>0.5132860</td><td>0.4867140</td></tr>\n",
       "\t<tr><th scope=row>989</th><td>0.5142948</td><td>0.4857052</td></tr>\n",
       "\t<tr><th scope=row>990</th><td>0.4799727</td><td>0.5200273</td></tr>\n",
       "\t<tr><th scope=row>991</th><td>0.4597586</td><td>0.5402414</td></tr>\n",
       "</tbody>\n",
       "</table>\n"
      ],
      "text/latex": [
       "A matrix: 6 × 2 of type dbl\n",
       "\\begin{tabular}{r|ll}\n",
       "  & Down & Up\\\\\n",
       "\\hline\n",
       "\t986 & 0.4736555 & 0.5263445\\\\\n",
       "\t987 & 0.3558617 & 0.6441383\\\\\n",
       "\t988 & 0.5132860 & 0.4867140\\\\\n",
       "\t989 & 0.5142948 & 0.4857052\\\\\n",
       "\t990 & 0.4799727 & 0.5200273\\\\\n",
       "\t991 & 0.4597586 & 0.5402414\\\\\n",
       "\\end{tabular}\n"
      ],
      "text/markdown": [
       "\n",
       "A matrix: 6 × 2 of type dbl\n",
       "\n",
       "| <!--/--> | Down | Up |\n",
       "|---|---|---|\n",
       "| 986 | 0.4736555 | 0.5263445 |\n",
       "| 987 | 0.3558617 | 0.6441383 |\n",
       "| 988 | 0.5132860 | 0.4867140 |\n",
       "| 989 | 0.5142948 | 0.4857052 |\n",
       "| 990 | 0.4799727 | 0.5200273 |\n",
       "| 991 | 0.4597586 | 0.5402414 |\n",
       "\n"
      ],
      "text/plain": [
       "    Down      Up       \n",
       "986 0.4736555 0.5263445\n",
       "987 0.3558617 0.6441383\n",
       "988 0.5132860 0.4867140\n",
       "989 0.5142948 0.4857052\n",
       "990 0.4799727 0.5200273\n",
       "991 0.4597586 0.5402414"
      ]
     },
     "metadata": {},
     "output_type": "display_data"
    },
    {
     "name": "stdout",
     "output_type": "stream",
     "text": [
      "[1] \"Confusion matrix:\"\n"
     ]
    },
    {
     "data": {
      "text/plain": [
       "      \n",
       "       Down Up\n",
       "  Down    9  5\n",
       "  Up     34 56"
      ]
     },
     "metadata": {},
     "output_type": "display_data"
    },
    {
     "name": "stdout",
     "output_type": "stream",
     "text": [
      "[1] \"Accuracy = 0.62 %\"\n"
     ]
    }
   ],
   "source": [
    "# Predict and evaluate on test data\n",
    "lda_pred <- predict(wk_lda, newdata=stock_test)\n",
    "head(lda_pred$class)\n",
    "head(lda_pred$posterior)\n",
    "\n",
    "# Confusion matrix\n",
    "print('Confusion matrix:')\n",
    "table(lda_pred$class, stock_test$Direction)\n",
    "\n",
    "# Accuracy\n",
    "acc <- mean(lda_pred$class == stock_test$Direction)\n",
    "print(paste('Accuracy =', round(acc, 2), '%'))"
   ]
  },
  {
   "cell_type": "markdown",
   "id": "66e604e7",
   "metadata": {},
   "source": [
    "We get the same Accuracy for LDA model"
   ]
  },
  {
   "cell_type": "markdown",
   "id": "301eb7dc",
   "metadata": {},
   "source": [
    "### Solution : (f)"
   ]
  },
  {
   "cell_type": "markdown",
   "id": "a2daba72",
   "metadata": {},
   "source": [
    "### QDA"
   ]
  },
  {
   "cell_type": "code",
   "execution_count": 24,
   "id": "c8de5af2",
   "metadata": {},
   "outputs": [
    {
     "data": {
      "text/plain": [
       "Call:\n",
       "qda(Direction ~ Lag2, data = stock_train)\n",
       "\n",
       "Prior probabilities of groups:\n",
       "     Down        Up \n",
       "0.4477157 0.5522843 \n",
       "\n",
       "Group means:\n",
       "            Lag2\n",
       "Down -0.03568254\n",
       "Up    0.26036581"
      ]
     },
     "metadata": {},
     "output_type": "display_data"
    }
   ],
   "source": [
    "# Fit the QDA model on train set with Lag2 predictor\n",
    "wk_qda <- qda(Direction ~ Lag2, data=stock_train)\n",
    "wk_qda"
   ]
  },
  {
   "cell_type": "code",
   "execution_count": 25,
   "id": "3be2dc87",
   "metadata": {},
   "outputs": [
    {
     "data": {
      "text/html": [
       "<style>\n",
       ".list-inline {list-style: none; margin:0; padding: 0}\n",
       ".list-inline>li {display: inline-block}\n",
       ".list-inline>li:not(:last-child)::after {content: \"\\00b7\"; padding: 0 .5ex}\n",
       "</style>\n",
       "<ol class=list-inline><li>Up</li><li>Up</li><li>Up</li><li>Up</li><li>Up</li><li>Up</li></ol>\n",
       "\n",
       "<details>\n",
       "\t<summary style=display:list-item;cursor:pointer>\n",
       "\t\t<strong>Levels</strong>:\n",
       "\t</summary>\n",
       "\t<style>\n",
       "\t.list-inline {list-style: none; margin:0; padding: 0}\n",
       "\t.list-inline>li {display: inline-block}\n",
       "\t.list-inline>li:not(:last-child)::after {content: \"\\00b7\"; padding: 0 .5ex}\n",
       "\t</style>\n",
       "\t<ol class=list-inline><li>'Down'</li><li>'Up'</li></ol>\n",
       "</details>"
      ],
      "text/latex": [
       "\\begin{enumerate*}\n",
       "\\item Up\n",
       "\\item Up\n",
       "\\item Up\n",
       "\\item Up\n",
       "\\item Up\n",
       "\\item Up\n",
       "\\end{enumerate*}\n",
       "\n",
       "\\emph{Levels}: \\begin{enumerate*}\n",
       "\\item 'Down'\n",
       "\\item 'Up'\n",
       "\\end{enumerate*}\n"
      ],
      "text/markdown": [
       "1. Up\n",
       "2. Up\n",
       "3. Up\n",
       "4. Up\n",
       "5. Up\n",
       "6. Up\n",
       "\n",
       "\n",
       "\n",
       "**Levels**: 1. 'Down'\n",
       "2. 'Up'\n",
       "\n",
       "\n"
      ],
      "text/plain": [
       "[1] Up Up Up Up Up Up\n",
       "Levels: Down Up"
      ]
     },
     "metadata": {},
     "output_type": "display_data"
    },
    {
     "data": {
      "text/html": [
       "<table class=\"dataframe\">\n",
       "<caption>A matrix: 6 × 2 of type dbl</caption>\n",
       "<thead>\n",
       "\t<tr><th></th><th scope=col>Down</th><th scope=col>Up</th></tr>\n",
       "</thead>\n",
       "<tbody>\n",
       "\t<tr><th scope=row>986</th><td>0.4784630</td><td>0.5215370</td></tr>\n",
       "\t<tr><th scope=row>987</th><td>0.2693952</td><td>0.7306048</td></tr>\n",
       "\t<tr><th scope=row>988</th><td>0.4735416</td><td>0.5264584</td></tr>\n",
       "\t<tr><th scope=row>989</th><td>0.4729118</td><td>0.5270882</td></tr>\n",
       "\t<tr><th scope=row>990</th><td>0.4802735</td><td>0.5197265</td></tr>\n",
       "\t<tr><th scope=row>991</th><td>0.4709913</td><td>0.5290087</td></tr>\n",
       "</tbody>\n",
       "</table>\n"
      ],
      "text/latex": [
       "A matrix: 6 × 2 of type dbl\n",
       "\\begin{tabular}{r|ll}\n",
       "  & Down & Up\\\\\n",
       "\\hline\n",
       "\t986 & 0.4784630 & 0.5215370\\\\\n",
       "\t987 & 0.2693952 & 0.7306048\\\\\n",
       "\t988 & 0.4735416 & 0.5264584\\\\\n",
       "\t989 & 0.4729118 & 0.5270882\\\\\n",
       "\t990 & 0.4802735 & 0.5197265\\\\\n",
       "\t991 & 0.4709913 & 0.5290087\\\\\n",
       "\\end{tabular}\n"
      ],
      "text/markdown": [
       "\n",
       "A matrix: 6 × 2 of type dbl\n",
       "\n",
       "| <!--/--> | Down | Up |\n",
       "|---|---|---|\n",
       "| 986 | 0.4784630 | 0.5215370 |\n",
       "| 987 | 0.2693952 | 0.7306048 |\n",
       "| 988 | 0.4735416 | 0.5264584 |\n",
       "| 989 | 0.4729118 | 0.5270882 |\n",
       "| 990 | 0.4802735 | 0.5197265 |\n",
       "| 991 | 0.4709913 | 0.5290087 |\n",
       "\n"
      ],
      "text/plain": [
       "    Down      Up       \n",
       "986 0.4784630 0.5215370\n",
       "987 0.2693952 0.7306048\n",
       "988 0.4735416 0.5264584\n",
       "989 0.4729118 0.5270882\n",
       "990 0.4802735 0.5197265\n",
       "991 0.4709913 0.5290087"
      ]
     },
     "metadata": {},
     "output_type": "display_data"
    },
    {
     "name": "stdout",
     "output_type": "stream",
     "text": [
      "[1] \"Confusion matrix:\"\n"
     ]
    },
    {
     "data": {
      "text/plain": [
       "      \n",
       "       Down Up\n",
       "  Down    0  0\n",
       "  Up     43 61"
      ]
     },
     "metadata": {},
     "output_type": "display_data"
    },
    {
     "name": "stdout",
     "output_type": "stream",
     "text": [
      "[1] \"Accuracy = 0.59 %\"\n"
     ]
    }
   ],
   "source": [
    "# Predict and evaluate on test data\n",
    "qda_pred <- predict(wk_qda, newdata=stock_test)\n",
    "head(qda_pred$class)\n",
    "head(qda_pred$posterior)\n",
    "\n",
    "# Confusion matrix\n",
    "print('Confusion matrix:')\n",
    "table(qda_pred$class, stock_test$Direction)\n",
    "\n",
    "# Accuracy\n",
    "acc <- mean(qda_pred$class == stock_test$Direction)\n",
    "print(paste('Accuracy =', round(acc, 2), '%'))"
   ]
  },
  {
   "cell_type": "markdown",
   "id": "6cdfd45b",
   "metadata": {},
   "source": [
    "Here,The overall fractions of correct predictions of the test data is 59% which is lesser than the Logistic regression model and LDA model"
   ]
  },
  {
   "cell_type": "markdown",
   "id": "d3eb0f3e",
   "metadata": {},
   "source": [
    "### Solution : (g)"
   ]
  },
  {
   "cell_type": "markdown",
   "id": "4daca14c",
   "metadata": {},
   "source": [
    "### K-Nearest Neighbors (KNN)"
   ]
  },
  {
   "cell_type": "code",
   "execution_count": 26,
   "id": "ced4123e",
   "metadata": {},
   "outputs": [
    {
     "name": "stdout",
     "output_type": "stream",
     "text": [
      "[1] \"Confusion matrix:\"\n"
     ]
    },
    {
     "data": {
      "text/plain": [
       "         \n",
       "knn1_pred Down Up\n",
       "     Down   21 29\n",
       "     Up     22 32"
      ]
     },
     "metadata": {},
     "output_type": "display_data"
    },
    {
     "name": "stdout",
     "output_type": "stream",
     "text": [
      "[1] \"Accuracy = 0.51 %\"\n"
     ]
    }
   ],
   "source": [
    "# Fit the KNN model with the train set using Lag2 predictors\n",
    "library(class)\n",
    "\n",
    "# k = 1\n",
    "set.seed(123)\n",
    "knn1_pred <- knn(train=stock_train[\"Lag2\"],\n",
    "                 test=stock_test[\"Lag2\"],\n",
    "                 cl=stock_train$Direction,\n",
    "                 k=1)\n",
    "\n",
    "# Confusion matrix\n",
    "print('Confusion matrix:')\n",
    "table(knn1_pred, stock_test$Direction)\n",
    "\n",
    "# Accuracy\n",
    "acc <- mean(knn1_pred == stock_test$Direction)\n",
    "print(paste('Accuracy =', round(acc, 2), '%'))"
   ]
  },
  {
   "cell_type": "markdown",
   "id": "23597b2e",
   "metadata": {},
   "source": [
    "For KNN model,The overall fractions of correct predictions of the test data is 59% "
   ]
  },
  {
   "cell_type": "markdown",
   "id": "c0c0c18f",
   "metadata": {},
   "source": [
    "### Solution : (h)"
   ]
  },
  {
   "cell_type": "markdown",
   "id": "d4e6c6c1",
   "metadata": {},
   "source": [
    "Logistic Regression and Linear Discriminant Analysis models appears to provide best results on this data .i.e 62% accuracy"
   ]
  },
  {
   "cell_type": "markdown",
   "id": "de4170e7",
   "metadata": {},
   "source": [
    "### Solution : (i)"
   ]
  },
  {
   "cell_type": "markdown",
   "id": "4db1a949",
   "metadata": {},
   "source": [
    "### Logistic Regression"
   ]
  },
  {
   "cell_type": "code",
   "execution_count": 27,
   "id": "a043910c",
   "metadata": {},
   "outputs": [
    {
     "data": {
      "text/plain": [
       "\n",
       "Call:\n",
       "glm(formula = Direction ~ Lag1 + Lag2 + Lag3, family = binomial, \n",
       "    data = stock_train)\n",
       "\n",
       "Deviance Residuals: \n",
       "   Min      1Q  Median      3Q     Max  \n",
       "-1.638  -1.255   1.000   1.088   1.510  \n",
       "\n",
       "Coefficients:\n",
       "             Estimate Std. Error z value Pr(>|z|)   \n",
       "(Intercept)  0.212334   0.064698   3.282  0.00103 **\n",
       "Lag1        -0.053680   0.028924  -1.856  0.06347 . \n",
       "Lag2         0.053092   0.029128   1.823  0.06834 . \n",
       "Lag3        -0.008887   0.028830  -0.308  0.75788   \n",
       "---\n",
       "Signif. codes:  0 '***' 0.001 '**' 0.01 '*' 0.05 '.' 0.1 ' ' 1\n",
       "\n",
       "(Dispersion parameter for binomial family taken to be 1)\n",
       "\n",
       "    Null deviance: 1354.7  on 984  degrees of freedom\n",
       "Residual deviance: 1346.9  on 981  degrees of freedom\n",
       "AIC: 1354.9\n",
       "\n",
       "Number of Fisher Scoring iterations: 4\n"
      ]
     },
     "metadata": {},
     "output_type": "display_data"
    }
   ],
   "source": [
    "# Fit Logistic Regression model\n",
    "wk_logreg <- glm(Direction ∼ Lag1 + Lag2 +Lag3,\n",
    "                 data=stock_train, family=binomial)\n",
    "summary(wk_logreg)"
   ]
  },
  {
   "cell_type": "code",
   "execution_count": 28,
   "id": "f96813f5",
   "metadata": {},
   "outputs": [
    {
     "data": {
      "text/html": [
       "<style>\n",
       ".dl-inline {width: auto; margin:0; padding: 0}\n",
       ".dl-inline>dt, .dl-inline>dd {float: none; width: auto; display: inline-block}\n",
       ".dl-inline>dt::after {content: \":\\0020\"; padding-right: .5ex}\n",
       ".dl-inline>dt:not(:first-of-type) {padding-left: .5ex}\n",
       "</style><dl class=dl-inline><dt>986</dt><dd>0.438089382132611</dd><dt>987</dt><dd>0.695316614071885</dd><dt>988</dt><dd>0.539573590449484</dd><dt>989</dt><dd>0.531634464409011</dd><dt>990</dt><dd>0.544436102110615</dd><dt>991</dt><dd>0.478733955775923</dd></dl>\n"
      ],
      "text/latex": [
       "\\begin{description*}\n",
       "\\item[986] 0.438089382132611\n",
       "\\item[987] 0.695316614071885\n",
       "\\item[988] 0.539573590449484\n",
       "\\item[989] 0.531634464409011\n",
       "\\item[990] 0.544436102110615\n",
       "\\item[991] 0.478733955775923\n",
       "\\end{description*}\n"
      ],
      "text/markdown": [
       "986\n",
       ":   0.438089382132611987\n",
       ":   0.695316614071885988\n",
       ":   0.539573590449484989\n",
       ":   0.531634464409011990\n",
       ":   0.544436102110615991\n",
       ":   0.478733955775923\n",
       "\n"
      ],
      "text/plain": [
       "      986       987       988       989       990       991 \n",
       "0.4380894 0.6953166 0.5395736 0.5316345 0.5444361 0.4787340 "
      ]
     },
     "metadata": {},
     "output_type": "display_data"
    }
   ],
   "source": [
    "#Make predictions\n",
    "pred_test_prob <- predict(wk_logreg, newdata=stock_test, type='response')\n",
    "head(pred_test_prob)"
   ]
  },
  {
   "cell_type": "code",
   "execution_count": 29,
   "id": "8d62b4ef",
   "metadata": {},
   "outputs": [
    {
     "name": "stdout",
     "output_type": "stream",
     "text": [
      "[1] \"Confusion matrix:\"\n"
     ]
    },
    {
     "data": {
      "text/plain": [
       "         \n",
       "pred_test Down Up\n",
       "     Down    8  9\n",
       "     Up     35 52"
      ]
     },
     "metadata": {},
     "output_type": "display_data"
    }
   ],
   "source": [
    "# Evaluation model on test\n",
    "threshold <- 0.5  # Decision threshold\n",
    "pred_test <- rep('Down', length(pred_test_prob))\n",
    "pred_test[pred_test_prob > threshold] <- 'Up'\n",
    "\n",
    "# Confusion matrix\n",
    "print('Confusion matrix:')\n",
    "table(pred_test, stock_test$Direction)"
   ]
  },
  {
   "cell_type": "code",
   "execution_count": 30,
   "id": "7c551d83",
   "metadata": {},
   "outputs": [
    {
     "name": "stdout",
     "output_type": "stream",
     "text": [
      "[1] \"Accuracy = 0.58 %\"\n"
     ]
    }
   ],
   "source": [
    "#Accuracy-Overall fraction of correct predictions\n",
    "acc <- mean(pred_test == stock_test$Direction)\n",
    "print(paste('Accuracy =', round(acc, 2), '%'))"
   ]
  },
  {
   "cell_type": "markdown",
   "id": "a4825555",
   "metadata": {},
   "source": [
    "### LDA "
   ]
  },
  {
   "cell_type": "code",
   "execution_count": 31,
   "id": "78a1cd3d",
   "metadata": {},
   "outputs": [
    {
     "data": {
      "text/plain": [
       "        Length Class  Mode     \n",
       "prior   2      -none- numeric  \n",
       "counts  2      -none- numeric  \n",
       "means   6      -none- numeric  \n",
       "scaling 3      -none- numeric  \n",
       "lev     2      -none- character\n",
       "svd     1      -none- numeric  \n",
       "N       1      -none- numeric  \n",
       "call    3      -none- call     \n",
       "terms   3      terms  call     \n",
       "xlevels 0      -none- list     "
      ]
     },
     "metadata": {},
     "output_type": "display_data"
    },
    {
     "data": {
      "text/plain": [
       "Call:\n",
       "lda(Direction ~ Lag1 + Lag2 + Lag3, data = stock_train)\n",
       "\n",
       "Prior probabilities of groups:\n",
       "     Down        Up \n",
       "0.4477157 0.5522843 \n",
       "\n",
       "Group means:\n",
       "             Lag1        Lag2       Lag3\n",
       "Down  0.289444444 -0.03568254 0.17080045\n",
       "Up   -0.009213235  0.26036581 0.08404044\n",
       "\n",
       "Coefficients of linear discriminants:\n",
       "             LD1\n",
       "Lag1 -0.29658609\n",
       "Lag2  0.29258490\n",
       "Lag3 -0.04766747"
      ]
     },
     "metadata": {},
     "output_type": "display_data"
    }
   ],
   "source": [
    "# Fit the LDA model with Lag1,Lag2 and Lag3 predictor from LogRes model\n",
    "library(MASS)\n",
    "wk_lda <- lda(Direction ~ Lag1 + Lag2 +Lag3, data=stock_train)\n",
    "summary(wk_lda)\n",
    "wk_lda"
   ]
  },
  {
   "cell_type": "code",
   "execution_count": 32,
   "id": "f758a5d6",
   "metadata": {},
   "outputs": [
    {
     "data": {
      "text/html": [
       "<style>\n",
       ".list-inline {list-style: none; margin:0; padding: 0}\n",
       ".list-inline>li {display: inline-block}\n",
       ".list-inline>li:not(:last-child)::after {content: \"\\00b7\"; padding: 0 .5ex}\n",
       "</style>\n",
       "<ol class=list-inline><li>Down</li><li>Up</li><li>Up</li><li>Up</li><li>Up</li><li>Down</li></ol>\n",
       "\n",
       "<details>\n",
       "\t<summary style=display:list-item;cursor:pointer>\n",
       "\t\t<strong>Levels</strong>:\n",
       "\t</summary>\n",
       "\t<style>\n",
       "\t.list-inline {list-style: none; margin:0; padding: 0}\n",
       "\t.list-inline>li {display: inline-block}\n",
       "\t.list-inline>li:not(:last-child)::after {content: \"\\00b7\"; padding: 0 .5ex}\n",
       "\t</style>\n",
       "\t<ol class=list-inline><li>'Down'</li><li>'Up'</li></ol>\n",
       "</details>"
      ],
      "text/latex": [
       "\\begin{enumerate*}\n",
       "\\item Down\n",
       "\\item Up\n",
       "\\item Up\n",
       "\\item Up\n",
       "\\item Up\n",
       "\\item Down\n",
       "\\end{enumerate*}\n",
       "\n",
       "\\emph{Levels}: \\begin{enumerate*}\n",
       "\\item 'Down'\n",
       "\\item 'Up'\n",
       "\\end{enumerate*}\n"
      ],
      "text/markdown": [
       "1. Down\n",
       "2. Up\n",
       "3. Up\n",
       "4. Up\n",
       "5. Up\n",
       "6. Down\n",
       "\n",
       "\n",
       "\n",
       "**Levels**: 1. 'Down'\n",
       "2. 'Up'\n",
       "\n",
       "\n"
      ],
      "text/plain": [
       "[1] Down Up   Up   Up   Up   Down\n",
       "Levels: Down Up"
      ]
     },
     "metadata": {},
     "output_type": "display_data"
    },
    {
     "data": {
      "text/html": [
       "<table class=\"dataframe\">\n",
       "<caption>A matrix: 6 × 2 of type dbl</caption>\n",
       "<thead>\n",
       "\t<tr><th></th><th scope=col>Down</th><th scope=col>Up</th></tr>\n",
       "</thead>\n",
       "<tbody>\n",
       "\t<tr><th scope=row>986</th><td>0.5607007</td><td>0.4392993</td></tr>\n",
       "\t<tr><th scope=row>987</th><td>0.3061157</td><td>0.6938843</td></tr>\n",
       "\t<tr><th scope=row>988</th><td>0.4596679</td><td>0.5403321</td></tr>\n",
       "\t<tr><th scope=row>989</th><td>0.4682486</td><td>0.5317514</td></tr>\n",
       "\t<tr><th scope=row>990</th><td>0.4556490</td><td>0.5443510</td></tr>\n",
       "\t<tr><th scope=row>991</th><td>0.5206440</td><td>0.4793560</td></tr>\n",
       "</tbody>\n",
       "</table>\n"
      ],
      "text/latex": [
       "A matrix: 6 × 2 of type dbl\n",
       "\\begin{tabular}{r|ll}\n",
       "  & Down & Up\\\\\n",
       "\\hline\n",
       "\t986 & 0.5607007 & 0.4392993\\\\\n",
       "\t987 & 0.3061157 & 0.6938843\\\\\n",
       "\t988 & 0.4596679 & 0.5403321\\\\\n",
       "\t989 & 0.4682486 & 0.5317514\\\\\n",
       "\t990 & 0.4556490 & 0.5443510\\\\\n",
       "\t991 & 0.5206440 & 0.4793560\\\\\n",
       "\\end{tabular}\n"
      ],
      "text/markdown": [
       "\n",
       "A matrix: 6 × 2 of type dbl\n",
       "\n",
       "| <!--/--> | Down | Up |\n",
       "|---|---|---|\n",
       "| 986 | 0.5607007 | 0.4392993 |\n",
       "| 987 | 0.3061157 | 0.6938843 |\n",
       "| 988 | 0.4596679 | 0.5403321 |\n",
       "| 989 | 0.4682486 | 0.5317514 |\n",
       "| 990 | 0.4556490 | 0.5443510 |\n",
       "| 991 | 0.5206440 | 0.4793560 |\n",
       "\n"
      ],
      "text/plain": [
       "    Down      Up       \n",
       "986 0.5607007 0.4392993\n",
       "987 0.3061157 0.6938843\n",
       "988 0.4596679 0.5403321\n",
       "989 0.4682486 0.5317514\n",
       "990 0.4556490 0.5443510\n",
       "991 0.5206440 0.4793560"
      ]
     },
     "metadata": {},
     "output_type": "display_data"
    },
    {
     "name": "stdout",
     "output_type": "stream",
     "text": [
      "[1] \"Confusion matrix:\"\n"
     ]
    },
    {
     "data": {
      "text/plain": [
       "      \n",
       "       Down Up\n",
       "  Down    8  9\n",
       "  Up     35 52"
      ]
     },
     "metadata": {},
     "output_type": "display_data"
    },
    {
     "name": "stdout",
     "output_type": "stream",
     "text": [
      "[1] \"Accuracy = 0.58 %\"\n"
     ]
    }
   ],
   "source": [
    "# Predict and evaluate on test data\n",
    "lda_pred <- predict(wk_lda, newdata=stock_test)\n",
    "head(lda_pred$class)\n",
    "head(lda_pred$posterior)\n",
    "\n",
    "# Confusion matrix\n",
    "print('Confusion matrix:')\n",
    "table(lda_pred$class, stock_test$Direction)\n",
    "\n",
    "# Accuracy\n",
    "acc <- mean(lda_pred$class == stock_test$Direction)\n",
    "print(paste('Accuracy =', round(acc, 2), '%'))"
   ]
  },
  {
   "cell_type": "markdown",
   "id": "0e613c23",
   "metadata": {},
   "source": [
    "### QDA"
   ]
  },
  {
   "cell_type": "code",
   "execution_count": 33,
   "id": "e6672883",
   "metadata": {},
   "outputs": [
    {
     "data": {
      "text/plain": [
       "Call:\n",
       "qda(Direction ~ Lag1 + Lag2 + Lag3, data = stock_train)\n",
       "\n",
       "Prior probabilities of groups:\n",
       "     Down        Up \n",
       "0.4477157 0.5522843 \n",
       "\n",
       "Group means:\n",
       "             Lag1        Lag2       Lag3\n",
       "Down  0.289444444 -0.03568254 0.17080045\n",
       "Up   -0.009213235  0.26036581 0.08404044"
      ]
     },
     "metadata": {},
     "output_type": "display_data"
    }
   ],
   "source": [
    "# Fit the QDA model on train set with Lag1,Lag2 and Lag3 predictor\n",
    "wk_qda <- qda(Direction ~ Lag1 + Lag2 + Lag3, data=stock_train)\n",
    "wk_qda"
   ]
  },
  {
   "cell_type": "code",
   "execution_count": 34,
   "id": "6e392cac",
   "metadata": {},
   "outputs": [
    {
     "data": {
      "text/html": [
       "<style>\n",
       ".list-inline {list-style: none; margin:0; padding: 0}\n",
       ".list-inline>li {display: inline-block}\n",
       ".list-inline>li:not(:last-child)::after {content: \"\\00b7\"; padding: 0 .5ex}\n",
       "</style>\n",
       "<ol class=list-inline><li>Down</li><li>Up</li><li>Up</li><li>Up</li><li>Up</li><li>Down</li></ol>\n",
       "\n",
       "<details>\n",
       "\t<summary style=display:list-item;cursor:pointer>\n",
       "\t\t<strong>Levels</strong>:\n",
       "\t</summary>\n",
       "\t<style>\n",
       "\t.list-inline {list-style: none; margin:0; padding: 0}\n",
       "\t.list-inline>li {display: inline-block}\n",
       "\t.list-inline>li:not(:last-child)::after {content: \"\\00b7\"; padding: 0 .5ex}\n",
       "\t</style>\n",
       "\t<ol class=list-inline><li>'Down'</li><li>'Up'</li></ol>\n",
       "</details>"
      ],
      "text/latex": [
       "\\begin{enumerate*}\n",
       "\\item Down\n",
       "\\item Up\n",
       "\\item Up\n",
       "\\item Up\n",
       "\\item Up\n",
       "\\item Down\n",
       "\\end{enumerate*}\n",
       "\n",
       "\\emph{Levels}: \\begin{enumerate*}\n",
       "\\item 'Down'\n",
       "\\item 'Up'\n",
       "\\end{enumerate*}\n"
      ],
      "text/markdown": [
       "1. Down\n",
       "2. Up\n",
       "3. Up\n",
       "4. Up\n",
       "5. Up\n",
       "6. Down\n",
       "\n",
       "\n",
       "\n",
       "**Levels**: 1. 'Down'\n",
       "2. 'Up'\n",
       "\n",
       "\n"
      ],
      "text/plain": [
       "[1] Down Up   Up   Up   Up   Down\n",
       "Levels: Down Up"
      ]
     },
     "metadata": {},
     "output_type": "display_data"
    },
    {
     "data": {
      "text/html": [
       "<table class=\"dataframe\">\n",
       "<caption>A matrix: 6 × 2 of type dbl</caption>\n",
       "<thead>\n",
       "\t<tr><th></th><th scope=col>Down</th><th scope=col>Up</th></tr>\n",
       "</thead>\n",
       "<tbody>\n",
       "\t<tr><th scope=row>986</th><td>0.5340227</td><td>0.4659773</td></tr>\n",
       "\t<tr><th scope=row>987</th><td>0.2996900</td><td>0.7003100</td></tr>\n",
       "\t<tr><th scope=row>988</th><td>0.2818374</td><td>0.7181626</td></tr>\n",
       "\t<tr><th scope=row>989</th><td>0.3288820</td><td>0.6711180</td></tr>\n",
       "\t<tr><th scope=row>990</th><td>0.4427682</td><td>0.5572318</td></tr>\n",
       "\t<tr><th scope=row>991</th><td>0.6051927</td><td>0.3948073</td></tr>\n",
       "</tbody>\n",
       "</table>\n"
      ],
      "text/latex": [
       "A matrix: 6 × 2 of type dbl\n",
       "\\begin{tabular}{r|ll}\n",
       "  & Down & Up\\\\\n",
       "\\hline\n",
       "\t986 & 0.5340227 & 0.4659773\\\\\n",
       "\t987 & 0.2996900 & 0.7003100\\\\\n",
       "\t988 & 0.2818374 & 0.7181626\\\\\n",
       "\t989 & 0.3288820 & 0.6711180\\\\\n",
       "\t990 & 0.4427682 & 0.5572318\\\\\n",
       "\t991 & 0.6051927 & 0.3948073\\\\\n",
       "\\end{tabular}\n"
      ],
      "text/markdown": [
       "\n",
       "A matrix: 6 × 2 of type dbl\n",
       "\n",
       "| <!--/--> | Down | Up |\n",
       "|---|---|---|\n",
       "| 986 | 0.5340227 | 0.4659773 |\n",
       "| 987 | 0.2996900 | 0.7003100 |\n",
       "| 988 | 0.2818374 | 0.7181626 |\n",
       "| 989 | 0.3288820 | 0.6711180 |\n",
       "| 990 | 0.4427682 | 0.5572318 |\n",
       "| 991 | 0.6051927 | 0.3948073 |\n",
       "\n"
      ],
      "text/plain": [
       "    Down      Up       \n",
       "986 0.5340227 0.4659773\n",
       "987 0.2996900 0.7003100\n",
       "988 0.2818374 0.7181626\n",
       "989 0.3288820 0.6711180\n",
       "990 0.4427682 0.5572318\n",
       "991 0.6051927 0.3948073"
      ]
     },
     "metadata": {},
     "output_type": "display_data"
    },
    {
     "name": "stdout",
     "output_type": "stream",
     "text": [
      "[1] \"Confusion matrix:\"\n"
     ]
    },
    {
     "data": {
      "text/plain": [
       "      \n",
       "       Down Up\n",
       "  Down    6 10\n",
       "  Up     37 51"
      ]
     },
     "metadata": {},
     "output_type": "display_data"
    },
    {
     "name": "stdout",
     "output_type": "stream",
     "text": [
      "[1] \"Accuracy = 0.55 %\"\n"
     ]
    }
   ],
   "source": [
    "# Predict and evaluate on test data\n",
    "qda_pred <- predict(wk_qda, newdata=stock_test)\n",
    "head(qda_pred$class)\n",
    "head(qda_pred$posterior)\n",
    "\n",
    "# Confusion matrix\n",
    "print('Confusion matrix:')\n",
    "table(qda_pred$class, stock_test$Direction)\n",
    "\n",
    "# Accuracy\n",
    "acc <- mean(qda_pred$class == stock_test$Direction)\n",
    "print(paste('Accuracy =', round(acc, 2), '%'))"
   ]
  },
  {
   "cell_type": "markdown",
   "id": "2f8a67a6",
   "metadata": {},
   "source": [
    "### KNN"
   ]
  },
  {
   "cell_type": "code",
   "execution_count": 35,
   "id": "42ff1b34",
   "metadata": {},
   "outputs": [
    {
     "name": "stdout",
     "output_type": "stream",
     "text": [
      "[1] \"Confusion matrix:\"\n"
     ]
    },
    {
     "data": {
      "text/plain": [
       "         \n",
       "knn1_pred Down Up\n",
       "     Down   19 29\n",
       "     Up     24 32"
      ]
     },
     "metadata": {},
     "output_type": "display_data"
    },
    {
     "name": "stdout",
     "output_type": "stream",
     "text": [
      "[1] \"Accuracy = 0.49 %\"\n"
     ]
    }
   ],
   "source": [
    "# Fit the KNN model with the train set using Lag2 predictors\n",
    "library(class)\n",
    "\n",
    "# k = 1\n",
    "set.seed(123)\n",
    "knn1_pred <- knn(train=stock_train[,c('Lag1','Lag2','Lag3')],\n",
    "                 test=stock_test[,c('Lag1','Lag2','Lag3')],\n",
    "                 cl=stock_train$Direction,\n",
    "                 k=1)\n",
    "\n",
    "# Confusion matrix\n",
    "print('Confusion matrix:')\n",
    "table(knn1_pred, stock_test$Direction)\n",
    "\n",
    "# Accuracy\n",
    "acc <- mean(knn1_pred == stock_test$Direction)\n",
    "print(paste('Accuracy =', round(acc, 2), '%'))"
   ]
  },
  {
   "cell_type": "markdown",
   "id": "bfb80a0a",
   "metadata": {},
   "source": [
    "# Question 5"
   ]
  },
  {
   "cell_type": "markdown",
   "id": "c5df845f",
   "metadata": {},
   "source": [
    "### Solution : (a)"
   ]
  },
  {
   "cell_type": "code",
   "execution_count": 36,
   "id": "abca06f6",
   "metadata": {},
   "outputs": [],
   "source": [
    "#Get the Auto dataset decription\n",
    "?Auto"
   ]
  },
  {
   "cell_type": "code",
   "execution_count": 37,
   "id": "bb74ad76",
   "metadata": {},
   "outputs": [
    {
     "data": {
      "text/html": [
       "<table class=\"dataframe\">\n",
       "<caption>A data.frame: 6 × 9</caption>\n",
       "<thead>\n",
       "\t<tr><th></th><th scope=col>mpg</th><th scope=col>cylinders</th><th scope=col>displacement</th><th scope=col>horsepower</th><th scope=col>weight</th><th scope=col>acceleration</th><th scope=col>year</th><th scope=col>origin</th><th scope=col>name</th></tr>\n",
       "\t<tr><th></th><th scope=col>&lt;dbl&gt;</th><th scope=col>&lt;dbl&gt;</th><th scope=col>&lt;dbl&gt;</th><th scope=col>&lt;dbl&gt;</th><th scope=col>&lt;dbl&gt;</th><th scope=col>&lt;dbl&gt;</th><th scope=col>&lt;dbl&gt;</th><th scope=col>&lt;dbl&gt;</th><th scope=col>&lt;fct&gt;</th></tr>\n",
       "</thead>\n",
       "<tbody>\n",
       "\t<tr><th scope=row>1</th><td>18</td><td>8</td><td>307</td><td>130</td><td>3504</td><td>12.0</td><td>70</td><td>1</td><td>chevrolet chevelle malibu</td></tr>\n",
       "\t<tr><th scope=row>2</th><td>15</td><td>8</td><td>350</td><td>165</td><td>3693</td><td>11.5</td><td>70</td><td>1</td><td>buick skylark 320        </td></tr>\n",
       "\t<tr><th scope=row>3</th><td>18</td><td>8</td><td>318</td><td>150</td><td>3436</td><td>11.0</td><td>70</td><td>1</td><td>plymouth satellite       </td></tr>\n",
       "\t<tr><th scope=row>4</th><td>16</td><td>8</td><td>304</td><td>150</td><td>3433</td><td>12.0</td><td>70</td><td>1</td><td>amc rebel sst            </td></tr>\n",
       "\t<tr><th scope=row>5</th><td>17</td><td>8</td><td>302</td><td>140</td><td>3449</td><td>10.5</td><td>70</td><td>1</td><td>ford torino              </td></tr>\n",
       "\t<tr><th scope=row>6</th><td>15</td><td>8</td><td>429</td><td>198</td><td>4341</td><td>10.0</td><td>70</td><td>1</td><td>ford galaxie 500         </td></tr>\n",
       "</tbody>\n",
       "</table>\n"
      ],
      "text/latex": [
       "A data.frame: 6 × 9\n",
       "\\begin{tabular}{r|lllllllll}\n",
       "  & mpg & cylinders & displacement & horsepower & weight & acceleration & year & origin & name\\\\\n",
       "  & <dbl> & <dbl> & <dbl> & <dbl> & <dbl> & <dbl> & <dbl> & <dbl> & <fct>\\\\\n",
       "\\hline\n",
       "\t1 & 18 & 8 & 307 & 130 & 3504 & 12.0 & 70 & 1 & chevrolet chevelle malibu\\\\\n",
       "\t2 & 15 & 8 & 350 & 165 & 3693 & 11.5 & 70 & 1 & buick skylark 320        \\\\\n",
       "\t3 & 18 & 8 & 318 & 150 & 3436 & 11.0 & 70 & 1 & plymouth satellite       \\\\\n",
       "\t4 & 16 & 8 & 304 & 150 & 3433 & 12.0 & 70 & 1 & amc rebel sst            \\\\\n",
       "\t5 & 17 & 8 & 302 & 140 & 3449 & 10.5 & 70 & 1 & ford torino              \\\\\n",
       "\t6 & 15 & 8 & 429 & 198 & 4341 & 10.0 & 70 & 1 & ford galaxie 500         \\\\\n",
       "\\end{tabular}\n"
      ],
      "text/markdown": [
       "\n",
       "A data.frame: 6 × 9\n",
       "\n",
       "| <!--/--> | mpg &lt;dbl&gt; | cylinders &lt;dbl&gt; | displacement &lt;dbl&gt; | horsepower &lt;dbl&gt; | weight &lt;dbl&gt; | acceleration &lt;dbl&gt; | year &lt;dbl&gt; | origin &lt;dbl&gt; | name &lt;fct&gt; |\n",
       "|---|---|---|---|---|---|---|---|---|---|\n",
       "| 1 | 18 | 8 | 307 | 130 | 3504 | 12.0 | 70 | 1 | chevrolet chevelle malibu |\n",
       "| 2 | 15 | 8 | 350 | 165 | 3693 | 11.5 | 70 | 1 | buick skylark 320         |\n",
       "| 3 | 18 | 8 | 318 | 150 | 3436 | 11.0 | 70 | 1 | plymouth satellite        |\n",
       "| 4 | 16 | 8 | 304 | 150 | 3433 | 12.0 | 70 | 1 | amc rebel sst             |\n",
       "| 5 | 17 | 8 | 302 | 140 | 3449 | 10.5 | 70 | 1 | ford torino               |\n",
       "| 6 | 15 | 8 | 429 | 198 | 4341 | 10.0 | 70 | 1 | ford galaxie 500          |\n",
       "\n"
      ],
      "text/plain": [
       "  mpg cylinders displacement horsepower weight acceleration year origin\n",
       "1 18  8         307          130        3504   12.0         70   1     \n",
       "2 15  8         350          165        3693   11.5         70   1     \n",
       "3 18  8         318          150        3436   11.0         70   1     \n",
       "4 16  8         304          150        3433   12.0         70   1     \n",
       "5 17  8         302          140        3449   10.5         70   1     \n",
       "6 15  8         429          198        4341   10.0         70   1     \n",
       "  name                     \n",
       "1 chevrolet chevelle malibu\n",
       "2 buick skylark 320        \n",
       "3 plymouth satellite       \n",
       "4 amc rebel sst            \n",
       "5 ford torino              \n",
       "6 ford galaxie 500         "
      ]
     },
     "metadata": {},
     "output_type": "display_data"
    }
   ],
   "source": [
    "#Read the data\n",
    "head(Auto)"
   ]
  },
  {
   "cell_type": "code",
   "execution_count": 38,
   "id": "00a7e038",
   "metadata": {},
   "outputs": [],
   "source": [
    "#Create a binary variable-mpg01\n",
    "mpg01= rep(0, length(Auto$mpg))\n",
    "mpg01[Auto$mpg > median(Auto$mpg)] = 1"
   ]
  },
  {
   "cell_type": "code",
   "execution_count": 39,
   "id": "d6f04185",
   "metadata": {},
   "outputs": [
    {
     "data": {
      "text/html": [
       "<table class=\"dataframe\">\n",
       "<caption>A data.frame: 6 × 10</caption>\n",
       "<thead>\n",
       "\t<tr><th></th><th scope=col>mpg</th><th scope=col>cylinders</th><th scope=col>displacement</th><th scope=col>horsepower</th><th scope=col>weight</th><th scope=col>acceleration</th><th scope=col>year</th><th scope=col>origin</th><th scope=col>name</th><th scope=col>mpg01</th></tr>\n",
       "\t<tr><th></th><th scope=col>&lt;dbl&gt;</th><th scope=col>&lt;dbl&gt;</th><th scope=col>&lt;dbl&gt;</th><th scope=col>&lt;dbl&gt;</th><th scope=col>&lt;dbl&gt;</th><th scope=col>&lt;dbl&gt;</th><th scope=col>&lt;dbl&gt;</th><th scope=col>&lt;dbl&gt;</th><th scope=col>&lt;fct&gt;</th><th scope=col>&lt;dbl&gt;</th></tr>\n",
       "</thead>\n",
       "<tbody>\n",
       "\t<tr><th scope=row>1</th><td>18</td><td>8</td><td>307</td><td>130</td><td>3504</td><td>12.0</td><td>70</td><td>1</td><td>chevrolet chevelle malibu</td><td>0</td></tr>\n",
       "\t<tr><th scope=row>2</th><td>15</td><td>8</td><td>350</td><td>165</td><td>3693</td><td>11.5</td><td>70</td><td>1</td><td>buick skylark 320        </td><td>0</td></tr>\n",
       "\t<tr><th scope=row>3</th><td>18</td><td>8</td><td>318</td><td>150</td><td>3436</td><td>11.0</td><td>70</td><td>1</td><td>plymouth satellite       </td><td>0</td></tr>\n",
       "\t<tr><th scope=row>4</th><td>16</td><td>8</td><td>304</td><td>150</td><td>3433</td><td>12.0</td><td>70</td><td>1</td><td>amc rebel sst            </td><td>0</td></tr>\n",
       "\t<tr><th scope=row>5</th><td>17</td><td>8</td><td>302</td><td>140</td><td>3449</td><td>10.5</td><td>70</td><td>1</td><td>ford torino              </td><td>0</td></tr>\n",
       "\t<tr><th scope=row>6</th><td>15</td><td>8</td><td>429</td><td>198</td><td>4341</td><td>10.0</td><td>70</td><td>1</td><td>ford galaxie 500         </td><td>0</td></tr>\n",
       "</tbody>\n",
       "</table>\n"
      ],
      "text/latex": [
       "A data.frame: 6 × 10\n",
       "\\begin{tabular}{r|llllllllll}\n",
       "  & mpg & cylinders & displacement & horsepower & weight & acceleration & year & origin & name & mpg01\\\\\n",
       "  & <dbl> & <dbl> & <dbl> & <dbl> & <dbl> & <dbl> & <dbl> & <dbl> & <fct> & <dbl>\\\\\n",
       "\\hline\n",
       "\t1 & 18 & 8 & 307 & 130 & 3504 & 12.0 & 70 & 1 & chevrolet chevelle malibu & 0\\\\\n",
       "\t2 & 15 & 8 & 350 & 165 & 3693 & 11.5 & 70 & 1 & buick skylark 320         & 0\\\\\n",
       "\t3 & 18 & 8 & 318 & 150 & 3436 & 11.0 & 70 & 1 & plymouth satellite        & 0\\\\\n",
       "\t4 & 16 & 8 & 304 & 150 & 3433 & 12.0 & 70 & 1 & amc rebel sst             & 0\\\\\n",
       "\t5 & 17 & 8 & 302 & 140 & 3449 & 10.5 & 70 & 1 & ford torino               & 0\\\\\n",
       "\t6 & 15 & 8 & 429 & 198 & 4341 & 10.0 & 70 & 1 & ford galaxie 500          & 0\\\\\n",
       "\\end{tabular}\n"
      ],
      "text/markdown": [
       "\n",
       "A data.frame: 6 × 10\n",
       "\n",
       "| <!--/--> | mpg &lt;dbl&gt; | cylinders &lt;dbl&gt; | displacement &lt;dbl&gt; | horsepower &lt;dbl&gt; | weight &lt;dbl&gt; | acceleration &lt;dbl&gt; | year &lt;dbl&gt; | origin &lt;dbl&gt; | name &lt;fct&gt; | mpg01 &lt;dbl&gt; |\n",
       "|---|---|---|---|---|---|---|---|---|---|---|\n",
       "| 1 | 18 | 8 | 307 | 130 | 3504 | 12.0 | 70 | 1 | chevrolet chevelle malibu | 0 |\n",
       "| 2 | 15 | 8 | 350 | 165 | 3693 | 11.5 | 70 | 1 | buick skylark 320         | 0 |\n",
       "| 3 | 18 | 8 | 318 | 150 | 3436 | 11.0 | 70 | 1 | plymouth satellite        | 0 |\n",
       "| 4 | 16 | 8 | 304 | 150 | 3433 | 12.0 | 70 | 1 | amc rebel sst             | 0 |\n",
       "| 5 | 17 | 8 | 302 | 140 | 3449 | 10.5 | 70 | 1 | ford torino               | 0 |\n",
       "| 6 | 15 | 8 | 429 | 198 | 4341 | 10.0 | 70 | 1 | ford galaxie 500          | 0 |\n",
       "\n"
      ],
      "text/plain": [
       "  mpg cylinders displacement horsepower weight acceleration year origin\n",
       "1 18  8         307          130        3504   12.0         70   1     \n",
       "2 15  8         350          165        3693   11.5         70   1     \n",
       "3 18  8         318          150        3436   11.0         70   1     \n",
       "4 16  8         304          150        3433   12.0         70   1     \n",
       "5 17  8         302          140        3449   10.5         70   1     \n",
       "6 15  8         429          198        4341   10.0         70   1     \n",
       "  name                      mpg01\n",
       "1 chevrolet chevelle malibu 0    \n",
       "2 buick skylark 320         0    \n",
       "3 plymouth satellite        0    \n",
       "4 amc rebel sst             0    \n",
       "5 ford torino               0    \n",
       "6 ford galaxie 500          0    "
      ]
     },
     "metadata": {},
     "output_type": "display_data"
    }
   ],
   "source": [
    "#create a single data set containing both mpg01 and the other Auto variables using data.frame() function\n",
    "Auto = data.frame(Auto, mpg01)\n",
    "head(Auto)"
   ]
  },
  {
   "cell_type": "code",
   "execution_count": 40,
   "id": "9611134a",
   "metadata": {},
   "outputs": [
    {
     "data": {
      "text/plain": [
       "      mpg          cylinders      displacement     horsepower        weight    \n",
       " Min.   : 9.00   Min.   :3.000   Min.   : 68.0   Min.   : 46.0   Min.   :1613  \n",
       " 1st Qu.:17.00   1st Qu.:4.000   1st Qu.:105.0   1st Qu.: 75.0   1st Qu.:2225  \n",
       " Median :22.75   Median :4.000   Median :151.0   Median : 93.5   Median :2804  \n",
       " Mean   :23.45   Mean   :5.472   Mean   :194.4   Mean   :104.5   Mean   :2978  \n",
       " 3rd Qu.:29.00   3rd Qu.:8.000   3rd Qu.:275.8   3rd Qu.:126.0   3rd Qu.:3615  \n",
       " Max.   :46.60   Max.   :8.000   Max.   :455.0   Max.   :230.0   Max.   :5140  \n",
       "                                                                               \n",
       "  acceleration        year           origin                      name    \n",
       " Min.   : 8.00   Min.   :70.00   Min.   :1.000   amc matador       :  5  \n",
       " 1st Qu.:13.78   1st Qu.:73.00   1st Qu.:1.000   ford pinto        :  5  \n",
       " Median :15.50   Median :76.00   Median :1.000   toyota corolla    :  5  \n",
       " Mean   :15.54   Mean   :75.98   Mean   :1.577   amc gremlin       :  4  \n",
       " 3rd Qu.:17.02   3rd Qu.:79.00   3rd Qu.:2.000   amc hornet        :  4  \n",
       " Max.   :24.80   Max.   :82.00   Max.   :3.000   chevrolet chevette:  4  \n",
       "                                                 (Other)           :365  \n",
       "     mpg01    \n",
       " Min.   :0.0  \n",
       " 1st Qu.:0.0  \n",
       " Median :0.5  \n",
       " Mean   :0.5  \n",
       " 3rd Qu.:1.0  \n",
       " Max.   :1.0  \n",
       "              "
      ]
     },
     "metadata": {},
     "output_type": "display_data"
    }
   ],
   "source": [
    "summary(Auto)"
   ]
  },
  {
   "cell_type": "code",
   "execution_count": 41,
   "id": "ac20a389",
   "metadata": {},
   "outputs": [
    {
     "data": {
      "text/html": [
       "<style>\n",
       ".list-inline {list-style: none; margin:0; padding: 0}\n",
       ".list-inline>li {display: inline-block}\n",
       ".list-inline>li:not(:last-child)::after {content: \"\\00b7\"; padding: 0 .5ex}\n",
       "</style>\n",
       "<ol class=list-inline><li>'mpg'</li><li>'cylinders'</li><li>'displacement'</li><li>'horsepower'</li><li>'weight'</li><li>'acceleration'</li><li>'year'</li><li>'origin'</li><li>'name'</li><li>'mpg01'</li></ol>\n"
      ],
      "text/latex": [
       "\\begin{enumerate*}\n",
       "\\item 'mpg'\n",
       "\\item 'cylinders'\n",
       "\\item 'displacement'\n",
       "\\item 'horsepower'\n",
       "\\item 'weight'\n",
       "\\item 'acceleration'\n",
       "\\item 'year'\n",
       "\\item 'origin'\n",
       "\\item 'name'\n",
       "\\item 'mpg01'\n",
       "\\end{enumerate*}\n"
      ],
      "text/markdown": [
       "1. 'mpg'\n",
       "2. 'cylinders'\n",
       "3. 'displacement'\n",
       "4. 'horsepower'\n",
       "5. 'weight'\n",
       "6. 'acceleration'\n",
       "7. 'year'\n",
       "8. 'origin'\n",
       "9. 'name'\n",
       "10. 'mpg01'\n",
       "\n",
       "\n"
      ],
      "text/plain": [
       " [1] \"mpg\"          \"cylinders\"    \"displacement\" \"horsepower\"   \"weight\"      \n",
       " [6] \"acceleration\" \"year\"         \"origin\"       \"name\"         \"mpg01\"       "
      ]
     },
     "metadata": {},
     "output_type": "display_data"
    }
   ],
   "source": [
    "colnames(Auto)"
   ]
  },
  {
   "cell_type": "code",
   "execution_count": 42,
   "id": "cb9d0e94",
   "metadata": {},
   "outputs": [
    {
     "name": "stdout",
     "output_type": "stream",
     "text": [
      "'data.frame':\t392 obs. of  10 variables:\n",
      " $ mpg         : num  18 15 18 16 17 15 14 14 14 15 ...\n",
      " $ cylinders   : num  8 8 8 8 8 8 8 8 8 8 ...\n",
      " $ displacement: num  307 350 318 304 302 429 454 440 455 390 ...\n",
      " $ horsepower  : num  130 165 150 150 140 198 220 215 225 190 ...\n",
      " $ weight      : num  3504 3693 3436 3433 3449 ...\n",
      " $ acceleration: num  12 11.5 11 12 10.5 10 9 8.5 10 8.5 ...\n",
      " $ year        : num  70 70 70 70 70 70 70 70 70 70 ...\n",
      " $ origin      : num  1 1 1 1 1 1 1 1 1 1 ...\n",
      " $ name        : Factor w/ 304 levels \"amc ambassador brougham\",..: 49 36 231 14 161 141 54 223 241 2 ...\n",
      " $ mpg01       : num  0 0 0 0 0 0 0 0 0 0 ...\n"
     ]
    }
   ],
   "source": [
    "str(Auto)"
   ]
  },
  {
   "cell_type": "markdown",
   "id": "a1ce1601",
   "metadata": {},
   "source": [
    "### Solution : (b)"
   ]
  },
  {
   "cell_type": "code",
   "execution_count": 43,
   "id": "5b90c278",
   "metadata": {
    "scrolled": false
   },
   "outputs": [
    {
     "data": {
      "image/png": "[encoded data removed]",
      "text/plain": [
       "plot without title"
      ]
     },
     "metadata": {
      "image/png": {
       "height": 960,
       "width": 1200
      }
     },
     "output_type": "display_data"
    }
   ],
   "source": [
    "# Visualize the data\n",
    "options(repr.plot.width=20, repr.plot.height=16)\n",
    "\n",
    "p1 <- ggplot(Auto[, c('cylinders','displacement','horsepower','weight','acceleration','year', 'mpg01')], aes(x=mpg01, y=cylinders, fill='mpg01',group=1)) +\n",
    "  geom_boxplot() +\n",
    "  scale_fill_manual(values = c(\"red\", \"green\"))\n",
    "p2 <- ggplot(Auto[, c('cylinders','displacement','horsepower','weight','acceleration','year', 'mpg01')], aes(x=mpg01, y=displacement, fill='mpg01',group=1)) +\n",
    "  geom_boxplot() +\n",
    "  scale_fill_manual(values = c(\"red\", \"green\"))\n",
    "p3 <- ggplot(Auto[, c('cylinders','displacement','horsepower','weight','acceleration','year', 'mpg01')], aes(x=mpg01, y=horsepower, fill='mpg01',group=1)) +\n",
    "  geom_boxplot() +\n",
    "  scale_fill_manual(values = c(\"red\", \"green\"))\n",
    "p4 <- ggplot(Auto[, c('cylinders','displacement','horsepower','weight','acceleration','year', 'mpg01')], aes(x=mpg01, y=weight, fill='mpg01',group=1)) +\n",
    "  geom_boxplot() +\n",
    "  scale_fill_manual(values = c(\"red\", \"green\"))\n",
    "p5 <- ggplot(Auto[, c('cylinders','displacement','horsepower','weight','acceleration','year', 'mpg01')], aes(x=mpg01, y=acceleration, fill='mpg01',group=1)) +\n",
    "  geom_boxplot() +\n",
    "  scale_fill_manual(values = c(\"red\", \"green\"))\n",
    "p6 <- ggplot(Auto[, c('cylinders','displacement','horsepower','weight','acceleration','year', 'mpg01')], aes(x=mpg01, y=year, fill='mpg01',group=1)) +\n",
    "  geom_boxplot() +\n",
    "  scale_fill_manual(values = c(\"red\", \"green\"))\n",
    "\n",
    "grid.arrange(p1, p2, p3,p4,p5,p6, nrow=2)"
   ]
  },
  {
   "cell_type": "code",
   "execution_count": 44,
   "id": "2b62866f",
   "metadata": {},
   "outputs": [
    {
     "data": {
      "image/png": "[encoded data removed]",
      "text/plain": [
       "plot without title"
      ]
     },
     "metadata": {
      "image/png": {
       "height": 960,
       "width": 1200
      }
     },
     "output_type": "display_data"
    }
   ],
   "source": [
    "#Pair plots for features\n",
    "pairs(Auto)"
   ]
  },
  {
   "cell_type": "markdown",
   "id": "6315a317",
   "metadata": {},
   "source": [
    "Only Acceleration variable has positive correlation with the response- mpg01.All Other variables have negative correlation with the response ."
   ]
  },
  {
   "cell_type": "markdown",
   "id": "73c1ff47",
   "metadata": {},
   "source": [
    "### Solution : (c)"
   ]
  },
  {
   "cell_type": "code",
   "execution_count": 45,
   "id": "fdd8d338",
   "metadata": {},
   "outputs": [],
   "source": [
    "# Train test spliting\n",
    "set.seed(123)\n",
    "train_auto <- createDataPartition(Auto[, 'mpg01'], p=.75, list=FALSE)\n",
    "\n",
    "# Train dataset\n",
    "train <- Auto[train_auto, ] #294 observations\n",
    "\n",
    "\n",
    "# Test dataset\n",
    "test <- Auto[-train_auto, ] #98 observations\n"
   ]
  },
  {
   "cell_type": "code",
   "execution_count": 46,
   "id": "bf626573",
   "metadata": {},
   "outputs": [
    {
     "name": "stdout",
     "output_type": "stream",
     "text": [
      "'data.frame':\t294 obs. of  10 variables:\n",
      " $ mpg         : num  18 18 16 17 15 14 14 14 15 14 ...\n",
      " $ cylinders   : num  8 8 8 8 8 8 8 8 8 8 ...\n",
      " $ displacement: num  307 318 304 302 429 454 440 455 383 340 ...\n",
      " $ horsepower  : num  130 150 150 140 198 220 215 225 170 160 ...\n",
      " $ weight      : num  3504 3436 3433 3449 4341 ...\n",
      " $ acceleration: num  12 11 12 10.5 10 9 8.5 10 10 8 ...\n",
      " $ year        : num  70 70 70 70 70 70 70 70 70 70 ...\n",
      " $ origin      : num  1 1 1 1 1 1 1 1 1 1 ...\n",
      " $ name        : Factor w/ 304 levels \"amc ambassador brougham\",..: 49 231 14 161 141 54 223 241 101 215 ...\n",
      " $ mpg01       : num  0 0 0 0 0 0 0 0 0 0 ...\n"
     ]
    }
   ],
   "source": [
    "#to get the structure of the dataframe - train\n",
    "str(train)"
   ]
  },
  {
   "cell_type": "code",
   "execution_count": 47,
   "id": "157c63fb",
   "metadata": {},
   "outputs": [
    {
     "name": "stdout",
     "output_type": "stream",
     "text": [
      "'data.frame':\t98 obs. of  10 variables:\n",
      " $ mpg         : num  15 15 24 22 21 10 14 14 13 28 ...\n",
      " $ cylinders   : num  8 8 4 6 6 8 8 8 8 4 ...\n",
      " $ displacement: num  350 390 113 198 199 360 350 400 400 116 ...\n",
      " $ horsepower  : num  165 190 95 95 90 215 165 175 170 90 ...\n",
      " $ weight      : num  3693 3850 2372 2833 2648 ...\n",
      " $ acceleration: num  11.5 8.5 15 15.5 15 14 12 11.5 12 14 ...\n",
      " $ year        : num  70 70 70 70 70 70 71 71 71 71 ...\n",
      " $ origin      : num  1 1 3 1 1 1 1 1 1 2 ...\n",
      " $ name        : Factor w/ 304 levels \"amc ambassador brougham\",..: 36 2 274 220 7 133 54 242 129 208 ...\n",
      " $ mpg01       : num  0 0 1 0 0 0 0 0 0 1 ...\n"
     ]
    }
   ],
   "source": [
    "#to get the structure of the dataframe - test\n",
    "str(test)"
   ]
  },
  {
   "cell_type": "markdown",
   "id": "0f033f56",
   "metadata": {},
   "source": [
    "### Solution : (d)"
   ]
  },
  {
   "cell_type": "markdown",
   "id": "4fab9683",
   "metadata": {},
   "source": [
    "### LDA"
   ]
  },
  {
   "cell_type": "code",
   "execution_count": 48,
   "id": "c38744b5",
   "metadata": {},
   "outputs": [
    {
     "data": {
      "text/plain": [
       "Call:\n",
       "lda(mpg01 ~ cylinders + displacement + horsepower + weight, data = train)\n",
       "\n",
       "Prior probabilities of groups:\n",
       "  0   1 \n",
       "0.5 0.5 \n",
       "\n",
       "Group means:\n",
       "  cylinders displacement horsepower   weight\n",
       "0  6.795918     273.8571  129.97959 3598.293\n",
       "1  4.231293     117.6701   79.15646 2346.401\n",
       "\n",
       "Coefficients of linear discriminants:\n",
       "                       LD1\n",
       "cylinders    -0.4744589444\n",
       "displacement -0.0023944306\n",
       "horsepower    0.0045830050\n",
       "weight       -0.0008655587"
      ]
     },
     "metadata": {},
     "output_type": "display_data"
    }
   ],
   "source": [
    "# Fit the LDA model with the predictors \n",
    "library(MASS)\n",
    "auto_lda <- lda(mpg01 ~ cylinders + displacement + horsepower + weight, data=train)\n",
    "auto_lda"
   ]
  },
  {
   "cell_type": "code",
   "execution_count": 49,
   "id": "80a17735",
   "metadata": {},
   "outputs": [
    {
     "data": {
      "text/html": [
       "<style>\n",
       ".list-inline {list-style: none; margin:0; padding: 0}\n",
       ".list-inline>li {display: inline-block}\n",
       ".list-inline>li:not(:last-child)::after {content: \"\\00b7\"; padding: 0 .5ex}\n",
       "</style>\n",
       "<ol class=list-inline><li>0</li><li>0</li><li>1</li><li>0</li><li>0</li><li>0</li></ol>\n",
       "\n",
       "<details>\n",
       "\t<summary style=display:list-item;cursor:pointer>\n",
       "\t\t<strong>Levels</strong>:\n",
       "\t</summary>\n",
       "\t<style>\n",
       "\t.list-inline {list-style: none; margin:0; padding: 0}\n",
       "\t.list-inline>li {display: inline-block}\n",
       "\t.list-inline>li:not(:last-child)::after {content: \"\\00b7\"; padding: 0 .5ex}\n",
       "\t</style>\n",
       "\t<ol class=list-inline><li>'0'</li><li>'1'</li></ol>\n",
       "</details>"
      ],
      "text/latex": [
       "\\begin{enumerate*}\n",
       "\\item 0\n",
       "\\item 0\n",
       "\\item 1\n",
       "\\item 0\n",
       "\\item 0\n",
       "\\item 0\n",
       "\\end{enumerate*}\n",
       "\n",
       "\\emph{Levels}: \\begin{enumerate*}\n",
       "\\item '0'\n",
       "\\item '1'\n",
       "\\end{enumerate*}\n"
      ],
      "text/markdown": [
       "1. 0\n",
       "2. 0\n",
       "3. 1\n",
       "4. 0\n",
       "5. 0\n",
       "6. 0\n",
       "\n",
       "\n",
       "\n",
       "**Levels**: 1. '0'\n",
       "2. '1'\n",
       "\n",
       "\n"
      ],
      "text/plain": [
       "[1] 0 0 1 0 0 0\n",
       "Levels: 0 1"
      ]
     },
     "metadata": {},
     "output_type": "display_data"
    },
    {
     "data": {
      "text/html": [
       "<table class=\"dataframe\">\n",
       "<caption>A matrix: 6 × 2 of type dbl</caption>\n",
       "<thead>\n",
       "\t<tr><th></th><th scope=col>0</th><th scope=col>1</th></tr>\n",
       "</thead>\n",
       "<tbody>\n",
       "\t<tr><th scope=row>2</th><td>0.99032534</td><td>0.009674663</td></tr>\n",
       "\t<tr><th scope=row>10</th><td>0.99271340</td><td>0.007286604</td></tr>\n",
       "\t<tr><th scope=row>15</th><td>0.03233468</td><td>0.967665318</td></tr>\n",
       "\t<tr><th scope=row>16</th><td>0.59606255</td><td>0.403937451</td></tr>\n",
       "\t<tr><th scope=row>25</th><td>0.51497846</td><td>0.485021543</td></tr>\n",
       "\t<tr><th scope=row>26</th><td>0.99770771</td><td>0.002292285</td></tr>\n",
       "</tbody>\n",
       "</table>\n"
      ],
      "text/latex": [
       "A matrix: 6 × 2 of type dbl\n",
       "\\begin{tabular}{r|ll}\n",
       "  & 0 & 1\\\\\n",
       "\\hline\n",
       "\t2 & 0.99032534 & 0.009674663\\\\\n",
       "\t10 & 0.99271340 & 0.007286604\\\\\n",
       "\t15 & 0.03233468 & 0.967665318\\\\\n",
       "\t16 & 0.59606255 & 0.403937451\\\\\n",
       "\t25 & 0.51497846 & 0.485021543\\\\\n",
       "\t26 & 0.99770771 & 0.002292285\\\\\n",
       "\\end{tabular}\n"
      ],
      "text/markdown": [
       "\n",
       "A matrix: 6 × 2 of type dbl\n",
       "\n",
       "| <!--/--> | 0 | 1 |\n",
       "|---|---|---|\n",
       "| 2 | 0.99032534 | 0.009674663 |\n",
       "| 10 | 0.99271340 | 0.007286604 |\n",
       "| 15 | 0.03233468 | 0.967665318 |\n",
       "| 16 | 0.59606255 | 0.403937451 |\n",
       "| 25 | 0.51497846 | 0.485021543 |\n",
       "| 26 | 0.99770771 | 0.002292285 |\n",
       "\n"
      ],
      "text/plain": [
       "   0          1          \n",
       "2  0.99032534 0.009674663\n",
       "10 0.99271340 0.007286604\n",
       "15 0.03233468 0.967665318\n",
       "16 0.59606255 0.403937451\n",
       "25 0.51497846 0.485021543\n",
       "26 0.99770771 0.002292285"
      ]
     },
     "metadata": {},
     "output_type": "display_data"
    },
    {
     "name": "stdout",
     "output_type": "stream",
     "text": [
      "[1] \"Confusion matrix:\"\n"
     ]
    },
    {
     "data": {
      "text/plain": [
       "   \n",
       "     0  1\n",
       "  0 41  1\n",
       "  1  8 48"
      ]
     },
     "metadata": {},
     "output_type": "display_data"
    },
    {
     "name": "stdout",
     "output_type": "stream",
     "text": [
      "[1] \"Accuracy = 0.91 %\"\n"
     ]
    }
   ],
   "source": [
    "# Predict and evaluate on test data\n",
    "lda_pred <- predict(auto_lda, newdata=test)\n",
    "head(lda_pred$class)\n",
    "head(lda_pred$posterior)\n",
    "\n",
    "# Confusion matrix\n",
    "print('Confusion matrix:')\n",
    "table(lda_pred$class, test$mpg01)\n",
    "\n",
    "# Accuracy\n",
    "acc <- mean(lda_pred$class == test$mpg01)\n",
    "print(paste('Accuracy =', round(acc, 2), '%'))"
   ]
  },
  {
   "cell_type": "code",
   "execution_count": 50,
   "id": "73095d2d",
   "metadata": {},
   "outputs": [
    {
     "name": "stdout",
     "output_type": "stream",
     "text": [
      "[1] \"Error = 0.0918 %\"\n"
     ]
    }
   ],
   "source": [
    "# test error rate\n",
    "err_rate <- 1-acc\n",
    "print(paste('Error =', round(err_rate, 4), '%'))"
   ]
  },
  {
   "cell_type": "markdown",
   "id": "2cc3db9b",
   "metadata": {},
   "source": [
    "The test error rate of the LDA model is  9.18%"
   ]
  },
  {
   "cell_type": "markdown",
   "id": "593b79a4",
   "metadata": {},
   "source": [
    "### Solution : (e)"
   ]
  },
  {
   "cell_type": "markdown",
   "id": "4be9e952",
   "metadata": {},
   "source": [
    "### QDA"
   ]
  },
  {
   "cell_type": "code",
   "execution_count": 51,
   "id": "cf6f873a",
   "metadata": {},
   "outputs": [
    {
     "data": {
      "text/plain": [
       "Call:\n",
       "qda(mpg01 ~ cylinders + displacement + horsepower + weight, data = train)\n",
       "\n",
       "Prior probabilities of groups:\n",
       "  0   1 \n",
       "0.5 0.5 \n",
       "\n",
       "Group means:\n",
       "  cylinders displacement horsepower   weight\n",
       "0  6.795918     273.8571  129.97959 3598.293\n",
       "1  4.231293     117.6701   79.15646 2346.401"
      ]
     },
     "metadata": {},
     "output_type": "display_data"
    }
   ],
   "source": [
    "# Fit the LDA model with the predictors \n",
    "library(MASS)\n",
    "auto_qda <- qda(mpg01 ~ cylinders + displacement + horsepower + weight, data=train)\n",
    "auto_qda"
   ]
  },
  {
   "cell_type": "code",
   "execution_count": 52,
   "id": "7e56142d",
   "metadata": {},
   "outputs": [
    {
     "data": {
      "text/html": [
       "<style>\n",
       ".list-inline {list-style: none; margin:0; padding: 0}\n",
       ".list-inline>li {display: inline-block}\n",
       ".list-inline>li:not(:last-child)::after {content: \"\\00b7\"; padding: 0 .5ex}\n",
       "</style>\n",
       "<ol class=list-inline><li>0</li><li>0</li><li>1</li><li>1</li><li>0</li><li>0</li></ol>\n",
       "\n",
       "<details>\n",
       "\t<summary style=display:list-item;cursor:pointer>\n",
       "\t\t<strong>Levels</strong>:\n",
       "\t</summary>\n",
       "\t<style>\n",
       "\t.list-inline {list-style: none; margin:0; padding: 0}\n",
       "\t.list-inline>li {display: inline-block}\n",
       "\t.list-inline>li:not(:last-child)::after {content: \"\\00b7\"; padding: 0 .5ex}\n",
       "\t</style>\n",
       "\t<ol class=list-inline><li>'0'</li><li>'1'</li></ol>\n",
       "</details>"
      ],
      "text/latex": [
       "\\begin{enumerate*}\n",
       "\\item 0\n",
       "\\item 0\n",
       "\\item 1\n",
       "\\item 1\n",
       "\\item 0\n",
       "\\item 0\n",
       "\\end{enumerate*}\n",
       "\n",
       "\\emph{Levels}: \\begin{enumerate*}\n",
       "\\item '0'\n",
       "\\item '1'\n",
       "\\end{enumerate*}\n"
      ],
      "text/markdown": [
       "1. 0\n",
       "2. 0\n",
       "3. 1\n",
       "4. 1\n",
       "5. 0\n",
       "6. 0\n",
       "\n",
       "\n",
       "\n",
       "**Levels**: 1. '0'\n",
       "2. '1'\n",
       "\n",
       "\n"
      ],
      "text/plain": [
       "[1] 0 0 1 1 0 0\n",
       "Levels: 0 1"
      ]
     },
     "metadata": {},
     "output_type": "display_data"
    },
    {
     "data": {
      "text/html": [
       "<table class=\"dataframe\">\n",
       "<caption>A matrix: 6 × 2 of type dbl</caption>\n",
       "<thead>\n",
       "\t<tr><th></th><th scope=col>0</th><th scope=col>1</th></tr>\n",
       "</thead>\n",
       "<tbody>\n",
       "\t<tr><th scope=row>2</th><td>1.00000000</td><td>7.386071e-10</td></tr>\n",
       "\t<tr><th scope=row>10</th><td>1.00000000</td><td>8.171550e-16</td></tr>\n",
       "\t<tr><th scope=row>15</th><td>0.01768356</td><td>9.823164e-01</td></tr>\n",
       "\t<tr><th scope=row>16</th><td>0.46875505</td><td>5.312450e-01</td></tr>\n",
       "\t<tr><th scope=row>25</th><td>0.53538690</td><td>4.646131e-01</td></tr>\n",
       "\t<tr><th scope=row>26</th><td>1.00000000</td><td>4.634134e-15</td></tr>\n",
       "</tbody>\n",
       "</table>\n"
      ],
      "text/latex": [
       "A matrix: 6 × 2 of type dbl\n",
       "\\begin{tabular}{r|ll}\n",
       "  & 0 & 1\\\\\n",
       "\\hline\n",
       "\t2 & 1.00000000 & 7.386071e-10\\\\\n",
       "\t10 & 1.00000000 & 8.171550e-16\\\\\n",
       "\t15 & 0.01768356 & 9.823164e-01\\\\\n",
       "\t16 & 0.46875505 & 5.312450e-01\\\\\n",
       "\t25 & 0.53538690 & 4.646131e-01\\\\\n",
       "\t26 & 1.00000000 & 4.634134e-15\\\\\n",
       "\\end{tabular}\n"
      ],
      "text/markdown": [
       "\n",
       "A matrix: 6 × 2 of type dbl\n",
       "\n",
       "| <!--/--> | 0 | 1 |\n",
       "|---|---|---|\n",
       "| 2 | 1.00000000 | 7.386071e-10 |\n",
       "| 10 | 1.00000000 | 8.171550e-16 |\n",
       "| 15 | 0.01768356 | 9.823164e-01 |\n",
       "| 16 | 0.46875505 | 5.312450e-01 |\n",
       "| 25 | 0.53538690 | 4.646131e-01 |\n",
       "| 26 | 1.00000000 | 4.634134e-15 |\n",
       "\n"
      ],
      "text/plain": [
       "   0          1           \n",
       "2  1.00000000 7.386071e-10\n",
       "10 1.00000000 8.171550e-16\n",
       "15 0.01768356 9.823164e-01\n",
       "16 0.46875505 5.312450e-01\n",
       "25 0.53538690 4.646131e-01\n",
       "26 1.00000000 4.634134e-15"
      ]
     },
     "metadata": {},
     "output_type": "display_data"
    },
    {
     "name": "stdout",
     "output_type": "stream",
     "text": [
      "[1] \"Confusion matrix:\"\n"
     ]
    },
    {
     "data": {
      "text/plain": [
       "   \n",
       "     0  1\n",
       "  0 41  1\n",
       "  1  8 48"
      ]
     },
     "metadata": {},
     "output_type": "display_data"
    },
    {
     "name": "stdout",
     "output_type": "stream",
     "text": [
      "[1] \"Accuracy = 0.91 %\"\n"
     ]
    }
   ],
   "source": [
    "# Predict and evaluate on test data\n",
    "qda_pred <- predict(auto_qda, newdata=test)\n",
    "head(qda_pred$class)\n",
    "head(qda_pred$posterior)\n",
    "\n",
    "# Confusion matrix\n",
    "print('Confusion matrix:')\n",
    "table(qda_pred$class, test$mpg01)\n",
    "\n",
    "# Accuracy\n",
    "acc <- mean(qda_pred$class == test$mpg01)\n",
    "print(paste('Accuracy =', round(acc, 2), '%'))"
   ]
  },
  {
   "cell_type": "code",
   "execution_count": 53,
   "id": "1808e977",
   "metadata": {},
   "outputs": [
    {
     "name": "stdout",
     "output_type": "stream",
     "text": [
      "[1] \"Error = 0.0918 %\"\n"
     ]
    }
   ],
   "source": [
    "# test error rate\n",
    "err_rate <- 1-acc\n",
    "print(paste('Error =', round(err_rate, 4), '%'))"
   ]
  },
  {
   "cell_type": "markdown",
   "id": "1e1979a3",
   "metadata": {},
   "source": [
    "The test error rate of the QDA model is same as LDA i.e 9.18%"
   ]
  },
  {
   "cell_type": "markdown",
   "id": "910bfcee",
   "metadata": {},
   "source": [
    "### Solution : (f)"
   ]
  },
  {
   "cell_type": "markdown",
   "id": "11869e14",
   "metadata": {},
   "source": [
    "### Logistic Regression"
   ]
  },
  {
   "cell_type": "code",
   "execution_count": 54,
   "id": "72fca5ae",
   "metadata": {},
   "outputs": [
    {
     "data": {
      "text/plain": [
       "\n",
       "Call:\n",
       "glm(formula = mpg01 ~ cylinders + displacement + horsepower + \n",
       "    weight, family = binomial, data = train)\n",
       "\n",
       "Deviance Residuals: \n",
       "    Min       1Q   Median       3Q      Max  \n",
       "-2.1404  -0.2188   0.0472   0.3651   3.3339  \n",
       "\n",
       "Coefficients:\n",
       "               Estimate Std. Error z value Pr(>|z|)    \n",
       "(Intercept)  11.2868930  1.9161918   5.890 3.86e-09 ***\n",
       "cylinders     0.1171627  0.3868577   0.303  0.76200    \n",
       "displacement -0.0152855  0.0090478  -1.689  0.09114 .  \n",
       "horsepower   -0.0443108  0.0153856  -2.880  0.00398 ** \n",
       "weight       -0.0017664  0.0007921  -2.230  0.02574 *  \n",
       "---\n",
       "Signif. codes:  0 '***' 0.001 '**' 0.01 '*' 0.05 '.' 0.1 ' ' 1\n",
       "\n",
       "(Dispersion parameter for binomial family taken to be 1)\n",
       "\n",
       "    Null deviance: 407.57  on 293  degrees of freedom\n",
       "Residual deviance: 160.12  on 289  degrees of freedom\n",
       "AIC: 170.12\n",
       "\n",
       "Number of Fisher Scoring iterations: 7\n"
      ]
     },
     "metadata": {},
     "output_type": "display_data"
    }
   ],
   "source": [
    "# Fit Logistic Regression model\n",
    "auto_logreg <- glm(mpg01 ~ cylinders + displacement + horsepower + weight, data=train, family=binomial)\n",
    "summary(auto_logreg)"
   ]
  },
  {
   "cell_type": "code",
   "execution_count": 55,
   "id": "25c5b728",
   "metadata": {},
   "outputs": [
    {
     "data": {
      "text/html": [
       "<style>\n",
       ".dl-inline {width: auto; margin:0; padding: 0}\n",
       ".dl-inline>dt, .dl-inline>dd {float: none; width: auto; display: inline-block}\n",
       ".dl-inline>dt::after {content: \":\\0020\"; padding-right: .5ex}\n",
       ".dl-inline>dt:not(:first-of-type) {padding-left: .5ex}\n",
       "</style><dl class=dl-inline><dt>2</dt><dd>0.000947773721611465</dd><dt>10</dt><dd>0.000128819777770226</dd><dt>15</dt><dd>0.83600302305785</dd><dt>16</dt><dd>0.437704052412135</dd><dt>25</dt><dd>0.57017674768761</dd><dt>26</dt><dd>1.74267233401113e-05</dd></dl>\n"
      ],
      "text/latex": [
       "\\begin{description*}\n",
       "\\item[2] 0.000947773721611465\n",
       "\\item[10] 0.000128819777770226\n",
       "\\item[15] 0.83600302305785\n",
       "\\item[16] 0.437704052412135\n",
       "\\item[25] 0.57017674768761\n",
       "\\item[26] 1.74267233401113e-05\n",
       "\\end{description*}\n"
      ],
      "text/markdown": [
       "2\n",
       ":   0.00094777372161146510\n",
       ":   0.00012881977777022615\n",
       ":   0.8360030230578516\n",
       ":   0.43770405241213525\n",
       ":   0.5701767476876126\n",
       ":   1.74267233401113e-05\n",
       "\n"
      ],
      "text/plain": [
       "           2           10           15           16           25           26 \n",
       "9.477737e-04 1.288198e-04 8.360030e-01 4.377041e-01 5.701767e-01 1.742672e-05 "
      ]
     },
     "metadata": {},
     "output_type": "display_data"
    }
   ],
   "source": [
    "#Make predictions\n",
    "pred_test_prob <- predict(auto_logreg, newdata=test, type='response')\n",
    "head(pred_test_prob)"
   ]
  },
  {
   "cell_type": "code",
   "execution_count": 56,
   "id": "0e74089b",
   "metadata": {},
   "outputs": [
    {
     "name": "stdout",
     "output_type": "stream",
     "text": [
      "[1] \"Confusion matrix:\"\n"
     ]
    },
    {
     "data": {
      "text/plain": [
       "         \n",
       "auto_pred  0  1\n",
       "        0 42  2\n",
       "        1  7 47"
      ]
     },
     "metadata": {},
     "output_type": "display_data"
    }
   ],
   "source": [
    "# Compute the confusion matrix\n",
    "threshold <- 0.5  # Decision threshold\n",
    "auto_pred <- rep(0, length(pred_test_prob))\n",
    "auto_pred[pred_test_prob > threshold] <- 1\n",
    "\n",
    "# Confusion matrix\n",
    "print('Confusion matrix:')\n",
    "table(auto_pred, test$mpg01)"
   ]
  },
  {
   "cell_type": "code",
   "execution_count": 57,
   "id": "38a1ed9c",
   "metadata": {},
   "outputs": [
    {
     "name": "stdout",
     "output_type": "stream",
     "text": [
      "[1] \"Accuracy = 0.91 %\"\n"
     ]
    }
   ],
   "source": [
    "# Accuracy\n",
    "acc <- mean(auto_pred == test$mpg01)\n",
    "print(paste('Accuracy =', round(acc, 2), '%'))"
   ]
  },
  {
   "cell_type": "code",
   "execution_count": 58,
   "id": "98eca390",
   "metadata": {},
   "outputs": [
    {
     "name": "stdout",
     "output_type": "stream",
     "text": [
      "[1] \"Error = 0.0918 %\"\n"
     ]
    }
   ],
   "source": [
    "# test error rate\n",
    "err_rate <- 1-acc\n",
    "print(paste('Error =', round(err_rate, 4), '%'))"
   ]
  },
  {
   "cell_type": "markdown",
   "id": "d8d58411",
   "metadata": {},
   "source": [
    "The test error rate of the Logreg model is same as LDA and QDA i.e 9.18%"
   ]
  },
  {
   "cell_type": "markdown",
   "id": "b8af3a21",
   "metadata": {},
   "source": [
    "### Solution : (g)"
   ]
  },
  {
   "cell_type": "markdown",
   "id": "086b97b1",
   "metadata": {},
   "source": [
    "### KNN"
   ]
  },
  {
   "cell_type": "markdown",
   "id": "a76dc86e",
   "metadata": {},
   "source": [
    "### Trying with different K values (K =1,3,5,7....)"
   ]
  },
  {
   "cell_type": "code",
   "execution_count": 59,
   "id": "ab7fb4a9",
   "metadata": {},
   "outputs": [
    {
     "name": "stdout",
     "output_type": "stream",
     "text": [
      "[1] \"Confusion matrix:\"\n"
     ]
    },
    {
     "data": {
      "text/plain": [
       "         \n",
       "knn1_pred  0  1\n",
       "        0 41  6\n",
       "        1  8 43"
      ]
     },
     "metadata": {},
     "output_type": "display_data"
    },
    {
     "name": "stdout",
     "output_type": "stream",
     "text": [
      "[1] \"Accuracy = 0.86 %\"\n",
      "[1] \"Error = 0.1429 %\"\n"
     ]
    }
   ],
   "source": [
    "# Fit the KNN model with the predictors\n",
    "library(class)\n",
    "\n",
    "# k = 1\n",
    "set.seed(123)\n",
    "knn1_pred <- knn(train=train[, c('cylinders','displacement','horsepower','weight')],\n",
    "                 test=test[, c('cylinders','displacement','horsepower','weight')],\n",
    "                 cl=train$mpg01,\n",
    "                 k=1)\n",
    "\n",
    "# Confusion matrix\n",
    "print('Confusion matrix:')\n",
    "table(knn1_pred, test$mpg01)\n",
    "\n",
    "# Accuracy\n",
    "acc <- mean(knn1_pred == test$mpg01)\n",
    "print(paste('Accuracy =', round(acc, 2), '%'))\n",
    "\n",
    "# test error rate\n",
    "err_rate <- 1-acc\n",
    "print(paste('Error =', round(err_rate, 4), '%'))"
   ]
  },
  {
   "cell_type": "code",
   "execution_count": 60,
   "id": "29e33eb5",
   "metadata": {},
   "outputs": [
    {
     "name": "stdout",
     "output_type": "stream",
     "text": [
      "[1] \"Confusion matrix:\"\n"
     ]
    },
    {
     "data": {
      "text/plain": [
       "         \n",
       "knn1_pred  0  1\n",
       "        0 41  5\n",
       "        1  8 44"
      ]
     },
     "metadata": {},
     "output_type": "display_data"
    },
    {
     "name": "stdout",
     "output_type": "stream",
     "text": [
      "[1] \"Accuracy = 0.87 %\"\n",
      "[1] \"Error = 0.1327 %\"\n"
     ]
    }
   ],
   "source": [
    "# Fit the KNN model with the predictors\n",
    "library(class)\n",
    "\n",
    "# k = 3\n",
    "set.seed(123)\n",
    "knn1_pred <- knn(train=train[, c('cylinders','displacement','horsepower','weight')],\n",
    "                 test=test[, c('cylinders','displacement','horsepower','weight')],\n",
    "                 cl=train$mpg01,\n",
    "                 k=3)\n",
    "\n",
    "# Confusion matrix\n",
    "print('Confusion matrix:')\n",
    "table(knn1_pred, test$mpg01)\n",
    "\n",
    "# Accuracy\n",
    "acc <- mean(knn1_pred == test$mpg01)\n",
    "print(paste('Accuracy =', round(acc, 2), '%'))\n",
    "\n",
    "# test error rate\n",
    "err_rate <- 1-acc\n",
    "print(paste('Error =', round(err_rate, 4), '%'))"
   ]
  },
  {
   "cell_type": "code",
   "execution_count": 61,
   "id": "561bf554",
   "metadata": {},
   "outputs": [
    {
     "name": "stdout",
     "output_type": "stream",
     "text": [
      "[1] \"Confusion matrix:\"\n"
     ]
    },
    {
     "data": {
      "text/plain": [
       "         \n",
       "knn1_pred  0  1\n",
       "        0 42  6\n",
       "        1  7 43"
      ]
     },
     "metadata": {},
     "output_type": "display_data"
    },
    {
     "name": "stdout",
     "output_type": "stream",
     "text": [
      "[1] \"Accuracy = 0.87 %\"\n",
      "[1] \"Error = 0.1327 %\"\n"
     ]
    }
   ],
   "source": [
    "# Fit the KNN model with the predictors\n",
    "library(class)\n",
    "\n",
    "# k = 5\n",
    "set.seed(123)\n",
    "knn1_pred <- knn(train=train[, c('cylinders','displacement','horsepower','weight')],\n",
    "                 test=test[, c('cylinders','displacement','horsepower','weight')],\n",
    "                 cl=train$mpg01,\n",
    "                 k=5)\n",
    "\n",
    "# Confusion matrix\n",
    "print('Confusion matrix:')\n",
    "table(knn1_pred, test$mpg01)\n",
    "\n",
    "# Accuracy\n",
    "acc <- mean(knn1_pred == test$mpg01)\n",
    "print(paste('Accuracy =', round(acc, 2), '%'))\n",
    "\n",
    "# test error rate\n",
    "err_rate <- 1-acc\n",
    "print(paste('Error =', round(err_rate, 4), '%'))"
   ]
  },
  {
   "cell_type": "code",
   "execution_count": 62,
   "id": "26a7d979",
   "metadata": {},
   "outputs": [
    {
     "name": "stdout",
     "output_type": "stream",
     "text": [
      "[1] \"Confusion matrix:\"\n"
     ]
    },
    {
     "data": {
      "text/plain": [
       "         \n",
       "knn1_pred  0  1\n",
       "        0 43  5\n",
       "        1  6 44"
      ]
     },
     "metadata": {},
     "output_type": "display_data"
    },
    {
     "name": "stdout",
     "output_type": "stream",
     "text": [
      "[1] \"Accuracy = 0.89 %\"\n",
      "[1] \"Error = 0.1122 %\"\n"
     ]
    }
   ],
   "source": [
    "# Fit the KNN model with the predictors\n",
    "library(class)\n",
    "\n",
    "# k = 7\n",
    "set.seed(123)\n",
    "knn1_pred <- knn(train=train[, c('cylinders','displacement','horsepower','weight')],\n",
    "                 test=test[, c('cylinders','displacement','horsepower','weight')],\n",
    "                 cl=train$mpg01,\n",
    "                 k=7)\n",
    "\n",
    "# Confusion matrix\n",
    "print('Confusion matrix:')\n",
    "table(knn1_pred, test$mpg01)\n",
    "\n",
    "# Accuracy\n",
    "acc <- mean(knn1_pred == test$mpg01)\n",
    "print(paste('Accuracy =', round(acc, 2), '%'))\n",
    "\n",
    "# test error rate\n",
    "err_rate <- 1-acc\n",
    "print(paste('Error =', round(err_rate, 4), '%'))"
   ]
  },
  {
   "cell_type": "code",
   "execution_count": 63,
   "id": "7ac49f5b",
   "metadata": {},
   "outputs": [
    {
     "name": "stdout",
     "output_type": "stream",
     "text": [
      "[1] \"Confusion matrix:\"\n"
     ]
    },
    {
     "data": {
      "text/plain": [
       "         \n",
       "knn1_pred  0  1\n",
       "        0 43  1\n",
       "        1  6 48"
      ]
     },
     "metadata": {},
     "output_type": "display_data"
    },
    {
     "name": "stdout",
     "output_type": "stream",
     "text": [
      "[1] \"Accuracy = 0.93 %\"\n",
      "[1] \"Error = 0.0714 %\"\n"
     ]
    }
   ],
   "source": [
    "# Fit the KNN model with the predictors\n",
    "library(class)\n",
    "\n",
    "# k = 9\n",
    "set.seed(123)\n",
    "knn1_pred <- knn(train=train[, c('cylinders','displacement','horsepower','weight')],\n",
    "                 test=test[, c('cylinders','displacement','horsepower','weight')],\n",
    "                 cl=train$mpg01,\n",
    "                 k=9)\n",
    "\n",
    "# Confusion matrix\n",
    "print('Confusion matrix:')\n",
    "table(knn1_pred, test$mpg01)\n",
    "\n",
    "# Accuracy\n",
    "acc <- mean(knn1_pred == test$mpg01)\n",
    "print(paste('Accuracy =', round(acc, 2), '%'))\n",
    "\n",
    "# test error rate\n",
    "err_rate <- 1-acc\n",
    "print(paste('Error =', round(err_rate, 4), '%'))"
   ]
  },
  {
   "cell_type": "markdown",
   "id": "b3f02ab0",
   "metadata": {},
   "source": [
    "K value = 9 seems to perform the best on this data set with lowest werror rate of 7.1%"
   ]
  }
 ],
 "metadata": {
  "kernelspec": {
   "display_name": "R",
   "language": "R",
   "name": "ir"
  },
  "language_info": {
   "codemirror_mode": "r",
   "file_extension": ".r",
   "mimetype": "text/x-r-source",
   "name": "R",
   "pygments_lexer": "r",
   "version": "4.0.5"
  }
 },
 "nbformat": 4,
 "nbformat_minor": 5
}
