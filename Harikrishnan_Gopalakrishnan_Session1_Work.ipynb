{
 "cells": [
  {
   "cell_type": "markdown",
   "id": "9749eb23",
   "metadata": {},
   "source": [
    "# Exercises"
   ]
  },
  {
   "cell_type": "markdown",
   "id": "39f64fe2",
   "metadata": {},
   "source": [
    "### 1.Exercise 2 (p.52, Chap.2)"
   ]
  },
  {
   "cell_type": "markdown",
   "id": "03102945",
   "metadata": {},
   "source": [
    "### Question: Explain whether each scenario is a classification or regression problem, and indicate whether we are most interested in inference or prediction. Finally, provide n and p.\n",
    "(a) We collect a set of data on the top 500 firms in the US. For each firm we record profit, number of employees, industry and the CEO salary. We are interested in understanding which factors affect CEO salary."
   ]
  },
  {
   "cell_type": "markdown",
   "id": "555206de",
   "metadata": {},
   "source": [
    "### Solution:\n",
    "Regression Problem and Inference.n=500 & p=3.The objective of the problem is only to find the relationship between the factors and the salary and no need to predict.Hence this is a interference.The result will be quantitative,So,it is a regression problem"
   ]
  },
  {
   "cell_type": "markdown",
   "id": "4913f2bb",
   "metadata": {},
   "source": [
    "b) We are considering launching a new product and wish to know whether it will be a success or a failure. We collect data on 20similar products that were previously launched. For each product we have recorded whether it was a success or failure, price charged for the product, marketing budget, competition price,and ten other variables."
   ]
  },
  {
   "cell_type": "markdown",
   "id": "d6943156",
   "metadata": {},
   "source": [
    "### Solution:\n",
    "Classification Problem and Prediction.n=20 & p=13.The objective is to predict the future event.The outcome will be a discrete labels(success,failure or 0,1).So,it is a Classification Problem."
   ]
  },
  {
   "cell_type": "markdown",
   "id": "71cba516",
   "metadata": {},
   "source": [
    "c) We are interesting in predicting the % change in the US dollar in relation to the weekly changes in the world stock markets. Hence we collect weekly data for all of 2012. For each week we record the % change in the dollar, the % change in the US market, the % change in the British Market, and the % change in the German market."
   ]
  },
  {
   "cell_type": "markdown",
   "id": "16ba0ee8",
   "metadata": {},
   "source": [
    "### Solution:\n",
    "Regression Problem and Prediction. n=52 & p=3.The objective of the problem is to predict the outcome with Quantitative value(change in percentages).So,it is a Regression problem with prediction "
   ]
  },
  {
   "cell_type": "markdown",
   "id": "6b352916",
   "metadata": {},
   "source": [
    "### 2.Exercise 10 (p.56, Chap.2)"
   ]
  },
  {
   "cell_type": "markdown",
   "id": "f8bb6bda",
   "metadata": {},
   "source": [
    "Solution : (a)"
   ]
  },
  {
   "cell_type": "code",
   "execution_count": 45,
   "id": "b75903e4",
   "metadata": {},
   "outputs": [
    {
     "data": {
      "text/html": [
       "<table class=\"dataframe\">\n",
       "<caption>A data.frame: 6 × 14</caption>\n",
       "<thead>\n",
       "\t<tr><th></th><th scope=col>crim</th><th scope=col>zn</th><th scope=col>indus</th><th scope=col>chas</th><th scope=col>nox</th><th scope=col>rm</th><th scope=col>age</th><th scope=col>dis</th><th scope=col>rad</th><th scope=col>tax</th><th scope=col>ptratio</th><th scope=col>black</th><th scope=col>lstat</th><th scope=col>medv</th></tr>\n",
       "\t<tr><th></th><th scope=col>&lt;dbl&gt;</th><th scope=col>&lt;dbl&gt;</th><th scope=col>&lt;dbl&gt;</th><th scope=col>&lt;int&gt;</th><th scope=col>&lt;dbl&gt;</th><th scope=col>&lt;dbl&gt;</th><th scope=col>&lt;dbl&gt;</th><th scope=col>&lt;dbl&gt;</th><th scope=col>&lt;int&gt;</th><th scope=col>&lt;dbl&gt;</th><th scope=col>&lt;dbl&gt;</th><th scope=col>&lt;dbl&gt;</th><th scope=col>&lt;dbl&gt;</th><th scope=col>&lt;dbl&gt;</th></tr>\n",
       "</thead>\n",
       "<tbody>\n",
       "\t<tr><th scope=row>1</th><td>0.00632</td><td>18</td><td>2.31</td><td>0</td><td>0.538</td><td>6.575</td><td>65.2</td><td>4.0900</td><td>1</td><td>296</td><td>15.3</td><td>396.90</td><td>4.98</td><td>24.0</td></tr>\n",
       "\t<tr><th scope=row>2</th><td>0.02731</td><td> 0</td><td>7.07</td><td>0</td><td>0.469</td><td>6.421</td><td>78.9</td><td>4.9671</td><td>2</td><td>242</td><td>17.8</td><td>396.90</td><td>9.14</td><td>21.6</td></tr>\n",
       "\t<tr><th scope=row>3</th><td>0.02729</td><td> 0</td><td>7.07</td><td>0</td><td>0.469</td><td>7.185</td><td>61.1</td><td>4.9671</td><td>2</td><td>242</td><td>17.8</td><td>392.83</td><td>4.03</td><td>34.7</td></tr>\n",
       "\t<tr><th scope=row>4</th><td>0.03237</td><td> 0</td><td>2.18</td><td>0</td><td>0.458</td><td>6.998</td><td>45.8</td><td>6.0622</td><td>3</td><td>222</td><td>18.7</td><td>394.63</td><td>2.94</td><td>33.4</td></tr>\n",
       "\t<tr><th scope=row>5</th><td>0.06905</td><td> 0</td><td>2.18</td><td>0</td><td>0.458</td><td>7.147</td><td>54.2</td><td>6.0622</td><td>3</td><td>222</td><td>18.7</td><td>396.90</td><td>5.33</td><td>36.2</td></tr>\n",
       "\t<tr><th scope=row>6</th><td>0.02985</td><td> 0</td><td>2.18</td><td>0</td><td>0.458</td><td>6.430</td><td>58.7</td><td>6.0622</td><td>3</td><td>222</td><td>18.7</td><td>394.12</td><td>5.21</td><td>28.7</td></tr>\n",
       "</tbody>\n",
       "</table>\n"
      ],
      "text/latex": [
       "A data.frame: 6 × 14\n",
       "\\begin{tabular}{r|llllllllllllll}\n",
       "  & crim & zn & indus & chas & nox & rm & age & dis & rad & tax & ptratio & black & lstat & medv\\\\\n",
       "  & <dbl> & <dbl> & <dbl> & <int> & <dbl> & <dbl> & <dbl> & <dbl> & <int> & <dbl> & <dbl> & <dbl> & <dbl> & <dbl>\\\\\n",
       "\\hline\n",
       "\t1 & 0.00632 & 18 & 2.31 & 0 & 0.538 & 6.575 & 65.2 & 4.0900 & 1 & 296 & 15.3 & 396.90 & 4.98 & 24.0\\\\\n",
       "\t2 & 0.02731 &  0 & 7.07 & 0 & 0.469 & 6.421 & 78.9 & 4.9671 & 2 & 242 & 17.8 & 396.90 & 9.14 & 21.6\\\\\n",
       "\t3 & 0.02729 &  0 & 7.07 & 0 & 0.469 & 7.185 & 61.1 & 4.9671 & 2 & 242 & 17.8 & 392.83 & 4.03 & 34.7\\\\\n",
       "\t4 & 0.03237 &  0 & 2.18 & 0 & 0.458 & 6.998 & 45.8 & 6.0622 & 3 & 222 & 18.7 & 394.63 & 2.94 & 33.4\\\\\n",
       "\t5 & 0.06905 &  0 & 2.18 & 0 & 0.458 & 7.147 & 54.2 & 6.0622 & 3 & 222 & 18.7 & 396.90 & 5.33 & 36.2\\\\\n",
       "\t6 & 0.02985 &  0 & 2.18 & 0 & 0.458 & 6.430 & 58.7 & 6.0622 & 3 & 222 & 18.7 & 394.12 & 5.21 & 28.7\\\\\n",
       "\\end{tabular}\n"
      ],
      "text/markdown": [
       "\n",
       "A data.frame: 6 × 14\n",
       "\n",
       "| <!--/--> | crim &lt;dbl&gt; | zn &lt;dbl&gt; | indus &lt;dbl&gt; | chas &lt;int&gt; | nox &lt;dbl&gt; | rm &lt;dbl&gt; | age &lt;dbl&gt; | dis &lt;dbl&gt; | rad &lt;int&gt; | tax &lt;dbl&gt; | ptratio &lt;dbl&gt; | black &lt;dbl&gt; | lstat &lt;dbl&gt; | medv &lt;dbl&gt; |\n",
       "|---|---|---|---|---|---|---|---|---|---|---|---|---|---|---|\n",
       "| 1 | 0.00632 | 18 | 2.31 | 0 | 0.538 | 6.575 | 65.2 | 4.0900 | 1 | 296 | 15.3 | 396.90 | 4.98 | 24.0 |\n",
       "| 2 | 0.02731 |  0 | 7.07 | 0 | 0.469 | 6.421 | 78.9 | 4.9671 | 2 | 242 | 17.8 | 396.90 | 9.14 | 21.6 |\n",
       "| 3 | 0.02729 |  0 | 7.07 | 0 | 0.469 | 7.185 | 61.1 | 4.9671 | 2 | 242 | 17.8 | 392.83 | 4.03 | 34.7 |\n",
       "| 4 | 0.03237 |  0 | 2.18 | 0 | 0.458 | 6.998 | 45.8 | 6.0622 | 3 | 222 | 18.7 | 394.63 | 2.94 | 33.4 |\n",
       "| 5 | 0.06905 |  0 | 2.18 | 0 | 0.458 | 7.147 | 54.2 | 6.0622 | 3 | 222 | 18.7 | 396.90 | 5.33 | 36.2 |\n",
       "| 6 | 0.02985 |  0 | 2.18 | 0 | 0.458 | 6.430 | 58.7 | 6.0622 | 3 | 222 | 18.7 | 394.12 | 5.21 | 28.7 |\n",
       "\n"
      ],
      "text/plain": [
       "  crim    zn indus chas nox   rm    age  dis    rad tax ptratio black  lstat\n",
       "1 0.00632 18 2.31  0    0.538 6.575 65.2 4.0900 1   296 15.3    396.90 4.98 \n",
       "2 0.02731  0 7.07  0    0.469 6.421 78.9 4.9671 2   242 17.8    396.90 9.14 \n",
       "3 0.02729  0 7.07  0    0.469 7.185 61.1 4.9671 2   242 17.8    392.83 4.03 \n",
       "4 0.03237  0 2.18  0    0.458 6.998 45.8 6.0622 3   222 18.7    394.63 2.94 \n",
       "5 0.06905  0 2.18  0    0.458 7.147 54.2 6.0622 3   222 18.7    396.90 5.33 \n",
       "6 0.02985  0 2.18  0    0.458 6.430 58.7 6.0622 3   222 18.7    394.12 5.21 \n",
       "  medv\n",
       "1 24.0\n",
       "2 21.6\n",
       "3 34.7\n",
       "4 33.4\n",
       "5 36.2\n",
       "6 28.7"
      ]
     },
     "metadata": {},
     "output_type": "display_data"
    }
   ],
   "source": [
    "###Boston Housing Dataset\n",
    "\n",
    "#Load the library MASS\n",
    "library(MASS)\n",
    "\n",
    "#Read the boston dataset\n",
    "head(Boston)\n",
    "\n",
    "#Read the Description\n",
    "?Boston\n",
    "\n",
    "##There are 506 rows and 14 columns.Columns represent the observations or variables of the Housing in suburbs of Boston and the Rows represents the measures of the variables in Boston suburbs Housing  "
   ]
  },
  {
   "cell_type": "markdown",
   "id": "fda190d1",
   "metadata": {},
   "source": [
    "Solution : (b)"
   ]
  },
  {
   "cell_type": "code",
   "execution_count": 2,
   "id": "e086fc83",
   "metadata": {},
   "outputs": [
    {
     "data": {
      "image/png": "[encoded data removed]",
      "text/plain": [
       "plot without title"
      ]
     },
     "metadata": {
      "image/png": {
       "height": 420,
       "width": 420
      }
     },
     "output_type": "display_data"
    }
   ],
   "source": [
    "#Ref: https://statisticsglobe.com/r-pairs-plot-example/\n",
    "\n",
    "pairs(Boston[ , 1:7],                                                                     # first 7 variables\n",
    "      col = \"Blue\",                                                                       #To Change the color\n",
    "      main = \"Pairwise scatterplot of Variables of Boston Suburbs Housing \")             # To Add a main title"
   ]
  },
  {
   "cell_type": "code",
   "execution_count": 3,
   "id": "482d6f0d",
   "metadata": {},
   "outputs": [],
   "source": [
    "# from the above plot we can see that age is inversely proportional to zn and directly proportional to nox."
   ]
  },
  {
   "cell_type": "code",
   "execution_count": 4,
   "id": "7e74503b",
   "metadata": {},
   "outputs": [
    {
     "data": {
      "image/png": "[encoded data removed]",
      "text/plain": [
       "plot without title"
      ]
     },
     "metadata": {
      "image/png": {
       "height": 420,
       "width": 420
      }
     },
     "output_type": "display_data"
    }
   ],
   "source": [
    "pairs(Boston[ , 8:14],                                                                    #remaining variables\n",
    "      col = \"Blue\",                                                                       #To Change the color\n",
    "      main = \"Pairwise scatterplot of Variables of Boston Suburbs Housing \")             # To Add a main title"
   ]
  },
  {
   "cell_type": "code",
   "execution_count": 5,
   "id": "df00927d",
   "metadata": {},
   "outputs": [],
   "source": [
    "# from the above plot we can see that medv is inversely proprotional to lstat."
   ]
  },
  {
   "cell_type": "code",
   "execution_count": 6,
   "id": "49c32644",
   "metadata": {},
   "outputs": [
    {
     "data": {
      "image/png": "[encoded data removed]",
      "text/plain": [
       "plot without title"
      ]
     },
     "metadata": {
      "image/png": {
       "height": 420,
       "width": 420
      }
     },
     "output_type": "display_data"
    }
   ],
   "source": [
    "#options(repr.plot.width=12, repr.plot.height=12)                                         # Set plot size\n",
    "pairs(Boston,                                                                            \n",
    "      col = \"red\",                                                                       #To Change the color\n",
    "      main = \"Pairwise scatterplot of Variables of Boston Suburbs Housing \")             # To Add a main title"
   ]
  },
  {
   "cell_type": "code",
   "execution_count": 7,
   "id": "6a32bc81",
   "metadata": {},
   "outputs": [],
   "source": [
    "#From the overall pairplot,we can see that medv is directly proportional to rm and indirectly proportional to indus.Rad is directly proportional to crim and chas is inversely proportional to crim"
   ]
  },
  {
   "cell_type": "markdown",
   "id": "d4f3c8b6",
   "metadata": {},
   "source": [
    "Solution : (c)"
   ]
  },
  {
   "cell_type": "code",
   "execution_count": 8,
   "id": "32eaf5e6",
   "metadata": {},
   "outputs": [
    {
     "data": {
      "text/html": [
       "<table class=\"dataframe\">\n",
       "<caption>A matrix: 14 × 14 of type dbl</caption>\n",
       "<thead>\n",
       "\t<tr><th></th><th scope=col>crim</th><th scope=col>zn</th><th scope=col>indus</th><th scope=col>chas</th><th scope=col>nox</th><th scope=col>rm</th><th scope=col>age</th><th scope=col>dis</th><th scope=col>rad</th><th scope=col>tax</th><th scope=col>ptratio</th><th scope=col>black</th><th scope=col>lstat</th><th scope=col>medv</th></tr>\n",
       "</thead>\n",
       "<tbody>\n",
       "\t<tr><th scope=row>crim</th><td> 1.00000000</td><td>-0.20046922</td><td> 0.40658341</td><td>-0.055891582</td><td> 0.42097171</td><td>-0.21924670</td><td> 0.35273425</td><td>-0.37967009</td><td> 0.625505145</td><td> 0.58276431</td><td> 0.2899456</td><td>-0.38506394</td><td> 0.4556215</td><td>-0.3883046</td></tr>\n",
       "\t<tr><th scope=row>zn</th><td>-0.20046922</td><td> 1.00000000</td><td>-0.53382819</td><td>-0.042696719</td><td>-0.51660371</td><td> 0.31199059</td><td>-0.56953734</td><td> 0.66440822</td><td>-0.311947826</td><td>-0.31456332</td><td>-0.3916785</td><td> 0.17552032</td><td>-0.4129946</td><td> 0.3604453</td></tr>\n",
       "\t<tr><th scope=row>indus</th><td> 0.40658341</td><td>-0.53382819</td><td> 1.00000000</td><td> 0.062938027</td><td> 0.76365145</td><td>-0.39167585</td><td> 0.64477851</td><td>-0.70802699</td><td> 0.595129275</td><td> 0.72076018</td><td> 0.3832476</td><td>-0.35697654</td><td> 0.6037997</td><td>-0.4837252</td></tr>\n",
       "\t<tr><th scope=row>chas</th><td>-0.05589158</td><td>-0.04269672</td><td> 0.06293803</td><td> 1.000000000</td><td> 0.09120281</td><td> 0.09125123</td><td> 0.08651777</td><td>-0.09917578</td><td>-0.007368241</td><td>-0.03558652</td><td>-0.1215152</td><td> 0.04878848</td><td>-0.0539293</td><td> 0.1752602</td></tr>\n",
       "\t<tr><th scope=row>nox</th><td> 0.42097171</td><td>-0.51660371</td><td> 0.76365145</td><td> 0.091202807</td><td> 1.00000000</td><td>-0.30218819</td><td> 0.73147010</td><td>-0.76923011</td><td> 0.611440563</td><td> 0.66802320</td><td> 0.1889327</td><td>-0.38005064</td><td> 0.5908789</td><td>-0.4273208</td></tr>\n",
       "\t<tr><th scope=row>rm</th><td>-0.21924670</td><td> 0.31199059</td><td>-0.39167585</td><td> 0.091251225</td><td>-0.30218819</td><td> 1.00000000</td><td>-0.24026493</td><td> 0.20524621</td><td>-0.209846668</td><td>-0.29204783</td><td>-0.3555015</td><td> 0.12806864</td><td>-0.6138083</td><td> 0.6953599</td></tr>\n",
       "\t<tr><th scope=row>age</th><td> 0.35273425</td><td>-0.56953734</td><td> 0.64477851</td><td> 0.086517774</td><td> 0.73147010</td><td>-0.24026493</td><td> 1.00000000</td><td>-0.74788054</td><td> 0.456022452</td><td> 0.50645559</td><td> 0.2615150</td><td>-0.27353398</td><td> 0.6023385</td><td>-0.3769546</td></tr>\n",
       "\t<tr><th scope=row>dis</th><td>-0.37967009</td><td> 0.66440822</td><td>-0.70802699</td><td>-0.099175780</td><td>-0.76923011</td><td> 0.20524621</td><td>-0.74788054</td><td> 1.00000000</td><td>-0.494587930</td><td>-0.53443158</td><td>-0.2324705</td><td> 0.29151167</td><td>-0.4969958</td><td> 0.2499287</td></tr>\n",
       "\t<tr><th scope=row>rad</th><td> 0.62550515</td><td>-0.31194783</td><td> 0.59512927</td><td>-0.007368241</td><td> 0.61144056</td><td>-0.20984667</td><td> 0.45602245</td><td>-0.49458793</td><td> 1.000000000</td><td> 0.91022819</td><td> 0.4647412</td><td>-0.44441282</td><td> 0.4886763</td><td>-0.3816262</td></tr>\n",
       "\t<tr><th scope=row>tax</th><td> 0.58276431</td><td>-0.31456332</td><td> 0.72076018</td><td>-0.035586518</td><td> 0.66802320</td><td>-0.29204783</td><td> 0.50645559</td><td>-0.53443158</td><td> 0.910228189</td><td> 1.00000000</td><td> 0.4608530</td><td>-0.44180801</td><td> 0.5439934</td><td>-0.4685359</td></tr>\n",
       "\t<tr><th scope=row>ptratio</th><td> 0.28994558</td><td>-0.39167855</td><td> 0.38324756</td><td>-0.121515174</td><td> 0.18893268</td><td>-0.35550149</td><td> 0.26151501</td><td>-0.23247054</td><td> 0.464741179</td><td> 0.46085304</td><td> 1.0000000</td><td>-0.17738330</td><td> 0.3740443</td><td>-0.5077867</td></tr>\n",
       "\t<tr><th scope=row>black</th><td>-0.38506394</td><td> 0.17552032</td><td>-0.35697654</td><td> 0.048788485</td><td>-0.38005064</td><td> 0.12806864</td><td>-0.27353398</td><td> 0.29151167</td><td>-0.444412816</td><td>-0.44180801</td><td>-0.1773833</td><td> 1.00000000</td><td>-0.3660869</td><td> 0.3334608</td></tr>\n",
       "\t<tr><th scope=row>lstat</th><td> 0.45562148</td><td>-0.41299457</td><td> 0.60379972</td><td>-0.053929298</td><td> 0.59087892</td><td>-0.61380827</td><td> 0.60233853</td><td>-0.49699583</td><td> 0.488676335</td><td> 0.54399341</td><td> 0.3740443</td><td>-0.36608690</td><td> 1.0000000</td><td>-0.7376627</td></tr>\n",
       "\t<tr><th scope=row>medv</th><td>-0.38830461</td><td> 0.36044534</td><td>-0.48372516</td><td> 0.175260177</td><td>-0.42732077</td><td> 0.69535995</td><td>-0.37695457</td><td> 0.24992873</td><td>-0.381626231</td><td>-0.46853593</td><td>-0.5077867</td><td> 0.33346082</td><td>-0.7376627</td><td> 1.0000000</td></tr>\n",
       "</tbody>\n",
       "</table>\n"
      ],
      "text/latex": [
       "A matrix: 14 × 14 of type dbl\n",
       "\\begin{tabular}{r|llllllllllllll}\n",
       "  & crim & zn & indus & chas & nox & rm & age & dis & rad & tax & ptratio & black & lstat & medv\\\\\n",
       "\\hline\n",
       "\tcrim &  1.00000000 & -0.20046922 &  0.40658341 & -0.055891582 &  0.42097171 & -0.21924670 &  0.35273425 & -0.37967009 &  0.625505145 &  0.58276431 &  0.2899456 & -0.38506394 &  0.4556215 & -0.3883046\\\\\n",
       "\tzn & -0.20046922 &  1.00000000 & -0.53382819 & -0.042696719 & -0.51660371 &  0.31199059 & -0.56953734 &  0.66440822 & -0.311947826 & -0.31456332 & -0.3916785 &  0.17552032 & -0.4129946 &  0.3604453\\\\\n",
       "\tindus &  0.40658341 & -0.53382819 &  1.00000000 &  0.062938027 &  0.76365145 & -0.39167585 &  0.64477851 & -0.70802699 &  0.595129275 &  0.72076018 &  0.3832476 & -0.35697654 &  0.6037997 & -0.4837252\\\\\n",
       "\tchas & -0.05589158 & -0.04269672 &  0.06293803 &  1.000000000 &  0.09120281 &  0.09125123 &  0.08651777 & -0.09917578 & -0.007368241 & -0.03558652 & -0.1215152 &  0.04878848 & -0.0539293 &  0.1752602\\\\\n",
       "\tnox &  0.42097171 & -0.51660371 &  0.76365145 &  0.091202807 &  1.00000000 & -0.30218819 &  0.73147010 & -0.76923011 &  0.611440563 &  0.66802320 &  0.1889327 & -0.38005064 &  0.5908789 & -0.4273208\\\\\n",
       "\trm & -0.21924670 &  0.31199059 & -0.39167585 &  0.091251225 & -0.30218819 &  1.00000000 & -0.24026493 &  0.20524621 & -0.209846668 & -0.29204783 & -0.3555015 &  0.12806864 & -0.6138083 &  0.6953599\\\\\n",
       "\tage &  0.35273425 & -0.56953734 &  0.64477851 &  0.086517774 &  0.73147010 & -0.24026493 &  1.00000000 & -0.74788054 &  0.456022452 &  0.50645559 &  0.2615150 & -0.27353398 &  0.6023385 & -0.3769546\\\\\n",
       "\tdis & -0.37967009 &  0.66440822 & -0.70802699 & -0.099175780 & -0.76923011 &  0.20524621 & -0.74788054 &  1.00000000 & -0.494587930 & -0.53443158 & -0.2324705 &  0.29151167 & -0.4969958 &  0.2499287\\\\\n",
       "\trad &  0.62550515 & -0.31194783 &  0.59512927 & -0.007368241 &  0.61144056 & -0.20984667 &  0.45602245 & -0.49458793 &  1.000000000 &  0.91022819 &  0.4647412 & -0.44441282 &  0.4886763 & -0.3816262\\\\\n",
       "\ttax &  0.58276431 & -0.31456332 &  0.72076018 & -0.035586518 &  0.66802320 & -0.29204783 &  0.50645559 & -0.53443158 &  0.910228189 &  1.00000000 &  0.4608530 & -0.44180801 &  0.5439934 & -0.4685359\\\\\n",
       "\tptratio &  0.28994558 & -0.39167855 &  0.38324756 & -0.121515174 &  0.18893268 & -0.35550149 &  0.26151501 & -0.23247054 &  0.464741179 &  0.46085304 &  1.0000000 & -0.17738330 &  0.3740443 & -0.5077867\\\\\n",
       "\tblack & -0.38506394 &  0.17552032 & -0.35697654 &  0.048788485 & -0.38005064 &  0.12806864 & -0.27353398 &  0.29151167 & -0.444412816 & -0.44180801 & -0.1773833 &  1.00000000 & -0.3660869 &  0.3334608\\\\\n",
       "\tlstat &  0.45562148 & -0.41299457 &  0.60379972 & -0.053929298 &  0.59087892 & -0.61380827 &  0.60233853 & -0.49699583 &  0.488676335 &  0.54399341 &  0.3740443 & -0.36608690 &  1.0000000 & -0.7376627\\\\\n",
       "\tmedv & -0.38830461 &  0.36044534 & -0.48372516 &  0.175260177 & -0.42732077 &  0.69535995 & -0.37695457 &  0.24992873 & -0.381626231 & -0.46853593 & -0.5077867 &  0.33346082 & -0.7376627 &  1.0000000\\\\\n",
       "\\end{tabular}\n"
      ],
      "text/markdown": [
       "\n",
       "A matrix: 14 × 14 of type dbl\n",
       "\n",
       "| <!--/--> | crim | zn | indus | chas | nox | rm | age | dis | rad | tax | ptratio | black | lstat | medv |\n",
       "|---|---|---|---|---|---|---|---|---|---|---|---|---|---|---|\n",
       "| crim |  1.00000000 | -0.20046922 |  0.40658341 | -0.055891582 |  0.42097171 | -0.21924670 |  0.35273425 | -0.37967009 |  0.625505145 |  0.58276431 |  0.2899456 | -0.38506394 |  0.4556215 | -0.3883046 |\n",
       "| zn | -0.20046922 |  1.00000000 | -0.53382819 | -0.042696719 | -0.51660371 |  0.31199059 | -0.56953734 |  0.66440822 | -0.311947826 | -0.31456332 | -0.3916785 |  0.17552032 | -0.4129946 |  0.3604453 |\n",
       "| indus |  0.40658341 | -0.53382819 |  1.00000000 |  0.062938027 |  0.76365145 | -0.39167585 |  0.64477851 | -0.70802699 |  0.595129275 |  0.72076018 |  0.3832476 | -0.35697654 |  0.6037997 | -0.4837252 |\n",
       "| chas | -0.05589158 | -0.04269672 |  0.06293803 |  1.000000000 |  0.09120281 |  0.09125123 |  0.08651777 | -0.09917578 | -0.007368241 | -0.03558652 | -0.1215152 |  0.04878848 | -0.0539293 |  0.1752602 |\n",
       "| nox |  0.42097171 | -0.51660371 |  0.76365145 |  0.091202807 |  1.00000000 | -0.30218819 |  0.73147010 | -0.76923011 |  0.611440563 |  0.66802320 |  0.1889327 | -0.38005064 |  0.5908789 | -0.4273208 |\n",
       "| rm | -0.21924670 |  0.31199059 | -0.39167585 |  0.091251225 | -0.30218819 |  1.00000000 | -0.24026493 |  0.20524621 | -0.209846668 | -0.29204783 | -0.3555015 |  0.12806864 | -0.6138083 |  0.6953599 |\n",
       "| age |  0.35273425 | -0.56953734 |  0.64477851 |  0.086517774 |  0.73147010 | -0.24026493 |  1.00000000 | -0.74788054 |  0.456022452 |  0.50645559 |  0.2615150 | -0.27353398 |  0.6023385 | -0.3769546 |\n",
       "| dis | -0.37967009 |  0.66440822 | -0.70802699 | -0.099175780 | -0.76923011 |  0.20524621 | -0.74788054 |  1.00000000 | -0.494587930 | -0.53443158 | -0.2324705 |  0.29151167 | -0.4969958 |  0.2499287 |\n",
       "| rad |  0.62550515 | -0.31194783 |  0.59512927 | -0.007368241 |  0.61144056 | -0.20984667 |  0.45602245 | -0.49458793 |  1.000000000 |  0.91022819 |  0.4647412 | -0.44441282 |  0.4886763 | -0.3816262 |\n",
       "| tax |  0.58276431 | -0.31456332 |  0.72076018 | -0.035586518 |  0.66802320 | -0.29204783 |  0.50645559 | -0.53443158 |  0.910228189 |  1.00000000 |  0.4608530 | -0.44180801 |  0.5439934 | -0.4685359 |\n",
       "| ptratio |  0.28994558 | -0.39167855 |  0.38324756 | -0.121515174 |  0.18893268 | -0.35550149 |  0.26151501 | -0.23247054 |  0.464741179 |  0.46085304 |  1.0000000 | -0.17738330 |  0.3740443 | -0.5077867 |\n",
       "| black | -0.38506394 |  0.17552032 | -0.35697654 |  0.048788485 | -0.38005064 |  0.12806864 | -0.27353398 |  0.29151167 | -0.444412816 | -0.44180801 | -0.1773833 |  1.00000000 | -0.3660869 |  0.3334608 |\n",
       "| lstat |  0.45562148 | -0.41299457 |  0.60379972 | -0.053929298 |  0.59087892 | -0.61380827 |  0.60233853 | -0.49699583 |  0.488676335 |  0.54399341 |  0.3740443 | -0.36608690 |  1.0000000 | -0.7376627 |\n",
       "| medv | -0.38830461 |  0.36044534 | -0.48372516 |  0.175260177 | -0.42732077 |  0.69535995 | -0.37695457 |  0.24992873 | -0.381626231 | -0.46853593 | -0.5077867 |  0.33346082 | -0.7376627 |  1.0000000 |\n",
       "\n"
      ],
      "text/plain": [
       "        crim        zn          indus       chas         nox        \n",
       "crim     1.00000000 -0.20046922  0.40658341 -0.055891582  0.42097171\n",
       "zn      -0.20046922  1.00000000 -0.53382819 -0.042696719 -0.51660371\n",
       "indus    0.40658341 -0.53382819  1.00000000  0.062938027  0.76365145\n",
       "chas    -0.05589158 -0.04269672  0.06293803  1.000000000  0.09120281\n",
       "nox      0.42097171 -0.51660371  0.76365145  0.091202807  1.00000000\n",
       "rm      -0.21924670  0.31199059 -0.39167585  0.091251225 -0.30218819\n",
       "age      0.35273425 -0.56953734  0.64477851  0.086517774  0.73147010\n",
       "dis     -0.37967009  0.66440822 -0.70802699 -0.099175780 -0.76923011\n",
       "rad      0.62550515 -0.31194783  0.59512927 -0.007368241  0.61144056\n",
       "tax      0.58276431 -0.31456332  0.72076018 -0.035586518  0.66802320\n",
       "ptratio  0.28994558 -0.39167855  0.38324756 -0.121515174  0.18893268\n",
       "black   -0.38506394  0.17552032 -0.35697654  0.048788485 -0.38005064\n",
       "lstat    0.45562148 -0.41299457  0.60379972 -0.053929298  0.59087892\n",
       "medv    -0.38830461  0.36044534 -0.48372516  0.175260177 -0.42732077\n",
       "        rm          age         dis         rad          tax         ptratio   \n",
       "crim    -0.21924670  0.35273425 -0.37967009  0.625505145  0.58276431  0.2899456\n",
       "zn       0.31199059 -0.56953734  0.66440822 -0.311947826 -0.31456332 -0.3916785\n",
       "indus   -0.39167585  0.64477851 -0.70802699  0.595129275  0.72076018  0.3832476\n",
       "chas     0.09125123  0.08651777 -0.09917578 -0.007368241 -0.03558652 -0.1215152\n",
       "nox     -0.30218819  0.73147010 -0.76923011  0.611440563  0.66802320  0.1889327\n",
       "rm       1.00000000 -0.24026493  0.20524621 -0.209846668 -0.29204783 -0.3555015\n",
       "age     -0.24026493  1.00000000 -0.74788054  0.456022452  0.50645559  0.2615150\n",
       "dis      0.20524621 -0.74788054  1.00000000 -0.494587930 -0.53443158 -0.2324705\n",
       "rad     -0.20984667  0.45602245 -0.49458793  1.000000000  0.91022819  0.4647412\n",
       "tax     -0.29204783  0.50645559 -0.53443158  0.910228189  1.00000000  0.4608530\n",
       "ptratio -0.35550149  0.26151501 -0.23247054  0.464741179  0.46085304  1.0000000\n",
       "black    0.12806864 -0.27353398  0.29151167 -0.444412816 -0.44180801 -0.1773833\n",
       "lstat   -0.61380827  0.60233853 -0.49699583  0.488676335  0.54399341  0.3740443\n",
       "medv     0.69535995 -0.37695457  0.24992873 -0.381626231 -0.46853593 -0.5077867\n",
       "        black       lstat      medv      \n",
       "crim    -0.38506394  0.4556215 -0.3883046\n",
       "zn       0.17552032 -0.4129946  0.3604453\n",
       "indus   -0.35697654  0.6037997 -0.4837252\n",
       "chas     0.04878848 -0.0539293  0.1752602\n",
       "nox     -0.38005064  0.5908789 -0.4273208\n",
       "rm       0.12806864 -0.6138083  0.6953599\n",
       "age     -0.27353398  0.6023385 -0.3769546\n",
       "dis      0.29151167 -0.4969958  0.2499287\n",
       "rad     -0.44441282  0.4886763 -0.3816262\n",
       "tax     -0.44180801  0.5439934 -0.4685359\n",
       "ptratio -0.17738330  0.3740443 -0.5077867\n",
       "black    1.00000000 -0.3660869  0.3334608\n",
       "lstat   -0.36608690  1.0000000 -0.7376627\n",
       "medv     0.33346082 -0.7376627  1.0000000"
      ]
     },
     "metadata": {},
     "output_type": "display_data"
    }
   ],
   "source": [
    "#correlations of observations\n",
    "cor(Boston)"
   ]
  },
  {
   "cell_type": "markdown",
   "id": "3933db36",
   "metadata": {},
   "source": [
    " Let us check the predictors (rad and tax) relationship with per capita crime rate(crim).We already saw a significane between these variables from the above pairplots.and they have better correlation values with crim."
   ]
  },
  {
   "cell_type": "code",
   "execution_count": 9,
   "id": "41d1d270",
   "metadata": {},
   "outputs": [
    {
     "data": {
      "image/png": "[encoded data removed]",
      "text/plain": [
       "plot without title"
      ]
     },
     "metadata": {
      "image/png": {
       "height": 420,
       "width": 420
      }
     },
     "output_type": "display_data"
    }
   ],
   "source": [
    "plot(crim ~ rad, data = Boston) #relationship between rad and crim"
   ]
  },
  {
   "cell_type": "code",
   "execution_count": 10,
   "id": "a6128304",
   "metadata": {},
   "outputs": [
    {
     "data": {
      "image/png": "[encoded data removed]",
      "text/plain": [
       "plot without title"
      ]
     },
     "metadata": {
      "image/png": {
       "height": 420,
       "width": 420
      }
     },
     "output_type": "display_data"
    }
   ],
   "source": [
    "plot(crim ~ rad, data = Boston, log = \"xy\")  #relationship between rad and crim in log scale"
   ]
  },
  {
   "cell_type": "markdown",
   "id": "f0240942",
   "metadata": {},
   "source": [
    "Conclusion:So,It is observed that the possibility of Crime occurence is high when the Index of radial highways is high."
   ]
  },
  {
   "cell_type": "code",
   "execution_count": 11,
   "id": "142d9aef",
   "metadata": {},
   "outputs": [
    {
     "data": {
      "image/png": "[encoded data removed]",
      "text/plain": [
       "plot without title"
      ]
     },
     "metadata": {
      "image/png": {
       "height": 420,
       "width": 420
      }
     },
     "output_type": "display_data"
    }
   ],
   "source": [
    "plot(crim ~ tax, data = Boston) #relationship between tax and crim"
   ]
  },
  {
   "cell_type": "code",
   "execution_count": 12,
   "id": "57b73d59",
   "metadata": {},
   "outputs": [
    {
     "data": {
      "image/png": "[encoded data removed]",
      "text/plain": [
       "plot without title"
      ]
     },
     "metadata": {
      "image/png": {
       "height": 420,
       "width": 420
      }
     },
     "output_type": "display_data"
    }
   ],
   "source": [
    "plot(crim ~ tax, data = Boston) #relationship between tax and crim on log scale"
   ]
  },
  {
   "cell_type": "markdown",
   "id": "21f70459",
   "metadata": {},
   "source": [
    "Conclusion:though there is a better correlation value for tax with crime rate.It is observed that tax is only partially related with crime rate.we cant entirely relate with the crime occurence"
   ]
  },
  {
   "cell_type": "markdown",
   "id": "3714e5d3",
   "metadata": {},
   "source": [
    "Solution : (d)"
   ]
  },
  {
   "cell_type": "markdown",
   "id": "75017de3",
   "metadata": {},
   "source": [
    "We can use histogram to the observe the value distribution of crime rates,tax rates and Pupil-teacher Ratios."
   ]
  },
  {
   "cell_type": "code",
   "execution_count": 19,
   "id": "1cfed33f",
   "metadata": {},
   "outputs": [
    {
     "data": {
      "text/plain": [
       "      crim                zn             indus            chas        \n",
       " Min.   : 0.00632   Min.   :  0.00   Min.   : 0.46   Min.   :0.00000  \n",
       " 1st Qu.: 0.08205   1st Qu.:  0.00   1st Qu.: 5.19   1st Qu.:0.00000  \n",
       " Median : 0.25651   Median :  0.00   Median : 9.69   Median :0.00000  \n",
       " Mean   : 3.61352   Mean   : 11.36   Mean   :11.14   Mean   :0.06917  \n",
       " 3rd Qu.: 3.67708   3rd Qu.: 12.50   3rd Qu.:18.10   3rd Qu.:0.00000  \n",
       " Max.   :88.97620   Max.   :100.00   Max.   :27.74   Max.   :1.00000  \n",
       "      nox               rm             age              dis        \n",
       " Min.   :0.3850   Min.   :3.561   Min.   :  2.90   Min.   : 1.130  \n",
       " 1st Qu.:0.4490   1st Qu.:5.886   1st Qu.: 45.02   1st Qu.: 2.100  \n",
       " Median :0.5380   Median :6.208   Median : 77.50   Median : 3.207  \n",
       " Mean   :0.5547   Mean   :6.285   Mean   : 68.57   Mean   : 3.795  \n",
       " 3rd Qu.:0.6240   3rd Qu.:6.623   3rd Qu.: 94.08   3rd Qu.: 5.188  \n",
       " Max.   :0.8710   Max.   :8.780   Max.   :100.00   Max.   :12.127  \n",
       "      rad              tax           ptratio          black       \n",
       " Min.   : 1.000   Min.   :187.0   Min.   :12.60   Min.   :  0.32  \n",
       " 1st Qu.: 4.000   1st Qu.:279.0   1st Qu.:17.40   1st Qu.:375.38  \n",
       " Median : 5.000   Median :330.0   Median :19.05   Median :391.44  \n",
       " Mean   : 9.549   Mean   :408.2   Mean   :18.46   Mean   :356.67  \n",
       " 3rd Qu.:24.000   3rd Qu.:666.0   3rd Qu.:20.20   3rd Qu.:396.23  \n",
       " Max.   :24.000   Max.   :711.0   Max.   :22.00   Max.   :396.90  \n",
       "     lstat            medv      \n",
       " Min.   : 1.73   Min.   : 5.00  \n",
       " 1st Qu.: 6.95   1st Qu.:17.02  \n",
       " Median :11.36   Median :21.20  \n",
       " Mean   :12.65   Mean   :22.53  \n",
       " 3rd Qu.:16.95   3rd Qu.:25.00  \n",
       " Max.   :37.97   Max.   :50.00  "
      ]
     },
     "metadata": {},
     "output_type": "display_data"
    }
   ],
   "source": [
    "summary(Boston)  #Note the values for crime rates,tax rates and Pupil-teacher Ratios."
   ]
  },
  {
   "cell_type": "code",
   "execution_count": 24,
   "id": "deb5d7a7",
   "metadata": {
    "scrolled": false
   },
   "outputs": [
    {
     "data": {
      "image/png": "[encoded data removed]",
      "text/plain": [
       "Plot with title \"Histogram of Boston$crim\""
      ]
     },
     "metadata": {
      "image/png": {
       "height": 420,
       "width": 420
      }
     },
     "output_type": "display_data"
    }
   ],
   "source": [
    "#Histogram for crime rate\n",
    "hist(Boston$crim)"
   ]
  },
  {
   "cell_type": "code",
   "execution_count": 23,
   "id": "732c87b2",
   "metadata": {},
   "outputs": [
    {
     "data": {
      "text/html": [
       "11"
      ],
      "text/latex": [
       "11"
      ],
      "text/markdown": [
       "11"
      ],
      "text/plain": [
       "[1] 11"
      ]
     },
     "metadata": {},
     "output_type": "display_data"
    }
   ],
   "source": [
    "length(Boston$crim[Boston$crim>25]) #11 suburbs have crime rate of over 25"
   ]
  },
  {
   "cell_type": "markdown",
   "id": "c7e5d437",
   "metadata": {},
   "source": [
    "It is observed that most of the suburbs have low crime rates and If we look at the crime rates over 25 there are 11 suburbs."
   ]
  },
  {
   "cell_type": "code",
   "execution_count": 25,
   "id": "71fd4b31",
   "metadata": {},
   "outputs": [
    {
     "data": {
      "image/png": "[encoded data removed]",
      "text/plain": [
       "Plot with title \"Histogram of Boston$tax\""
      ]
     },
     "metadata": {
      "image/png": {
       "height": 420,
       "width": 420
      }
     },
     "output_type": "display_data"
    }
   ],
   "source": [
    "#Histogram for tax rate\n",
    "hist(Boston$tax)"
   ]
  },
  {
   "cell_type": "code",
   "execution_count": 28,
   "id": "db11d85a",
   "metadata": {},
   "outputs": [
    {
     "data": {
      "text/html": [
       "137"
      ],
      "text/latex": [
       "137"
      ],
      "text/markdown": [
       "137"
      ],
      "text/plain": [
       "[1] 137"
      ]
     },
     "metadata": {},
     "output_type": "display_data"
    }
   ],
   "source": [
    "length(Boston$tax[Boston$tax>500]) #137 suburbs above 500 property tax rates."
   ]
  },
  {
   "cell_type": "markdown",
   "id": "bc6d7738",
   "metadata": {},
   "source": [
    "It is observed that there are 137 suburbs in Houston with property tax rates of above 500."
   ]
  },
  {
   "cell_type": "code",
   "execution_count": 30,
   "id": "158cc204",
   "metadata": {},
   "outputs": [
    {
     "data": {
      "image/png": "[encoded data removed]",
      "text/plain": [
       "Plot with title \"Histogram of Boston$ptratio\""
      ]
     },
     "metadata": {
      "image/png": {
       "height": 420,
       "width": 420
      }
     },
     "output_type": "display_data"
    }
   ],
   "source": [
    "#Histogram for pupil-teacher ratio\n",
    "hist(Boston$ptratio)"
   ]
  },
  {
   "cell_type": "code",
   "execution_count": 35,
   "id": "5c122437",
   "metadata": {},
   "outputs": [
    {
     "data": {
      "text/html": [
       "201"
      ],
      "text/latex": [
       "201"
      ],
      "text/markdown": [
       "201"
      ],
      "text/plain": [
       "[1] 201"
      ]
     },
     "metadata": {},
     "output_type": "display_data"
    }
   ],
   "source": [
    "length(Boston$ptratio[Boston$ptratio>20]) #there are 201 suburbs with pupil -teacher ratio of above 20"
   ]
  },
  {
   "cell_type": "code",
   "execution_count": 36,
   "id": "a8397a81",
   "metadata": {},
   "outputs": [
    {
     "data": {
      "text/html": [
       "16"
      ],
      "text/latex": [
       "16"
      ],
      "text/markdown": [
       "16"
      ],
      "text/plain": [
       "[1] 16"
      ]
     },
     "metadata": {},
     "output_type": "display_data"
    }
   ],
   "source": [
    "length(Boston$ptratio[Boston$ptratio<14]) #From the plot,we can see that there are only few suburbs (16) have ptratio of below 14"
   ]
  },
  {
   "cell_type": "markdown",
   "id": "71ef2d45",
   "metadata": {},
   "source": [
    "Solution : (e)"
   ]
  },
  {
   "cell_type": "code",
   "execution_count": 38,
   "id": "03387636",
   "metadata": {},
   "outputs": [
    {
     "data": {
      "text/html": [
       "35"
      ],
      "text/latex": [
       "35"
      ],
      "text/markdown": [
       "35"
      ],
      "text/plain": [
       "[1] 35"
      ]
     },
     "metadata": {},
     "output_type": "display_data"
    }
   ],
   "source": [
    "#Charles River dummy variable (= 1 if tract bounds river; 0 otherwise).\n",
    "#For tract bounds river\n",
    "sum(Boston$chas == 1)   #35 suburbs bounds the chas river"
   ]
  },
  {
   "cell_type": "markdown",
   "id": "1059d7cc",
   "metadata": {},
   "source": [
    "Solution : (f)"
   ]
  },
  {
   "cell_type": "code",
   "execution_count": 40,
   "id": "d58482a5",
   "metadata": {},
   "outputs": [
    {
     "data": {
      "text/html": [
       "19.05"
      ],
      "text/latex": [
       "19.05"
      ],
      "text/markdown": [
       "19.05"
      ],
      "text/plain": [
       "[1] 19.05"
      ]
     },
     "metadata": {},
     "output_type": "display_data"
    }
   ],
   "source": [
    "#median pupil-teacher ratio among the suburbs \n",
    "median(Boston$ptratio)"
   ]
  },
  {
   "cell_type": "markdown",
   "id": "19b4e82f",
   "metadata": {},
   "source": [
    "Solution : (g)"
   ]
  },
  {
   "cell_type": "code",
   "execution_count": 44,
   "id": "41d54db0",
   "metadata": {},
   "outputs": [
    {
     "data": {
      "text/plain": [
       "      crim                zn             indus            chas        \n",
       " Min.   : 0.00632   Min.   :  0.00   Min.   : 0.46   Min.   :0.00000  \n",
       " 1st Qu.: 0.08205   1st Qu.:  0.00   1st Qu.: 5.19   1st Qu.:0.00000  \n",
       " Median : 0.25651   Median :  0.00   Median : 9.69   Median :0.00000  \n",
       " Mean   : 3.61352   Mean   : 11.36   Mean   :11.14   Mean   :0.06917  \n",
       " 3rd Qu.: 3.67708   3rd Qu.: 12.50   3rd Qu.:18.10   3rd Qu.:0.00000  \n",
       " Max.   :88.97620   Max.   :100.00   Max.   :27.74   Max.   :1.00000  \n",
       "      nox               rm             age              dis        \n",
       " Min.   :0.3850   Min.   :3.561   Min.   :  2.90   Min.   : 1.130  \n",
       " 1st Qu.:0.4490   1st Qu.:5.886   1st Qu.: 45.02   1st Qu.: 2.100  \n",
       " Median :0.5380   Median :6.208   Median : 77.50   Median : 3.207  \n",
       " Mean   :0.5547   Mean   :6.285   Mean   : 68.57   Mean   : 3.795  \n",
       " 3rd Qu.:0.6240   3rd Qu.:6.623   3rd Qu.: 94.08   3rd Qu.: 5.188  \n",
       " Max.   :0.8710   Max.   :8.780   Max.   :100.00   Max.   :12.127  \n",
       "      rad              tax           ptratio          black       \n",
       " Min.   : 1.000   Min.   :187.0   Min.   :12.60   Min.   :  0.32  \n",
       " 1st Qu.: 4.000   1st Qu.:279.0   1st Qu.:17.40   1st Qu.:375.38  \n",
       " Median : 5.000   Median :330.0   Median :19.05   Median :391.44  \n",
       " Mean   : 9.549   Mean   :408.2   Mean   :18.46   Mean   :356.67  \n",
       " 3rd Qu.:24.000   3rd Qu.:666.0   3rd Qu.:20.20   3rd Qu.:396.23  \n",
       " Max.   :24.000   Max.   :711.0   Max.   :22.00   Max.   :396.90  \n",
       "     lstat            medv      \n",
       " Min.   : 1.73   Min.   : 5.00  \n",
       " 1st Qu.: 6.95   1st Qu.:17.02  \n",
       " Median :11.36   Median :21.20  \n",
       " Mean   :12.65   Mean   :22.53  \n",
       " 3rd Qu.:16.95   3rd Qu.:25.00  \n",
       " Max.   :37.97   Max.   :50.00  "
      ]
     },
     "metadata": {},
     "output_type": "display_data"
    }
   ],
   "source": [
    "summary(Boston)"
   ]
  },
  {
   "cell_type": "code",
   "execution_count": 42,
   "id": "dd0856a5",
   "metadata": {},
   "outputs": [
    {
     "data": {
      "text/html": [
       "<table class=\"dataframe\">\n",
       "<caption>A data.frame: 2 × 14</caption>\n",
       "<thead>\n",
       "\t<tr><th></th><th scope=col>crim</th><th scope=col>zn</th><th scope=col>indus</th><th scope=col>chas</th><th scope=col>nox</th><th scope=col>rm</th><th scope=col>age</th><th scope=col>dis</th><th scope=col>rad</th><th scope=col>tax</th><th scope=col>ptratio</th><th scope=col>black</th><th scope=col>lstat</th><th scope=col>medv</th></tr>\n",
       "\t<tr><th></th><th scope=col>&lt;dbl&gt;</th><th scope=col>&lt;dbl&gt;</th><th scope=col>&lt;dbl&gt;</th><th scope=col>&lt;int&gt;</th><th scope=col>&lt;dbl&gt;</th><th scope=col>&lt;dbl&gt;</th><th scope=col>&lt;dbl&gt;</th><th scope=col>&lt;dbl&gt;</th><th scope=col>&lt;int&gt;</th><th scope=col>&lt;dbl&gt;</th><th scope=col>&lt;dbl&gt;</th><th scope=col>&lt;dbl&gt;</th><th scope=col>&lt;dbl&gt;</th><th scope=col>&lt;dbl&gt;</th></tr>\n",
       "</thead>\n",
       "<tbody>\n",
       "\t<tr><th scope=row>399</th><td>38.3518</td><td>0</td><td>18.1</td><td>0</td><td>0.693</td><td>5.453</td><td>100</td><td>1.4896</td><td>24</td><td>666</td><td>20.2</td><td>396.90</td><td>30.59</td><td>5</td></tr>\n",
       "\t<tr><th scope=row>406</th><td>67.9208</td><td>0</td><td>18.1</td><td>0</td><td>0.693</td><td>5.683</td><td>100</td><td>1.4254</td><td>24</td><td>666</td><td>20.2</td><td>384.97</td><td>22.98</td><td>5</td></tr>\n",
       "</tbody>\n",
       "</table>\n"
      ],
      "text/latex": [
       "A data.frame: 2 × 14\n",
       "\\begin{tabular}{r|llllllllllllll}\n",
       "  & crim & zn & indus & chas & nox & rm & age & dis & rad & tax & ptratio & black & lstat & medv\\\\\n",
       "  & <dbl> & <dbl> & <dbl> & <int> & <dbl> & <dbl> & <dbl> & <dbl> & <int> & <dbl> & <dbl> & <dbl> & <dbl> & <dbl>\\\\\n",
       "\\hline\n",
       "\t399 & 38.3518 & 0 & 18.1 & 0 & 0.693 & 5.453 & 100 & 1.4896 & 24 & 666 & 20.2 & 396.90 & 30.59 & 5\\\\\n",
       "\t406 & 67.9208 & 0 & 18.1 & 0 & 0.693 & 5.683 & 100 & 1.4254 & 24 & 666 & 20.2 & 384.97 & 22.98 & 5\\\\\n",
       "\\end{tabular}\n"
      ],
      "text/markdown": [
       "\n",
       "A data.frame: 2 × 14\n",
       "\n",
       "| <!--/--> | crim &lt;dbl&gt; | zn &lt;dbl&gt; | indus &lt;dbl&gt; | chas &lt;int&gt; | nox &lt;dbl&gt; | rm &lt;dbl&gt; | age &lt;dbl&gt; | dis &lt;dbl&gt; | rad &lt;int&gt; | tax &lt;dbl&gt; | ptratio &lt;dbl&gt; | black &lt;dbl&gt; | lstat &lt;dbl&gt; | medv &lt;dbl&gt; |\n",
       "|---|---|---|---|---|---|---|---|---|---|---|---|---|---|---|\n",
       "| 399 | 38.3518 | 0 | 18.1 | 0 | 0.693 | 5.453 | 100 | 1.4896 | 24 | 666 | 20.2 | 396.90 | 30.59 | 5 |\n",
       "| 406 | 67.9208 | 0 | 18.1 | 0 | 0.693 | 5.683 | 100 | 1.4254 | 24 | 666 | 20.2 | 384.97 | 22.98 | 5 |\n",
       "\n"
      ],
      "text/plain": [
       "    crim    zn indus chas nox   rm    age dis    rad tax ptratio black  lstat\n",
       "399 38.3518 0  18.1  0    0.693 5.453 100 1.4896 24  666 20.2    396.90 30.59\n",
       "406 67.9208 0  18.1  0    0.693 5.683 100 1.4254 24  666 20.2    384.97 22.98\n",
       "    medv\n",
       "399 5   \n",
       "406 5   "
      ]
     },
     "metadata": {},
     "output_type": "display_data"
    }
   ],
   "source": [
    "#Respective observations of Boston suburbs that has lowest median value of owner-occupied homes\n",
    "subset(Boston, medv == min(medv))"
   ]
  },
  {
   "cell_type": "markdown",
   "id": "de2d7af6",
   "metadata": {},
   "source": [
    "Looking at the summary and subsetted observations, we can see that rad(index of accessibility to radial highways.) = 24.0000 is at maximum,age(proportion of owner-occupied units built prior to 1940.) = 100.0000 is at maximum,zn(proportion of residential land zoned for lots over 25,000 sq.ft.) = 0.0000 is at minimum,chas = 0.0000 is the suburbs not bounded by the river"
   ]
  },
  {
   "cell_type": "markdown",
   "id": "2fc9d353",
   "metadata": {},
   "source": [
    "Solution : (h)"
   ]
  },
  {
   "cell_type": "code",
   "execution_count": 46,
   "id": "2579b4bb",
   "metadata": {},
   "outputs": [
    {
     "data": {
      "text/html": [
       "64"
      ],
      "text/latex": [
       "64"
      ],
      "text/markdown": [
       "64"
      ],
      "text/plain": [
       "[1] 64"
      ]
     },
     "metadata": {},
     "output_type": "display_data"
    }
   ],
   "source": [
    "#suburbs average more than seven rooms per dwelling\n",
    "sum(Boston$rm > 7) #64 suburbs"
   ]
  },
  {
   "cell_type": "code",
   "execution_count": 48,
   "id": "0ed7e603",
   "metadata": {},
   "outputs": [
    {
     "data": {
      "text/html": [
       "13"
      ],
      "text/latex": [
       "13"
      ],
      "text/markdown": [
       "13"
      ],
      "text/plain": [
       "[1] 13"
      ]
     },
     "metadata": {},
     "output_type": "display_data"
    }
   ],
   "source": [
    "#More than eight rooms per dwelling\n",
    "sum(Boston$rm > 8) #13 suburbs"
   ]
  },
  {
   "cell_type": "code",
   "execution_count": 51,
   "id": "5ddb0ae4",
   "metadata": {},
   "outputs": [
    {
     "data": {
      "text/html": [
       "<table class=\"dataframe\">\n",
       "<caption>A data.frame: 13 × 14</caption>\n",
       "<thead>\n",
       "\t<tr><th></th><th scope=col>crim</th><th scope=col>zn</th><th scope=col>indus</th><th scope=col>chas</th><th scope=col>nox</th><th scope=col>rm</th><th scope=col>age</th><th scope=col>dis</th><th scope=col>rad</th><th scope=col>tax</th><th scope=col>ptratio</th><th scope=col>black</th><th scope=col>lstat</th><th scope=col>medv</th></tr>\n",
       "\t<tr><th></th><th scope=col>&lt;dbl&gt;</th><th scope=col>&lt;dbl&gt;</th><th scope=col>&lt;dbl&gt;</th><th scope=col>&lt;int&gt;</th><th scope=col>&lt;dbl&gt;</th><th scope=col>&lt;dbl&gt;</th><th scope=col>&lt;dbl&gt;</th><th scope=col>&lt;dbl&gt;</th><th scope=col>&lt;int&gt;</th><th scope=col>&lt;dbl&gt;</th><th scope=col>&lt;dbl&gt;</th><th scope=col>&lt;dbl&gt;</th><th scope=col>&lt;dbl&gt;</th><th scope=col>&lt;dbl&gt;</th></tr>\n",
       "</thead>\n",
       "<tbody>\n",
       "\t<tr><th scope=row>98</th><td>0.12083</td><td> 0</td><td> 2.89</td><td>0</td><td>0.4450</td><td>8.069</td><td>76.0</td><td>3.4952</td><td> 2</td><td>276</td><td>18.0</td><td>396.90</td><td>4.21</td><td>38.7</td></tr>\n",
       "\t<tr><th scope=row>164</th><td>1.51902</td><td> 0</td><td>19.58</td><td>1</td><td>0.6050</td><td>8.375</td><td>93.9</td><td>2.1620</td><td> 5</td><td>403</td><td>14.7</td><td>388.45</td><td>3.32</td><td>50.0</td></tr>\n",
       "\t<tr><th scope=row>205</th><td>0.02009</td><td>95</td><td> 2.68</td><td>0</td><td>0.4161</td><td>8.034</td><td>31.9</td><td>5.1180</td><td> 4</td><td>224</td><td>14.7</td><td>390.55</td><td>2.88</td><td>50.0</td></tr>\n",
       "\t<tr><th scope=row>225</th><td>0.31533</td><td> 0</td><td> 6.20</td><td>0</td><td>0.5040</td><td>8.266</td><td>78.3</td><td>2.8944</td><td> 8</td><td>307</td><td>17.4</td><td>385.05</td><td>4.14</td><td>44.8</td></tr>\n",
       "\t<tr><th scope=row>226</th><td>0.52693</td><td> 0</td><td> 6.20</td><td>0</td><td>0.5040</td><td>8.725</td><td>83.0</td><td>2.8944</td><td> 8</td><td>307</td><td>17.4</td><td>382.00</td><td>4.63</td><td>50.0</td></tr>\n",
       "\t<tr><th scope=row>227</th><td>0.38214</td><td> 0</td><td> 6.20</td><td>0</td><td>0.5040</td><td>8.040</td><td>86.5</td><td>3.2157</td><td> 8</td><td>307</td><td>17.4</td><td>387.38</td><td>3.13</td><td>37.6</td></tr>\n",
       "\t<tr><th scope=row>233</th><td>0.57529</td><td> 0</td><td> 6.20</td><td>0</td><td>0.5070</td><td>8.337</td><td>73.3</td><td>3.8384</td><td> 8</td><td>307</td><td>17.4</td><td>385.91</td><td>2.47</td><td>41.7</td></tr>\n",
       "\t<tr><th scope=row>234</th><td>0.33147</td><td> 0</td><td> 6.20</td><td>0</td><td>0.5070</td><td>8.247</td><td>70.4</td><td>3.6519</td><td> 8</td><td>307</td><td>17.4</td><td>378.95</td><td>3.95</td><td>48.3</td></tr>\n",
       "\t<tr><th scope=row>254</th><td>0.36894</td><td>22</td><td> 5.86</td><td>0</td><td>0.4310</td><td>8.259</td><td> 8.4</td><td>8.9067</td><td> 7</td><td>330</td><td>19.1</td><td>396.90</td><td>3.54</td><td>42.8</td></tr>\n",
       "\t<tr><th scope=row>258</th><td>0.61154</td><td>20</td><td> 3.97</td><td>0</td><td>0.6470</td><td>8.704</td><td>86.9</td><td>1.8010</td><td> 5</td><td>264</td><td>13.0</td><td>389.70</td><td>5.12</td><td>50.0</td></tr>\n",
       "\t<tr><th scope=row>263</th><td>0.52014</td><td>20</td><td> 3.97</td><td>0</td><td>0.6470</td><td>8.398</td><td>91.5</td><td>2.2885</td><td> 5</td><td>264</td><td>13.0</td><td>386.86</td><td>5.91</td><td>48.8</td></tr>\n",
       "\t<tr><th scope=row>268</th><td>0.57834</td><td>20</td><td> 3.97</td><td>0</td><td>0.5750</td><td>8.297</td><td>67.0</td><td>2.4216</td><td> 5</td><td>264</td><td>13.0</td><td>384.54</td><td>7.44</td><td>50.0</td></tr>\n",
       "\t<tr><th scope=row>365</th><td>3.47428</td><td> 0</td><td>18.10</td><td>1</td><td>0.7180</td><td>8.780</td><td>82.9</td><td>1.9047</td><td>24</td><td>666</td><td>20.2</td><td>354.55</td><td>5.29</td><td>21.9</td></tr>\n",
       "</tbody>\n",
       "</table>\n"
      ],
      "text/latex": [
       "A data.frame: 13 × 14\n",
       "\\begin{tabular}{r|llllllllllllll}\n",
       "  & crim & zn & indus & chas & nox & rm & age & dis & rad & tax & ptratio & black & lstat & medv\\\\\n",
       "  & <dbl> & <dbl> & <dbl> & <int> & <dbl> & <dbl> & <dbl> & <dbl> & <int> & <dbl> & <dbl> & <dbl> & <dbl> & <dbl>\\\\\n",
       "\\hline\n",
       "\t98 & 0.12083 &  0 &  2.89 & 0 & 0.4450 & 8.069 & 76.0 & 3.4952 &  2 & 276 & 18.0 & 396.90 & 4.21 & 38.7\\\\\n",
       "\t164 & 1.51902 &  0 & 19.58 & 1 & 0.6050 & 8.375 & 93.9 & 2.1620 &  5 & 403 & 14.7 & 388.45 & 3.32 & 50.0\\\\\n",
       "\t205 & 0.02009 & 95 &  2.68 & 0 & 0.4161 & 8.034 & 31.9 & 5.1180 &  4 & 224 & 14.7 & 390.55 & 2.88 & 50.0\\\\\n",
       "\t225 & 0.31533 &  0 &  6.20 & 0 & 0.5040 & 8.266 & 78.3 & 2.8944 &  8 & 307 & 17.4 & 385.05 & 4.14 & 44.8\\\\\n",
       "\t226 & 0.52693 &  0 &  6.20 & 0 & 0.5040 & 8.725 & 83.0 & 2.8944 &  8 & 307 & 17.4 & 382.00 & 4.63 & 50.0\\\\\n",
       "\t227 & 0.38214 &  0 &  6.20 & 0 & 0.5040 & 8.040 & 86.5 & 3.2157 &  8 & 307 & 17.4 & 387.38 & 3.13 & 37.6\\\\\n",
       "\t233 & 0.57529 &  0 &  6.20 & 0 & 0.5070 & 8.337 & 73.3 & 3.8384 &  8 & 307 & 17.4 & 385.91 & 2.47 & 41.7\\\\\n",
       "\t234 & 0.33147 &  0 &  6.20 & 0 & 0.5070 & 8.247 & 70.4 & 3.6519 &  8 & 307 & 17.4 & 378.95 & 3.95 & 48.3\\\\\n",
       "\t254 & 0.36894 & 22 &  5.86 & 0 & 0.4310 & 8.259 &  8.4 & 8.9067 &  7 & 330 & 19.1 & 396.90 & 3.54 & 42.8\\\\\n",
       "\t258 & 0.61154 & 20 &  3.97 & 0 & 0.6470 & 8.704 & 86.9 & 1.8010 &  5 & 264 & 13.0 & 389.70 & 5.12 & 50.0\\\\\n",
       "\t263 & 0.52014 & 20 &  3.97 & 0 & 0.6470 & 8.398 & 91.5 & 2.2885 &  5 & 264 & 13.0 & 386.86 & 5.91 & 48.8\\\\\n",
       "\t268 & 0.57834 & 20 &  3.97 & 0 & 0.5750 & 8.297 & 67.0 & 2.4216 &  5 & 264 & 13.0 & 384.54 & 7.44 & 50.0\\\\\n",
       "\t365 & 3.47428 &  0 & 18.10 & 1 & 0.7180 & 8.780 & 82.9 & 1.9047 & 24 & 666 & 20.2 & 354.55 & 5.29 & 21.9\\\\\n",
       "\\end{tabular}\n"
      ],
      "text/markdown": [
       "\n",
       "A data.frame: 13 × 14\n",
       "\n",
       "| <!--/--> | crim &lt;dbl&gt; | zn &lt;dbl&gt; | indus &lt;dbl&gt; | chas &lt;int&gt; | nox &lt;dbl&gt; | rm &lt;dbl&gt; | age &lt;dbl&gt; | dis &lt;dbl&gt; | rad &lt;int&gt; | tax &lt;dbl&gt; | ptratio &lt;dbl&gt; | black &lt;dbl&gt; | lstat &lt;dbl&gt; | medv &lt;dbl&gt; |\n",
       "|---|---|---|---|---|---|---|---|---|---|---|---|---|---|---|\n",
       "| 98 | 0.12083 |  0 |  2.89 | 0 | 0.4450 | 8.069 | 76.0 | 3.4952 |  2 | 276 | 18.0 | 396.90 | 4.21 | 38.7 |\n",
       "| 164 | 1.51902 |  0 | 19.58 | 1 | 0.6050 | 8.375 | 93.9 | 2.1620 |  5 | 403 | 14.7 | 388.45 | 3.32 | 50.0 |\n",
       "| 205 | 0.02009 | 95 |  2.68 | 0 | 0.4161 | 8.034 | 31.9 | 5.1180 |  4 | 224 | 14.7 | 390.55 | 2.88 | 50.0 |\n",
       "| 225 | 0.31533 |  0 |  6.20 | 0 | 0.5040 | 8.266 | 78.3 | 2.8944 |  8 | 307 | 17.4 | 385.05 | 4.14 | 44.8 |\n",
       "| 226 | 0.52693 |  0 |  6.20 | 0 | 0.5040 | 8.725 | 83.0 | 2.8944 |  8 | 307 | 17.4 | 382.00 | 4.63 | 50.0 |\n",
       "| 227 | 0.38214 |  0 |  6.20 | 0 | 0.5040 | 8.040 | 86.5 | 3.2157 |  8 | 307 | 17.4 | 387.38 | 3.13 | 37.6 |\n",
       "| 233 | 0.57529 |  0 |  6.20 | 0 | 0.5070 | 8.337 | 73.3 | 3.8384 |  8 | 307 | 17.4 | 385.91 | 2.47 | 41.7 |\n",
       "| 234 | 0.33147 |  0 |  6.20 | 0 | 0.5070 | 8.247 | 70.4 | 3.6519 |  8 | 307 | 17.4 | 378.95 | 3.95 | 48.3 |\n",
       "| 254 | 0.36894 | 22 |  5.86 | 0 | 0.4310 | 8.259 |  8.4 | 8.9067 |  7 | 330 | 19.1 | 396.90 | 3.54 | 42.8 |\n",
       "| 258 | 0.61154 | 20 |  3.97 | 0 | 0.6470 | 8.704 | 86.9 | 1.8010 |  5 | 264 | 13.0 | 389.70 | 5.12 | 50.0 |\n",
       "| 263 | 0.52014 | 20 |  3.97 | 0 | 0.6470 | 8.398 | 91.5 | 2.2885 |  5 | 264 | 13.0 | 386.86 | 5.91 | 48.8 |\n",
       "| 268 | 0.57834 | 20 |  3.97 | 0 | 0.5750 | 8.297 | 67.0 | 2.4216 |  5 | 264 | 13.0 | 384.54 | 7.44 | 50.0 |\n",
       "| 365 | 3.47428 |  0 | 18.10 | 1 | 0.7180 | 8.780 | 82.9 | 1.9047 | 24 | 666 | 20.2 | 354.55 | 5.29 | 21.9 |\n",
       "\n"
      ],
      "text/plain": [
       "    crim    zn indus chas nox    rm    age  dis    rad tax ptratio black  lstat\n",
       "98  0.12083  0  2.89 0    0.4450 8.069 76.0 3.4952  2  276 18.0    396.90 4.21 \n",
       "164 1.51902  0 19.58 1    0.6050 8.375 93.9 2.1620  5  403 14.7    388.45 3.32 \n",
       "205 0.02009 95  2.68 0    0.4161 8.034 31.9 5.1180  4  224 14.7    390.55 2.88 \n",
       "225 0.31533  0  6.20 0    0.5040 8.266 78.3 2.8944  8  307 17.4    385.05 4.14 \n",
       "226 0.52693  0  6.20 0    0.5040 8.725 83.0 2.8944  8  307 17.4    382.00 4.63 \n",
       "227 0.38214  0  6.20 0    0.5040 8.040 86.5 3.2157  8  307 17.4    387.38 3.13 \n",
       "233 0.57529  0  6.20 0    0.5070 8.337 73.3 3.8384  8  307 17.4    385.91 2.47 \n",
       "234 0.33147  0  6.20 0    0.5070 8.247 70.4 3.6519  8  307 17.4    378.95 3.95 \n",
       "254 0.36894 22  5.86 0    0.4310 8.259  8.4 8.9067  7  330 19.1    396.90 3.54 \n",
       "258 0.61154 20  3.97 0    0.6470 8.704 86.9 1.8010  5  264 13.0    389.70 5.12 \n",
       "263 0.52014 20  3.97 0    0.6470 8.398 91.5 2.2885  5  264 13.0    386.86 5.91 \n",
       "268 0.57834 20  3.97 0    0.5750 8.297 67.0 2.4216  5  264 13.0    384.54 7.44 \n",
       "365 3.47428  0 18.10 1    0.7180 8.780 82.9 1.9047 24  666 20.2    354.55 5.29 \n",
       "    medv\n",
       "98  38.7\n",
       "164 50.0\n",
       "205 50.0\n",
       "225 44.8\n",
       "226 50.0\n",
       "227 37.6\n",
       "233 41.7\n",
       "234 48.3\n",
       "254 42.8\n",
       "258 50.0\n",
       "263 48.8\n",
       "268 50.0\n",
       "365 21.9"
      ]
     },
     "metadata": {},
     "output_type": "display_data"
    }
   ],
   "source": [
    "#Suburbs that average more than eight rooms per dwelling\n",
    "sub_8 = subset(Boston, rm > 8)\n",
    "sub_8"
   ]
  },
  {
   "cell_type": "code",
   "execution_count": 52,
   "id": "95c33b1e",
   "metadata": {},
   "outputs": [
    {
     "data": {
      "text/plain": [
       "      crim               zn            indus             chas       \n",
       " Min.   :0.02009   Min.   : 0.00   Min.   : 2.680   Min.   :0.0000  \n",
       " 1st Qu.:0.33147   1st Qu.: 0.00   1st Qu.: 3.970   1st Qu.:0.0000  \n",
       " Median :0.52014   Median : 0.00   Median : 6.200   Median :0.0000  \n",
       " Mean   :0.71879   Mean   :13.62   Mean   : 7.078   Mean   :0.1538  \n",
       " 3rd Qu.:0.57834   3rd Qu.:20.00   3rd Qu.: 6.200   3rd Qu.:0.0000  \n",
       " Max.   :3.47428   Max.   :95.00   Max.   :19.580   Max.   :1.0000  \n",
       "      nox               rm             age             dis       \n",
       " Min.   :0.4161   Min.   :8.034   Min.   : 8.40   Min.   :1.801  \n",
       " 1st Qu.:0.5040   1st Qu.:8.247   1st Qu.:70.40   1st Qu.:2.288  \n",
       " Median :0.5070   Median :8.297   Median :78.30   Median :2.894  \n",
       " Mean   :0.5392   Mean   :8.349   Mean   :71.54   Mean   :3.430  \n",
       " 3rd Qu.:0.6050   3rd Qu.:8.398   3rd Qu.:86.50   3rd Qu.:3.652  \n",
       " Max.   :0.7180   Max.   :8.780   Max.   :93.90   Max.   :8.907  \n",
       "      rad              tax           ptratio          black      \n",
       " Min.   : 2.000   Min.   :224.0   Min.   :13.00   Min.   :354.6  \n",
       " 1st Qu.: 5.000   1st Qu.:264.0   1st Qu.:14.70   1st Qu.:384.5  \n",
       " Median : 7.000   Median :307.0   Median :17.40   Median :386.9  \n",
       " Mean   : 7.462   Mean   :325.1   Mean   :16.36   Mean   :385.2  \n",
       " 3rd Qu.: 8.000   3rd Qu.:307.0   3rd Qu.:17.40   3rd Qu.:389.7  \n",
       " Max.   :24.000   Max.   :666.0   Max.   :20.20   Max.   :396.9  \n",
       "     lstat           medv     \n",
       " Min.   :2.47   Min.   :21.9  \n",
       " 1st Qu.:3.32   1st Qu.:41.7  \n",
       " Median :4.14   Median :48.3  \n",
       " Mean   :4.31   Mean   :44.2  \n",
       " 3rd Qu.:5.12   3rd Qu.:50.0  \n",
       " Max.   :7.44   Max.   :50.0  "
      ]
     },
     "metadata": {},
     "output_type": "display_data"
    }
   ],
   "source": [
    "summary(sub_8)"
   ]
  },
  {
   "cell_type": "code",
   "execution_count": 54,
   "id": "7347404b",
   "metadata": {},
   "outputs": [
    {
     "data": {
      "text/html": [
       "13"
      ],
      "text/latex": [
       "13"
      ],
      "text/markdown": [
       "13"
      ],
      "text/plain": [
       "[1] 13"
      ]
     },
     "metadata": {},
     "output_type": "display_data"
    }
   ],
   "source": [
    "nrow(sub_8) #13 suburbs that average more than eight rooms per dwelling"
   ]
  },
  {
   "cell_type": "markdown",
   "id": "bb8d4a68",
   "metadata": {},
   "source": [
    "Conclusion:\n",
    "-The average proportion of owner-occupied units built prior to 1940 (age) is 71.54%\n",
    "-The average pupil-teacher ratio per town is 17.4 and minimum ratio is 13.0\n",
    "-Only few suburbs are bounded by chas river (as the mean value is low)\n",
    "-The average per capita crime rate by town is 0.71879"
   ]
  },
  {
   "cell_type": "markdown",
   "id": "da40ecfd",
   "metadata": {},
   "source": [
    "### 3.Exercise  3 (p.120, Chap.3)"
   ]
  },
  {
   "cell_type": "markdown",
   "id": "788d1820",
   "metadata": {},
   "source": [
    "## (a)"
   ]
  },
  {
   "cell_type": "markdown",
   "id": "40f5f195",
   "metadata": {},
   "source": [
    "\n",
    "Given : X1=GPA, \n",
    "        X2=IQ, \n",
    "        X3=Gender (1 for Female and 0 for Male), \n",
    "        X4=Interaction between GPA and IQ, and  \n",
    "        X5=Interaction between GPA and Gender β0^=50, \n",
    "        β1^=20, β2^=0.07, β3^=35, β4^=0.01, β5^=−10.\n",
    "\n",
    "\n",
    "(a)-The solution is (iii)\n",
    "\n",
    "the value of IQ nad GPA are fixed values and it does not change.\n",
    "\n",
    "Y=50+20(GPA)+0.07(iq)+35(Gender)+0.01(GPA*IQ)−10(GPA*Gender)\n",
    "\n",
    "\n",
    "\n",
    "For male: (gender = 0)\n",
    "Y=50+20GPA+0.07IQ+0.01GPA×IQ\n",
    "\n",
    "For female:(gender = 1) \n",
    "Y=85+10GPA+0.07IQ+0.01GPA×IQ\n",
    "\n",
    "since, 50+20GPA≥85+10GPA i.e GPA is high (>3.5).So Males earn more on average than females.\n",
    "                   \n",
    "                  "
   ]
  },
  {
   "cell_type": "markdown",
   "id": "3c3747c3",
   "metadata": {},
   "source": [
    "## (b)\n"
   ]
  },
  {
   "cell_type": "code",
   "execution_count": 140,
   "id": "4fc45c8e",
   "metadata": {},
   "outputs": [
    {
     "data": {
      "text/html": [
       "137.1"
      ],
      "text/latex": [
       "137.1"
      ],
      "text/markdown": [
       "137.1"
      ],
      "text/plain": [
       "[1] 137.1"
      ]
     },
     "metadata": {},
     "output_type": "display_data"
    }
   ],
   "source": [
    "Y=50+20∗(4)+0.07∗(110)+35+0.01∗(4∗110)−10∗(4∗1)\n",
    "Y"
   ]
  },
  {
   "cell_type": "markdown",
   "id": "990e9d86",
   "metadata": {},
   "source": [
    "## (c)\n"
   ]
  },
  {
   "cell_type": "code",
   "execution_count": null,
   "id": "f00fc27b",
   "metadata": {},
   "outputs": [],
   "source": [
    "False.The p-value of the coefficient will explain the statistical significance of the interaction terms.SO,e the coefficient for the GPA/IQ does not indicate it."
   ]
  },
  {
   "cell_type": "markdown",
   "id": "06393cda",
   "metadata": {},
   "source": [
    "### 4.Exercise 10 (p.123, Chap.3)"
   ]
  },
  {
   "cell_type": "code",
   "execution_count": 59,
   "id": "e9881d40",
   "metadata": {},
   "outputs": [
    {
     "data": {
      "text/html": [
       "<table class=\"dataframe\">\n",
       "<caption>A data.frame: 6 × 11</caption>\n",
       "<thead>\n",
       "\t<tr><th></th><th scope=col>Sales</th><th scope=col>CompPrice</th><th scope=col>Income</th><th scope=col>Advertising</th><th scope=col>Population</th><th scope=col>Price</th><th scope=col>ShelveLoc</th><th scope=col>Age</th><th scope=col>Education</th><th scope=col>Urban</th><th scope=col>US</th></tr>\n",
       "\t<tr><th></th><th scope=col>&lt;dbl&gt;</th><th scope=col>&lt;dbl&gt;</th><th scope=col>&lt;dbl&gt;</th><th scope=col>&lt;dbl&gt;</th><th scope=col>&lt;dbl&gt;</th><th scope=col>&lt;dbl&gt;</th><th scope=col>&lt;fct&gt;</th><th scope=col>&lt;dbl&gt;</th><th scope=col>&lt;dbl&gt;</th><th scope=col>&lt;fct&gt;</th><th scope=col>&lt;fct&gt;</th></tr>\n",
       "</thead>\n",
       "<tbody>\n",
       "\t<tr><th scope=row>1</th><td> 9.50</td><td>138</td><td> 73</td><td>11</td><td>276</td><td>120</td><td>Bad   </td><td>42</td><td>17</td><td>Yes</td><td>Yes</td></tr>\n",
       "\t<tr><th scope=row>2</th><td>11.22</td><td>111</td><td> 48</td><td>16</td><td>260</td><td> 83</td><td>Good  </td><td>65</td><td>10</td><td>Yes</td><td>Yes</td></tr>\n",
       "\t<tr><th scope=row>3</th><td>10.06</td><td>113</td><td> 35</td><td>10</td><td>269</td><td> 80</td><td>Medium</td><td>59</td><td>12</td><td>Yes</td><td>Yes</td></tr>\n",
       "\t<tr><th scope=row>4</th><td> 7.40</td><td>117</td><td>100</td><td> 4</td><td>466</td><td> 97</td><td>Medium</td><td>55</td><td>14</td><td>Yes</td><td>Yes</td></tr>\n",
       "\t<tr><th scope=row>5</th><td> 4.15</td><td>141</td><td> 64</td><td> 3</td><td>340</td><td>128</td><td>Bad   </td><td>38</td><td>13</td><td>Yes</td><td>No </td></tr>\n",
       "\t<tr><th scope=row>6</th><td>10.81</td><td>124</td><td>113</td><td>13</td><td>501</td><td> 72</td><td>Bad   </td><td>78</td><td>16</td><td>No </td><td>Yes</td></tr>\n",
       "</tbody>\n",
       "</table>\n"
      ],
      "text/latex": [
       "A data.frame: 6 × 11\n",
       "\\begin{tabular}{r|lllllllllll}\n",
       "  & Sales & CompPrice & Income & Advertising & Population & Price & ShelveLoc & Age & Education & Urban & US\\\\\n",
       "  & <dbl> & <dbl> & <dbl> & <dbl> & <dbl> & <dbl> & <fct> & <dbl> & <dbl> & <fct> & <fct>\\\\\n",
       "\\hline\n",
       "\t1 &  9.50 & 138 &  73 & 11 & 276 & 120 & Bad    & 42 & 17 & Yes & Yes\\\\\n",
       "\t2 & 11.22 & 111 &  48 & 16 & 260 &  83 & Good   & 65 & 10 & Yes & Yes\\\\\n",
       "\t3 & 10.06 & 113 &  35 & 10 & 269 &  80 & Medium & 59 & 12 & Yes & Yes\\\\\n",
       "\t4 &  7.40 & 117 & 100 &  4 & 466 &  97 & Medium & 55 & 14 & Yes & Yes\\\\\n",
       "\t5 &  4.15 & 141 &  64 &  3 & 340 & 128 & Bad    & 38 & 13 & Yes & No \\\\\n",
       "\t6 & 10.81 & 124 & 113 & 13 & 501 &  72 & Bad    & 78 & 16 & No  & Yes\\\\\n",
       "\\end{tabular}\n"
      ],
      "text/markdown": [
       "\n",
       "A data.frame: 6 × 11\n",
       "\n",
       "| <!--/--> | Sales &lt;dbl&gt; | CompPrice &lt;dbl&gt; | Income &lt;dbl&gt; | Advertising &lt;dbl&gt; | Population &lt;dbl&gt; | Price &lt;dbl&gt; | ShelveLoc &lt;fct&gt; | Age &lt;dbl&gt; | Education &lt;dbl&gt; | Urban &lt;fct&gt; | US &lt;fct&gt; |\n",
       "|---|---|---|---|---|---|---|---|---|---|---|---|\n",
       "| 1 |  9.50 | 138 |  73 | 11 | 276 | 120 | Bad    | 42 | 17 | Yes | Yes |\n",
       "| 2 | 11.22 | 111 |  48 | 16 | 260 |  83 | Good   | 65 | 10 | Yes | Yes |\n",
       "| 3 | 10.06 | 113 |  35 | 10 | 269 |  80 | Medium | 59 | 12 | Yes | Yes |\n",
       "| 4 |  7.40 | 117 | 100 |  4 | 466 |  97 | Medium | 55 | 14 | Yes | Yes |\n",
       "| 5 |  4.15 | 141 |  64 |  3 | 340 | 128 | Bad    | 38 | 13 | Yes | No  |\n",
       "| 6 | 10.81 | 124 | 113 | 13 | 501 |  72 | Bad    | 78 | 16 | No  | Yes |\n",
       "\n"
      ],
      "text/plain": [
       "  Sales CompPrice Income Advertising Population Price ShelveLoc Age Education\n",
       "1  9.50 138        73    11          276        120   Bad       42  17       \n",
       "2 11.22 111        48    16          260         83   Good      65  10       \n",
       "3 10.06 113        35    10          269         80   Medium    59  12       \n",
       "4  7.40 117       100     4          466         97   Medium    55  14       \n",
       "5  4.15 141        64     3          340        128   Bad       38  13       \n",
       "6 10.81 124       113    13          501         72   Bad       78  16       \n",
       "  Urban US \n",
       "1 Yes   Yes\n",
       "2 Yes   Yes\n",
       "3 Yes   Yes\n",
       "4 Yes   Yes\n",
       "5 Yes   No \n",
       "6 No    Yes"
      ]
     },
     "metadata": {},
     "output_type": "display_data"
    }
   ],
   "source": [
    "library(ISLR)\n",
    "cs <- Carseats # Read the dataset\n",
    "head(cs) "
   ]
  },
  {
   "cell_type": "markdown",
   "id": "527bc004",
   "metadata": {},
   "source": [
    "## Solution - A"
   ]
  },
  {
   "cell_type": "code",
   "execution_count": 62,
   "id": "abfd655a",
   "metadata": {},
   "outputs": [
    {
     "data": {
      "text/html": [
       "'list'"
      ],
      "text/latex": [
       "'list'"
      ],
      "text/markdown": [
       "'list'"
      ],
      "text/plain": [
       "[1] \"list\""
      ]
     },
     "metadata": {},
     "output_type": "display_data"
    }
   ],
   "source": [
    "typeof(cs)"
   ]
  },
  {
   "cell_type": "code",
   "execution_count": 66,
   "id": "7917b7e3",
   "metadata": {},
   "outputs": [
    {
     "data": {
      "text/html": [
       "0"
      ],
      "text/latex": [
       "0"
      ],
      "text/markdown": [
       "0"
      ],
      "text/plain": [
       "[1] 0"
      ]
     },
     "metadata": {},
     "output_type": "display_data"
    }
   ],
   "source": [
    "#Check for na values\n",
    "sum(is.na(cs))"
   ]
  },
  {
   "cell_type": "code",
   "execution_count": 65,
   "id": "81d1656a",
   "metadata": {
    "scrolled": false
   },
   "outputs": [
    {
     "data": {
      "text/plain": [
       "     Sales          CompPrice       Income        Advertising    \n",
       " Min.   : 0.000   Min.   : 77   Min.   : 21.00   Min.   : 0.000  \n",
       " 1st Qu.: 5.390   1st Qu.:115   1st Qu.: 42.75   1st Qu.: 0.000  \n",
       " Median : 7.490   Median :125   Median : 69.00   Median : 5.000  \n",
       " Mean   : 7.496   Mean   :125   Mean   : 68.66   Mean   : 6.635  \n",
       " 3rd Qu.: 9.320   3rd Qu.:135   3rd Qu.: 91.00   3rd Qu.:12.000  \n",
       " Max.   :16.270   Max.   :175   Max.   :120.00   Max.   :29.000  \n",
       "   Population        Price        ShelveLoc        Age          Education   \n",
       " Min.   : 10.0   Min.   : 24.0   Bad   : 96   Min.   :25.00   Min.   :10.0  \n",
       " 1st Qu.:139.0   1st Qu.:100.0   Good  : 85   1st Qu.:39.75   1st Qu.:12.0  \n",
       " Median :272.0   Median :117.0   Medium:219   Median :54.50   Median :14.0  \n",
       " Mean   :264.8   Mean   :115.8                Mean   :53.32   Mean   :13.9  \n",
       " 3rd Qu.:398.5   3rd Qu.:131.0                3rd Qu.:66.00   3rd Qu.:16.0  \n",
       " Max.   :509.0   Max.   :191.0                Max.   :80.00   Max.   :18.0  \n",
       " Urban       US     \n",
       " No :118   No :142  \n",
       " Yes:282   Yes:258  \n",
       "                    \n",
       "                    \n",
       "                    \n",
       "                    "
      ]
     },
     "metadata": {},
     "output_type": "display_data"
    }
   ],
   "source": [
    "summary(cs)"
   ]
  },
  {
   "cell_type": "code",
   "execution_count": 68,
   "id": "51c7d255",
   "metadata": {},
   "outputs": [
    {
     "name": "stderr",
     "output_type": "stream",
     "text": [
      "\n",
      "Attaching package: 'dplyr'\n",
      "\n",
      "\n",
      "The following object is masked from 'package:MASS':\n",
      "\n",
      "    select\n",
      "\n",
      "\n",
      "The following objects are masked from 'package:stats':\n",
      "\n",
      "    filter, lag\n",
      "\n",
      "\n",
      "The following objects are masked from 'package:base':\n",
      "\n",
      "    intersect, setdiff, setequal, union\n",
      "\n",
      "\n"
     ]
    },
    {
     "data": {
      "text/html": [
       "<style>\n",
       ".dl-inline {width: auto; margin:0; padding: 0}\n",
       ".dl-inline>dt, .dl-inline>dd {float: none; width: auto; display: inline-block}\n",
       ".dl-inline>dt::after {content: \":\\0020\"; padding-right: .5ex}\n",
       ".dl-inline>dt:not(:first-of-type) {padding-left: .5ex}\n",
       "</style><dl class=dl-inline><dt>Sales</dt><dd>336</dd><dt>CompPrice</dt><dd>73</dd><dt>Income</dt><dd>98</dd><dt>Advertising</dt><dd>28</dd><dt>Population</dt><dd>275</dd><dt>Price</dt><dd>101</dd><dt>ShelveLoc</dt><dd>3</dd><dt>Age</dt><dd>56</dd><dt>Education</dt><dd>9</dd><dt>Urban</dt><dd>2</dd><dt>US</dt><dd>2</dd></dl>\n"
      ],
      "text/latex": [
       "\\begin{description*}\n",
       "\\item[Sales] 336\n",
       "\\item[CompPrice] 73\n",
       "\\item[Income] 98\n",
       "\\item[Advertising] 28\n",
       "\\item[Population] 275\n",
       "\\item[Price] 101\n",
       "\\item[ShelveLoc] 3\n",
       "\\item[Age] 56\n",
       "\\item[Education] 9\n",
       "\\item[Urban] 2\n",
       "\\item[US] 2\n",
       "\\end{description*}\n"
      ],
      "text/markdown": [
       "Sales\n",
       ":   336CompPrice\n",
       ":   73Income\n",
       ":   98Advertising\n",
       ":   28Population\n",
       ":   275Price\n",
       ":   101ShelveLoc\n",
       ":   3Age\n",
       ":   56Education\n",
       ":   9Urban\n",
       ":   2US\n",
       ":   2\n",
       "\n"
      ],
      "text/plain": [
       "      Sales   CompPrice      Income Advertising  Population       Price \n",
       "        336          73          98          28         275         101 \n",
       "  ShelveLoc         Age   Education       Urban          US \n",
       "          3          56           9           2           2 "
      ]
     },
     "metadata": {},
     "output_type": "display_data"
    }
   ],
   "source": [
    "#summary stats\n",
    "library(dplyr)\n",
    "cs %>% \n",
    "sapply(unique) %>% \n",
    "sapply(length)"
   ]
  },
  {
   "cell_type": "code",
   "execution_count": 69,
   "id": "fb5ae3cf",
   "metadata": {},
   "outputs": [
    {
     "name": "stdout",
     "output_type": "stream",
     "text": [
      "'data.frame':\t400 obs. of  11 variables:\n",
      " $ Sales      : num  9.5 11.22 10.06 7.4 4.15 ...\n",
      " $ CompPrice  : num  138 111 113 117 141 124 115 136 132 132 ...\n",
      " $ Income     : num  73 48 35 100 64 113 105 81 110 113 ...\n",
      " $ Advertising: num  11 16 10 4 3 13 0 15 0 0 ...\n",
      " $ Population : num  276 260 269 466 340 501 45 425 108 131 ...\n",
      " $ Price      : num  120 83 80 97 128 72 108 120 124 124 ...\n",
      " $ ShelveLoc  : Factor w/ 3 levels \"Bad\",\"Good\",\"Medium\": 1 2 3 3 1 1 3 2 3 3 ...\n",
      " $ Age        : num  42 65 59 55 38 78 71 67 76 76 ...\n",
      " $ Education  : num  17 10 12 14 13 16 15 10 10 17 ...\n",
      " $ Urban      : Factor w/ 2 levels \"No\",\"Yes\": 2 2 2 2 2 1 2 2 1 1 ...\n",
      " $ US         : Factor w/ 2 levels \"No\",\"Yes\": 2 2 2 2 1 2 1 2 1 2 ...\n"
     ]
    }
   ],
   "source": [
    "str(cs)"
   ]
  },
  {
   "cell_type": "code",
   "execution_count": 71,
   "id": "e137d72f",
   "metadata": {},
   "outputs": [
    {
     "data": {
      "text/plain": [
       "\n",
       "Call:\n",
       "lm(formula = Sales ~ US + Price + Urban, data = cs)\n",
       "\n",
       "Coefficients:\n",
       "(Intercept)        USYes        Price     UrbanYes  \n",
       "   13.04347      1.20057     -0.05446     -0.02192  \n"
      ]
     },
     "metadata": {},
     "output_type": "display_data"
    },
    {
     "data": {
      "text/plain": [
       "\n",
       "Call:\n",
       "lm(formula = Sales ~ US + Price + Urban, data = cs)\n",
       "\n",
       "Residuals:\n",
       "    Min      1Q  Median      3Q     Max \n",
       "-6.9206 -1.6220 -0.0564  1.5786  7.0581 \n",
       "\n",
       "Coefficients:\n",
       "             Estimate Std. Error t value Pr(>|t|)    \n",
       "(Intercept) 13.043469   0.651012  20.036  < 2e-16 ***\n",
       "USYes        1.200573   0.259042   4.635 4.86e-06 ***\n",
       "Price       -0.054459   0.005242 -10.389  < 2e-16 ***\n",
       "UrbanYes    -0.021916   0.271650  -0.081    0.936    \n",
       "---\n",
       "Signif. codes:  0 '***' 0.001 '**' 0.01 '*' 0.05 '.' 0.1 ' ' 1\n",
       "\n",
       "Residual standard error: 2.472 on 396 degrees of freedom\n",
       "Multiple R-squared:  0.2393,\tAdjusted R-squared:  0.2335 \n",
       "F-statistic: 41.52 on 3 and 396 DF,  p-value: < 2.2e-16\n"
      ]
     },
     "metadata": {},
     "output_type": "display_data"
    }
   ],
   "source": [
    "#Fit a Regression model\n",
    "cs_reg <- lm(formula = Sales ~ US + Price + Urban, data = cs)\n",
    "cs_reg\n",
    "summary(cs_reg)"
   ]
  },
  {
   "cell_type": "markdown",
   "id": "e48c81c6",
   "metadata": {},
   "source": [
    "## Solution: B"
   ]
  },
  {
   "cell_type": "code",
   "execution_count": 77,
   "id": "a909e778",
   "metadata": {},
   "outputs": [
    {
     "data": {
      "text/plain": [
       "\n",
       "Call:\n",
       "lm(formula = Sales ~ ., data = cs)\n",
       "\n",
       "Residuals:\n",
       "    Min      1Q  Median      3Q     Max \n",
       "-2.8692 -0.6908  0.0211  0.6636  3.4115 \n",
       "\n",
       "Coefficients:\n",
       "                  Estimate Std. Error t value Pr(>|t|)    \n",
       "(Intercept)      5.6606231  0.6034487   9.380  < 2e-16 ***\n",
       "CompPrice        0.0928153  0.0041477  22.378  < 2e-16 ***\n",
       "Income           0.0158028  0.0018451   8.565 2.58e-16 ***\n",
       "Advertising      0.1230951  0.0111237  11.066  < 2e-16 ***\n",
       "Population       0.0002079  0.0003705   0.561    0.575    \n",
       "Price           -0.0953579  0.0026711 -35.700  < 2e-16 ***\n",
       "ShelveLocGood    4.8501827  0.1531100  31.678  < 2e-16 ***\n",
       "ShelveLocMedium  1.9567148  0.1261056  15.516  < 2e-16 ***\n",
       "Age             -0.0460452  0.0031817 -14.472  < 2e-16 ***\n",
       "Education       -0.0211018  0.0197205  -1.070    0.285    \n",
       "UrbanYes         0.1228864  0.1129761   1.088    0.277    \n",
       "USYes           -0.1840928  0.1498423  -1.229    0.220    \n",
       "---\n",
       "Signif. codes:  0 '***' 0.001 '**' 0.01 '*' 0.05 '.' 0.1 ' ' 1\n",
       "\n",
       "Residual standard error: 1.019 on 388 degrees of freedom\n",
       "Multiple R-squared:  0.8734,\tAdjusted R-squared:  0.8698 \n",
       "F-statistic: 243.4 on 11 and 388 DF,  p-value: < 2.2e-16\n"
      ]
     },
     "metadata": {},
     "output_type": "display_data"
    }
   ],
   "source": [
    "# interpretation with all variables\n",
    "summary(lm(formula = Sales ~ ., data = cs))"
   ]
  },
  {
   "cell_type": "code",
   "execution_count": 73,
   "id": "d6202497",
   "metadata": {},
   "outputs": [
    {
     "data": {
      "text/plain": [
       "\n",
       "Call:\n",
       "lm(formula = Sales ~ US, data = cs)\n",
       "\n",
       "Residuals:\n",
       "   Min     1Q Median     3Q    Max \n",
       "-7.497 -1.929 -0.105  1.836  8.403 \n",
       "\n",
       "Coefficients:\n",
       "            Estimate Std. Error t value Pr(>|t|)    \n",
       "(Intercept)   6.8230     0.2335   29.21  < 2e-16 ***\n",
       "USYes         1.0439     0.2908    3.59 0.000372 ***\n",
       "---\n",
       "Signif. codes:  0 '***' 0.001 '**' 0.01 '*' 0.05 '.' 0.1 ' ' 1\n",
       "\n",
       "Residual standard error: 2.783 on 398 degrees of freedom\n",
       "Multiple R-squared:  0.03136,\tAdjusted R-squared:  0.02893 \n",
       "F-statistic: 12.89 on 1 and 398 DF,  p-value: 0.0003723\n"
      ]
     },
     "metadata": {},
     "output_type": "display_data"
    }
   ],
   "source": [
    "# interpretation with US variables\n",
    "summary(lm(formula = Sales ~ US, data = cs))"
   ]
  },
  {
   "cell_type": "code",
   "execution_count": 75,
   "id": "e1add477",
   "metadata": {},
   "outputs": [
    {
     "data": {
      "text/plain": [
       "\n",
       "Call:\n",
       "lm(formula = Sales ~ Price, data = cs)\n",
       "\n",
       "Residuals:\n",
       "    Min      1Q  Median      3Q     Max \n",
       "-6.5224 -1.8442 -0.1459  1.6503  7.5108 \n",
       "\n",
       "Coefficients:\n",
       "             Estimate Std. Error t value Pr(>|t|)    \n",
       "(Intercept) 13.641915   0.632812  21.558   <2e-16 ***\n",
       "Price       -0.053073   0.005354  -9.912   <2e-16 ***\n",
       "---\n",
       "Signif. codes:  0 '***' 0.001 '**' 0.01 '*' 0.05 '.' 0.1 ' ' 1\n",
       "\n",
       "Residual standard error: 2.532 on 398 degrees of freedom\n",
       "Multiple R-squared:  0.198,\tAdjusted R-squared:  0.196 \n",
       "F-statistic: 98.25 on 1 and 398 DF,  p-value: < 2.2e-16\n"
      ]
     },
     "metadata": {},
     "output_type": "display_data"
    }
   ],
   "source": [
    "# interpretation with price variable\n",
    "summary(lm(formula = Sales ~ Price, data = cs))"
   ]
  },
  {
   "cell_type": "code",
   "execution_count": 78,
   "id": "cf23b186",
   "metadata": {},
   "outputs": [
    {
     "data": {
      "text/plain": [
       "\n",
       "Call:\n",
       "lm(formula = Sales ~ Urban, data = cs)\n",
       "\n",
       "Residuals:\n",
       "    Min      1Q  Median      3Q     Max \n",
       "-7.5636 -2.1107 -0.0109  1.7914  8.8018 \n",
       "\n",
       "Coefficients:\n",
       "            Estimate Std. Error t value Pr(>|t|)    \n",
       "(Intercept)  7.56356    0.26028  29.060   <2e-16 ***\n",
       "UrbanYes    -0.09537    0.30998  -0.308    0.759    \n",
       "---\n",
       "Signif. codes:  0 '***' 0.001 '**' 0.01 '*' 0.05 '.' 0.1 ' ' 1\n",
       "\n",
       "Residual standard error: 2.827 on 398 degrees of freedom\n",
       "Multiple R-squared:  0.0002378,\tAdjusted R-squared:  -0.002274 \n",
       "F-statistic: 0.09465 on 1 and 398 DF,  p-value: 0.7585\n"
      ]
     },
     "metadata": {},
     "output_type": "display_data"
    }
   ],
   "source": [
    "# interpretation with price variable\n",
    "summary(lm(formula = Sales ~ Urban, data = cs))"
   ]
  },
  {
   "cell_type": "markdown",
   "id": "c5e9877c",
   "metadata": {},
   "source": [
    "From the above interpretations,we can see that p-value is high when we interpret with Urban variable(Not statistically significant).When interpreting with all variables the model has R-square value of 0.87.that is The model explains 87% variation within the data"
   ]
  },
  {
   "cell_type": "markdown",
   "id": "4f5f44f8",
   "metadata": {},
   "source": [
    "## Solution C"
   ]
  },
  {
   "cell_type": "markdown",
   "id": "290d386e",
   "metadata": {},
   "source": [
    "Sales =  1.20057(USYes) - 0.05446(Price) - 0.02192(UrbanYes) + 13.04347      "
   ]
  },
  {
   "cell_type": "markdown",
   "id": "846a5347",
   "metadata": {},
   "source": [
    "## Solution D"
   ]
  },
  {
   "cell_type": "markdown",
   "id": "1a5cfe25",
   "metadata": {},
   "source": [
    "We can reject the Null hypothesis H0 : βj = 0 for Variable Urban.Because the p-value is high and it is statistically insignificant(likely to occur randomly)"
   ]
  },
  {
   "cell_type": "markdown",
   "id": "9bfdc0ae",
   "metadata": {},
   "source": [
    "## Solution E"
   ]
  },
  {
   "cell_type": "code",
   "execution_count": 81,
   "id": "c2ddbdd9",
   "metadata": {},
   "outputs": [
    {
     "data": {
      "text/plain": [
       "\n",
       "Call:\n",
       "lm(formula = Sales ~ Price + US, data = Carseats)\n",
       "\n",
       "Residuals:\n",
       "    Min      1Q  Median      3Q     Max \n",
       "-6.9269 -1.6286 -0.0574  1.5766  7.0515 \n",
       "\n",
       "Coefficients:\n",
       "            Estimate Std. Error t value Pr(>|t|)    \n",
       "(Intercept) 13.03079    0.63098  20.652  < 2e-16 ***\n",
       "Price       -0.05448    0.00523 -10.416  < 2e-16 ***\n",
       "USYes        1.19964    0.25846   4.641 4.71e-06 ***\n",
       "---\n",
       "Signif. codes:  0 '***' 0.001 '**' 0.01 '*' 0.05 '.' 0.1 ' ' 1\n",
       "\n",
       "Residual standard error: 2.469 on 397 degrees of freedom\n",
       "Multiple R-squared:  0.2393,\tAdjusted R-squared:  0.2354 \n",
       "F-statistic: 62.43 on 2 and 397 DF,  p-value: < 2.2e-16\n"
      ]
     },
     "metadata": {},
     "output_type": "display_data"
    }
   ],
   "source": [
    "cs_reg2 <- lm(Sales ~ Price+US, data= Carseats)\n",
    "summary(cs_reg2) #Without considering the variable Urban"
   ]
  },
  {
   "cell_type": "markdown",
   "id": "62dc2931",
   "metadata": {},
   "source": [
    "## Solution F"
   ]
  },
  {
   "cell_type": "markdown",
   "id": "a52ecc26",
   "metadata": {},
   "source": [
    "Looking at the summary table for 2 models,the R-square is value is 0.23.The models explains only 23% of variation in the data.Hence they are medium performing models and doesnt explain much variation about the data."
   ]
  },
  {
   "cell_type": "markdown",
   "id": "7c5cf8ad",
   "metadata": {},
   "source": [
    "## Solution G"
   ]
  },
  {
   "cell_type": "code",
   "execution_count": 82,
   "id": "79227053",
   "metadata": {},
   "outputs": [
    {
     "data": {
      "text/html": [
       "<table class=\"dataframe\">\n",
       "<caption>A matrix: 3 × 2 of type dbl</caption>\n",
       "<thead>\n",
       "\t<tr><th></th><th scope=col>2.5 %</th><th scope=col>97.5 %</th></tr>\n",
       "</thead>\n",
       "<tbody>\n",
       "\t<tr><th scope=row>(Intercept)</th><td>11.79032020</td><td>14.27126531</td></tr>\n",
       "\t<tr><th scope=row>Price</th><td>-0.06475984</td><td>-0.04419543</td></tr>\n",
       "\t<tr><th scope=row>USYes</th><td> 0.69151957</td><td> 1.70776632</td></tr>\n",
       "</tbody>\n",
       "</table>\n"
      ],
      "text/latex": [
       "A matrix: 3 × 2 of type dbl\n",
       "\\begin{tabular}{r|ll}\n",
       "  & 2.5 \\% & 97.5 \\%\\\\\n",
       "\\hline\n",
       "\t(Intercept) & 11.79032020 & 14.27126531\\\\\n",
       "\tPrice & -0.06475984 & -0.04419543\\\\\n",
       "\tUSYes &  0.69151957 &  1.70776632\\\\\n",
       "\\end{tabular}\n"
      ],
      "text/markdown": [
       "\n",
       "A matrix: 3 × 2 of type dbl\n",
       "\n",
       "| <!--/--> | 2.5 % | 97.5 % |\n",
       "|---|---|---|\n",
       "| (Intercept) | 11.79032020 | 14.27126531 |\n",
       "| Price | -0.06475984 | -0.04419543 |\n",
       "| USYes |  0.69151957 |  1.70776632 |\n",
       "\n"
      ],
      "text/plain": [
       "            2.5 %       97.5 %     \n",
       "(Intercept) 11.79032020 14.27126531\n",
       "Price       -0.06475984 -0.04419543\n",
       "USYes        0.69151957  1.70776632"
      ]
     },
     "metadata": {},
     "output_type": "display_data"
    }
   ],
   "source": [
    "## Confidence interval \n",
    "confint(cs_reg2)"
   ]
  },
  {
   "cell_type": "markdown",
   "id": "d4bd140e",
   "metadata": {},
   "source": [
    "## Solution H"
   ]
  },
  {
   "cell_type": "code",
   "execution_count": 84,
   "id": "053df1ea",
   "metadata": {},
   "outputs": [
    {
     "data": {
      "image/png": "[encoded data removed]",
      "text/plain": [
       "Plot with title \"\""
      ]
     },
     "metadata": {
      "image/png": {
       "height": 420,
       "width": 420
      }
     },
     "output_type": "display_data"
    }
   ],
   "source": [
    "#Evidence of outliers\n",
    "par(mfrow=c(2,2))\n",
    "plot(cs_reg2)"
   ]
  },
  {
   "cell_type": "markdown",
   "id": "706124c4",
   "metadata": {},
   "source": [
    "From the above plots ,we can conclude that there is no evidence of outliers or any high leverage observations in the model."
   ]
  },
  {
   "cell_type": "markdown",
   "id": "2305a92b",
   "metadata": {},
   "source": [
    "## 5.Execise 15 (p.126, Chap.3)"
   ]
  },
  {
   "cell_type": "markdown",
   "id": "3c16dd2d",
   "metadata": {},
   "source": [
    "## solution A"
   ]
  },
  {
   "cell_type": "code",
   "execution_count": 88,
   "id": "ff4caa6e",
   "metadata": {},
   "outputs": [
    {
     "data": {
      "text/html": [
       "<table class=\"dataframe\">\n",
       "<caption>A data.frame: 6 × 14</caption>\n",
       "<thead>\n",
       "\t<tr><th></th><th scope=col>crim</th><th scope=col>zn</th><th scope=col>indus</th><th scope=col>chas</th><th scope=col>nox</th><th scope=col>rm</th><th scope=col>age</th><th scope=col>dis</th><th scope=col>rad</th><th scope=col>tax</th><th scope=col>ptratio</th><th scope=col>black</th><th scope=col>lstat</th><th scope=col>medv</th></tr>\n",
       "\t<tr><th></th><th scope=col>&lt;dbl&gt;</th><th scope=col>&lt;dbl&gt;</th><th scope=col>&lt;dbl&gt;</th><th scope=col>&lt;int&gt;</th><th scope=col>&lt;dbl&gt;</th><th scope=col>&lt;dbl&gt;</th><th scope=col>&lt;dbl&gt;</th><th scope=col>&lt;dbl&gt;</th><th scope=col>&lt;int&gt;</th><th scope=col>&lt;dbl&gt;</th><th scope=col>&lt;dbl&gt;</th><th scope=col>&lt;dbl&gt;</th><th scope=col>&lt;dbl&gt;</th><th scope=col>&lt;dbl&gt;</th></tr>\n",
       "</thead>\n",
       "<tbody>\n",
       "\t<tr><th scope=row>1</th><td>0.00632</td><td>18</td><td>2.31</td><td>0</td><td>0.538</td><td>6.575</td><td>65.2</td><td>4.0900</td><td>1</td><td>296</td><td>15.3</td><td>396.90</td><td>4.98</td><td>24.0</td></tr>\n",
       "\t<tr><th scope=row>2</th><td>0.02731</td><td> 0</td><td>7.07</td><td>0</td><td>0.469</td><td>6.421</td><td>78.9</td><td>4.9671</td><td>2</td><td>242</td><td>17.8</td><td>396.90</td><td>9.14</td><td>21.6</td></tr>\n",
       "\t<tr><th scope=row>3</th><td>0.02729</td><td> 0</td><td>7.07</td><td>0</td><td>0.469</td><td>7.185</td><td>61.1</td><td>4.9671</td><td>2</td><td>242</td><td>17.8</td><td>392.83</td><td>4.03</td><td>34.7</td></tr>\n",
       "\t<tr><th scope=row>4</th><td>0.03237</td><td> 0</td><td>2.18</td><td>0</td><td>0.458</td><td>6.998</td><td>45.8</td><td>6.0622</td><td>3</td><td>222</td><td>18.7</td><td>394.63</td><td>2.94</td><td>33.4</td></tr>\n",
       "\t<tr><th scope=row>5</th><td>0.06905</td><td> 0</td><td>2.18</td><td>0</td><td>0.458</td><td>7.147</td><td>54.2</td><td>6.0622</td><td>3</td><td>222</td><td>18.7</td><td>396.90</td><td>5.33</td><td>36.2</td></tr>\n",
       "\t<tr><th scope=row>6</th><td>0.02985</td><td> 0</td><td>2.18</td><td>0</td><td>0.458</td><td>6.430</td><td>58.7</td><td>6.0622</td><td>3</td><td>222</td><td>18.7</td><td>394.12</td><td>5.21</td><td>28.7</td></tr>\n",
       "</tbody>\n",
       "</table>\n"
      ],
      "text/latex": [
       "A data.frame: 6 × 14\n",
       "\\begin{tabular}{r|llllllllllllll}\n",
       "  & crim & zn & indus & chas & nox & rm & age & dis & rad & tax & ptratio & black & lstat & medv\\\\\n",
       "  & <dbl> & <dbl> & <dbl> & <int> & <dbl> & <dbl> & <dbl> & <dbl> & <int> & <dbl> & <dbl> & <dbl> & <dbl> & <dbl>\\\\\n",
       "\\hline\n",
       "\t1 & 0.00632 & 18 & 2.31 & 0 & 0.538 & 6.575 & 65.2 & 4.0900 & 1 & 296 & 15.3 & 396.90 & 4.98 & 24.0\\\\\n",
       "\t2 & 0.02731 &  0 & 7.07 & 0 & 0.469 & 6.421 & 78.9 & 4.9671 & 2 & 242 & 17.8 & 396.90 & 9.14 & 21.6\\\\\n",
       "\t3 & 0.02729 &  0 & 7.07 & 0 & 0.469 & 7.185 & 61.1 & 4.9671 & 2 & 242 & 17.8 & 392.83 & 4.03 & 34.7\\\\\n",
       "\t4 & 0.03237 &  0 & 2.18 & 0 & 0.458 & 6.998 & 45.8 & 6.0622 & 3 & 222 & 18.7 & 394.63 & 2.94 & 33.4\\\\\n",
       "\t5 & 0.06905 &  0 & 2.18 & 0 & 0.458 & 7.147 & 54.2 & 6.0622 & 3 & 222 & 18.7 & 396.90 & 5.33 & 36.2\\\\\n",
       "\t6 & 0.02985 &  0 & 2.18 & 0 & 0.458 & 6.430 & 58.7 & 6.0622 & 3 & 222 & 18.7 & 394.12 & 5.21 & 28.7\\\\\n",
       "\\end{tabular}\n"
      ],
      "text/markdown": [
       "\n",
       "A data.frame: 6 × 14\n",
       "\n",
       "| <!--/--> | crim &lt;dbl&gt; | zn &lt;dbl&gt; | indus &lt;dbl&gt; | chas &lt;int&gt; | nox &lt;dbl&gt; | rm &lt;dbl&gt; | age &lt;dbl&gt; | dis &lt;dbl&gt; | rad &lt;int&gt; | tax &lt;dbl&gt; | ptratio &lt;dbl&gt; | black &lt;dbl&gt; | lstat &lt;dbl&gt; | medv &lt;dbl&gt; |\n",
       "|---|---|---|---|---|---|---|---|---|---|---|---|---|---|---|\n",
       "| 1 | 0.00632 | 18 | 2.31 | 0 | 0.538 | 6.575 | 65.2 | 4.0900 | 1 | 296 | 15.3 | 396.90 | 4.98 | 24.0 |\n",
       "| 2 | 0.02731 |  0 | 7.07 | 0 | 0.469 | 6.421 | 78.9 | 4.9671 | 2 | 242 | 17.8 | 396.90 | 9.14 | 21.6 |\n",
       "| 3 | 0.02729 |  0 | 7.07 | 0 | 0.469 | 7.185 | 61.1 | 4.9671 | 2 | 242 | 17.8 | 392.83 | 4.03 | 34.7 |\n",
       "| 4 | 0.03237 |  0 | 2.18 | 0 | 0.458 | 6.998 | 45.8 | 6.0622 | 3 | 222 | 18.7 | 394.63 | 2.94 | 33.4 |\n",
       "| 5 | 0.06905 |  0 | 2.18 | 0 | 0.458 | 7.147 | 54.2 | 6.0622 | 3 | 222 | 18.7 | 396.90 | 5.33 | 36.2 |\n",
       "| 6 | 0.02985 |  0 | 2.18 | 0 | 0.458 | 6.430 | 58.7 | 6.0622 | 3 | 222 | 18.7 | 394.12 | 5.21 | 28.7 |\n",
       "\n"
      ],
      "text/plain": [
       "  crim    zn indus chas nox   rm    age  dis    rad tax ptratio black  lstat\n",
       "1 0.00632 18 2.31  0    0.538 6.575 65.2 4.0900 1   296 15.3    396.90 4.98 \n",
       "2 0.02731  0 7.07  0    0.469 6.421 78.9 4.9671 2   242 17.8    396.90 9.14 \n",
       "3 0.02729  0 7.07  0    0.469 7.185 61.1 4.9671 2   242 17.8    392.83 4.03 \n",
       "4 0.03237  0 2.18  0    0.458 6.998 45.8 6.0622 3   222 18.7    394.63 2.94 \n",
       "5 0.06905  0 2.18  0    0.458 7.147 54.2 6.0622 3   222 18.7    396.90 5.33 \n",
       "6 0.02985  0 2.18  0    0.458 6.430 58.7 6.0622 3   222 18.7    394.12 5.21 \n",
       "  medv\n",
       "1 24.0\n",
       "2 21.6\n",
       "3 34.7\n",
       "4 33.4\n",
       "5 36.2\n",
       "6 28.7"
      ]
     },
     "metadata": {},
     "output_type": "display_data"
    }
   ],
   "source": [
    "#read the data\n",
    "head(Boston)\n"
   ]
  },
  {
   "cell_type": "code",
   "execution_count": 89,
   "id": "e8345d6e",
   "metadata": {},
   "outputs": [
    {
     "data": {
      "text/html": [
       "<style>\n",
       ".list-inline {list-style: none; margin:0; padding: 0}\n",
       ".list-inline>li {display: inline-block}\n",
       ".list-inline>li:not(:last-child)::after {content: \"\\00b7\"; padding: 0 .5ex}\n",
       "</style>\n",
       "<ol class=list-inline><li>'crim'</li><li>'zn'</li><li>'indus'</li><li>'chas'</li><li>'nox'</li><li>'rm'</li><li>'age'</li><li>'dis'</li><li>'rad'</li><li>'tax'</li><li>'ptratio'</li><li>'black'</li><li>'lstat'</li><li>'medv'</li></ol>\n"
      ],
      "text/latex": [
       "\\begin{enumerate*}\n",
       "\\item 'crim'\n",
       "\\item 'zn'\n",
       "\\item 'indus'\n",
       "\\item 'chas'\n",
       "\\item 'nox'\n",
       "\\item 'rm'\n",
       "\\item 'age'\n",
       "\\item 'dis'\n",
       "\\item 'rad'\n",
       "\\item 'tax'\n",
       "\\item 'ptratio'\n",
       "\\item 'black'\n",
       "\\item 'lstat'\n",
       "\\item 'medv'\n",
       "\\end{enumerate*}\n"
      ],
      "text/markdown": [
       "1. 'crim'\n",
       "2. 'zn'\n",
       "3. 'indus'\n",
       "4. 'chas'\n",
       "5. 'nox'\n",
       "6. 'rm'\n",
       "7. 'age'\n",
       "8. 'dis'\n",
       "9. 'rad'\n",
       "10. 'tax'\n",
       "11. 'ptratio'\n",
       "12. 'black'\n",
       "13. 'lstat'\n",
       "14. 'medv'\n",
       "\n",
       "\n"
      ],
      "text/plain": [
       " [1] \"crim\"    \"zn\"      \"indus\"   \"chas\"    \"nox\"     \"rm\"      \"age\"    \n",
       " [8] \"dis\"     \"rad\"     \"tax\"     \"ptratio\" \"black\"   \"lstat\"   \"medv\"   "
      ]
     },
     "metadata": {},
     "output_type": "display_data"
    }
   ],
   "source": [
    "#Variable names \n",
    "colnames(Boston)"
   ]
  },
  {
   "cell_type": "code",
   "execution_count": 101,
   "id": "efdf99d0",
   "metadata": {},
   "outputs": [
    {
     "data": {
      "text/plain": [
       "\n",
       "Call:\n",
       "lm(formula = crim ~ chas, data = Boston)\n",
       "\n",
       "Residuals:\n",
       "   Min     1Q Median     3Q    Max \n",
       "-3.738 -3.661 -3.435  0.018 85.232 \n",
       "\n",
       "Coefficients:\n",
       "            Estimate Std. Error t value Pr(>|t|)    \n",
       "(Intercept)   3.7444     0.3961   9.453   <2e-16 ***\n",
       "chas         -1.8928     1.5061  -1.257    0.209    \n",
       "---\n",
       "Signif. codes:  0 '***' 0.001 '**' 0.01 '*' 0.05 '.' 0.1 ' ' 1\n",
       "\n",
       "Residual standard error: 8.597 on 504 degrees of freedom\n",
       "Multiple R-squared:  0.003124,\tAdjusted R-squared:  0.001146 \n",
       "F-statistic: 1.579 on 1 and 504 DF,  p-value: 0.2094\n"
      ]
     },
     "metadata": {},
     "output_type": "display_data"
    }
   ],
   "source": [
    "summary(lm(crim ~ chas, data = Boston)) "
   ]
  },
  {
   "cell_type": "code",
   "execution_count": 91,
   "id": "f8006169",
   "metadata": {},
   "outputs": [
    {
     "data": {
      "text/plain": [
       "\n",
       "Call:\n",
       "lm(formula = crim ~ nox, data = Boston)\n",
       "\n",
       "Residuals:\n",
       "    Min      1Q  Median      3Q     Max \n",
       "-12.371  -2.738  -0.974   0.559  81.728 \n",
       "\n",
       "Coefficients:\n",
       "            Estimate Std. Error t value Pr(>|t|)    \n",
       "(Intercept)  -13.720      1.699  -8.073 5.08e-15 ***\n",
       "nox           31.249      2.999  10.419  < 2e-16 ***\n",
       "---\n",
       "Signif. codes:  0 '***' 0.001 '**' 0.01 '*' 0.05 '.' 0.1 ' ' 1\n",
       "\n",
       "Residual standard error: 7.81 on 504 degrees of freedom\n",
       "Multiple R-squared:  0.1772,\tAdjusted R-squared:  0.1756 \n",
       "F-statistic: 108.6 on 1 and 504 DF,  p-value: < 2.2e-16\n"
      ]
     },
     "metadata": {},
     "output_type": "display_data"
    }
   ],
   "source": [
    "summary(lm(crim ~ nox, data = Boston))\n"
   ]
  },
  {
   "cell_type": "code",
   "execution_count": 92,
   "id": "070e308d",
   "metadata": {},
   "outputs": [
    {
     "data": {
      "text/plain": [
       "\n",
       "Call:\n",
       "lm(formula = crim ~ rm, data = Boston)\n",
       "\n",
       "Residuals:\n",
       "   Min     1Q Median     3Q    Max \n",
       "-6.604 -3.952 -2.654  0.989 87.197 \n",
       "\n",
       "Coefficients:\n",
       "            Estimate Std. Error t value Pr(>|t|)    \n",
       "(Intercept)   20.482      3.365   6.088 2.27e-09 ***\n",
       "rm            -2.684      0.532  -5.045 6.35e-07 ***\n",
       "---\n",
       "Signif. codes:  0 '***' 0.001 '**' 0.01 '*' 0.05 '.' 0.1 ' ' 1\n",
       "\n",
       "Residual standard error: 8.401 on 504 degrees of freedom\n",
       "Multiple R-squared:  0.04807,\tAdjusted R-squared:  0.04618 \n",
       "F-statistic: 25.45 on 1 and 504 DF,  p-value: 6.347e-07\n"
      ]
     },
     "metadata": {},
     "output_type": "display_data"
    }
   ],
   "source": [
    "summary(lm(crim ~ rm, data = Boston))\n"
   ]
  },
  {
   "cell_type": "code",
   "execution_count": 93,
   "id": "2347fda7",
   "metadata": {},
   "outputs": [
    {
     "data": {
      "text/plain": [
       "\n",
       "Call:\n",
       "lm(formula = crim ~ age, data = Boston)\n",
       "\n",
       "Residuals:\n",
       "   Min     1Q Median     3Q    Max \n",
       "-6.789 -4.257 -1.230  1.527 82.849 \n",
       "\n",
       "Coefficients:\n",
       "            Estimate Std. Error t value Pr(>|t|)    \n",
       "(Intercept) -3.77791    0.94398  -4.002 7.22e-05 ***\n",
       "age          0.10779    0.01274   8.463 2.85e-16 ***\n",
       "---\n",
       "Signif. codes:  0 '***' 0.001 '**' 0.01 '*' 0.05 '.' 0.1 ' ' 1\n",
       "\n",
       "Residual standard error: 8.057 on 504 degrees of freedom\n",
       "Multiple R-squared:  0.1244,\tAdjusted R-squared:  0.1227 \n",
       "F-statistic: 71.62 on 1 and 504 DF,  p-value: 2.855e-16\n"
      ]
     },
     "metadata": {},
     "output_type": "display_data"
    }
   ],
   "source": [
    "summary(lm(crim ~ age, data = Boston))\n"
   ]
  },
  {
   "cell_type": "code",
   "execution_count": 94,
   "id": "36de69a4",
   "metadata": {},
   "outputs": [
    {
     "data": {
      "text/plain": [
       "\n",
       "Call:\n",
       "lm(formula = crim ~ dis, data = Boston)\n",
       "\n",
       "Residuals:\n",
       "   Min     1Q Median     3Q    Max \n",
       "-6.708 -4.134 -1.527  1.516 81.674 \n",
       "\n",
       "Coefficients:\n",
       "            Estimate Std. Error t value Pr(>|t|)    \n",
       "(Intercept)   9.4993     0.7304  13.006   <2e-16 ***\n",
       "dis          -1.5509     0.1683  -9.213   <2e-16 ***\n",
       "---\n",
       "Signif. codes:  0 '***' 0.001 '**' 0.01 '*' 0.05 '.' 0.1 ' ' 1\n",
       "\n",
       "Residual standard error: 7.965 on 504 degrees of freedom\n",
       "Multiple R-squared:  0.1441,\tAdjusted R-squared:  0.1425 \n",
       "F-statistic: 84.89 on 1 and 504 DF,  p-value: < 2.2e-16\n"
      ]
     },
     "metadata": {},
     "output_type": "display_data"
    }
   ],
   "source": [
    "summary(lm(crim ~ dis, data = Boston))\n"
   ]
  },
  {
   "cell_type": "code",
   "execution_count": 95,
   "id": "0fd0c06c",
   "metadata": {},
   "outputs": [
    {
     "data": {
      "text/plain": [
       "\n",
       "Call:\n",
       "lm(formula = crim ~ rad, data = Boston)\n",
       "\n",
       "Residuals:\n",
       "    Min      1Q  Median      3Q     Max \n",
       "-10.164  -1.381  -0.141   0.660  76.433 \n",
       "\n",
       "Coefficients:\n",
       "            Estimate Std. Error t value Pr(>|t|)    \n",
       "(Intercept) -2.28716    0.44348  -5.157 3.61e-07 ***\n",
       "rad          0.61791    0.03433  17.998  < 2e-16 ***\n",
       "---\n",
       "Signif. codes:  0 '***' 0.001 '**' 0.01 '*' 0.05 '.' 0.1 ' ' 1\n",
       "\n",
       "Residual standard error: 6.718 on 504 degrees of freedom\n",
       "Multiple R-squared:  0.3913,\tAdjusted R-squared:   0.39 \n",
       "F-statistic: 323.9 on 1 and 504 DF,  p-value: < 2.2e-16\n"
      ]
     },
     "metadata": {},
     "output_type": "display_data"
    }
   ],
   "source": [
    "summary(lm(crim ~ rad, data = Boston))\n"
   ]
  },
  {
   "cell_type": "code",
   "execution_count": 96,
   "id": "99e64505",
   "metadata": {},
   "outputs": [
    {
     "data": {
      "text/plain": [
       "\n",
       "Call:\n",
       "lm(formula = crim ~ tax, data = Boston)\n",
       "\n",
       "Residuals:\n",
       "    Min      1Q  Median      3Q     Max \n",
       "-12.513  -2.738  -0.194   1.065  77.696 \n",
       "\n",
       "Coefficients:\n",
       "             Estimate Std. Error t value Pr(>|t|)    \n",
       "(Intercept) -8.528369   0.815809  -10.45   <2e-16 ***\n",
       "tax          0.029742   0.001847   16.10   <2e-16 ***\n",
       "---\n",
       "Signif. codes:  0 '***' 0.001 '**' 0.01 '*' 0.05 '.' 0.1 ' ' 1\n",
       "\n",
       "Residual standard error: 6.997 on 504 degrees of freedom\n",
       "Multiple R-squared:  0.3396,\tAdjusted R-squared:  0.3383 \n",
       "F-statistic: 259.2 on 1 and 504 DF,  p-value: < 2.2e-16\n"
      ]
     },
     "metadata": {},
     "output_type": "display_data"
    }
   ],
   "source": [
    "summary(lm(crim ~ tax, data = Boston))\n"
   ]
  },
  {
   "cell_type": "code",
   "execution_count": 97,
   "id": "fc3dcc14",
   "metadata": {},
   "outputs": [
    {
     "data": {
      "text/plain": [
       "\n",
       "Call:\n",
       "lm(formula = crim ~ ptratio, data = Boston)\n",
       "\n",
       "Residuals:\n",
       "   Min     1Q Median     3Q    Max \n",
       "-7.654 -3.985 -1.912  1.825 83.353 \n",
       "\n",
       "Coefficients:\n",
       "            Estimate Std. Error t value Pr(>|t|)    \n",
       "(Intercept) -17.6469     3.1473  -5.607 3.40e-08 ***\n",
       "ptratio       1.1520     0.1694   6.801 2.94e-11 ***\n",
       "---\n",
       "Signif. codes:  0 '***' 0.001 '**' 0.01 '*' 0.05 '.' 0.1 ' ' 1\n",
       "\n",
       "Residual standard error: 8.24 on 504 degrees of freedom\n",
       "Multiple R-squared:  0.08407,\tAdjusted R-squared:  0.08225 \n",
       "F-statistic: 46.26 on 1 and 504 DF,  p-value: 2.943e-11\n"
      ]
     },
     "metadata": {},
     "output_type": "display_data"
    }
   ],
   "source": [
    "summary(lm(crim ~ ptratio, data = Boston))\n"
   ]
  },
  {
   "cell_type": "code",
   "execution_count": 98,
   "id": "031288e6",
   "metadata": {},
   "outputs": [
    {
     "data": {
      "text/plain": [
       "\n",
       "Call:\n",
       "lm(formula = crim ~ black, data = Boston)\n",
       "\n",
       "Residuals:\n",
       "    Min      1Q  Median      3Q     Max \n",
       "-13.756  -2.299  -2.095  -1.296  86.822 \n",
       "\n",
       "Coefficients:\n",
       "             Estimate Std. Error t value Pr(>|t|)    \n",
       "(Intercept) 16.553529   1.425903  11.609   <2e-16 ***\n",
       "black       -0.036280   0.003873  -9.367   <2e-16 ***\n",
       "---\n",
       "Signif. codes:  0 '***' 0.001 '**' 0.01 '*' 0.05 '.' 0.1 ' ' 1\n",
       "\n",
       "Residual standard error: 7.946 on 504 degrees of freedom\n",
       "Multiple R-squared:  0.1483,\tAdjusted R-squared:  0.1466 \n",
       "F-statistic: 87.74 on 1 and 504 DF,  p-value: < 2.2e-16\n"
      ]
     },
     "metadata": {},
     "output_type": "display_data"
    }
   ],
   "source": [
    "summary(lm(crim ~ black, data = Boston))\n"
   ]
  },
  {
   "cell_type": "code",
   "execution_count": 99,
   "id": "5c7d6ca9",
   "metadata": {},
   "outputs": [
    {
     "data": {
      "text/plain": [
       "\n",
       "Call:\n",
       "lm(formula = crim ~ lstat, data = Boston)\n",
       "\n",
       "Residuals:\n",
       "    Min      1Q  Median      3Q     Max \n",
       "-13.925  -2.822  -0.664   1.079  82.862 \n",
       "\n",
       "Coefficients:\n",
       "            Estimate Std. Error t value Pr(>|t|)    \n",
       "(Intercept) -3.33054    0.69376  -4.801 2.09e-06 ***\n",
       "lstat        0.54880    0.04776  11.491  < 2e-16 ***\n",
       "---\n",
       "Signif. codes:  0 '***' 0.001 '**' 0.01 '*' 0.05 '.' 0.1 ' ' 1\n",
       "\n",
       "Residual standard error: 7.664 on 504 degrees of freedom\n",
       "Multiple R-squared:  0.2076,\tAdjusted R-squared:  0.206 \n",
       "F-statistic:   132 on 1 and 504 DF,  p-value: < 2.2e-16\n"
      ]
     },
     "metadata": {},
     "output_type": "display_data"
    }
   ],
   "source": [
    "summary(lm(crim ~ lstat, data = Boston))\n"
   ]
  },
  {
   "cell_type": "code",
   "execution_count": 100,
   "id": "68191697",
   "metadata": {},
   "outputs": [
    {
     "data": {
      "text/plain": [
       "\n",
       "Call:\n",
       "lm(formula = crim ~ medv, data = Boston)\n",
       "\n",
       "Residuals:\n",
       "   Min     1Q Median     3Q    Max \n",
       "-9.071 -4.022 -2.343  1.298 80.957 \n",
       "\n",
       "Coefficients:\n",
       "            Estimate Std. Error t value Pr(>|t|)    \n",
       "(Intercept) 11.79654    0.93419   12.63   <2e-16 ***\n",
       "medv        -0.36316    0.03839   -9.46   <2e-16 ***\n",
       "---\n",
       "Signif. codes:  0 '***' 0.001 '**' 0.01 '*' 0.05 '.' 0.1 ' ' 1\n",
       "\n",
       "Residual standard error: 7.934 on 504 degrees of freedom\n",
       "Multiple R-squared:  0.1508,\tAdjusted R-squared:  0.1491 \n",
       "F-statistic: 89.49 on 1 and 504 DF,  p-value: < 2.2e-16\n"
      ]
     },
     "metadata": {},
     "output_type": "display_data"
    }
   ],
   "source": [
    "summary(lm(crim ~ medv, data = Boston))"
   ]
  },
  {
   "cell_type": "markdown",
   "id": "d1da5de9",
   "metadata": {},
   "source": [
    "Based on the p-values from the above summary,we can see that Predictors (zn, indus, nox, rm, age, dis, rad, tax, ptratio, black, lstat, medv) has signification association with response(Crim).(P-value < 0.05 and statistically significant)"
   ]
  },
  {
   "cell_type": "markdown",
   "id": "dc98c70a",
   "metadata": {},
   "source": [
    "## solution B"
   ]
  },
  {
   "cell_type": "code",
   "execution_count": 102,
   "id": "aa697461",
   "metadata": {},
   "outputs": [
    {
     "data": {
      "text/plain": [
       "\n",
       "Call:\n",
       "lm(formula = crim ~ . - crim, data = Boston)\n",
       "\n",
       "Residuals:\n",
       "   Min     1Q Median     3Q    Max \n",
       "-9.924 -2.120 -0.353  1.019 75.051 \n",
       "\n",
       "Coefficients:\n",
       "              Estimate Std. Error t value Pr(>|t|)    \n",
       "(Intercept)  17.033228   7.234903   2.354 0.018949 *  \n",
       "zn            0.044855   0.018734   2.394 0.017025 *  \n",
       "indus        -0.063855   0.083407  -0.766 0.444294    \n",
       "chas         -0.749134   1.180147  -0.635 0.525867    \n",
       "nox         -10.313535   5.275536  -1.955 0.051152 .  \n",
       "rm            0.430131   0.612830   0.702 0.483089    \n",
       "age           0.001452   0.017925   0.081 0.935488    \n",
       "dis          -0.987176   0.281817  -3.503 0.000502 ***\n",
       "rad           0.588209   0.088049   6.680 6.46e-11 ***\n",
       "tax          -0.003780   0.005156  -0.733 0.463793    \n",
       "ptratio      -0.271081   0.186450  -1.454 0.146611    \n",
       "black        -0.007538   0.003673  -2.052 0.040702 *  \n",
       "lstat         0.126211   0.075725   1.667 0.096208 .  \n",
       "medv         -0.198887   0.060516  -3.287 0.001087 ** \n",
       "---\n",
       "Signif. codes:  0 '***' 0.001 '**' 0.01 '*' 0.05 '.' 0.1 ' ' 1\n",
       "\n",
       "Residual standard error: 6.439 on 492 degrees of freedom\n",
       "Multiple R-squared:  0.454,\tAdjusted R-squared:  0.4396 \n",
       "F-statistic: 31.47 on 13 and 492 DF,  p-value: < 2.2e-16\n"
      ]
     },
     "metadata": {},
     "output_type": "display_data"
    }
   ],
   "source": [
    "## Fit the regression for all variables\n",
    "summary(lm(crim ~ . - crim, data = Boston))"
   ]
  },
  {
   "cell_type": "markdown",
   "id": "51ba2ba8",
   "metadata": {},
   "source": [
    " From the above summary,we can conclude that we can Reject Null Hypotheses and accept the alternate hypothesis for the predictors zn, dis, rad, black, medv.(p-value <0.05)"
   ]
  },
  {
   "cell_type": "markdown",
   "id": "5a330f33",
   "metadata": {},
   "source": [
    "## Solution C"
   ]
  },
  {
   "cell_type": "code",
   "execution_count": 118,
   "id": "0fb52c8b",
   "metadata": {},
   "outputs": [],
   "source": [
    "#univariate regression coefficients\n",
    "univ_reg.coef <- c(coefficients(lm(crim ~ zn, data = Boston))[2],\n",
    "              coefficients(lm(crim ~ indus, data = Boston))[2],\n",
    "              coefficients(lm(crim ~ chas, data = Boston))[2],\n",
    "              coefficients(lm(crim ~ nox, data = Boston))[2],\n",
    "              coefficients(lm(crim ~ rm, data = Boston))[2],\n",
    "              coefficients(lm(crim ~ age, data = Boston))[2],\n",
    "              coefficients(lm(crim ~ dis, data = Boston))[2],\n",
    "              coefficients(lm(crim ~ rad, data = Boston))[2],\n",
    "              coefficients(lm(crim ~ tax, data = Boston))[2],\n",
    "              coefficients(lm(crim ~ ptratio, data = Boston))[2],\n",
    "              coefficients(lm(crim ~ black, data = Boston))[2],\n",
    "              coefficients(lm(crim ~ lstat, data = Boston))[2],\n",
    "              coefficients(lm(crim ~ medv, data = Boston))[2])\n",
    "\n",
    "#Multiple regression coefficients\n",
    "multi_reg.coef <- coefficients(lm(crim ~ . - crim, data = Boston))[-1] #discard intercept\n"
   ]
  },
  {
   "cell_type": "code",
   "execution_count": 123,
   "id": "94b8670e",
   "metadata": {
    "scrolled": false
   },
   "outputs": [
    {
     "data": {
      "image/png": "[encoded data removed]",
      "text/plain": [
       "Plot with title \"Simple linear Regression vs Multiple linear Regression\""
      ]
     },
     "metadata": {
      "image/png": {
       "height": 480,
       "width": 480
      }
     },
     "output_type": "display_data"
    }
   ],
   "source": [
    "options(repr.plot.width=8, repr.plot.height=8) \n",
    "plot(univ_reg.coef,multi_reg.coef,col= \"red\",main = \"Simple linear Regression vs Multiple linear Regression\") "
   ]
  },
  {
   "cell_type": "markdown",
   "id": "d148628b",
   "metadata": {},
   "source": [
    "There is a huge difference between the SLR and MLR"
   ]
  },
  {
   "cell_type": "markdown",
   "id": "0413905e",
   "metadata": {},
   "source": [
    "## Solution D"
   ]
  },
  {
   "cell_type": "code",
   "execution_count": 124,
   "id": "39802f5b",
   "metadata": {},
   "outputs": [],
   "source": [
    "#Ref: https://stackoverflow.com/questions/19484053/what-does-the-r-function-poly-really-do \n",
    "     #https://rstudio-pubs-static.s3.amazonaws.com/316011_cc64e8e01bdb4c908bb443d718b706f1.html\n",
    "     \n"
   ]
  },
  {
   "cell_type": "code",
   "execution_count": null,
   "id": "ec25353e",
   "metadata": {},
   "outputs": [],
   "source": [
    "#fit a model in the form - Y = β0 + β1X + β2X2 + β3X3 + ...\n",
    "# let us use the poly function the regression model to fit for each variables \n"
   ]
  },
  {
   "cell_type": "code",
   "execution_count": 125,
   "id": "7d3d78a8",
   "metadata": {},
   "outputs": [
    {
     "data": {
      "text/plain": [
       "\n",
       "Call:\n",
       "lm(formula = crim ~ poly(zn, 3), data = Boston)\n",
       "\n",
       "Residuals:\n",
       "   Min     1Q Median     3Q    Max \n",
       "-4.821 -4.614 -1.294  0.473 84.130 \n",
       "\n",
       "Coefficients:\n",
       "             Estimate Std. Error t value Pr(>|t|)    \n",
       "(Intercept)    3.6135     0.3722   9.709  < 2e-16 ***\n",
       "poly(zn, 3)1 -38.7498     8.3722  -4.628  4.7e-06 ***\n",
       "poly(zn, 3)2  23.9398     8.3722   2.859  0.00442 ** \n",
       "poly(zn, 3)3 -10.0719     8.3722  -1.203  0.22954    \n",
       "---\n",
       "Signif. codes:  0 '***' 0.001 '**' 0.01 '*' 0.05 '.' 0.1 ' ' 1\n",
       "\n",
       "Residual standard error: 8.372 on 502 degrees of freedom\n",
       "Multiple R-squared:  0.05824,\tAdjusted R-squared:  0.05261 \n",
       "F-statistic: 10.35 on 3 and 502 DF,  p-value: 1.281e-06\n"
      ]
     },
     "metadata": {},
     "output_type": "display_data"
    }
   ],
   "source": [
    "summary(lm(crim ~ poly(zn, 3), data = Boston)) # Polynomial regression (degree = 3)"
   ]
  },
  {
   "cell_type": "code",
   "execution_count": 126,
   "id": "6a707ca5",
   "metadata": {},
   "outputs": [
    {
     "data": {
      "text/plain": [
       "\n",
       "Call:\n",
       "lm(formula = crim ~ poly(indus, 3), data = Boston)\n",
       "\n",
       "Residuals:\n",
       "   Min     1Q Median     3Q    Max \n",
       "-8.278 -2.514  0.054  0.764 79.713 \n",
       "\n",
       "Coefficients:\n",
       "                Estimate Std. Error t value Pr(>|t|)    \n",
       "(Intercept)        3.614      0.330  10.950  < 2e-16 ***\n",
       "poly(indus, 3)1   78.591      7.423  10.587  < 2e-16 ***\n",
       "poly(indus, 3)2  -24.395      7.423  -3.286  0.00109 ** \n",
       "poly(indus, 3)3  -54.130      7.423  -7.292  1.2e-12 ***\n",
       "---\n",
       "Signif. codes:  0 '***' 0.001 '**' 0.01 '*' 0.05 '.' 0.1 ' ' 1\n",
       "\n",
       "Residual standard error: 7.423 on 502 degrees of freedom\n",
       "Multiple R-squared:  0.2597,\tAdjusted R-squared:  0.2552 \n",
       "F-statistic: 58.69 on 3 and 502 DF,  p-value: < 2.2e-16\n"
      ]
     },
     "metadata": {},
     "output_type": "display_data"
    }
   ],
   "source": [
    "summary(lm(crim ~ poly(indus, 3), data = Boston)) # Polynomial regression (degree = 3)"
   ]
  },
  {
   "cell_type": "code",
   "execution_count": 127,
   "id": "d67cf985",
   "metadata": {},
   "outputs": [
    {
     "ename": "ERROR",
     "evalue": "Error in poly(chas, 3): 'degree' must be less than number of unique points\n",
     "output_type": "error",
     "traceback": [
      "Error in poly(chas, 3): 'degree' must be less than number of unique points\nTraceback:\n",
      "1. summary(lm(crim ~ poly(chas, 3), data = Boston))",
      "2. lm(crim ~ poly(chas, 3), data = Boston)",
      "3. eval(mf, parent.frame())",
      "4. eval(mf, parent.frame())",
      "5. stats::model.frame(formula = crim ~ poly(chas, 3), data = Boston, \n .     drop.unused.levels = TRUE)",
      "6. model.frame.default(formula = crim ~ poly(chas, 3), data = Boston, \n .     drop.unused.levels = TRUE)",
      "7. eval(predvars, data, env)",
      "8. eval(predvars, data, env)",
      "9. poly(chas, 3)",
      "10. stop(\"'degree' must be less than number of unique points\")"
     ]
    }
   ],
   "source": [
    "summary(lm(crim ~ poly(chas, 3), data = Boston)) # Polynomial regression (degree = 3)"
   ]
  },
  {
   "cell_type": "code",
   "execution_count": 128,
   "id": "2ea0c224",
   "metadata": {},
   "outputs": [
    {
     "data": {
      "text/plain": [
       "\n",
       "Call:\n",
       "lm(formula = crim ~ poly(nox, 3), data = Boston)\n",
       "\n",
       "Residuals:\n",
       "   Min     1Q Median     3Q    Max \n",
       "-9.110 -2.068 -0.255  0.739 78.302 \n",
       "\n",
       "Coefficients:\n",
       "              Estimate Std. Error t value Pr(>|t|)    \n",
       "(Intercept)     3.6135     0.3216  11.237  < 2e-16 ***\n",
       "poly(nox, 3)1  81.3720     7.2336  11.249  < 2e-16 ***\n",
       "poly(nox, 3)2 -28.8286     7.2336  -3.985 7.74e-05 ***\n",
       "poly(nox, 3)3 -60.3619     7.2336  -8.345 6.96e-16 ***\n",
       "---\n",
       "Signif. codes:  0 '***' 0.001 '**' 0.01 '*' 0.05 '.' 0.1 ' ' 1\n",
       "\n",
       "Residual standard error: 7.234 on 502 degrees of freedom\n",
       "Multiple R-squared:  0.297,\tAdjusted R-squared:  0.2928 \n",
       "F-statistic: 70.69 on 3 and 502 DF,  p-value: < 2.2e-16\n"
      ]
     },
     "metadata": {},
     "output_type": "display_data"
    }
   ],
   "source": [
    "summary(lm(crim ~ poly(nox, 3), data = Boston)) # Polynomial regression (degree = 3)"
   ]
  },
  {
   "cell_type": "code",
   "execution_count": 129,
   "id": "9e457281",
   "metadata": {},
   "outputs": [
    {
     "data": {
      "text/plain": [
       "\n",
       "Call:\n",
       "lm(formula = crim ~ poly(rm, 3), data = Boston)\n",
       "\n",
       "Residuals:\n",
       "    Min      1Q  Median      3Q     Max \n",
       "-18.485  -3.468  -2.221  -0.015  87.219 \n",
       "\n",
       "Coefficients:\n",
       "             Estimate Std. Error t value Pr(>|t|)    \n",
       "(Intercept)    3.6135     0.3703   9.758  < 2e-16 ***\n",
       "poly(rm, 3)1 -42.3794     8.3297  -5.088 5.13e-07 ***\n",
       "poly(rm, 3)2  26.5768     8.3297   3.191  0.00151 ** \n",
       "poly(rm, 3)3  -5.5103     8.3297  -0.662  0.50858    \n",
       "---\n",
       "Signif. codes:  0 '***' 0.001 '**' 0.01 '*' 0.05 '.' 0.1 ' ' 1\n",
       "\n",
       "Residual standard error: 8.33 on 502 degrees of freedom\n",
       "Multiple R-squared:  0.06779,\tAdjusted R-squared:  0.06222 \n",
       "F-statistic: 12.17 on 3 and 502 DF,  p-value: 1.067e-07\n"
      ]
     },
     "metadata": {},
     "output_type": "display_data"
    }
   ],
   "source": [
    "summary(lm(crim ~ poly(rm, 3), data = Boston)) # Polynomial regression (degree = 3)"
   ]
  },
  {
   "cell_type": "code",
   "execution_count": 130,
   "id": "cc0b43c1",
   "metadata": {},
   "outputs": [
    {
     "data": {
      "text/plain": [
       "\n",
       "Call:\n",
       "lm(formula = crim ~ poly(age, 3), data = Boston)\n",
       "\n",
       "Residuals:\n",
       "   Min     1Q Median     3Q    Max \n",
       "-9.762 -2.673 -0.516  0.019 82.842 \n",
       "\n",
       "Coefficients:\n",
       "              Estimate Std. Error t value Pr(>|t|)    \n",
       "(Intercept)     3.6135     0.3485  10.368  < 2e-16 ***\n",
       "poly(age, 3)1  68.1820     7.8397   8.697  < 2e-16 ***\n",
       "poly(age, 3)2  37.4845     7.8397   4.781 2.29e-06 ***\n",
       "poly(age, 3)3  21.3532     7.8397   2.724  0.00668 ** \n",
       "---\n",
       "Signif. codes:  0 '***' 0.001 '**' 0.01 '*' 0.05 '.' 0.1 ' ' 1\n",
       "\n",
       "Residual standard error: 7.84 on 502 degrees of freedom\n",
       "Multiple R-squared:  0.1742,\tAdjusted R-squared:  0.1693 \n",
       "F-statistic: 35.31 on 3 and 502 DF,  p-value: < 2.2e-16\n"
      ]
     },
     "metadata": {},
     "output_type": "display_data"
    }
   ],
   "source": [
    "summary(lm(crim ~ poly(age, 3), data = Boston)) # Polynomial regression (degree = 3)"
   ]
  },
  {
   "cell_type": "code",
   "execution_count": 131,
   "id": "17a8ced7",
   "metadata": {},
   "outputs": [
    {
     "data": {
      "text/plain": [
       "\n",
       "Call:\n",
       "lm(formula = crim ~ poly(dis, 3), data = Boston)\n",
       "\n",
       "Residuals:\n",
       "    Min      1Q  Median      3Q     Max \n",
       "-10.757  -2.588   0.031   1.267  76.378 \n",
       "\n",
       "Coefficients:\n",
       "              Estimate Std. Error t value Pr(>|t|)    \n",
       "(Intercept)     3.6135     0.3259  11.087  < 2e-16 ***\n",
       "poly(dis, 3)1 -73.3886     7.3315 -10.010  < 2e-16 ***\n",
       "poly(dis, 3)2  56.3730     7.3315   7.689 7.87e-14 ***\n",
       "poly(dis, 3)3 -42.6219     7.3315  -5.814 1.09e-08 ***\n",
       "---\n",
       "Signif. codes:  0 '***' 0.001 '**' 0.01 '*' 0.05 '.' 0.1 ' ' 1\n",
       "\n",
       "Residual standard error: 7.331 on 502 degrees of freedom\n",
       "Multiple R-squared:  0.2778,\tAdjusted R-squared:  0.2735 \n",
       "F-statistic: 64.37 on 3 and 502 DF,  p-value: < 2.2e-16\n"
      ]
     },
     "metadata": {},
     "output_type": "display_data"
    }
   ],
   "source": [
    "summary(lm(crim ~ poly(dis, 3), data = Boston)) # Polynomial regression (degree = 3)"
   ]
  },
  {
   "cell_type": "code",
   "execution_count": 132,
   "id": "0d394ae5",
   "metadata": {},
   "outputs": [
    {
     "data": {
      "text/plain": [
       "\n",
       "Call:\n",
       "lm(formula = crim ~ poly(rad, 3), data = Boston)\n",
       "\n",
       "Residuals:\n",
       "    Min      1Q  Median      3Q     Max \n",
       "-10.381  -0.412  -0.269   0.179  76.217 \n",
       "\n",
       "Coefficients:\n",
       "              Estimate Std. Error t value Pr(>|t|)    \n",
       "(Intercept)     3.6135     0.2971  12.164  < 2e-16 ***\n",
       "poly(rad, 3)1 120.9074     6.6824  18.093  < 2e-16 ***\n",
       "poly(rad, 3)2  17.4923     6.6824   2.618  0.00912 ** \n",
       "poly(rad, 3)3   4.6985     6.6824   0.703  0.48231    \n",
       "---\n",
       "Signif. codes:  0 '***' 0.001 '**' 0.01 '*' 0.05 '.' 0.1 ' ' 1\n",
       "\n",
       "Residual standard error: 6.682 on 502 degrees of freedom\n",
       "Multiple R-squared:    0.4,\tAdjusted R-squared:  0.3965 \n",
       "F-statistic: 111.6 on 3 and 502 DF,  p-value: < 2.2e-16\n"
      ]
     },
     "metadata": {},
     "output_type": "display_data"
    }
   ],
   "source": [
    "summary(lm(crim ~ poly(rad, 3), data = Boston)) # Polynomial regression (degree = 3)"
   ]
  },
  {
   "cell_type": "code",
   "execution_count": 133,
   "id": "cf58ce0b",
   "metadata": {},
   "outputs": [
    {
     "ename": "ERROR",
     "evalue": "Error in vsummary(lm(crim ~ poly(tax, 3), data = Boston)): could not find function \"vsummary\"\n",
     "output_type": "error",
     "traceback": [
      "Error in vsummary(lm(crim ~ poly(tax, 3), data = Boston)): could not find function \"vsummary\"\nTraceback:\n"
     ]
    }
   ],
   "source": [
    "vsummary(lm(crim ~ poly(tax, 3), data = Boston)) # Polynomial regression (degree = 3)"
   ]
  },
  {
   "cell_type": "code",
   "execution_count": 134,
   "id": "cbfa5b2d",
   "metadata": {},
   "outputs": [
    {
     "data": {
      "text/plain": [
       "\n",
       "Call:\n",
       "lm(formula = crim ~ poly(ptratio, 3), data = Boston)\n",
       "\n",
       "Residuals:\n",
       "   Min     1Q Median     3Q    Max \n",
       "-6.833 -4.146 -1.655  1.408 82.697 \n",
       "\n",
       "Coefficients:\n",
       "                  Estimate Std. Error t value Pr(>|t|)    \n",
       "(Intercept)          3.614      0.361  10.008  < 2e-16 ***\n",
       "poly(ptratio, 3)1   56.045      8.122   6.901 1.57e-11 ***\n",
       "poly(ptratio, 3)2   24.775      8.122   3.050  0.00241 ** \n",
       "poly(ptratio, 3)3  -22.280      8.122  -2.743  0.00630 ** \n",
       "---\n",
       "Signif. codes:  0 '***' 0.001 '**' 0.01 '*' 0.05 '.' 0.1 ' ' 1\n",
       "\n",
       "Residual standard error: 8.122 on 502 degrees of freedom\n",
       "Multiple R-squared:  0.1138,\tAdjusted R-squared:  0.1085 \n",
       "F-statistic: 21.48 on 3 and 502 DF,  p-value: 4.171e-13\n"
      ]
     },
     "metadata": {},
     "output_type": "display_data"
    }
   ],
   "source": [
    "summary(lm(crim ~ poly(ptratio, 3), data = Boston)) # Polynomial regression (degree = 3)"
   ]
  },
  {
   "cell_type": "code",
   "execution_count": 135,
   "id": "71d56fd6",
   "metadata": {},
   "outputs": [
    {
     "data": {
      "text/plain": [
       "\n",
       "Call:\n",
       "lm(formula = crim ~ poly(black, 3), data = Boston)\n",
       "\n",
       "Residuals:\n",
       "    Min      1Q  Median      3Q     Max \n",
       "-13.096  -2.343  -2.128  -1.439  86.790 \n",
       "\n",
       "Coefficients:\n",
       "                Estimate Std. Error t value Pr(>|t|)    \n",
       "(Intercept)       3.6135     0.3536  10.218   <2e-16 ***\n",
       "poly(black, 3)1 -74.4312     7.9546  -9.357   <2e-16 ***\n",
       "poly(black, 3)2   5.9264     7.9546   0.745    0.457    \n",
       "poly(black, 3)3  -4.8346     7.9546  -0.608    0.544    \n",
       "---\n",
       "Signif. codes:  0 '***' 0.001 '**' 0.01 '*' 0.05 '.' 0.1 ' ' 1\n",
       "\n",
       "Residual standard error: 7.955 on 502 degrees of freedom\n",
       "Multiple R-squared:  0.1498,\tAdjusted R-squared:  0.1448 \n",
       "F-statistic: 29.49 on 3 and 502 DF,  p-value: < 2.2e-16\n"
      ]
     },
     "metadata": {},
     "output_type": "display_data"
    }
   ],
   "source": [
    "summary(lm(crim ~ poly(black, 3), data = Boston)) # Polynomial regression (degree = 3)"
   ]
  },
  {
   "cell_type": "code",
   "execution_count": 136,
   "id": "d1b110c0",
   "metadata": {},
   "outputs": [
    {
     "data": {
      "text/plain": [
       "\n",
       "Call:\n",
       "lm(formula = crim ~ poly(lstat, 3), data = Boston)\n",
       "\n",
       "Residuals:\n",
       "    Min      1Q  Median      3Q     Max \n",
       "-15.234  -2.151  -0.486   0.066  83.353 \n",
       "\n",
       "Coefficients:\n",
       "                Estimate Std. Error t value Pr(>|t|)    \n",
       "(Intercept)       3.6135     0.3392  10.654   <2e-16 ***\n",
       "poly(lstat, 3)1  88.0697     7.6294  11.543   <2e-16 ***\n",
       "poly(lstat, 3)2  15.8882     7.6294   2.082   0.0378 *  \n",
       "poly(lstat, 3)3 -11.5740     7.6294  -1.517   0.1299    \n",
       "---\n",
       "Signif. codes:  0 '***' 0.001 '**' 0.01 '*' 0.05 '.' 0.1 ' ' 1\n",
       "\n",
       "Residual standard error: 7.629 on 502 degrees of freedom\n",
       "Multiple R-squared:  0.2179,\tAdjusted R-squared:  0.2133 \n",
       "F-statistic: 46.63 on 3 and 502 DF,  p-value: < 2.2e-16\n"
      ]
     },
     "metadata": {},
     "output_type": "display_data"
    }
   ],
   "source": [
    "summary(lm(crim ~ poly(lstat, 3), data = Boston)) # Polynomial regression (degree = 3)"
   ]
  },
  {
   "cell_type": "code",
   "execution_count": 137,
   "id": "ef3bdaac",
   "metadata": {},
   "outputs": [
    {
     "data": {
      "text/plain": [
       "\n",
       "Call:\n",
       "lm(formula = crim ~ poly(medv, 3), data = Boston)\n",
       "\n",
       "Residuals:\n",
       "    Min      1Q  Median      3Q     Max \n",
       "-24.427  -1.976  -0.437   0.439  73.655 \n",
       "\n",
       "Coefficients:\n",
       "               Estimate Std. Error t value Pr(>|t|)    \n",
       "(Intercept)       3.614      0.292  12.374  < 2e-16 ***\n",
       "poly(medv, 3)1  -75.058      6.569 -11.426  < 2e-16 ***\n",
       "poly(medv, 3)2   88.086      6.569  13.409  < 2e-16 ***\n",
       "poly(medv, 3)3  -48.033      6.569  -7.312 1.05e-12 ***\n",
       "---\n",
       "Signif. codes:  0 '***' 0.001 '**' 0.01 '*' 0.05 '.' 0.1 ' ' 1\n",
       "\n",
       "Residual standard error: 6.569 on 502 degrees of freedom\n",
       "Multiple R-squared:  0.4202,\tAdjusted R-squared:  0.4167 \n",
       "F-statistic: 121.3 on 3 and 502 DF,  p-value: < 2.2e-16\n"
      ]
     },
     "metadata": {},
     "output_type": "display_data"
    }
   ],
   "source": [
    "summary(lm(crim ~ poly(medv, 3), data = Boston)) # Polynomial regression (degree = 3)"
   ]
  },
  {
   "cell_type": "markdown",
   "id": "c582b21b",
   "metadata": {},
   "source": [
    "from the above summary,we cans see that the variables (indus, nox, dis, ptratio, medv) are statistically significant .Hence we reject the null hypothesis.Only these variables have these evidence of non linear relationship"
   ]
  },
  {
   "cell_type": "code",
   "execution_count": null,
   "id": "aee8dfe3",
   "metadata": {},
   "outputs": [],
   "source": []
  }
 ],
 "metadata": {
  "kernelspec": {
   "display_name": "R",
   "language": "R",
   "name": "ir"
  },
  "language_info": {
   "codemirror_mode": "r",
   "file_extension": ".r",
   "mimetype": "text/x-r-source",
   "name": "R",
   "pygments_lexer": "r",
   "version": "4.0.5"
  }
 },
 "nbformat": 4,
 "nbformat_minor": 5
}
