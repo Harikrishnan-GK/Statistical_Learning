{
 "cells": [
  {
   "cell_type": "markdown",
   "id": "d37ba75b",
   "metadata": {},
   "source": [
    "![ieseg logo](./img/ieseg.png)\n",
    "\n",
    "#### MBD 2021-2022\n",
    "# Statistical & Machine Learning Approaches for Marketing\n",
    "\n",
    "## Section 7: Neural Networks\n",
    "\n",
    "<b>Harikrishnan Gopalakrishnan"
   ]
  },
  {
   "cell_type": "markdown",
   "id": "6cbdd071",
   "metadata": {},
   "source": [
    "#### 1. Import all required libraries and datasets"
   ]
  },
  {
   "cell_type": "code",
   "execution_count": 1,
   "id": "a25a2ef8",
   "metadata": {},
   "outputs": [
    {
     "name": "stderr",
     "output_type": "stream",
     "text": [
      "Loading required package: ParamHelpers\n",
      "\n",
      "Warning message: 'mlr' is in 'maintenance-only' mode since July 2019.\n",
      "Future development will only happen in 'mlr3'\n",
      "(<https://mlr3.mlr-org.com>). Due to the focus on 'mlr3' there might be\n",
      "uncaught bugs meanwhile in {mlr} - please consider switching.\n",
      "\n",
      "Loading required package: ggplot2\n",
      "\n",
      "Loading required package: lattice\n",
      "\n",
      "\n",
      "Attaching package: 'caret'\n",
      "\n",
      "\n",
      "The following object is masked from 'package:mlr':\n",
      "\n",
      "    train\n",
      "\n",
      "\n",
      "randomForest 4.6-14\n",
      "\n",
      "Type rfNews() to see new features/changes/bug fixes.\n",
      "\n",
      "\n",
      "Attaching package: 'randomForest'\n",
      "\n",
      "\n",
      "The following object is masked from 'package:ggplot2':\n",
      "\n",
      "    margin\n",
      "\n",
      "\n",
      "Loading required package: rpart\n",
      "\n",
      "Loading required package: foreach\n",
      "\n",
      "Loading required package: doParallel\n",
      "\n",
      "Loading required package: iterators\n",
      "\n",
      "Loading required package: parallel\n",
      "\n",
      "\n",
      "Attaching package: 'e1071'\n",
      "\n",
      "\n",
      "The following object is masked from 'package:mlr':\n",
      "\n",
      "    impute\n",
      "\n",
      "\n",
      "\n",
      "Attaching package: 'plotly'\n",
      "\n",
      "\n",
      "The following object is masked from 'package:ggplot2':\n",
      "\n",
      "    last_plot\n",
      "\n",
      "\n",
      "The following object is masked from 'package:stats':\n",
      "\n",
      "    filter\n",
      "\n",
      "\n",
      "The following object is masked from 'package:graphics':\n",
      "\n",
      "    layout\n",
      "\n",
      "\n",
      "\n",
      "Attaching package: 'MASS'\n",
      "\n",
      "\n",
      "The following object is masked from 'package:plotly':\n",
      "\n",
      "    select\n",
      "\n",
      "\n"
     ]
    }
   ],
   "source": [
    "# Set environment params\n",
    "Sys.setenv(LANG='en')  # English\n",
    "\n",
    "# Import libraries\n",
    "library(mlr)           # ML toolkit\n",
    "library(caret)         # ML toolkit\n",
    "library(nnet)          # class.ind() function\n",
    "library(neuralnet)     # Deep Neural Networks\n",
    "library(LiblineaR)     # LR Lasso (l1)\n",
    "library(randomForest)  # Random Forest\n",
    "library(adabag)        # Boosting\n",
    "library(e1071)         # SVM\n",
    "library(ggplot2)       # Visualization\n",
    "library(plotly)        # 3D visualization\n",
    "\n",
    "# Import data\n",
    "library(ISLR)      # Data from the course book\n",
    "library(MASS)      # Boston housing dataset\n",
    "library(datasets)  # US crime dataset\n",
    "\n",
    "# Resize plot\n",
    "library(repr)  # String and binary representations\n"
   ]
  },
  {
   "cell_type": "markdown",
   "id": "f95c3ac6",
   "metadata": {},
   "source": [
    "## Read the data "
   ]
  },
  {
   "cell_type": "code",
   "execution_count": 5,
   "id": "2788a6dc",
   "metadata": {},
   "outputs": [],
   "source": [
    "#read the data\n",
    "bank_df =read.csv(\"./data/bankruptcy_prediction/data.csv\",header = TRUE)"
   ]
  },
  {
   "cell_type": "code",
   "execution_count": 6,
   "id": "e8c27b2f",
   "metadata": {},
   "outputs": [
    {
     "data": {
      "text/html": [
       "<table class=\"dataframe\">\n",
       "<caption>A data.frame: 6 × 96</caption>\n",
       "<thead>\n",
       "\t<tr><th></th><th scope=col>Bankrupt.</th><th scope=col>ROA.C..before.interest.and.depreciation.before.interest</th><th scope=col>ROA.A..before.interest.and...after.tax</th><th scope=col>ROA.B..before.interest.and.depreciation.after.tax</th><th scope=col>Operating.Gross.Margin</th><th scope=col>Realized.Sales.Gross.Margin</th><th scope=col>Operating.Profit.Rate</th><th scope=col>Pre.tax.net.Interest.Rate</th><th scope=col>After.tax.net.Interest.Rate</th><th scope=col>Non.industry.income.and.expenditure.revenue</th><th scope=col>⋯</th><th scope=col>Net.Income.to.Total.Assets</th><th scope=col>Total.assets.to.GNP.price</th><th scope=col>No.credit.Interval</th><th scope=col>Gross.Profit.to.Sales</th><th scope=col>Net.Income.to.Stockholder.s.Equity</th><th scope=col>Liability.to.Equity</th><th scope=col>Degree.of.Financial.Leverage..DFL.</th><th scope=col>Interest.Coverage.Ratio..Interest.expense.to.EBIT.</th><th scope=col>Net.Income.Flag</th><th scope=col>Equity.to.Liability</th></tr>\n",
       "\t<tr><th></th><th scope=col>&lt;int&gt;</th><th scope=col>&lt;dbl&gt;</th><th scope=col>&lt;dbl&gt;</th><th scope=col>&lt;dbl&gt;</th><th scope=col>&lt;dbl&gt;</th><th scope=col>&lt;dbl&gt;</th><th scope=col>&lt;dbl&gt;</th><th scope=col>&lt;dbl&gt;</th><th scope=col>&lt;dbl&gt;</th><th scope=col>&lt;dbl&gt;</th><th scope=col>⋯</th><th scope=col>&lt;dbl&gt;</th><th scope=col>&lt;dbl&gt;</th><th scope=col>&lt;dbl&gt;</th><th scope=col>&lt;dbl&gt;</th><th scope=col>&lt;dbl&gt;</th><th scope=col>&lt;dbl&gt;</th><th scope=col>&lt;dbl&gt;</th><th scope=col>&lt;dbl&gt;</th><th scope=col>&lt;int&gt;</th><th scope=col>&lt;dbl&gt;</th></tr>\n",
       "</thead>\n",
       "<tbody>\n",
       "\t<tr><th scope=row>1</th><td>1</td><td>0.3705943</td><td>0.4243894</td><td>0.4057498</td><td>0.6014572</td><td>0.6014572</td><td>0.9989692</td><td>0.7968871</td><td>0.8088094</td><td>0.3026464</td><td>⋯</td><td>0.7168453</td><td>0.009219440</td><td>0.6228790</td><td>0.6014533</td><td>0.8278902</td><td>0.2902019</td><td>0.02660063</td><td>0.5640501</td><td>1</td><td>0.01646874</td></tr>\n",
       "\t<tr><th scope=row>2</th><td>1</td><td>0.4642909</td><td>0.5382141</td><td>0.5167300</td><td>0.6102351</td><td>0.6102351</td><td>0.9989460</td><td>0.7973802</td><td>0.8093007</td><td>0.3035564</td><td>⋯</td><td>0.7952971</td><td>0.008323302</td><td>0.6236517</td><td>0.6102365</td><td>0.8399693</td><td>0.2838460</td><td>0.26457682</td><td>0.5701749</td><td>1</td><td>0.02079431</td></tr>\n",
       "\t<tr><th scope=row>3</th><td>1</td><td>0.4260713</td><td>0.4990188</td><td>0.4722951</td><td>0.6014500</td><td>0.6013635</td><td>0.9988574</td><td>0.7964034</td><td>0.8083875</td><td>0.3020352</td><td>⋯</td><td>0.7746697</td><td>0.040002853</td><td>0.6238410</td><td>0.6014493</td><td>0.8367743</td><td>0.2901885</td><td>0.02655472</td><td>0.5637061</td><td>1</td><td>0.01647411</td></tr>\n",
       "\t<tr><th scope=row>4</th><td>1</td><td>0.3998440</td><td>0.4512647</td><td>0.4577333</td><td>0.5835411</td><td>0.5835411</td><td>0.9986997</td><td>0.7969670</td><td>0.8089656</td><td>0.3033495</td><td>⋯</td><td>0.7395545</td><td>0.003252475</td><td>0.6229287</td><td>0.5835376</td><td>0.8346971</td><td>0.2817212</td><td>0.02669663</td><td>0.5646634</td><td>1</td><td>0.02398233</td></tr>\n",
       "\t<tr><th scope=row>5</th><td>1</td><td>0.4650222</td><td>0.5384322</td><td>0.5222978</td><td>0.5987835</td><td>0.5987835</td><td>0.9989731</td><td>0.7973661</td><td>0.8093037</td><td>0.3034750</td><td>⋯</td><td>0.7950159</td><td>0.003877563</td><td>0.6235207</td><td>0.5987815</td><td>0.8399727</td><td>0.2785138</td><td>0.02475185</td><td>0.5756166</td><td>1</td><td>0.03549020</td></tr>\n",
       "\t<tr><th scope=row>6</th><td>1</td><td>0.3886803</td><td>0.4151766</td><td>0.4191338</td><td>0.5901714</td><td>0.5902507</td><td>0.9987581</td><td>0.7969032</td><td>0.8087706</td><td>0.3031158</td><td>⋯</td><td>0.7104205</td><td>0.005277875</td><td>0.6226046</td><td>0.5901723</td><td>0.8299390</td><td>0.2850871</td><td>0.02667537</td><td>0.5645383</td><td>1</td><td>0.01953448</td></tr>\n",
       "</tbody>\n",
       "</table>\n"
      ],
      "text/latex": [
       "A data.frame: 6 × 96\n",
       "\\begin{tabular}{r|lllllllllllllllllllll}\n",
       "  & Bankrupt. & ROA.C..before.interest.and.depreciation.before.interest & ROA.A..before.interest.and...after.tax & ROA.B..before.interest.and.depreciation.after.tax & Operating.Gross.Margin & Realized.Sales.Gross.Margin & Operating.Profit.Rate & Pre.tax.net.Interest.Rate & After.tax.net.Interest.Rate & Non.industry.income.and.expenditure.revenue & ⋯ & Net.Income.to.Total.Assets & Total.assets.to.GNP.price & No.credit.Interval & Gross.Profit.to.Sales & Net.Income.to.Stockholder.s.Equity & Liability.to.Equity & Degree.of.Financial.Leverage..DFL. & Interest.Coverage.Ratio..Interest.expense.to.EBIT. & Net.Income.Flag & Equity.to.Liability\\\\\n",
       "  & <int> & <dbl> & <dbl> & <dbl> & <dbl> & <dbl> & <dbl> & <dbl> & <dbl> & <dbl> & ⋯ & <dbl> & <dbl> & <dbl> & <dbl> & <dbl> & <dbl> & <dbl> & <dbl> & <int> & <dbl>\\\\\n",
       "\\hline\n",
       "\t1 & 1 & 0.3705943 & 0.4243894 & 0.4057498 & 0.6014572 & 0.6014572 & 0.9989692 & 0.7968871 & 0.8088094 & 0.3026464 & ⋯ & 0.7168453 & 0.009219440 & 0.6228790 & 0.6014533 & 0.8278902 & 0.2902019 & 0.02660063 & 0.5640501 & 1 & 0.01646874\\\\\n",
       "\t2 & 1 & 0.4642909 & 0.5382141 & 0.5167300 & 0.6102351 & 0.6102351 & 0.9989460 & 0.7973802 & 0.8093007 & 0.3035564 & ⋯ & 0.7952971 & 0.008323302 & 0.6236517 & 0.6102365 & 0.8399693 & 0.2838460 & 0.26457682 & 0.5701749 & 1 & 0.02079431\\\\\n",
       "\t3 & 1 & 0.4260713 & 0.4990188 & 0.4722951 & 0.6014500 & 0.6013635 & 0.9988574 & 0.7964034 & 0.8083875 & 0.3020352 & ⋯ & 0.7746697 & 0.040002853 & 0.6238410 & 0.6014493 & 0.8367743 & 0.2901885 & 0.02655472 & 0.5637061 & 1 & 0.01647411\\\\\n",
       "\t4 & 1 & 0.3998440 & 0.4512647 & 0.4577333 & 0.5835411 & 0.5835411 & 0.9986997 & 0.7969670 & 0.8089656 & 0.3033495 & ⋯ & 0.7395545 & 0.003252475 & 0.6229287 & 0.5835376 & 0.8346971 & 0.2817212 & 0.02669663 & 0.5646634 & 1 & 0.02398233\\\\\n",
       "\t5 & 1 & 0.4650222 & 0.5384322 & 0.5222978 & 0.5987835 & 0.5987835 & 0.9989731 & 0.7973661 & 0.8093037 & 0.3034750 & ⋯ & 0.7950159 & 0.003877563 & 0.6235207 & 0.5987815 & 0.8399727 & 0.2785138 & 0.02475185 & 0.5756166 & 1 & 0.03549020\\\\\n",
       "\t6 & 1 & 0.3886803 & 0.4151766 & 0.4191338 & 0.5901714 & 0.5902507 & 0.9987581 & 0.7969032 & 0.8087706 & 0.3031158 & ⋯ & 0.7104205 & 0.005277875 & 0.6226046 & 0.5901723 & 0.8299390 & 0.2850871 & 0.02667537 & 0.5645383 & 1 & 0.01953448\\\\\n",
       "\\end{tabular}\n"
      ],
      "text/markdown": [
       "\n",
       "A data.frame: 6 × 96\n",
       "\n",
       "| <!--/--> | Bankrupt. &lt;int&gt; | ROA.C..before.interest.and.depreciation.before.interest &lt;dbl&gt; | ROA.A..before.interest.and...after.tax &lt;dbl&gt; | ROA.B..before.interest.and.depreciation.after.tax &lt;dbl&gt; | Operating.Gross.Margin &lt;dbl&gt; | Realized.Sales.Gross.Margin &lt;dbl&gt; | Operating.Profit.Rate &lt;dbl&gt; | Pre.tax.net.Interest.Rate &lt;dbl&gt; | After.tax.net.Interest.Rate &lt;dbl&gt; | Non.industry.income.and.expenditure.revenue &lt;dbl&gt; | ⋯ ⋯ | Net.Income.to.Total.Assets &lt;dbl&gt; | Total.assets.to.GNP.price &lt;dbl&gt; | No.credit.Interval &lt;dbl&gt; | Gross.Profit.to.Sales &lt;dbl&gt; | Net.Income.to.Stockholder.s.Equity &lt;dbl&gt; | Liability.to.Equity &lt;dbl&gt; | Degree.of.Financial.Leverage..DFL. &lt;dbl&gt; | Interest.Coverage.Ratio..Interest.expense.to.EBIT. &lt;dbl&gt; | Net.Income.Flag &lt;int&gt; | Equity.to.Liability &lt;dbl&gt; |\n",
       "|---|---|---|---|---|---|---|---|---|---|---|---|---|---|---|---|---|---|---|---|---|---|\n",
       "| 1 | 1 | 0.3705943 | 0.4243894 | 0.4057498 | 0.6014572 | 0.6014572 | 0.9989692 | 0.7968871 | 0.8088094 | 0.3026464 | ⋯ | 0.7168453 | 0.009219440 | 0.6228790 | 0.6014533 | 0.8278902 | 0.2902019 | 0.02660063 | 0.5640501 | 1 | 0.01646874 |\n",
       "| 2 | 1 | 0.4642909 | 0.5382141 | 0.5167300 | 0.6102351 | 0.6102351 | 0.9989460 | 0.7973802 | 0.8093007 | 0.3035564 | ⋯ | 0.7952971 | 0.008323302 | 0.6236517 | 0.6102365 | 0.8399693 | 0.2838460 | 0.26457682 | 0.5701749 | 1 | 0.02079431 |\n",
       "| 3 | 1 | 0.4260713 | 0.4990188 | 0.4722951 | 0.6014500 | 0.6013635 | 0.9988574 | 0.7964034 | 0.8083875 | 0.3020352 | ⋯ | 0.7746697 | 0.040002853 | 0.6238410 | 0.6014493 | 0.8367743 | 0.2901885 | 0.02655472 | 0.5637061 | 1 | 0.01647411 |\n",
       "| 4 | 1 | 0.3998440 | 0.4512647 | 0.4577333 | 0.5835411 | 0.5835411 | 0.9986997 | 0.7969670 | 0.8089656 | 0.3033495 | ⋯ | 0.7395545 | 0.003252475 | 0.6229287 | 0.5835376 | 0.8346971 | 0.2817212 | 0.02669663 | 0.5646634 | 1 | 0.02398233 |\n",
       "| 5 | 1 | 0.4650222 | 0.5384322 | 0.5222978 | 0.5987835 | 0.5987835 | 0.9989731 | 0.7973661 | 0.8093037 | 0.3034750 | ⋯ | 0.7950159 | 0.003877563 | 0.6235207 | 0.5987815 | 0.8399727 | 0.2785138 | 0.02475185 | 0.5756166 | 1 | 0.03549020 |\n",
       "| 6 | 1 | 0.3886803 | 0.4151766 | 0.4191338 | 0.5901714 | 0.5902507 | 0.9987581 | 0.7969032 | 0.8087706 | 0.3031158 | ⋯ | 0.7104205 | 0.005277875 | 0.6226046 | 0.5901723 | 0.8299390 | 0.2850871 | 0.02667537 | 0.5645383 | 1 | 0.01953448 |\n",
       "\n"
      ],
      "text/plain": [
       "  Bankrupt. ROA.C..before.interest.and.depreciation.before.interest\n",
       "1 1         0.3705943                                              \n",
       "2 1         0.4642909                                              \n",
       "3 1         0.4260713                                              \n",
       "4 1         0.3998440                                              \n",
       "5 1         0.4650222                                              \n",
       "6 1         0.3886803                                              \n",
       "  ROA.A..before.interest.and...after.tax\n",
       "1 0.4243894                             \n",
       "2 0.5382141                             \n",
       "3 0.4990188                             \n",
       "4 0.4512647                             \n",
       "5 0.5384322                             \n",
       "6 0.4151766                             \n",
       "  ROA.B..before.interest.and.depreciation.after.tax Operating.Gross.Margin\n",
       "1 0.4057498                                         0.6014572             \n",
       "2 0.5167300                                         0.6102351             \n",
       "3 0.4722951                                         0.6014500             \n",
       "4 0.4577333                                         0.5835411             \n",
       "5 0.5222978                                         0.5987835             \n",
       "6 0.4191338                                         0.5901714             \n",
       "  Realized.Sales.Gross.Margin Operating.Profit.Rate Pre.tax.net.Interest.Rate\n",
       "1 0.6014572                   0.9989692             0.7968871                \n",
       "2 0.6102351                   0.9989460             0.7973802                \n",
       "3 0.6013635                   0.9988574             0.7964034                \n",
       "4 0.5835411                   0.9986997             0.7969670                \n",
       "5 0.5987835                   0.9989731             0.7973661                \n",
       "6 0.5902507                   0.9987581             0.7969032                \n",
       "  After.tax.net.Interest.Rate Non.industry.income.and.expenditure.revenue\n",
       "1 0.8088094                   0.3026464                                  \n",
       "2 0.8093007                   0.3035564                                  \n",
       "3 0.8083875                   0.3020352                                  \n",
       "4 0.8089656                   0.3033495                                  \n",
       "5 0.8093037                   0.3034750                                  \n",
       "6 0.8087706                   0.3031158                                  \n",
       "  <U+22EF>        Net.Income.to.Total.Assets Total.assets.to.GNP.price\n",
       "1 <U+22EF> 0.7168453                  0.009219440              \n",
       "2 <U+22EF> 0.7952971                  0.008323302              \n",
       "3 <U+22EF> 0.7746697                  0.040002853              \n",
       "4 <U+22EF> 0.7395545                  0.003252475              \n",
       "5 <U+22EF> 0.7950159                  0.003877563              \n",
       "6 <U+22EF> 0.7104205                  0.005277875              \n",
       "  No.credit.Interval Gross.Profit.to.Sales Net.Income.to.Stockholder.s.Equity\n",
       "1 0.6228790          0.6014533             0.8278902                         \n",
       "2 0.6236517          0.6102365             0.8399693                         \n",
       "3 0.6238410          0.6014493             0.8367743                         \n",
       "4 0.6229287          0.5835376             0.8346971                         \n",
       "5 0.6235207          0.5987815             0.8399727                         \n",
       "6 0.6226046          0.5901723             0.8299390                         \n",
       "  Liability.to.Equity Degree.of.Financial.Leverage..DFL.\n",
       "1 0.2902019           0.02660063                        \n",
       "2 0.2838460           0.26457682                        \n",
       "3 0.2901885           0.02655472                        \n",
       "4 0.2817212           0.02669663                        \n",
       "5 0.2785138           0.02475185                        \n",
       "6 0.2850871           0.02667537                        \n",
       "  Interest.Coverage.Ratio..Interest.expense.to.EBIT. Net.Income.Flag\n",
       "1 0.5640501                                          1              \n",
       "2 0.5701749                                          1              \n",
       "3 0.5637061                                          1              \n",
       "4 0.5646634                                          1              \n",
       "5 0.5756166                                          1              \n",
       "6 0.5645383                                          1              \n",
       "  Equity.to.Liability\n",
       "1 0.01646874         \n",
       "2 0.02079431         \n",
       "3 0.01647411         \n",
       "4 0.02398233         \n",
       "5 0.03549020         \n",
       "6 0.01953448         "
      ]
     },
     "metadata": {},
     "output_type": "display_data"
    }
   ],
   "source": [
    "#display the data\n",
    "head(bank_df)"
   ]
  },
  {
   "cell_type": "code",
   "execution_count": 7,
   "id": "59196eae",
   "metadata": {},
   "outputs": [
    {
     "name": "stdout",
     "output_type": "stream",
     "text": [
      "'data.frame':\t6819 obs. of  96 variables:\n",
      " $ Bankrupt.                                              : int  1 1 1 1 1 1 0 0 0 0 ...\n",
      " $ ROA.C..before.interest.and.depreciation.before.interest: num  0.371 0.464 0.426 0.4 0.465 ...\n",
      " $ ROA.A..before.interest.and...after.tax                 : num  0.424 0.538 0.499 0.451 0.538 ...\n",
      " $ ROA.B..before.interest.and.depreciation.after.tax      : num  0.406 0.517 0.472 0.458 0.522 ...\n",
      " $ Operating.Gross.Margin                                 : num  0.601 0.61 0.601 0.584 0.599 ...\n",
      " $ Realized.Sales.Gross.Margin                            : num  0.601 0.61 0.601 0.584 0.599 ...\n",
      " $ Operating.Profit.Rate                                  : num  0.999 0.999 0.999 0.999 0.999 ...\n",
      " $ Pre.tax.net.Interest.Rate                              : num  0.797 0.797 0.796 0.797 0.797 ...\n",
      " $ After.tax.net.Interest.Rate                            : num  0.809 0.809 0.808 0.809 0.809 ...\n",
      " $ Non.industry.income.and.expenditure.revenue            : num  0.303 0.304 0.302 0.303 0.303 ...\n",
      " $ Continuous.interest.rate..after.tax.                   : num  0.781 0.782 0.78 0.781 0.782 ...\n",
      " $ Operating.Expense.Rate                                 : num  1.26e-04 2.90e-04 2.36e-04 1.08e-04 7.89e+09 ...\n",
      " $ Research.and.development.expense.rate                  : num  0.00 0.00 2.55e+07 0.00 0.00 0.00 7.30e+08 5.09e+07 0.00 0.00 ...\n",
      " $ Cash.flow.rate                                         : num  0.458 0.462 0.459 0.466 0.463 ...\n",
      " $ Interest.bearing.debt.interest.rate                    : num  0.000725 0.000647 0.00079 0.000449 0.000686 ...\n",
      " $ Tax.rate..A.                                           : num  0 0 0 0 0 ...\n",
      " $ Net.Value.Per.Share..B.                                : num  0.148 0.182 0.178 0.154 0.168 ...\n",
      " $ Net.Value.Per.Share..A.                                : num  0.148 0.182 0.178 0.154 0.168 ...\n",
      " $ Net.Value.Per.Share..C.                                : num  0.148 0.182 0.194 0.154 0.168 ...\n",
      " $ Persistent.EPS.in.the.Last.Four.Seasons                : num  0.169 0.209 0.181 0.194 0.213 ...\n",
      " $ Cash.Flow.Per.Share                                    : num  0.312 0.318 0.307 0.322 0.319 ...\n",
      " $ Revenue.Per.Share..Yuan.Â..                            : num  0.01756 0.02114 0.00594 0.01437 0.02969 ...\n",
      " $ Operating.Profit.Per.Share..Yuan.Â..                   : num  0.0959 0.0937 0.0923 0.0778 0.0969 ...\n",
      " $ Per.Share.Net.profit.before.tax..Yuan.Â..              : num  0.139 0.17 0.143 0.149 0.168 ...\n",
      " $ Realized.Sales.Gross.Profit.Growth.Rate                : num  0.0221 0.0221 0.0228 0.022 0.0221 ...\n",
      " $ Operating.Profit.Growth.Rate                           : num  0.848 0.848 0.848 0.848 0.848 ...\n",
      " $ After.tax.Net.Profit.Growth.Rate                       : num  0.689 0.69 0.689 0.689 0.69 ...\n",
      " $ Regular.Net.Profit.Growth.Rate                         : num  0.689 0.69 0.689 0.689 0.69 ...\n",
      " $ Continuous.Net.Profit.Growth.Rate                      : num  0.218 0.218 0.218 0.218 0.218 ...\n",
      " $ Total.Asset.Growth.Rate                                : num  4.98e+09 6.11e+09 7.28e+09 4.88e+09 5.51e+09 6.08e+08 5.72e+09 6.63e+09 6.89e+09 5.55e+09 ...\n",
      " $ Net.Value.Growth.Rate                                  : num  0.000327 0.000443 0.000396 0.000382 0.000439 ...\n",
      " $ Total.Asset.Return.Growth.Rate.Ratio                   : num  0.263 0.265 0.264 0.263 0.265 ...\n",
      " $ Cash.Reinvestment..                                    : num  0.364 0.377 0.369 0.384 0.38 ...\n",
      " $ Current.Ratio                                          : num  0.00226 0.00602 0.01154 0.00419 0.00602 ...\n",
      " $ Quick.Ratio                                            : num  0.00121 0.00404 0.00535 0.0029 0.00373 ...\n",
      " $ Interest.Expense.Ratio                                 : num  0.63 0.635 0.63 0.63 0.636 ...\n",
      " $ Total.debt.Total.net.worth                             : num  0.02127 0.0125 0.02125 0.00957 0.00515 ...\n",
      " $ Debt.ratio..                                           : num  0.208 0.171 0.208 0.151 0.107 ...\n",
      " $ Net.worth.Assets                                       : num  0.792 0.829 0.792 0.849 0.893 ...\n",
      " $ Long.term.fund.suitability.ratio..A.                   : num  0.00502 0.00506 0.0051 0.00505 0.0053 ...\n",
      " $ Borrowing.dependency                                   : num  0.39 0.377 0.379 0.38 0.375 ...\n",
      " $ Contingent.liabilities.Net.worth                       : num  0.00648 0.00584 0.00656 0.00537 0.00662 ...\n",
      " $ Operating.profit.Paid.in.capital                       : num  0.0959 0.0937 0.0923 0.0777 0.0969 ...\n",
      " $ Net.profit.before.tax.Paid.in.capital                  : num  0.138 0.169 0.148 0.148 0.167 ...\n",
      " $ Inventory.and.accounts.receivable.Net.value            : num  0.398 0.398 0.407 0.398 0.4 ...\n",
      " $ Total.Asset.Turnover                                   : num  0.087 0.0645 0.015 0.09 0.1754 ...\n",
      " $ Accounts.Receivable.Turnover                           : num  0.00181 0.00129 0.0015 0.00197 0.00145 ...\n",
      " $ Average.Collection.Days                                : num  0.00349 0.00492 0.00423 0.00321 0.00437 ...\n",
      " $ Inventory.Turnover.Rate..times.                        : num  1.82e-04 9.36e+09 6.50e+07 7.13e+09 1.63e-04 ...\n",
      " $ Fixed.Assets.Turnover.Frequency                        : num  1.17e-04 7.19e+08 2.65e+09 9.15e+09 2.94e-04 ...\n",
      " $ Net.Worth.Turnover.Rate..times.                        : num  0.0329 0.0255 0.0134 0.0281 0.0402 ...\n",
      " $ Revenue.per.person                                     : num  0.03416 0.00689 0.029 0.01546 0.05811 ...\n",
      " $ Operating.profit.per.person                            : num  0.393 0.392 0.382 0.378 0.394 ...\n",
      " $ Allocation.rate.per.person                             : num  0.0371 0.0123 0.141 0.0213 0.024 ...\n",
      " $ Working.Capital.to.Total.Assets                        : num  0.673 0.751 0.83 0.726 0.752 ...\n",
      " $ Quick.Assets.Total.Assets                              : num  0.167 0.127 0.34 0.162 0.26 ...\n",
      " $ Current.Assets.Total.Assets                            : num  0.191 0.182 0.603 0.226 0.358 ...\n",
      " $ Cash.Total.Assets                                      : num  0.004094 0.014948 0.000991 0.018851 0.014161 ...\n",
      " $ Quick.Assets.Current.Liability                         : num  0.002 0.00414 0.0063 0.00296 0.00427 ...\n",
      " $ Cash.Current.Liability                                 : num  1.47e-04 1.38e-03 5.34e+09 1.01e-03 6.80e-04 ...\n",
      " $ Current.Liability.to.Assets                            : num  0.1473 0.057 0.0982 0.0987 0.1102 ...\n",
      " $ Operating.Funds.to.Liability                           : num  0.334 0.341 0.337 0.349 0.345 ...\n",
      " $ Inventory.Working.Capital                              : num  0.277 0.29 0.277 0.277 0.288 ...\n",
      " $ Inventory.Current.Liability                            : num  0.00104 0.00521 0.01388 0.00354 0.00487 ...\n",
      " $ Current.Liabilities.Liability                          : num  0.676 0.309 0.446 0.616 0.975 ...\n",
      " $ Working.Capital.Equity                                 : num  0.721 0.732 0.743 0.73 0.732 ...\n",
      " $ Current.Liabilities.Equity                             : num  0.339 0.33 0.335 0.332 0.331 ...\n",
      " $ Long.term.Liability.to.Current.Assets                  : num  0.02559 0.02395 0.00372 0.02217 0 ...\n",
      " $ Retained.Earnings.to.Total.Assets                      : num  0.903 0.931 0.91 0.907 0.914 ...\n",
      " $ Total.income.Total.expense                             : num  0.00202 0.00223 0.00206 0.00183 0.00222 ...\n",
      " $ Total.expense.Assets                                   : num  0.0649 0.0255 0.0214 0.0242 0.0264 ...\n",
      " $ Current.Asset.Turnover.Rate                            : num  7.01e+08 1.07e-04 1.79e-03 8.14e+09 6.68e+09 ...\n",
      " $ Quick.Asset.Turnover.Rate                              : num  6.55e+09 7.70e+09 1.02e-03 6.05e+09 5.05e+09 ...\n",
      " $ Working.capitcal.Turnover.Rate                         : num  0.594 0.594 0.595 0.594 0.594 ...\n",
      " $ Cash.Turnover.Rate                                     : num  4.58e+08 2.49e+09 7.61e+08 2.03e+09 8.24e+08 ...\n",
      " $ Cash.Flow.to.Sales                                     : num  0.672 0.672 0.672 0.672 0.672 ...\n",
      " $ Fixed.Assets.to.Assets                                 : num  0.424 0.469 0.276 0.559 0.31 ...\n",
      " $ Current.Liability.to.Liability                         : num  0.676 0.309 0.446 0.616 0.975 ...\n",
      " $ Current.Liability.to.Equity                            : num  0.339 0.33 0.335 0.332 0.331 ...\n",
      " $ Equity.to.Long.term.Liability                          : num  0.127 0.121 0.118 0.121 0.111 ...\n",
      " $ Cash.Flow.to.Total.Assets                              : num  0.638 0.641 0.643 0.579 0.622 ...\n",
      " $ Cash.Flow.to.Liability                                 : num  0.459 0.459 0.459 0.449 0.454 ...\n",
      " $ CFO.to.Assets                                          : num  0.52 0.567 0.538 0.604 0.578 ...\n",
      " $ Cash.Flow.to.Equity                                    : num  0.313 0.314 0.315 0.302 0.312 ...\n",
      " $ Current.Liability.to.Current.Assets                    : num  0.1183 0.0478 0.0253 0.0672 0.0477 ...\n",
      " $ Liability.Assets.Flag                                  : int  0 0 0 0 0 0 0 0 0 0 ...\n",
      " $ Net.Income.to.Total.Assets                             : num  0.717 0.795 0.775 0.74 0.795 ...\n",
      " $ Total.assets.to.GNP.price                              : num  0.00922 0.00832 0.04 0.00325 0.00388 ...\n",
      " $ No.credit.Interval                                     : num  0.623 0.624 0.624 0.623 0.624 ...\n",
      " $ Gross.Profit.to.Sales                                  : num  0.601 0.61 0.601 0.584 0.599 ...\n",
      " $ Net.Income.to.Stockholder.s.Equity                     : num  0.828 0.84 0.837 0.835 0.84 ...\n",
      " $ Liability.to.Equity                                    : num  0.29 0.284 0.29 0.282 0.279 ...\n",
      " $ Degree.of.Financial.Leverage..DFL.                     : num  0.0266 0.2646 0.0266 0.0267 0.0248 ...\n",
      " $ Interest.Coverage.Ratio..Interest.expense.to.EBIT.     : num  0.564 0.57 0.564 0.565 0.576 ...\n",
      " $ Net.Income.Flag                                        : int  1 1 1 1 1 1 1 1 1 1 ...\n",
      " $ Equity.to.Liability                                    : num  0.0165 0.0208 0.0165 0.024 0.0355 ...\n"
     ]
    }
   ],
   "source": [
    "# info about obs and variables\n",
    "str(bank_df)"
   ]
  },
  {
   "cell_type": "markdown",
   "id": "256c44ef",
   "metadata": {},
   "source": [
    "## Q1.Randomly divide data into train/test as 80/20 (set.seed=1)."
   ]
  },
  {
   "cell_type": "code",
   "execution_count": 13,
   "id": "aa0214bf",
   "metadata": {},
   "outputs": [],
   "source": [
    "# Train-test split\n",
    "set.seed(1)  # High variance\n",
    "split<- sample(c(rep(0, 0.8 * nrow(bank_df)), rep(1, 0.2 * nrow(bank_df))))\n",
    "train <- bank_df[split == 0, ]    \n",
    "test <- bank_df[split == 1, ]  "
   ]
  },
  {
   "cell_type": "code",
   "execution_count": 14,
   "id": "333e51ab",
   "metadata": {},
   "outputs": [
    {
     "data": {
      "text/html": [
       "<style>\n",
       ".list-inline {list-style: none; margin:0; padding: 0}\n",
       ".list-inline>li {display: inline-block}\n",
       ".list-inline>li:not(:last-child)::after {content: \"\\00b7\"; padding: 0 .5ex}\n",
       "</style>\n",
       "<ol class=list-inline><li>5456</li><li>96</li></ol>\n"
      ],
      "text/latex": [
       "\\begin{enumerate*}\n",
       "\\item 5456\n",
       "\\item 96\n",
       "\\end{enumerate*}\n"
      ],
      "text/markdown": [
       "1. 5456\n",
       "2. 96\n",
       "\n",
       "\n"
      ],
      "text/plain": [
       "[1] 5456   96"
      ]
     },
     "metadata": {},
     "output_type": "display_data"
    }
   ],
   "source": [
    "dim(train)"
   ]
  },
  {
   "cell_type": "code",
   "execution_count": 15,
   "id": "88168881",
   "metadata": {},
   "outputs": [
    {
     "data": {
      "text/html": [
       "<style>\n",
       ".list-inline {list-style: none; margin:0; padding: 0}\n",
       ".list-inline>li {display: inline-block}\n",
       ".list-inline>li:not(:last-child)::after {content: \"\\00b7\"; padding: 0 .5ex}\n",
       "</style>\n",
       "<ol class=list-inline><li>1363</li><li>96</li></ol>\n"
      ],
      "text/latex": [
       "\\begin{enumerate*}\n",
       "\\item 1363\n",
       "\\item 96\n",
       "\\end{enumerate*}\n"
      ],
      "text/markdown": [
       "1. 1363\n",
       "2. 96\n",
       "\n",
       "\n"
      ],
      "text/plain": [
       "[1] 1363   96"
      ]
     },
     "metadata": {},
     "output_type": "display_data"
    }
   ],
   "source": [
    "dim(test)"
   ]
  },
  {
   "cell_type": "markdown",
   "id": "29fe6e75",
   "metadata": {},
   "source": [
    "## Q2.Build a NN model with 1 hidden layer of 30 neurons, sigmoid activation function."
   ]
  },
  {
   "cell_type": "code",
   "execution_count": 35,
   "id": "6a80d79c",
   "metadata": {},
   "outputs": [
    {
     "name": "stderr",
     "output_type": "stream",
     "text": [
      "hidden: 30    thresh: 0.01    rep: 1/1    steps: \n",
      "      4\n",
      "\terror: 90.49933\n",
      "\ttime: 0.04 secs\n",
      "\n"
     ]
    }
   ],
   "source": [
    "# Fit the Neural Network model\n",
    "md_nnet <- neuralnet(Bankrupt.~.,\n",
    "                     train,\n",
    "                     hidden=c(30),      # Size of the hidden layers\n",
    "                     #threshold=0.1,          # Stopping criteria, a.k.a convergence\n",
    "                     stepmax=5000,            # Maximum training step\n",
    "                     rep=1,                  # Number of training repeat, a.k.a epoch\n",
    "                     lifesign='full',         # Print training process\n",
    "                     lifesign.step=5000,      # Print out every 5000 steps\n",
    "                     algorithm='rprop+',      # Algorithm to calculate the network, 'rprop+'=resilient backpropagation\n",
    "                     learningrate=0.01,       # Learning rate, only use for traditional backpropagation\n",
    "                     err.fct='sse',           # Error function, sse=sum square error, ce=cross-entropy\n",
    "                     act.fct=\"logistic\",      # Activation function, 'logistic' or 'tanh'\n",
    "                     linear.output=F\n",
    "                    )"
   ]
  },
  {
   "cell_type": "code",
   "execution_count": 36,
   "id": "efdb86f0",
   "metadata": {},
   "outputs": [
    {
     "data": {
      "text/html": [
       "0.966825513196481"
      ],
      "text/latex": [
       "0.966825513196481"
      ],
      "text/markdown": [
       "0.966825513196481"
      ],
      "text/plain": [
       "[1] 0.9668255"
      ]
     },
     "metadata": {},
     "output_type": "display_data"
    }
   ],
   "source": [
    "# Make prediction and evaluation on train\n",
    "y_train_pred <- predict(md_nnet, train[, c(2:96)])\n",
    "mean((max.col(y_train_pred)-1) == train$Bankrupt.)"
   ]
  },
  {
   "cell_type": "code",
   "execution_count": 37,
   "id": "0b1374da",
   "metadata": {},
   "outputs": [
    {
     "name": "stdout",
     "output_type": "stream",
     "text": [
      "[1] 0.9713866\n"
     ]
    }
   ],
   "source": [
    "# Make prediction and evaluation on test\n",
    "y_test_pred <- predict(md_nnet, test[, c(2:96)])\n",
    "a <- mean((max.col(y_test_pred)-1) == test$Bankrupt.)\n",
    "print(a)"
   ]
  },
  {
   "cell_type": "markdown",
   "id": "133d5f70",
   "metadata": {},
   "source": [
    "## Q3.Build a deep NN model with multiple hidden layers (of your choice) and sigmoid activation function."
   ]
  },
  {
   "cell_type": "code",
   "execution_count": 38,
   "id": "3b5ae4a1",
   "metadata": {},
   "outputs": [
    {
     "name": "stderr",
     "output_type": "stream",
     "text": [
      "hidden: 10, 10, 10    thresh: 0.01    rep: 1/2    steps: \n",
      "    712\n",
      "\terror: 86.44204\n",
      "\ttime: 10.31 secs\n",
      "\n",
      "hidden: 10, 10, 10    thresh: 0.01    rep: 2/2    steps: \n",
      "   1792\n",
      "\terror: 87.3446 \n",
      "\ttime: 26.07 secs\n",
      "\n"
     ]
    }
   ],
   "source": [
    "# Fit the Neural Network model\n",
    "md_nnet <- neuralnet(Bankrupt.~.,\n",
    "                     train,\n",
    "                     hidden=c(10,10,10),      # Size of the hidden layers\n",
    "                     #threshold=0.1,          # Stopping criteria, a.k.a convergence\n",
    "                     stepmax=5000,            # Maximum training step\n",
    "                     rep=2,                  # Number of training repeat, a.k.a epoch\n",
    "                     lifesign='full',         # Print training process\n",
    "                     lifesign.step=5000,      # Print out every 5000 steps\n",
    "                     algorithm='rprop+',      # Algorithm to calculate the network, 'rprop+'=resilient backpropagation\n",
    "                     learningrate=0.01,       # Learning rate, only use for traditional backpropagation\n",
    "                     err.fct='sse',           # Error function, sse=sum square error, ce=cross-entropy\n",
    "                     act.fct=\"logistic\",      # Activation function, 'logistic' or 'tanh'\n",
    "                     linear.output=F\n",
    "                    )"
   ]
  },
  {
   "cell_type": "code",
   "execution_count": 39,
   "id": "4be40324",
   "metadata": {},
   "outputs": [
    {
     "data": {
      "text/html": [
       "0.966825513196481"
      ],
      "text/latex": [
       "0.966825513196481"
      ],
      "text/markdown": [
       "0.966825513196481"
      ],
      "text/plain": [
       "[1] 0.9668255"
      ]
     },
     "metadata": {},
     "output_type": "display_data"
    }
   ],
   "source": [
    "# Make prediction and evaluation on train\n",
    "y_train_pred <- predict(md_nnet, train[, c(2:96)])\n",
    "mean((max.col(y_train_pred)-1) == train$Bankrupt.)"
   ]
  },
  {
   "cell_type": "code",
   "execution_count": 40,
   "id": "a67a202c",
   "metadata": {},
   "outputs": [
    {
     "name": "stdout",
     "output_type": "stream",
     "text": [
      "[1] 0.9713866\n"
     ]
    }
   ],
   "source": [
    "# Make prediction and evaluation on test\n",
    "y_test_pred <- predict(md_nnet, test[, c(2:96)])\n",
    "b <- mean((max.col(y_test_pred)-1) == test$Bankrupt.)\n",
    "print(b)"
   ]
  },
  {
   "cell_type": "markdown",
   "id": "c4343d60",
   "metadata": {},
   "source": [
    "## Q4.Build 5 other classification models and compare with the 2 previous NN models"
   ]
  },
  {
   "cell_type": "markdown",
   "id": "57fdc897",
   "metadata": {},
   "source": [
    "## Classification"
   ]
  },
  {
   "cell_type": "code",
   "execution_count": 41,
   "id": "3876fc71",
   "metadata": {},
   "outputs": [],
   "source": [
    "# Define the ML classification task\n",
    "train_task <- mlr::makeClassifTask(id ='bank_train', data=train, target='Bankrupt.')\n",
    "test_task <- mlr::makeClassifTask(id='bank_test', data=test, target='Bankrupt.')"
   ]
  },
  {
   "cell_type": "code",
   "execution_count": 43,
   "id": "2c671322",
   "metadata": {},
   "outputs": [
    {
     "name": "stdout",
     "output_type": "stream",
     "text": [
      "      acc \n",
      "0.9713866 \n"
     ]
    }
   ],
   "source": [
    "# Logistic Regression Lasso (l1)\n",
    "learner <- mlr::makeLearner('classif.LiblineaRL1LogReg')  # Register a machine learning model\n",
    "model <- mlr::train(learner, train_task)\n",
    "pred_test <- predict(model, task=test_task, proba=T)\n",
    "c <- performance(pred_test, measures=acc)\n",
    "print(c)"
   ]
  },
  {
   "cell_type": "code",
   "execution_count": 44,
   "id": "5f6ba2ce",
   "metadata": {},
   "outputs": [
    {
     "data": {
      "text/plain": [
       "Prediction: 1363 observations\n",
       "predict.type: response\n",
       "threshold: \n",
       "time: 0.00\n",
       "   id truth response\n",
       "15  1     0        0\n",
       "19  2     0        0\n",
       "26  3     0        0\n",
       "27  4     0        0\n",
       "32  5     0        0\n",
       "41  6     0        0\n",
       "... (#rows: 1363, #cols: 3)"
      ]
     },
     "metadata": {},
     "output_type": "display_data"
    }
   ],
   "source": [
    "# Show prediction details\n",
    "pred_test"
   ]
  },
  {
   "cell_type": "code",
   "execution_count": 45,
   "id": "7a9fa5e5",
   "metadata": {},
   "outputs": [
    {
     "name": "stdout",
     "output_type": "stream",
     "text": [
      "      acc \n",
      "0.9713866 \n"
     ]
    }
   ],
   "source": [
    "# k-Nearest Neighbor (k=50)\n",
    "learner <- makeLearner('classif.knn', k=50)\n",
    "model <- mlr::train(learner, train_task)\n",
    "pred_test <- predict(model, task=test_task)\n",
    "d <- performance(pred_test, measures=acc)\n",
    "print(d)"
   ]
  },
  {
   "cell_type": "code",
   "execution_count": 46,
   "id": "f539cc3a",
   "metadata": {},
   "outputs": [
    {
     "name": "stdout",
     "output_type": "stream",
     "text": [
      "      acc \n",
      "0.9633162 \n"
     ]
    }
   ],
   "source": [
    "# LDA (drop zero-variance features)\n",
    "learner <- makeLearner('classif.lda')\n",
    "model <- mlr::train(learner, filterFeatures(train_task, method='variance', threshold=0.1))\n",
    "#model <- mlr::train(learner, train_task)\n",
    "pred_test <- predict(model, task=test_task)\n",
    "e <- performance(pred_test, measures=acc)\n",
    "print(e)"
   ]
  },
  {
   "cell_type": "code",
   "execution_count": 47,
   "id": "ed5a9d46",
   "metadata": {},
   "outputs": [
    {
     "name": "stdout",
     "output_type": "stream",
     "text": [
      "      acc \n",
      "0.9640499 \n"
     ]
    }
   ],
   "source": [
    "# Decision Tree\n",
    "learner <- mlr::makeLearner('classif.rpart')  # Register a machine learning model\n",
    "model <- mlr::train(learner, train_task)\n",
    "pred_test <- predict(model, task=test_task)\n",
    "f <- performance(pred_test, measures=acc)\n",
    "print(f)"
   ]
  },
  {
   "cell_type": "code",
   "execution_count": 48,
   "id": "d1709687",
   "metadata": {},
   "outputs": [
    {
     "name": "stdout",
     "output_type": "stream",
     "text": [
      "      acc \n",
      "0.9677183 \n"
     ]
    }
   ],
   "source": [
    "# Random Forest\n",
    "learner <- makeLearner('classif.randomForest')\n",
    "model <- mlr::train(learner, train_task)\n",
    "pred_test <- predict(model, task=test_task)\n",
    "g <- performance(pred_test, measures=acc)\n",
    "print(g)"
   ]
  },
  {
   "cell_type": "code",
   "execution_count": 49,
   "id": "d8ab9d08",
   "metadata": {},
   "outputs": [
    {
     "name": "stdout",
     "output_type": "stream",
     "text": [
      "      acc \n",
      "0.9691856 \n"
     ]
    }
   ],
   "source": [
    "# Adabag Boosting\n",
    "learner <- makeLearner('classif.boosting')\n",
    "model <- mlr::train(learner, train_task)\n",
    "pred_test <- predict(model, task=test_task)\n",
    "h <- performance(pred_test, measures=acc)\n",
    "print(h)"
   ]
  },
  {
   "cell_type": "code",
   "execution_count": 50,
   "id": "12df95e9",
   "metadata": {},
   "outputs": [
    {
     "name": "stdout",
     "output_type": "stream",
     "text": [
      "      acc \n",
      "0.6140866 \n"
     ]
    }
   ],
   "source": [
    "# SVM\n",
    "learner <- makeLearner('classif.svm', scale=FALSE, kernel='linear')  # linear,polynomial,radial,sigmoid\n",
    "model <- mlr::train(learner, train_task)\n",
    "pred_test <- predict(model, task=test_task)\n",
    "i <- performance(pred_test, measures=acc)\n",
    "print(i)"
   ]
  },
  {
   "cell_type": "code",
   "execution_count": 54,
   "id": "6ac27e14",
   "metadata": {},
   "outputs": [],
   "source": [
    "#Ref:https://stackoverflow.com/questions/7818970/is-there-a-dictionary-functionality-in-r\n",
    "library(hash)\n",
    "## hash-2.2.6 provided by Decision Patterns\n",
    "ha <- hash() \n",
    "# set values\n",
    "ha[[\"Neural_network_1\"]] <- a\n",
    "ha[[\"Neural_network_2\"]] <- b\n",
    "ha[[\"Logistic_regression_lasso\"]] <- c\n",
    "ha[[\"KNN\"]] <- d\n",
    "ha[[\"LDA\"]] <- e\n",
    "ha[[\"Decision_tree\"]] <- f\n",
    "ha[[\"Random Forest\"]] <- g\n",
    "ha[[\"Adabag Boosting\"]] <- h\n",
    "ha[[\"SVM\"]] <- i"
   ]
  },
  {
   "cell_type": "markdown",
   "id": "42dcf750",
   "metadata": {},
   "source": [
    "<b>Comparison of models in terms of accuracy"
   ]
  },
  {
   "cell_type": "code",
   "execution_count": 55,
   "id": "1b468b1e",
   "metadata": {},
   "outputs": [
    {
     "name": "stdout",
     "output_type": "stream",
     "text": [
      "<hash> containing 9 key-value pair(s).\n",
      "  Adabag Boosting : 0.9691856\n",
      "  Decision_tree : 0.9640499\n",
      "  KNN : 0.9713866\n",
      "  LDA : 0.9633162\n",
      "  Logistic_regression_lasso : 0.9713866\n",
      "  Neural_network_1 : 0.9713866\n",
      "  Neural_network_2 : 0.9713866\n",
      "  Random Forest : 0.9677183\n",
      "  SVM : 0.6140866\n"
     ]
    }
   ],
   "source": [
    "print(ha)"
   ]
  }
 ],
 "metadata": {
  "kernelspec": {
   "display_name": "R",
   "language": "R",
   "name": "ir"
  },
  "language_info": {
   "codemirror_mode": "r",
   "file_extension": ".r",
   "mimetype": "text/x-r-source",
   "name": "R",
   "pygments_lexer": "r",
   "version": "4.0.5"
  }
 },
 "nbformat": 4,
 "nbformat_minor": 5
}
