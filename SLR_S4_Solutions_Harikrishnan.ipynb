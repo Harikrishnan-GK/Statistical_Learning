{
 "cells": [
  {
   "cell_type": "markdown",
   "id": "6d499049",
   "metadata": {},
   "source": [
    "# Session-4 Solutions"
   ]
  },
  {
   "cell_type": "code",
   "execution_count": 1,
   "id": "a747e3f3",
   "metadata": {},
   "outputs": [
    {
     "name": "stderr",
     "output_type": "stream",
     "text": [
      "Loading required package: ParamHelpers\n",
      "\n",
      "Warning message: 'mlr' is in 'maintenance-only' mode since July 2019.\n",
      "Future development will only happen in 'mlr3'\n",
      "(<https://mlr3.mlr-org.com>). Due to the focus on 'mlr3' there might be\n",
      "uncaught bugs meanwhile in {mlr} - please consider switching.\n",
      "\n",
      "Loading required package: ggplot2\n",
      "\n",
      "Loading required package: lattice\n",
      "\n",
      "\n",
      "Attaching package: 'caret'\n",
      "\n",
      "\n",
      "The following object is masked from 'package:mlr':\n",
      "\n",
      "    train\n",
      "\n",
      "\n",
      "Type 'citation(\"pROC\")' for a citation.\n",
      "\n",
      "\n",
      "Attaching package: 'pROC'\n",
      "\n",
      "\n",
      "The following objects are masked from 'package:stats':\n",
      "\n",
      "    cov, smooth, var\n",
      "\n",
      "\n",
      "randomForest 4.6-14\n",
      "\n",
      "Type rfNews() to see new features/changes/bug fixes.\n",
      "\n",
      "\n",
      "Attaching package: 'randomForest'\n",
      "\n",
      "\n",
      "The following object is masked from 'package:ggplot2':\n",
      "\n",
      "    margin\n",
      "\n",
      "\n",
      "Loaded gbm 2.1.8\n",
      "\n"
     ]
    }
   ],
   "source": [
    "# Set environment params\n",
    "Sys.setenv(LANG='en')  # English\n",
    "\n",
    "# Import libraries\n",
    "library(data.table)    # Data manipulate\n",
    "library(mlr)           # ML toolkit\n",
    "library(caret)         # ML toolkit\n",
    "library(ggplot2)       # Visualization\n",
    "library(pROC)          # AUC, ROC\n",
    "library(tree)          # CART model\n",
    "library(randomForest)  # Bagging and RF\n",
    "library(gbm)           # Boosting tree\n",
    "\n",
    "# Import data\n",
    "library(ISLR)      # Data from the course book\n",
    "library(MASS)      # Boston housing dataset\n",
    "library(datasets)  # US crime dataset\n",
    "\n",
    "# Resize plot\n",
    "library(repr)  # String and binary representations\n",
    "#options(repr.plot.width=4, repr.plot.height=4)"
   ]
  },
  {
   "cell_type": "markdown",
   "id": "acb57d94",
   "metadata": {},
   "source": [
    "## Solution 1"
   ]
  },
  {
   "cell_type": "code",
   "execution_count": 2,
   "id": "e3a0dc63",
   "metadata": {},
   "outputs": [
    {
     "data": {
      "image/png": "[encoded data removed]",
      "text/plain": [
       "plot without title"
      ]
     },
     "metadata": {
      "image/png": {
       "height": 390,
       "width": 600
      }
     },
     "output_type": "display_data"
    }
   ],
   "source": [
    "# Node impurity function for 2-class classification\n",
    "error <- function(pmk) { pmin(1 - pmk, pmk) }  # Misclassification error\n",
    "gini <- function(pmk) { pmk * (1 - pmk) + (1 - pmk) * pmk }  # Gini index\n",
    "deviance <- function(pmk) { -pmk * log(pmk) - (1 - pmk) * log(1 - pmk) }  # Cross-entropy or deviance\n",
    "\n",
    "# Create p value in [0; 1]\n",
    "p <- seq(0, 1, 0.001)\n",
    "\n",
    "options(repr.plot.width=10, repr.plot.height=6.5) #set the plot size\n",
    "\n",
    "# Plot 3 inpurity function for 2-class classification\n",
    "matplot(p, cbind(gini(p), deviance(p), error(p)), col = c(\"pink\", \"red\", \"purple\"))"
   ]
  },
  {
   "cell_type": "markdown",
   "id": "198f3860",
   "metadata": {},
   "source": [
    "## Solution-2"
   ]
  },
  {
   "cell_type": "markdown",
   "id": "609fd2cb",
   "metadata": {},
   "source": [
    "-In the majority vote approach ,As red is the most occuring class amongst the 10 predictors ,So we classify X as RED.\n",
    "<br>-In the average probability approach , we classify X as GREEN as the average of the 10 probabilities is 0.45."
   ]
  },
  {
   "cell_type": "markdown",
   "id": "cbeba687",
   "metadata": {},
   "source": [
    "## Solution -3"
   ]
  },
  {
   "cell_type": "code",
   "execution_count": 3,
   "id": "f86e2495",
   "metadata": {},
   "outputs": [
    {
     "data": {
      "text/html": [
       "<table class=\"dataframe\">\n",
       "<caption>A data.frame: 6 × 11</caption>\n",
       "<thead>\n",
       "\t<tr><th></th><th scope=col>Sales</th><th scope=col>CompPrice</th><th scope=col>Income</th><th scope=col>Advertising</th><th scope=col>Population</th><th scope=col>Price</th><th scope=col>ShelveLoc</th><th scope=col>Age</th><th scope=col>Education</th><th scope=col>Urban</th><th scope=col>US</th></tr>\n",
       "\t<tr><th></th><th scope=col>&lt;dbl&gt;</th><th scope=col>&lt;dbl&gt;</th><th scope=col>&lt;dbl&gt;</th><th scope=col>&lt;dbl&gt;</th><th scope=col>&lt;dbl&gt;</th><th scope=col>&lt;dbl&gt;</th><th scope=col>&lt;fct&gt;</th><th scope=col>&lt;dbl&gt;</th><th scope=col>&lt;dbl&gt;</th><th scope=col>&lt;fct&gt;</th><th scope=col>&lt;fct&gt;</th></tr>\n",
       "</thead>\n",
       "<tbody>\n",
       "\t<tr><th scope=row>1</th><td> 9.50</td><td>138</td><td> 73</td><td>11</td><td>276</td><td>120</td><td>Bad   </td><td>42</td><td>17</td><td>Yes</td><td>Yes</td></tr>\n",
       "\t<tr><th scope=row>2</th><td>11.22</td><td>111</td><td> 48</td><td>16</td><td>260</td><td> 83</td><td>Good  </td><td>65</td><td>10</td><td>Yes</td><td>Yes</td></tr>\n",
       "\t<tr><th scope=row>3</th><td>10.06</td><td>113</td><td> 35</td><td>10</td><td>269</td><td> 80</td><td>Medium</td><td>59</td><td>12</td><td>Yes</td><td>Yes</td></tr>\n",
       "\t<tr><th scope=row>4</th><td> 7.40</td><td>117</td><td>100</td><td> 4</td><td>466</td><td> 97</td><td>Medium</td><td>55</td><td>14</td><td>Yes</td><td>Yes</td></tr>\n",
       "\t<tr><th scope=row>5</th><td> 4.15</td><td>141</td><td> 64</td><td> 3</td><td>340</td><td>128</td><td>Bad   </td><td>38</td><td>13</td><td>Yes</td><td>No </td></tr>\n",
       "\t<tr><th scope=row>6</th><td>10.81</td><td>124</td><td>113</td><td>13</td><td>501</td><td> 72</td><td>Bad   </td><td>78</td><td>16</td><td>No </td><td>Yes</td></tr>\n",
       "</tbody>\n",
       "</table>\n"
      ],
      "text/latex": [
       "A data.frame: 6 × 11\n",
       "\\begin{tabular}{r|lllllllllll}\n",
       "  & Sales & CompPrice & Income & Advertising & Population & Price & ShelveLoc & Age & Education & Urban & US\\\\\n",
       "  & <dbl> & <dbl> & <dbl> & <dbl> & <dbl> & <dbl> & <fct> & <dbl> & <dbl> & <fct> & <fct>\\\\\n",
       "\\hline\n",
       "\t1 &  9.50 & 138 &  73 & 11 & 276 & 120 & Bad    & 42 & 17 & Yes & Yes\\\\\n",
       "\t2 & 11.22 & 111 &  48 & 16 & 260 &  83 & Good   & 65 & 10 & Yes & Yes\\\\\n",
       "\t3 & 10.06 & 113 &  35 & 10 & 269 &  80 & Medium & 59 & 12 & Yes & Yes\\\\\n",
       "\t4 &  7.40 & 117 & 100 &  4 & 466 &  97 & Medium & 55 & 14 & Yes & Yes\\\\\n",
       "\t5 &  4.15 & 141 &  64 &  3 & 340 & 128 & Bad    & 38 & 13 & Yes & No \\\\\n",
       "\t6 & 10.81 & 124 & 113 & 13 & 501 &  72 & Bad    & 78 & 16 & No  & Yes\\\\\n",
       "\\end{tabular}\n"
      ],
      "text/markdown": [
       "\n",
       "A data.frame: 6 × 11\n",
       "\n",
       "| <!--/--> | Sales &lt;dbl&gt; | CompPrice &lt;dbl&gt; | Income &lt;dbl&gt; | Advertising &lt;dbl&gt; | Population &lt;dbl&gt; | Price &lt;dbl&gt; | ShelveLoc &lt;fct&gt; | Age &lt;dbl&gt; | Education &lt;dbl&gt; | Urban &lt;fct&gt; | US &lt;fct&gt; |\n",
       "|---|---|---|---|---|---|---|---|---|---|---|---|\n",
       "| 1 |  9.50 | 138 |  73 | 11 | 276 | 120 | Bad    | 42 | 17 | Yes | Yes |\n",
       "| 2 | 11.22 | 111 |  48 | 16 | 260 |  83 | Good   | 65 | 10 | Yes | Yes |\n",
       "| 3 | 10.06 | 113 |  35 | 10 | 269 |  80 | Medium | 59 | 12 | Yes | Yes |\n",
       "| 4 |  7.40 | 117 | 100 |  4 | 466 |  97 | Medium | 55 | 14 | Yes | Yes |\n",
       "| 5 |  4.15 | 141 |  64 |  3 | 340 | 128 | Bad    | 38 | 13 | Yes | No  |\n",
       "| 6 | 10.81 | 124 | 113 | 13 | 501 |  72 | Bad    | 78 | 16 | No  | Yes |\n",
       "\n"
      ],
      "text/plain": [
       "  Sales CompPrice Income Advertising Population Price ShelveLoc Age Education\n",
       "1  9.50 138        73    11          276        120   Bad       42  17       \n",
       "2 11.22 111        48    16          260         83   Good      65  10       \n",
       "3 10.06 113        35    10          269         80   Medium    59  12       \n",
       "4  7.40 117       100     4          466         97   Medium    55  14       \n",
       "5  4.15 141        64     3          340        128   Bad       38  13       \n",
       "6 10.81 124       113    13          501         72   Bad       78  16       \n",
       "  Urban US \n",
       "1 Yes   Yes\n",
       "2 Yes   Yes\n",
       "3 Yes   Yes\n",
       "4 Yes   Yes\n",
       "5 Yes   No \n",
       "6 No    Yes"
      ]
     },
     "metadata": {},
     "output_type": "display_data"
    },
    {
     "data": {
      "text/plain": [
       "     Sales          CompPrice       Income        Advertising    \n",
       " Min.   : 0.000   Min.   : 77   Min.   : 21.00   Min.   : 0.000  \n",
       " 1st Qu.: 5.390   1st Qu.:115   1st Qu.: 42.75   1st Qu.: 0.000  \n",
       " Median : 7.490   Median :125   Median : 69.00   Median : 5.000  \n",
       " Mean   : 7.496   Mean   :125   Mean   : 68.66   Mean   : 6.635  \n",
       " 3rd Qu.: 9.320   3rd Qu.:135   3rd Qu.: 91.00   3rd Qu.:12.000  \n",
       " Max.   :16.270   Max.   :175   Max.   :120.00   Max.   :29.000  \n",
       "   Population        Price        ShelveLoc        Age          Education   \n",
       " Min.   : 10.0   Min.   : 24.0   Bad   : 96   Min.   :25.00   Min.   :10.0  \n",
       " 1st Qu.:139.0   1st Qu.:100.0   Good  : 85   1st Qu.:39.75   1st Qu.:12.0  \n",
       " Median :272.0   Median :117.0   Medium:219   Median :54.50   Median :14.0  \n",
       " Mean   :264.8   Mean   :115.8                Mean   :53.32   Mean   :13.9  \n",
       " 3rd Qu.:398.5   3rd Qu.:131.0                3rd Qu.:66.00   3rd Qu.:16.0  \n",
       " Max.   :509.0   Max.   :191.0                Max.   :80.00   Max.   :18.0  \n",
       " Urban       US     \n",
       " No :118   No :142  \n",
       " Yes:282   Yes:258  \n",
       "                    \n",
       "                    \n",
       "                    \n",
       "                    "
      ]
     },
     "metadata": {},
     "output_type": "display_data"
    }
   ],
   "source": [
    "library(ISLR)\n",
    "head(Carseats)\n",
    "summary(Carseats)"
   ]
  },
  {
   "cell_type": "code",
   "execution_count": 4,
   "id": "1e4c3ae5",
   "metadata": {},
   "outputs": [],
   "source": [
    "# Train-test split\n",
    "set.seed(1)  # High variance\n",
    "train_idx <- sample(1:nrow(Carseats), 300)\n",
    "train_CS <- Carseats[train_idx, ]  \n",
    "test_CS <- Carseats[-train_idx, ]"
   ]
  },
  {
   "cell_type": "code",
   "execution_count": 5,
   "id": "a91bd2a9",
   "metadata": {},
   "outputs": [
    {
     "data": {
      "image/png": "[encoded data removed]",
      "text/plain": [
       "plot without title"
      ]
     },
     "metadata": {
      "image/png": {
       "height": 360,
       "width": 900
      }
     },
     "output_type": "display_data"
    }
   ],
   "source": [
    "# Fit full regression tree (top-down greedy splitting)\n",
    "library(tree)\n",
    "CS_regtree <- tree(Sales~., data=train_CS)\n",
    "\n",
    "# Plot the regression tree\n",
    "options(repr.plot.width=15, repr.plot.height=6)\n",
    "plot(CS_regtree, type='uniform')\n",
    "text(CS_regtree, pretty=0)"
   ]
  },
  {
   "cell_type": "code",
   "execution_count": 6,
   "id": "66ce402f",
   "metadata": {},
   "outputs": [
    {
     "data": {
      "text/plain": [
       "node), split, n, deviance, yval\n",
       "      * denotes terminal node\n",
       "\n",
       " 1) root 300 2385.000  7.640  \n",
       "   2) ShelveLoc: Bad,Medium 226 1349.000  6.818  \n",
       "     4) Price < 105.5 74  389.300  8.314  \n",
       "       8) Age < 49.5 26   83.180  9.914  \n",
       "        16) Income < 61 9   10.930  8.329 *\n",
       "        17) Income > 61 17   37.660 10.750 *\n",
       "       9) Age > 49.5 48  203.500  7.447  \n",
       "        18) Price < 91.5 16   36.900  9.043 *\n",
       "        19) Price > 91.5 32  105.400  6.649  \n",
       "          38) CompPrice < 123.5 24   52.760  5.966 *\n",
       "          39) CompPrice > 123.5 8    7.882  8.699 *\n",
       "     5) Price > 105.5 152  713.400  6.089  \n",
       "      10) CompPrice < 124.5 53  191.000  4.990  \n",
       "        20) Age < 33 11   26.100  6.882 *\n",
       "        21) Age > 33 42  115.200  4.494 *\n",
       "      11) CompPrice > 124.5 99  424.000  6.678  \n",
       "        22) Price < 126.5 45  134.500  7.667  \n",
       "          44) Advertising < 3.5 25   56.830  6.689 *\n",
       "          45) Advertising > 3.5 20   23.870  8.890 *\n",
       "        23) Price > 126.5 54  208.700  5.854  \n",
       "          46) CompPrice < 147.5 40  147.000  5.384  \n",
       "            92) Advertising < 13.5 35  105.000  5.076 *\n",
       "            93) Advertising > 13.5 5   15.470  7.538 *\n",
       "          47) CompPrice > 147.5 14   27.620  7.198 *\n",
       "   3) ShelveLoc: Good 74  416.300 10.150  \n",
       "     6) Price < 109.5 27   68.300 12.040 *\n",
       "     7) Price > 109.5 47  196.800  9.067  \n",
       "      14) Advertising < 0.5 17   42.990  7.835 *\n",
       "      15) Advertising > 0.5 30  113.400  9.765  \n",
       "        30) Income < 35 5   12.260  7.552 *\n",
       "        31) Income > 35 25   71.720 10.210  \n",
       "          62) Age < 39.5 7    7.548 11.940 *\n",
       "          63) Age > 39.5 18   35.060  9.535 *"
      ]
     },
     "metadata": {},
     "output_type": "display_data"
    }
   ],
   "source": [
    "# Print out the tree details\n",
    "CS_regtree"
   ]
  },
  {
   "cell_type": "code",
   "execution_count": 7,
   "id": "573b60bf",
   "metadata": {},
   "outputs": [
    {
     "data": {
      "text/html": [
       "4.91026795077293"
      ],
      "text/latex": [
       "4.91026795077293"
      ],
      "text/markdown": [
       "4.91026795077293"
      ],
      "text/plain": [
       "[1] 4.910268"
      ]
     },
     "metadata": {},
     "output_type": "display_data"
    }
   ],
   "source": [
    "#Test error rate\n",
    "tree.pred = predict(CS_regtree,newdata = test_CS)\n",
    "mean((tree.pred - test_CS$Sales)^2)"
   ]
  },
  {
   "cell_type": "markdown",
   "id": "2245de74",
   "metadata": {},
   "source": [
    "The test error rate is 4.9"
   ]
  },
  {
   "cell_type": "code",
   "execution_count": 8,
   "id": "3e622167",
   "metadata": {},
   "outputs": [
    {
     "data": {
      "text/html": [
       "<style>\n",
       ".list-inline {list-style: none; margin:0; padding: 0}\n",
       ".list-inline>li {display: inline-block}\n",
       ".list-inline>li:not(:last-child)::after {content: \"\\00b7\"; padding: 0 .5ex}\n",
       "</style>\n",
       "<ol class=list-inline><li>'size'</li><li>'dev'</li><li>'k'</li><li>'method'</li></ol>\n"
      ],
      "text/latex": [
       "\\begin{enumerate*}\n",
       "\\item 'size'\n",
       "\\item 'dev'\n",
       "\\item 'k'\n",
       "\\item 'method'\n",
       "\\end{enumerate*}\n"
      ],
      "text/markdown": [
       "1. 'size'\n",
       "2. 'dev'\n",
       "3. 'k'\n",
       "4. 'method'\n",
       "\n",
       "\n"
      ],
      "text/plain": [
       "[1] \"size\"   \"dev\"    \"k\"      \"method\""
      ]
     },
     "metadata": {},
     "output_type": "display_data"
    },
    {
     "data": {
      "text/plain": [
       "$size\n",
       " [1] 17 16 15 14 13 12 11 10  9  8  7  6  5  4  3  2  1\n",
       "\n",
       "$dev\n",
       " [1] 1329.084 1347.121 1364.654 1364.654 1350.448 1350.771 1321.314 1405.099\n",
       " [9] 1400.974 1404.145 1416.479 1463.155 1487.665 1486.232 1608.966 1830.224\n",
       "[17] 2399.382\n",
       "\n",
       "$k\n",
       " [1]      -Inf  26.52497  29.11686  29.39307  34.13814  34.59496  40.44541\n",
       " [8]  44.79934  49.69942  53.81690  61.12042  80.71971  98.42378 102.63600\n",
       "[15] 151.23040 246.31381 619.17528\n",
       "\n",
       "$method\n",
       "[1] \"deviance\"\n",
       "\n",
       "attr(,\"class\")\n",
       "[1] \"prune\"         \"tree.sequence\""
      ]
     },
     "metadata": {},
     "output_type": "display_data"
    }
   ],
   "source": [
    "#Cross-validation\n",
    "CV_Carseats = cv.tree(CS_regtree)\n",
    "names(CV_Carseats)\n",
    "CV_Carseats"
   ]
  },
  {
   "cell_type": "code",
   "execution_count": 9,
   "id": "9a4d33e8",
   "metadata": {},
   "outputs": [
    {
     "data": {
      "image/png": "[encoded data removed]",
      "text/plain": [
       "plot without title"
      ]
     },
     "metadata": {
      "image/png": {
       "height": 360,
       "width": 900
      }
     },
     "output_type": "display_data"
    }
   ],
   "source": [
    "#plot \n",
    "plot(CV_Carseats$size, CV_Carseats$dev,type=\"b\")"
   ]
  },
  {
   "cell_type": "code",
   "execution_count": 10,
   "id": "9ed4e2b1",
   "metadata": {},
   "outputs": [
    {
     "data": {
      "image/png": "[encoded data removed]",
      "text/plain": [
       "plot without title"
      ]
     },
     "metadata": {
      "image/png": {
       "height": 360,
       "width": 900
      }
     },
     "output_type": "display_data"
    }
   ],
   "source": [
    "# Prune the tree\n",
    "prune_regtree <- prune.tree(CS_regtree, best=6)\n",
    "\n",
    "# Show the tree\n",
    "options(repr.plot.width=15, repr.plot.height=6)\n",
    "plot(prune_regtree, type='uniform')\n",
    "text(prune_regtree, pretty=0)"
   ]
  },
  {
   "cell_type": "code",
   "execution_count": 11,
   "id": "0d207d77",
   "metadata": {},
   "outputs": [
    {
     "data": {
      "text/html": [
       "4.91026795077293"
      ],
      "text/latex": [
       "4.91026795077293"
      ],
      "text/markdown": [
       "4.91026795077293"
      ],
      "text/plain": [
       "[1] 4.910268"
      ]
     },
     "metadata": {},
     "output_type": "display_data"
    },
    {
     "data": {
      "text/html": [
       "5.45619496276896"
      ],
      "text/latex": [
       "5.45619496276896"
      ],
      "text/markdown": [
       "5.45619496276896"
      ],
      "text/plain": [
       "[1] 5.456195"
      ]
     },
     "metadata": {},
     "output_type": "display_data"
    }
   ],
   "source": [
    "# RSS full Regression Tree\n",
    "pred_full_regtree <- predict(CS_regtree, newdata=test_CS)\n",
    "mse_full_regtree <- mean((tree.pred - test_CS$Sales)^2)\n",
    "mse_full_regtree\n",
    "\n",
    "# RSS pruned Regression Tree\n",
    "pred_pruned_regtree <- predict(prune_regtree, newdata=test_CS)\n",
    "mse_pruned_regtree <- mean((pred_pruned_regtree - test_CS$Sales)^2)\n",
    "mse_pruned_regtree"
   ]
  },
  {
   "cell_type": "markdown",
   "id": "e0e8e8f1",
   "metadata": {},
   "source": [
    "After pruning ,the regression tree increases the test error rate to 5.4"
   ]
  },
  {
   "cell_type": "code",
   "execution_count": 12,
   "id": "4a0b8a3c",
   "metadata": {},
   "outputs": [
    {
     "data": {
      "text/plain": [
       "\n",
       "Call:\n",
       " randomForest(formula = Sales ~ ., data = train_CS, mtry = 10,      importance = T) \n",
       "               Type of random forest: regression\n",
       "                     Number of trees: 500\n",
       "No. of variables tried at each split: 10\n",
       "\n",
       "          Mean of squared residuals: 2.431734\n",
       "                    % Var explained: 69.41"
      ]
     },
     "metadata": {},
     "output_type": "display_data"
    }
   ],
   "source": [
    "# Fit bagging model, use all predictors\n",
    "CS_bagtree <- randomForest(Sales~., data=train_CS, mtry=10, importance=T)\n",
    "CS_bagtree"
   ]
  },
  {
   "cell_type": "code",
   "execution_count": 13,
   "id": "e1c7434d",
   "metadata": {},
   "outputs": [
    {
     "data": {
      "text/html": [
       "2.81948352696813"
      ],
      "text/latex": [
       "2.81948352696813"
      ],
      "text/markdown": [
       "2.81948352696813"
      ],
      "text/plain": [
       "[1] 2.819484"
      ]
     },
     "metadata": {},
     "output_type": "display_data"
    },
    {
     "data": {
      "image/png": "[encoded data removed]",
      "text/plain": [
       "plot without title"
      ]
     },
     "metadata": {
      "image/png": {
       "height": 390,
       "width": 360
      }
     },
     "output_type": "display_data"
    }
   ],
   "source": [
    "# Make prediction\n",
    "pred <- predict(CS_bagtree, newdata=test_CS)\n",
    "\n",
    "options(repr.plot.width=6, repr.plot.height=6.5)\n",
    "plot(pred, test_CS$Sales, cex=0.7)\n",
    "abline(0, 1, col='red')\n",
    "\n",
    "# MSE\n",
    "mean((pred - test_CS$Sales) ^ 2)"
   ]
  },
  {
   "cell_type": "code",
   "execution_count": 14,
   "id": "6df44ea8",
   "metadata": {},
   "outputs": [
    {
     "data": {
      "text/html": [
       "<table class=\"dataframe\">\n",
       "<caption>A matrix: 10 × 2 of type dbl</caption>\n",
       "<thead>\n",
       "\t<tr><th></th><th scope=col>%IncMSE</th><th scope=col>IncNodePurity</th></tr>\n",
       "</thead>\n",
       "<tbody>\n",
       "\t<tr><th scope=row>CompPrice</th><td>36.1725054</td><td>243.07703</td></tr>\n",
       "\t<tr><th scope=row>Income</th><td> 7.9178958</td><td>131.24191</td></tr>\n",
       "\t<tr><th scope=row>Advertising</th><td>21.3369714</td><td>170.74795</td></tr>\n",
       "\t<tr><th scope=row>Population</th><td>-3.5681090</td><td> 70.02920</td></tr>\n",
       "\t<tr><th scope=row>Price</th><td>69.0435743</td><td>699.91320</td></tr>\n",
       "\t<tr><th scope=row>ShelveLoc</th><td>78.4937092</td><td>692.52513</td></tr>\n",
       "\t<tr><th scope=row>Age</th><td>26.6121120</td><td>249.06737</td></tr>\n",
       "\t<tr><th scope=row>Education</th><td> 4.2335791</td><td> 56.34447</td></tr>\n",
       "\t<tr><th scope=row>Urban</th><td> 0.3606764</td><td> 10.81074</td></tr>\n",
       "\t<tr><th scope=row>US</th><td> 2.1801579</td><td> 10.90539</td></tr>\n",
       "</tbody>\n",
       "</table>\n"
      ],
      "text/latex": [
       "A matrix: 10 × 2 of type dbl\n",
       "\\begin{tabular}{r|ll}\n",
       "  & \\%IncMSE & IncNodePurity\\\\\n",
       "\\hline\n",
       "\tCompPrice & 36.1725054 & 243.07703\\\\\n",
       "\tIncome &  7.9178958 & 131.24191\\\\\n",
       "\tAdvertising & 21.3369714 & 170.74795\\\\\n",
       "\tPopulation & -3.5681090 &  70.02920\\\\\n",
       "\tPrice & 69.0435743 & 699.91320\\\\\n",
       "\tShelveLoc & 78.4937092 & 692.52513\\\\\n",
       "\tAge & 26.6121120 & 249.06737\\\\\n",
       "\tEducation &  4.2335791 &  56.34447\\\\\n",
       "\tUrban &  0.3606764 &  10.81074\\\\\n",
       "\tUS &  2.1801579 &  10.90539\\\\\n",
       "\\end{tabular}\n"
      ],
      "text/markdown": [
       "\n",
       "A matrix: 10 × 2 of type dbl\n",
       "\n",
       "| <!--/--> | %IncMSE | IncNodePurity |\n",
       "|---|---|---|\n",
       "| CompPrice | 36.1725054 | 243.07703 |\n",
       "| Income |  7.9178958 | 131.24191 |\n",
       "| Advertising | 21.3369714 | 170.74795 |\n",
       "| Population | -3.5681090 |  70.02920 |\n",
       "| Price | 69.0435743 | 699.91320 |\n",
       "| ShelveLoc | 78.4937092 | 692.52513 |\n",
       "| Age | 26.6121120 | 249.06737 |\n",
       "| Education |  4.2335791 |  56.34447 |\n",
       "| Urban |  0.3606764 |  10.81074 |\n",
       "| US |  2.1801579 |  10.90539 |\n",
       "\n"
      ],
      "text/plain": [
       "            %IncMSE    IncNodePurity\n",
       "CompPrice   36.1725054 243.07703    \n",
       "Income       7.9178958 131.24191    \n",
       "Advertising 21.3369714 170.74795    \n",
       "Population  -3.5681090  70.02920    \n",
       "Price       69.0435743 699.91320    \n",
       "ShelveLoc   78.4937092 692.52513    \n",
       "Age         26.6121120 249.06737    \n",
       "Education    4.2335791  56.34447    \n",
       "Urban        0.3606764  10.81074    \n",
       "US           2.1801579  10.90539    "
      ]
     },
     "metadata": {},
     "output_type": "display_data"
    }
   ],
   "source": [
    "#get the important variables\n",
    "importance(CS_bagtree)"
   ]
  },
  {
   "cell_type": "code",
   "execution_count": 15,
   "id": "dba03d9b",
   "metadata": {},
   "outputs": [
    {
     "data": {
      "image/png": "[encoded data removed]",
      "text/plain": [
       "plot without title"
      ]
     },
     "metadata": {
      "image/png": {
       "height": 390,
       "width": 360
      }
     },
     "output_type": "display_data"
    }
   ],
   "source": [
    "#Plot\n",
    "varImpPlot(CS_bagtree)"
   ]
  },
  {
   "cell_type": "markdown",
   "id": "0f2a1e39",
   "metadata": {},
   "source": [
    "<b>The test error rate for bagged regression tree is 2.7.\n",
    "<br><b>The important variables are price of the carseats and quality of shelving location of carseats."
   ]
  },
  {
   "cell_type": "code",
   "execution_count": 16,
   "id": "f53ab2ed",
   "metadata": {},
   "outputs": [
    {
     "data": {
      "text/html": [
       "2.78508868171921"
      ],
      "text/latex": [
       "2.78508868171921"
      ],
      "text/markdown": [
       "2.78508868171921"
      ],
      "text/plain": [
       "[1] 2.785089"
      ]
     },
     "metadata": {},
     "output_type": "display_data"
    }
   ],
   "source": [
    "#Random forest\n",
    "RF1.carseats <- randomForest(Sales~.,data=train_CS,mtry=6,importance=T)#no of variables at each split is 6\n",
    "\n",
    "\n",
    "#Prediction for mtry-no of variables at each split is 6\n",
    "pred.RF1 <- predict(RF1.carseats,newdata=test_CS)\n",
    "mean((pred.RF1 - test_CS$Sales) ^ 2)"
   ]
  },
  {
   "cell_type": "code",
   "execution_count": 17,
   "id": "242dd3a4",
   "metadata": {},
   "outputs": [
    {
     "data": {
      "text/html": [
       "3.15082610174667"
      ],
      "text/latex": [
       "3.15082610174667"
      ],
      "text/markdown": [
       "3.15082610174667"
      ],
      "text/plain": [
       "[1] 3.150826"
      ]
     },
     "metadata": {},
     "output_type": "display_data"
    }
   ],
   "source": [
    "#Random forest\n",
    "RF2.carseats = randomForest(Sales~.,data=train_CS,mtry=3,importance=T)#no of variables at each split is 3\n",
    "\n",
    "\n",
    "#Prediction for mtry-no of variables at each split is 3\n",
    "pred.RF2 = predict(RF2.carseats,newdata=test_CS)\n",
    "mean((pred.RF2 - test_CS$Sales) ^ 2)"
   ]
  },
  {
   "cell_type": "code",
   "execution_count": 18,
   "id": "332c011e",
   "metadata": {},
   "outputs": [
    {
     "data": {
      "image/png": "[encoded data removed]",
      "text/plain": [
       "plot without title"
      ]
     },
     "metadata": {
      "image/png": {
       "height": 390,
       "width": 360
      }
     },
     "output_type": "display_data"
    },
    {
     "data": {
      "image/png": "[encoded data removed]",
      "text/plain": [
       "plot without title"
      ]
     },
     "metadata": {
      "image/png": {
       "height": 390,
       "width": 360
      }
     },
     "output_type": "display_data"
    }
   ],
   "source": [
    "#Plot for determining the important variables\n",
    "par(mfrow=c(2,2))\n",
    "varImpPlot(RF1.carseats)\n",
    "varImpPlot(RF2.carseats)"
   ]
  },
  {
   "cell_type": "markdown",
   "id": "1a9254fe",
   "metadata": {},
   "source": [
    "<b>The test error rate for Random forests is 3.1 , i.e higher than the bagged regression tree .So random forests method does not yield the best results here.\n",
    "<br><b>The important variables are price of the carseats and quality of shelving location of carseats."
   ]
  },
  {
   "cell_type": "markdown",
   "id": "785eee4e",
   "metadata": {},
   "source": [
    "## Solution 4"
   ]
  },
  {
   "cell_type": "code",
   "execution_count": 19,
   "id": "1c5f6f19",
   "metadata": {},
   "outputs": [
    {
     "data": {
      "text/html": [
       "<table class=\"dataframe\">\n",
       "<caption>A data.frame: 6 × 18</caption>\n",
       "<thead>\n",
       "\t<tr><th></th><th scope=col>Purchase</th><th scope=col>WeekofPurchase</th><th scope=col>StoreID</th><th scope=col>PriceCH</th><th scope=col>PriceMM</th><th scope=col>DiscCH</th><th scope=col>DiscMM</th><th scope=col>SpecialCH</th><th scope=col>SpecialMM</th><th scope=col>LoyalCH</th><th scope=col>SalePriceMM</th><th scope=col>SalePriceCH</th><th scope=col>PriceDiff</th><th scope=col>Store7</th><th scope=col>PctDiscMM</th><th scope=col>PctDiscCH</th><th scope=col>ListPriceDiff</th><th scope=col>STORE</th></tr>\n",
       "\t<tr><th></th><th scope=col>&lt;fct&gt;</th><th scope=col>&lt;dbl&gt;</th><th scope=col>&lt;dbl&gt;</th><th scope=col>&lt;dbl&gt;</th><th scope=col>&lt;dbl&gt;</th><th scope=col>&lt;dbl&gt;</th><th scope=col>&lt;dbl&gt;</th><th scope=col>&lt;dbl&gt;</th><th scope=col>&lt;dbl&gt;</th><th scope=col>&lt;dbl&gt;</th><th scope=col>&lt;dbl&gt;</th><th scope=col>&lt;dbl&gt;</th><th scope=col>&lt;dbl&gt;</th><th scope=col>&lt;fct&gt;</th><th scope=col>&lt;dbl&gt;</th><th scope=col>&lt;dbl&gt;</th><th scope=col>&lt;dbl&gt;</th><th scope=col>&lt;dbl&gt;</th></tr>\n",
       "</thead>\n",
       "<tbody>\n",
       "\t<tr><th scope=row>1</th><td>CH</td><td>237</td><td>1</td><td>1.75</td><td>1.99</td><td>0.00</td><td>0.0</td><td>0</td><td>0</td><td>0.500000</td><td>1.99</td><td>1.75</td><td> 0.24</td><td>No </td><td>0.000000</td><td>0.000000</td><td>0.24</td><td>1</td></tr>\n",
       "\t<tr><th scope=row>2</th><td>CH</td><td>239</td><td>1</td><td>1.75</td><td>1.99</td><td>0.00</td><td>0.3</td><td>0</td><td>1</td><td>0.600000</td><td>1.69</td><td>1.75</td><td>-0.06</td><td>No </td><td>0.150754</td><td>0.000000</td><td>0.24</td><td>1</td></tr>\n",
       "\t<tr><th scope=row>3</th><td>CH</td><td>245</td><td>1</td><td>1.86</td><td>2.09</td><td>0.17</td><td>0.0</td><td>0</td><td>0</td><td>0.680000</td><td>2.09</td><td>1.69</td><td> 0.40</td><td>No </td><td>0.000000</td><td>0.091398</td><td>0.23</td><td>1</td></tr>\n",
       "\t<tr><th scope=row>4</th><td>MM</td><td>227</td><td>1</td><td>1.69</td><td>1.69</td><td>0.00</td><td>0.0</td><td>0</td><td>0</td><td>0.400000</td><td>1.69</td><td>1.69</td><td> 0.00</td><td>No </td><td>0.000000</td><td>0.000000</td><td>0.00</td><td>1</td></tr>\n",
       "\t<tr><th scope=row>5</th><td>CH</td><td>228</td><td>7</td><td>1.69</td><td>1.69</td><td>0.00</td><td>0.0</td><td>0</td><td>0</td><td>0.956535</td><td>1.69</td><td>1.69</td><td> 0.00</td><td>Yes</td><td>0.000000</td><td>0.000000</td><td>0.00</td><td>0</td></tr>\n",
       "\t<tr><th scope=row>6</th><td>CH</td><td>230</td><td>7</td><td>1.69</td><td>1.99</td><td>0.00</td><td>0.0</td><td>0</td><td>1</td><td>0.965228</td><td>1.99</td><td>1.69</td><td> 0.30</td><td>Yes</td><td>0.000000</td><td>0.000000</td><td>0.30</td><td>0</td></tr>\n",
       "</tbody>\n",
       "</table>\n"
      ],
      "text/latex": [
       "A data.frame: 6 × 18\n",
       "\\begin{tabular}{r|llllllllllllllllll}\n",
       "  & Purchase & WeekofPurchase & StoreID & PriceCH & PriceMM & DiscCH & DiscMM & SpecialCH & SpecialMM & LoyalCH & SalePriceMM & SalePriceCH & PriceDiff & Store7 & PctDiscMM & PctDiscCH & ListPriceDiff & STORE\\\\\n",
       "  & <fct> & <dbl> & <dbl> & <dbl> & <dbl> & <dbl> & <dbl> & <dbl> & <dbl> & <dbl> & <dbl> & <dbl> & <dbl> & <fct> & <dbl> & <dbl> & <dbl> & <dbl>\\\\\n",
       "\\hline\n",
       "\t1 & CH & 237 & 1 & 1.75 & 1.99 & 0.00 & 0.0 & 0 & 0 & 0.500000 & 1.99 & 1.75 &  0.24 & No  & 0.000000 & 0.000000 & 0.24 & 1\\\\\n",
       "\t2 & CH & 239 & 1 & 1.75 & 1.99 & 0.00 & 0.3 & 0 & 1 & 0.600000 & 1.69 & 1.75 & -0.06 & No  & 0.150754 & 0.000000 & 0.24 & 1\\\\\n",
       "\t3 & CH & 245 & 1 & 1.86 & 2.09 & 0.17 & 0.0 & 0 & 0 & 0.680000 & 2.09 & 1.69 &  0.40 & No  & 0.000000 & 0.091398 & 0.23 & 1\\\\\n",
       "\t4 & MM & 227 & 1 & 1.69 & 1.69 & 0.00 & 0.0 & 0 & 0 & 0.400000 & 1.69 & 1.69 &  0.00 & No  & 0.000000 & 0.000000 & 0.00 & 1\\\\\n",
       "\t5 & CH & 228 & 7 & 1.69 & 1.69 & 0.00 & 0.0 & 0 & 0 & 0.956535 & 1.69 & 1.69 &  0.00 & Yes & 0.000000 & 0.000000 & 0.00 & 0\\\\\n",
       "\t6 & CH & 230 & 7 & 1.69 & 1.99 & 0.00 & 0.0 & 0 & 1 & 0.965228 & 1.99 & 1.69 &  0.30 & Yes & 0.000000 & 0.000000 & 0.30 & 0\\\\\n",
       "\\end{tabular}\n"
      ],
      "text/markdown": [
       "\n",
       "A data.frame: 6 × 18\n",
       "\n",
       "| <!--/--> | Purchase &lt;fct&gt; | WeekofPurchase &lt;dbl&gt; | StoreID &lt;dbl&gt; | PriceCH &lt;dbl&gt; | PriceMM &lt;dbl&gt; | DiscCH &lt;dbl&gt; | DiscMM &lt;dbl&gt; | SpecialCH &lt;dbl&gt; | SpecialMM &lt;dbl&gt; | LoyalCH &lt;dbl&gt; | SalePriceMM &lt;dbl&gt; | SalePriceCH &lt;dbl&gt; | PriceDiff &lt;dbl&gt; | Store7 &lt;fct&gt; | PctDiscMM &lt;dbl&gt; | PctDiscCH &lt;dbl&gt; | ListPriceDiff &lt;dbl&gt; | STORE &lt;dbl&gt; |\n",
       "|---|---|---|---|---|---|---|---|---|---|---|---|---|---|---|---|---|---|---|\n",
       "| 1 | CH | 237 | 1 | 1.75 | 1.99 | 0.00 | 0.0 | 0 | 0 | 0.500000 | 1.99 | 1.75 |  0.24 | No  | 0.000000 | 0.000000 | 0.24 | 1 |\n",
       "| 2 | CH | 239 | 1 | 1.75 | 1.99 | 0.00 | 0.3 | 0 | 1 | 0.600000 | 1.69 | 1.75 | -0.06 | No  | 0.150754 | 0.000000 | 0.24 | 1 |\n",
       "| 3 | CH | 245 | 1 | 1.86 | 2.09 | 0.17 | 0.0 | 0 | 0 | 0.680000 | 2.09 | 1.69 |  0.40 | No  | 0.000000 | 0.091398 | 0.23 | 1 |\n",
       "| 4 | MM | 227 | 1 | 1.69 | 1.69 | 0.00 | 0.0 | 0 | 0 | 0.400000 | 1.69 | 1.69 |  0.00 | No  | 0.000000 | 0.000000 | 0.00 | 1 |\n",
       "| 5 | CH | 228 | 7 | 1.69 | 1.69 | 0.00 | 0.0 | 0 | 0 | 0.956535 | 1.69 | 1.69 |  0.00 | Yes | 0.000000 | 0.000000 | 0.00 | 0 |\n",
       "| 6 | CH | 230 | 7 | 1.69 | 1.99 | 0.00 | 0.0 | 0 | 1 | 0.965228 | 1.99 | 1.69 |  0.30 | Yes | 0.000000 | 0.000000 | 0.30 | 0 |\n",
       "\n"
      ],
      "text/plain": [
       "  Purchase WeekofPurchase StoreID PriceCH PriceMM DiscCH DiscMM SpecialCH\n",
       "1 CH       237            1       1.75    1.99    0.00   0.0    0        \n",
       "2 CH       239            1       1.75    1.99    0.00   0.3    0        \n",
       "3 CH       245            1       1.86    2.09    0.17   0.0    0        \n",
       "4 MM       227            1       1.69    1.69    0.00   0.0    0        \n",
       "5 CH       228            7       1.69    1.69    0.00   0.0    0        \n",
       "6 CH       230            7       1.69    1.99    0.00   0.0    0        \n",
       "  SpecialMM LoyalCH  SalePriceMM SalePriceCH PriceDiff Store7 PctDiscMM\n",
       "1 0         0.500000 1.99        1.75         0.24     No     0.000000 \n",
       "2 1         0.600000 1.69        1.75        -0.06     No     0.150754 \n",
       "3 0         0.680000 2.09        1.69         0.40     No     0.000000 \n",
       "4 0         0.400000 1.69        1.69         0.00     No     0.000000 \n",
       "5 0         0.956535 1.69        1.69         0.00     Yes    0.000000 \n",
       "6 1         0.965228 1.99        1.69         0.30     Yes    0.000000 \n",
       "  PctDiscCH ListPriceDiff STORE\n",
       "1 0.000000  0.24          1    \n",
       "2 0.000000  0.24          1    \n",
       "3 0.091398  0.23          1    \n",
       "4 0.000000  0.00          1    \n",
       "5 0.000000  0.00          0    \n",
       "6 0.000000  0.30          0    "
      ]
     },
     "metadata": {},
     "output_type": "display_data"
    }
   ],
   "source": [
    "library(ISLR)\n",
    "head(OJ)"
   ]
  },
  {
   "cell_type": "code",
   "execution_count": 20,
   "id": "a3967b51",
   "metadata": {},
   "outputs": [],
   "source": [
    "#to get the desription of the dataset\n",
    "?OJ"
   ]
  },
  {
   "cell_type": "code",
   "execution_count": 21,
   "id": "81331b94",
   "metadata": {},
   "outputs": [],
   "source": [
    "# Train-test split\n",
    "set.seed(1)  # High variance\n",
    "train_idx <- sample(1:nrow(OJ), 800)\n",
    "train_OJ <- OJ[train_idx, ]  # 800 obs.\n",
    "test_OJ <- OJ[-train_idx, ]  #270 obs."
   ]
  },
  {
   "cell_type": "code",
   "execution_count": 22,
   "id": "66d74a17",
   "metadata": {},
   "outputs": [
    {
     "data": {
      "text/plain": [
       "\n",
       "Classification tree:\n",
       "tree(formula = Purchase ~ ., data = train_OJ)\n",
       "Variables actually used in tree construction:\n",
       "[1] \"LoyalCH\"       \"PriceDiff\"     \"SpecialCH\"     \"ListPriceDiff\"\n",
       "[5] \"PctDiscMM\"    \n",
       "Number of terminal nodes:  9 \n",
       "Residual mean deviance:  0.7432 = 587.8 / 791 \n",
       "Misclassification error rate: 0.1588 = 127 / 800 "
      ]
     },
     "metadata": {},
     "output_type": "display_data"
    }
   ],
   "source": [
    "# Fit the classification tree\n",
    "OJ_classtree <- tree(Purchase ~ ., data=train_OJ)\n",
    "summary(OJ_classtree)"
   ]
  },
  {
   "cell_type": "markdown",
   "id": "cef7f555",
   "metadata": {},
   "source": [
    "<b>The training error rate is 15.9%\n",
    "<br><b>Number of terminal nodes is 9"
   ]
  },
  {
   "cell_type": "code",
   "execution_count": 23,
   "id": "c5bc2b11",
   "metadata": {},
   "outputs": [
    {
     "data": {
      "text/plain": [
       "node), split, n, deviance, yval, (yprob)\n",
       "      * denotes terminal node\n",
       "\n",
       " 1) root 800 1073.00 CH ( 0.60625 0.39375 )  \n",
       "   2) LoyalCH < 0.5036 365  441.60 MM ( 0.29315 0.70685 )  \n",
       "     4) LoyalCH < 0.280875 177  140.50 MM ( 0.13559 0.86441 )  \n",
       "       8) LoyalCH < 0.0356415 59   10.14 MM ( 0.01695 0.98305 ) *\n",
       "       9) LoyalCH > 0.0356415 118  116.40 MM ( 0.19492 0.80508 ) *\n",
       "     5) LoyalCH > 0.280875 188  258.00 MM ( 0.44149 0.55851 )  \n",
       "      10) PriceDiff < 0.05 79   84.79 MM ( 0.22785 0.77215 )  \n",
       "        20) SpecialCH < 0.5 64   51.98 MM ( 0.14062 0.85938 ) *\n",
       "        21) SpecialCH > 0.5 15   20.19 CH ( 0.60000 0.40000 ) *\n",
       "      11) PriceDiff > 0.05 109  147.00 CH ( 0.59633 0.40367 ) *\n",
       "   3) LoyalCH > 0.5036 435  337.90 CH ( 0.86897 0.13103 )  \n",
       "     6) LoyalCH < 0.764572 174  201.00 CH ( 0.73563 0.26437 )  \n",
       "      12) ListPriceDiff < 0.235 72   99.81 MM ( 0.50000 0.50000 )  \n",
       "        24) PctDiscMM < 0.196197 55   73.14 CH ( 0.61818 0.38182 ) *\n",
       "        25) PctDiscMM > 0.196197 17   12.32 MM ( 0.11765 0.88235 ) *\n",
       "      13) ListPriceDiff > 0.235 102   65.43 CH ( 0.90196 0.09804 ) *\n",
       "     7) LoyalCH > 0.764572 261   91.20 CH ( 0.95785 0.04215 ) *"
      ]
     },
     "metadata": {},
     "output_type": "display_data"
    }
   ],
   "source": [
    "#interpreting the terminal node\n",
    "OJ_classtree"
   ]
  },
  {
   "cell_type": "markdown",
   "id": "404acfba",
   "metadata": {},
   "source": [
    "<b>Interpreting the terminal node :\n",
    "<br>Customer brand loyalty for Citrus Hill-LoyalCH > 0.764572\n",
    "<br>Number of obs in the branch - 261\n",
    "<br>Deviance - 91.2\n",
    "<br>Overall Prediction - \"CH\""
   ]
  },
  {
   "cell_type": "code",
   "execution_count": 24,
   "id": "ae30b075",
   "metadata": {},
   "outputs": [
    {
     "data": {
      "image/png": "[encoded data removed]",
      "text/plain": [
       "plot without title"
      ]
     },
     "metadata": {
      "image/png": {
       "height": 360,
       "width": 900
      }
     },
     "output_type": "display_data"
    }
   ],
   "source": [
    "#Create the plot of the tree\n",
    "options(repr.plot.width=15, repr.plot.height=6)\n",
    "plot(OJ_classtree, type='uniform')\n",
    "text(OJ_classtree, pretty=0)"
   ]
  },
  {
   "cell_type": "markdown",
   "id": "4034cd72",
   "metadata": {},
   "source": [
    "<b>The above plot gives an overview about the customer and to predict which brand of orange juice(CH or MM) they will buy."
   ]
  },
  {
   "cell_type": "code",
   "execution_count": 25,
   "id": "0de609c7",
   "metadata": {},
   "outputs": [
    {
     "data": {
      "text/plain": [
       "    \n",
       "pred  CH  MM\n",
       "  CH 160  38\n",
       "  MM   8  64"
      ]
     },
     "metadata": {},
     "output_type": "display_data"
    }
   ],
   "source": [
    "#predict the response\n",
    "pred <- predict(OJ_classtree, newdata=test_OJ, type='class')\n",
    "\n",
    "# Evaluation: confusion matrix\n",
    "table(pred, test_OJ$Purchase)\n"
   ]
  },
  {
   "cell_type": "code",
   "execution_count": 26,
   "id": "c5e4b076",
   "metadata": {},
   "outputs": [
    {
     "data": {
      "text/html": [
       "82.96"
      ],
      "text/latex": [
       "82.96"
      ],
      "text/markdown": [
       "82.96"
      ],
      "text/plain": [
       "[1] 82.96"
      ]
     },
     "metadata": {},
     "output_type": "display_data"
    }
   ],
   "source": [
    "#Accuracy\n",
    "acc = round(mean(pred == test_OJ$Purchase)*100,2)\n",
    "acc"
   ]
  },
  {
   "cell_type": "code",
   "execution_count": 27,
   "id": "ebedf6c0",
   "metadata": {},
   "outputs": [
    {
     "data": {
      "text/html": [
       "17.04"
      ],
      "text/latex": [
       "17.04"
      ],
      "text/markdown": [
       "17.04"
      ],
      "text/plain": [
       "[1] 17.04"
      ]
     },
     "metadata": {},
     "output_type": "display_data"
    }
   ],
   "source": [
    "#Test error rate\n",
    "100-acc"
   ]
  },
  {
   "cell_type": "markdown",
   "id": "b3f0c19a",
   "metadata": {},
   "source": [
    "<b>The test error rate is 17.04%"
   ]
  },
  {
   "cell_type": "code",
   "execution_count": 28,
   "id": "d13d2314",
   "metadata": {},
   "outputs": [
    {
     "data": {
      "text/plain": [
       "$size\n",
       "[1] 9 8 7 6 5 4 3 2 1\n",
       "\n",
       "$dev\n",
       "[1]  758.5086  775.3312  772.1547  769.2517  755.4900  792.7213  787.4097\n",
       "[8]  782.2149 1075.0831\n",
       "\n",
       "$k\n",
       "[1]      -Inf  12.62207  13.94616  14.35384  26.21539  35.74964  43.07317\n",
       "[8]  45.67120 293.15784\n",
       "\n",
       "$method\n",
       "[1] \"deviance\"\n",
       "\n",
       "attr(,\"class\")\n",
       "[1] \"prune\"         \"tree.sequence\""
      ]
     },
     "metadata": {},
     "output_type": "display_data"
    }
   ],
   "source": [
    "# Apply the cross validation \n",
    "set.seed(1)\n",
    "cv_tree <- cv.tree(OJ_classtree)\n",
    "cv_tree"
   ]
  },
  {
   "cell_type": "code",
   "execution_count": 29,
   "id": "a5ed4f29",
   "metadata": {},
   "outputs": [
    {
     "name": "stdout",
     "output_type": "stream",
     "text": [
      "[1] \"Best tree size = 5\"\n"
     ]
    }
   ],
   "source": [
    "# Best tree size\n",
    "min_idx <- which.min(cv_tree$dev)\n",
    "tree_size <- cv_tree$size[min_idx]\n",
    "print(paste0('Best tree size = ', tree_size))"
   ]
  },
  {
   "cell_type": "code",
   "execution_count": 30,
   "id": "e709f193",
   "metadata": {},
   "outputs": [
    {
     "data": {
      "image/png": "[encoded data removed]",
      "text/plain": [
       "Plot with title \"Best tree size = 5\""
      ]
     },
     "metadata": {
      "image/png": {
       "height": 360,
       "width": 900
      }
     },
     "output_type": "display_data"
    }
   ],
   "source": [
    "#plot with tree size on the x-axis and cross-validated classification error rate on the y-axis\n",
    "# Tree size, number of nodes\n",
    "plot(cv_tree$size, cv_tree$dev, type='b', cex=0.7,\n",
    "     xlab='Tree size', ylab='CV error rate', main=paste0('Best tree size = ', tree_size)\n",
    "    )\n",
    "abline(v=tree_size, col='red') "
   ]
  },
  {
   "cell_type": "markdown",
   "id": "5cdb4ce9",
   "metadata": {},
   "source": [
    "<b>From the above plot,we can see that the tree size 5 corresponds to the lowest cross-validated classification error rate"
   ]
  },
  {
   "cell_type": "code",
   "execution_count": 31,
   "id": "3585bd4f",
   "metadata": {},
   "outputs": [
    {
     "data": {
      "image/png": "[encoded data removed]",
      "text/plain": [
       "plot without title"
      ]
     },
     "metadata": {
      "image/png": {
       "height": 360,
       "width": 900
      }
     },
     "output_type": "display_data"
    }
   ],
   "source": [
    "# Prune the tree\n",
    "prune_tree <- prune.tree(OJ_classtree, best=5)\n",
    "\n",
    "# Show the tree\n",
    "options(repr.plot.width=15, repr.plot.height=6)\n",
    "plot(prune_tree, type='uniform')\n",
    "text(prune_tree, pretty=0)"
   ]
  },
  {
   "cell_type": "markdown",
   "id": "87fdbfd9",
   "metadata": {},
   "source": [
    "<b>Compare the performance of full Regression Tree and pruned Regression Tree on train data."
   ]
  },
  {
   "cell_type": "code",
   "execution_count": 32,
   "id": "de143d85",
   "metadata": {
    "scrolled": true
   },
   "outputs": [
    {
     "data": {
      "text/plain": [
       "\n",
       "Classification tree:\n",
       "snip.tree(tree = OJ_classtree, nodes = c(4L, 12L, 5L))\n",
       "Variables actually used in tree construction:\n",
       "[1] \"LoyalCH\"       \"ListPriceDiff\"\n",
       "Number of terminal nodes:  5 \n",
       "Residual mean deviance:  0.8239 = 655 / 795 \n",
       "Misclassification error rate: 0.205 = 164 / 800 "
      ]
     },
     "metadata": {},
     "output_type": "display_data"
    }
   ],
   "source": [
    "summary(prune_tree)"
   ]
  },
  {
   "cell_type": "markdown",
   "id": "8f6aac7f",
   "metadata": {},
   "source": [
    "<b>Conclusion:The training error rate of pruned tree is higher (20.5%)  than the unpruned tree ( 15.9%)."
   ]
  },
  {
   "cell_type": "markdown",
   "id": "c687dd9f",
   "metadata": {},
   "source": [
    "<b>Compare the performance of full Regression Tree and pruned Regression Tree on test data."
   ]
  },
  {
   "cell_type": "code",
   "execution_count": 33,
   "id": "f584db53",
   "metadata": {},
   "outputs": [
    {
     "data": {
      "text/plain": [
       "          \n",
       "pred.prune  CH  MM\n",
       "        CH 134  18\n",
       "        MM  34  84"
      ]
     },
     "metadata": {},
     "output_type": "display_data"
    }
   ],
   "source": [
    "#predict the response\n",
    "pred.prune <- predict(prune_tree, newdata=test_OJ, type='class')\n",
    "\n",
    "# Evaluation: confusion matrix\n",
    "table(pred.prune, test_OJ$Purchase)"
   ]
  },
  {
   "cell_type": "code",
   "execution_count": 34,
   "id": "762c7a93",
   "metadata": {},
   "outputs": [
    {
     "data": {
      "text/html": [
       "80.74"
      ],
      "text/latex": [
       "80.74"
      ],
      "text/markdown": [
       "80.74"
      ],
      "text/plain": [
       "[1] 80.74"
      ]
     },
     "metadata": {},
     "output_type": "display_data"
    }
   ],
   "source": [
    "#Accuracy\n",
    "acc = round(mean(pred.prune == test_OJ$Purchase)*100,2)\n",
    "acc"
   ]
  },
  {
   "cell_type": "code",
   "execution_count": 35,
   "id": "5ba54a7f",
   "metadata": {},
   "outputs": [
    {
     "data": {
      "text/html": [
       "19.26"
      ],
      "text/latex": [
       "19.26"
      ],
      "text/markdown": [
       "19.26"
      ],
      "text/plain": [
       "[1] 19.26"
      ]
     },
     "metadata": {},
     "output_type": "display_data"
    }
   ],
   "source": [
    "#Test error rate \n",
    "100-acc"
   ]
  },
  {
   "cell_type": "markdown",
   "id": "9c1b8498",
   "metadata": {},
   "source": [
    "<b>Conclusion:The test error rate of prune tree is 18.52% which is higher than the non pruned test error rate 17.04%"
   ]
  },
  {
   "cell_type": "markdown",
   "id": "2333f7e4",
   "metadata": {},
   "source": [
    "## Solution 5"
   ]
  },
  {
   "cell_type": "code",
   "execution_count": 36,
   "id": "7c1ab47a",
   "metadata": {},
   "outputs": [
    {
     "data": {
      "text/html": [
       "<table class=\"dataframe\">\n",
       "<caption>A data.frame: 6 × 20</caption>\n",
       "<thead>\n",
       "\t<tr><th></th><th scope=col>AtBat</th><th scope=col>Hits</th><th scope=col>HmRun</th><th scope=col>Runs</th><th scope=col>RBI</th><th scope=col>Walks</th><th scope=col>Years</th><th scope=col>CAtBat</th><th scope=col>CHits</th><th scope=col>CHmRun</th><th scope=col>CRuns</th><th scope=col>CRBI</th><th scope=col>CWalks</th><th scope=col>League</th><th scope=col>Division</th><th scope=col>PutOuts</th><th scope=col>Assists</th><th scope=col>Errors</th><th scope=col>Salary</th><th scope=col>NewLeague</th></tr>\n",
       "\t<tr><th></th><th scope=col>&lt;int&gt;</th><th scope=col>&lt;int&gt;</th><th scope=col>&lt;int&gt;</th><th scope=col>&lt;int&gt;</th><th scope=col>&lt;int&gt;</th><th scope=col>&lt;int&gt;</th><th scope=col>&lt;int&gt;</th><th scope=col>&lt;int&gt;</th><th scope=col>&lt;int&gt;</th><th scope=col>&lt;int&gt;</th><th scope=col>&lt;int&gt;</th><th scope=col>&lt;int&gt;</th><th scope=col>&lt;int&gt;</th><th scope=col>&lt;fct&gt;</th><th scope=col>&lt;fct&gt;</th><th scope=col>&lt;int&gt;</th><th scope=col>&lt;int&gt;</th><th scope=col>&lt;int&gt;</th><th scope=col>&lt;dbl&gt;</th><th scope=col>&lt;fct&gt;</th></tr>\n",
       "</thead>\n",
       "<tbody>\n",
       "\t<tr><th scope=row>-Andy Allanson</th><td>293</td><td> 66</td><td> 1</td><td>30</td><td>29</td><td>14</td><td> 1</td><td> 293</td><td>  66</td><td>  1</td><td> 30</td><td> 29</td><td> 14</td><td>A</td><td>E</td><td>446</td><td> 33</td><td>20</td><td>   NA</td><td>A</td></tr>\n",
       "\t<tr><th scope=row>-Alan Ashby</th><td>315</td><td> 81</td><td> 7</td><td>24</td><td>38</td><td>39</td><td>14</td><td>3449</td><td> 835</td><td> 69</td><td>321</td><td>414</td><td>375</td><td>N</td><td>W</td><td>632</td><td> 43</td><td>10</td><td>475.0</td><td>N</td></tr>\n",
       "\t<tr><th scope=row>-Alvin Davis</th><td>479</td><td>130</td><td>18</td><td>66</td><td>72</td><td>76</td><td> 3</td><td>1624</td><td> 457</td><td> 63</td><td>224</td><td>266</td><td>263</td><td>A</td><td>W</td><td>880</td><td> 82</td><td>14</td><td>480.0</td><td>A</td></tr>\n",
       "\t<tr><th scope=row>-Andre Dawson</th><td>496</td><td>141</td><td>20</td><td>65</td><td>78</td><td>37</td><td>11</td><td>5628</td><td>1575</td><td>225</td><td>828</td><td>838</td><td>354</td><td>N</td><td>E</td><td>200</td><td> 11</td><td> 3</td><td>500.0</td><td>N</td></tr>\n",
       "\t<tr><th scope=row>-Andres Galarraga</th><td>321</td><td> 87</td><td>10</td><td>39</td><td>42</td><td>30</td><td> 2</td><td> 396</td><td> 101</td><td> 12</td><td> 48</td><td> 46</td><td> 33</td><td>N</td><td>E</td><td>805</td><td> 40</td><td> 4</td><td> 91.5</td><td>N</td></tr>\n",
       "\t<tr><th scope=row>-Alfredo Griffin</th><td>594</td><td>169</td><td> 4</td><td>74</td><td>51</td><td>35</td><td>11</td><td>4408</td><td>1133</td><td> 19</td><td>501</td><td>336</td><td>194</td><td>A</td><td>W</td><td>282</td><td>421</td><td>25</td><td>750.0</td><td>A</td></tr>\n",
       "</tbody>\n",
       "</table>\n"
      ],
      "text/latex": [
       "A data.frame: 6 × 20\n",
       "\\begin{tabular}{r|llllllllllllllllllll}\n",
       "  & AtBat & Hits & HmRun & Runs & RBI & Walks & Years & CAtBat & CHits & CHmRun & CRuns & CRBI & CWalks & League & Division & PutOuts & Assists & Errors & Salary & NewLeague\\\\\n",
       "  & <int> & <int> & <int> & <int> & <int> & <int> & <int> & <int> & <int> & <int> & <int> & <int> & <int> & <fct> & <fct> & <int> & <int> & <int> & <dbl> & <fct>\\\\\n",
       "\\hline\n",
       "\t-Andy Allanson & 293 &  66 &  1 & 30 & 29 & 14 &  1 &  293 &   66 &   1 &  30 &  29 &  14 & A & E & 446 &  33 & 20 &    NA & A\\\\\n",
       "\t-Alan Ashby & 315 &  81 &  7 & 24 & 38 & 39 & 14 & 3449 &  835 &  69 & 321 & 414 & 375 & N & W & 632 &  43 & 10 & 475.0 & N\\\\\n",
       "\t-Alvin Davis & 479 & 130 & 18 & 66 & 72 & 76 &  3 & 1624 &  457 &  63 & 224 & 266 & 263 & A & W & 880 &  82 & 14 & 480.0 & A\\\\\n",
       "\t-Andre Dawson & 496 & 141 & 20 & 65 & 78 & 37 & 11 & 5628 & 1575 & 225 & 828 & 838 & 354 & N & E & 200 &  11 &  3 & 500.0 & N\\\\\n",
       "\t-Andres Galarraga & 321 &  87 & 10 & 39 & 42 & 30 &  2 &  396 &  101 &  12 &  48 &  46 &  33 & N & E & 805 &  40 &  4 &  91.5 & N\\\\\n",
       "\t-Alfredo Griffin & 594 & 169 &  4 & 74 & 51 & 35 & 11 & 4408 & 1133 &  19 & 501 & 336 & 194 & A & W & 282 & 421 & 25 & 750.0 & A\\\\\n",
       "\\end{tabular}\n"
      ],
      "text/markdown": [
       "\n",
       "A data.frame: 6 × 20\n",
       "\n",
       "| <!--/--> | AtBat &lt;int&gt; | Hits &lt;int&gt; | HmRun &lt;int&gt; | Runs &lt;int&gt; | RBI &lt;int&gt; | Walks &lt;int&gt; | Years &lt;int&gt; | CAtBat &lt;int&gt; | CHits &lt;int&gt; | CHmRun &lt;int&gt; | CRuns &lt;int&gt; | CRBI &lt;int&gt; | CWalks &lt;int&gt; | League &lt;fct&gt; | Division &lt;fct&gt; | PutOuts &lt;int&gt; | Assists &lt;int&gt; | Errors &lt;int&gt; | Salary &lt;dbl&gt; | NewLeague &lt;fct&gt; |\n",
       "|---|---|---|---|---|---|---|---|---|---|---|---|---|---|---|---|---|---|---|---|---|\n",
       "| -Andy Allanson | 293 |  66 |  1 | 30 | 29 | 14 |  1 |  293 |   66 |   1 |  30 |  29 |  14 | A | E | 446 |  33 | 20 |    NA | A |\n",
       "| -Alan Ashby | 315 |  81 |  7 | 24 | 38 | 39 | 14 | 3449 |  835 |  69 | 321 | 414 | 375 | N | W | 632 |  43 | 10 | 475.0 | N |\n",
       "| -Alvin Davis | 479 | 130 | 18 | 66 | 72 | 76 |  3 | 1624 |  457 |  63 | 224 | 266 | 263 | A | W | 880 |  82 | 14 | 480.0 | A |\n",
       "| -Andre Dawson | 496 | 141 | 20 | 65 | 78 | 37 | 11 | 5628 | 1575 | 225 | 828 | 838 | 354 | N | E | 200 |  11 |  3 | 500.0 | N |\n",
       "| -Andres Galarraga | 321 |  87 | 10 | 39 | 42 | 30 |  2 |  396 |  101 |  12 |  48 |  46 |  33 | N | E | 805 |  40 |  4 |  91.5 | N |\n",
       "| -Alfredo Griffin | 594 | 169 |  4 | 74 | 51 | 35 | 11 | 4408 | 1133 |  19 | 501 | 336 | 194 | A | W | 282 | 421 | 25 | 750.0 | A |\n",
       "\n"
      ],
      "text/plain": [
       "                  AtBat Hits HmRun Runs RBI Walks Years CAtBat CHits CHmRun\n",
       "-Andy Allanson    293    66   1    30   29  14     1     293     66    1   \n",
       "-Alan Ashby       315    81   7    24   38  39    14    3449    835   69   \n",
       "-Alvin Davis      479   130  18    66   72  76     3    1624    457   63   \n",
       "-Andre Dawson     496   141  20    65   78  37    11    5628   1575  225   \n",
       "-Andres Galarraga 321    87  10    39   42  30     2     396    101   12   \n",
       "-Alfredo Griffin  594   169   4    74   51  35    11    4408   1133   19   \n",
       "                  CRuns CRBI CWalks League Division PutOuts Assists Errors\n",
       "-Andy Allanson     30    29   14    A      E        446      33     20    \n",
       "-Alan Ashby       321   414  375    N      W        632      43     10    \n",
       "-Alvin Davis      224   266  263    A      W        880      82     14    \n",
       "-Andre Dawson     828   838  354    N      E        200      11      3    \n",
       "-Andres Galarraga  48    46   33    N      E        805      40      4    \n",
       "-Alfredo Griffin  501   336  194    A      W        282     421     25    \n",
       "                  Salary NewLeague\n",
       "-Andy Allanson       NA  A        \n",
       "-Alan Ashby       475.0  N        \n",
       "-Alvin Davis      480.0  A        \n",
       "-Andre Dawson     500.0  N        \n",
       "-Andres Galarraga  91.5  N        \n",
       "-Alfredo Griffin  750.0  A        "
      ]
     },
     "metadata": {},
     "output_type": "display_data"
    }
   ],
   "source": [
    "head(Hitters)"
   ]
  },
  {
   "cell_type": "code",
   "execution_count": 37,
   "id": "1ecf325f",
   "metadata": {},
   "outputs": [],
   "source": [
    "#description of the dataset\n",
    "?Hitters"
   ]
  },
  {
   "cell_type": "code",
   "execution_count": 38,
   "id": "88e727fe",
   "metadata": {},
   "outputs": [],
   "source": [
    "#Remove the observations for whom the salary information is unknown, and then log-transform the salaries\n",
    "Hitters = na.omit(Hitters)\n",
    "Hitters$Salary = log(Hitters$Salary)"
   ]
  },
  {
   "cell_type": "code",
   "execution_count": 39,
   "id": "cc1a216a",
   "metadata": {},
   "outputs": [],
   "source": [
    "# Train-test split\n",
    "set.seed(1)  # High variance\n",
    "train_idx <- sample(1:nrow(Hitters), 200)\n",
    "train_hit <- Hitters[train_idx, ]  # 200 obs.\n",
    "test_hit <- Hitters[-train_idx, ]  #63 obs."
   ]
  },
  {
   "cell_type": "code",
   "execution_count": 40,
   "id": "6ce647a0",
   "metadata": {},
   "outputs": [
    {
     "data": {
      "image/png": "[encoded data removed]",
      "text/plain": [
       "plot without title"
      ]
     },
     "metadata": {
      "image/png": {
       "height": 360,
       "width": 900
      }
     },
     "output_type": "display_data"
    }
   ],
   "source": [
    "# Fit boosting regression tree-Training MSE\n",
    "set.seed(1)\n",
    "p = seq(-10, -0.2, by = 0.1)\n",
    "lambda = 10^p\n",
    "train.error = rep(NA, length(lambda))\n",
    "for (i in 1:length(lambda)) {\n",
    "    hit_boosttree = gbm(Salary ~ ., data = train_hit, distribution = \"gaussian\", n.trees = 1000, shrinkage = lambda[i])\n",
    "    pred.train = predict(hit_boosttree, train_hit, n.trees = 1000)\n",
    "    train.error[i] = mean((pred.train - train_hit$Salary)^2)\n",
    "}\n",
    "plot(lambda, train.error, type = \"b\", xlab = \"Shrinkage values\", ylab = \"Training MSE\")"
   ]
  },
  {
   "cell_type": "code",
   "execution_count": 41,
   "id": "25b9c098",
   "metadata": {},
   "outputs": [
    {
     "data": {
      "image/png": "[encoded data removed]",
      "text/plain": [
       "plot without title"
      ]
     },
     "metadata": {
      "image/png": {
       "height": 360,
       "width": 900
      }
     },
     "output_type": "display_data"
    }
   ],
   "source": [
    "# Fit boosting regression tree-Testing MSE\n",
    "set.seed(1)\n",
    "p = seq(-10, -0.2, by = 0.1)\n",
    "lambda = 10^p\n",
    "test.error = rep(NA, length(lambda))\n",
    "for (i in 1:length(lambda)) {\n",
    "    hit_boosttree = gbm(Salary ~ ., data = train_hit, distribution = \"gaussian\", n.trees = 1000, shrinkage = lambda[i])\n",
    "    pred.test = predict(hit_boosttree, test_hit, n.trees = 1000)\n",
    "    test.error[i] = mean((pred.test - test_hit$Salary)^2)\n",
    "}\n",
    "plot(lambda, test.error, type = \"b\", xlab = \"Shrinkage values\", ylab = \"Testing MSE\")"
   ]
  },
  {
   "cell_type": "code",
   "execution_count": 42,
   "id": "d5280abd",
   "metadata": {},
   "outputs": [
    {
     "data": {
      "text/html": [
       "0.249517083874081"
      ],
      "text/latex": [
       "0.249517083874081"
      ],
      "text/markdown": [
       "0.249517083874081"
      ],
      "text/plain": [
       "[1] 0.2495171"
      ]
     },
     "metadata": {},
     "output_type": "display_data"
    }
   ],
   "source": [
    "#Minimum test error rate\n",
    "min(test.error)"
   ]
  },
  {
   "cell_type": "markdown",
   "id": "bb68fdf1",
   "metadata": {},
   "source": [
    "<b>Compare the test MSE of boosting to the test MSE that results from applying two of the regression approaches"
   ]
  },
  {
   "cell_type": "code",
   "execution_count": 43,
   "id": "c6a3f1eb",
   "metadata": {},
   "outputs": [
    {
     "name": "stderr",
     "output_type": "stream",
     "text": [
      "Loading required package: Matrix\n",
      "\n",
      "Loaded glmnet 4.1-2\n",
      "\n"
     ]
    }
   ],
   "source": [
    "#load the libraries\n",
    "library(glmnet)"
   ]
  },
  {
   "cell_type": "code",
   "execution_count": 44,
   "id": "1ea4d3ab",
   "metadata": {},
   "outputs": [
    {
     "data": {
      "text/html": [
       "0.484839735689976"
      ],
      "text/latex": [
       "0.484839735689976"
      ],
      "text/markdown": [
       "0.484839735689976"
      ],
      "text/plain": [
       "[1] 0.4848397"
      ]
     },
     "metadata": {},
     "output_type": "display_data"
    }
   ],
   "source": [
    "#Fit a Linear regression model\n",
    "linreg_fit = lm(Salary ~ ., data = train_hit)\n",
    "pred1 = predict(linreg_fit, test_hit)\n",
    "\n",
    "#Linear regression-test error rate\n",
    "mean((pred1 - test_hit$Salary)^2)"
   ]
  },
  {
   "cell_type": "code",
   "execution_count": 45,
   "id": "b8420d71",
   "metadata": {},
   "outputs": [
    {
     "data": {
      "text/html": [
       "0.162975083462064"
      ],
      "text/latex": [
       "0.162975083462064"
      ],
      "text/markdown": [
       "0.162975083462064"
      ],
      "text/plain": [
       "[1] 0.1629751"
      ]
     },
     "metadata": {},
     "output_type": "display_data"
    }
   ],
   "source": [
    "# Fit a ridge regression model on the training set\n",
    "train.matrix <-  model.matrix(Salary ~ ., data = train_hit)\n",
    "test.matrix <-  model.matrix(Salary ~ ., data = test_hit)\n",
    "grid <-  10 ^ seq(4, -2, length = 100)\n",
    "ridge <-  cv.glmnet(train.matrix, train_hit$Salary, \n",
    "                        alpha = 0, lambda = grid, thresh = 1e-12)\n",
    "lambda.val <-  ridge$lambda.min\n",
    "lambda.val"
   ]
  },
  {
   "cell_type": "code",
   "execution_count": 46,
   "id": "989905e7",
   "metadata": {},
   "outputs": [
    {
     "data": {
      "text/html": [
       "0.448700829166331"
      ],
      "text/latex": [
       "0.448700829166331"
      ],
      "text/markdown": [
       "0.448700829166331"
      ],
      "text/plain": [
       "[1] 0.4487008"
      ]
     },
     "metadata": {},
     "output_type": "display_data"
    }
   ],
   "source": [
    "#Ridge regression-test error rate\n",
    "ridge_pred <-  predict(ridge, newx = test.matrix, s = lambda.val)\n",
    "mean((ridge_pred-test_hit$Salary)^2)"
   ]
  },
  {
   "cell_type": "markdown",
   "id": "fba2e8ed",
   "metadata": {},
   "source": [
    "<b>The test MSE of boosting method is lower than the Linear and Ridge regression"
   ]
  },
  {
   "cell_type": "code",
   "execution_count": 47,
   "id": "5338ef5c",
   "metadata": {},
   "outputs": [
    {
     "data": {
      "text/html": [
       "<table class=\"dataframe\">\n",
       "<caption>A data.frame: 19 × 2</caption>\n",
       "<thead>\n",
       "\t<tr><th></th><th scope=col>var</th><th scope=col>rel.inf</th></tr>\n",
       "\t<tr><th></th><th scope=col>&lt;chr&gt;</th><th scope=col>&lt;dbl&gt;</th></tr>\n",
       "</thead>\n",
       "<tbody>\n",
       "\t<tr><th scope=row>CAtBat</th><td>CAtBat   </td><td>21.8788716</td></tr>\n",
       "\t<tr><th scope=row>PutOuts</th><td>PutOuts  </td><td> 8.7242807</td></tr>\n",
       "\t<tr><th scope=row>RBI</th><td>RBI      </td><td> 6.9927095</td></tr>\n",
       "\t<tr><th scope=row>Walks</th><td>Walks    </td><td> 6.4349292</td></tr>\n",
       "\t<tr><th scope=row>CRBI</th><td>CRBI     </td><td> 6.0409054</td></tr>\n",
       "\t<tr><th scope=row>Hits</th><td>Hits     </td><td> 5.7927393</td></tr>\n",
       "\t<tr><th scope=row>CRuns</th><td>CRuns    </td><td> 5.2627954</td></tr>\n",
       "\t<tr><th scope=row>Errors</th><td>Errors   </td><td> 5.0024357</td></tr>\n",
       "\t<tr><th scope=row>CHmRun</th><td>CHmRun   </td><td> 4.9664448</td></tr>\n",
       "\t<tr><th scope=row>CWalks</th><td>CWalks   </td><td> 4.7276873</td></tr>\n",
       "\t<tr><th scope=row>AtBat</th><td>AtBat    </td><td> 4.6014572</td></tr>\n",
       "\t<tr><th scope=row>HmRun</th><td>HmRun    </td><td> 4.4716892</td></tr>\n",
       "\t<tr><th scope=row>Assists</th><td>Assists  </td><td> 4.3645556</td></tr>\n",
       "\t<tr><th scope=row>Runs</th><td>Runs     </td><td> 3.4883833</td></tr>\n",
       "\t<tr><th scope=row>Years</th><td>Years    </td><td> 3.4272627</td></tr>\n",
       "\t<tr><th scope=row>Division</th><td>Division </td><td> 1.3354213</td></tr>\n",
       "\t<tr><th scope=row>CHits</th><td>CHits    </td><td> 1.2757693</td></tr>\n",
       "\t<tr><th scope=row>League</th><td>League   </td><td> 0.9467047</td></tr>\n",
       "\t<tr><th scope=row>NewLeague</th><td>NewLeague</td><td> 0.2649578</td></tr>\n",
       "</tbody>\n",
       "</table>\n"
      ],
      "text/latex": [
       "A data.frame: 19 × 2\n",
       "\\begin{tabular}{r|ll}\n",
       "  & var & rel.inf\\\\\n",
       "  & <chr> & <dbl>\\\\\n",
       "\\hline\n",
       "\tCAtBat & CAtBat    & 21.8788716\\\\\n",
       "\tPutOuts & PutOuts   &  8.7242807\\\\\n",
       "\tRBI & RBI       &  6.9927095\\\\\n",
       "\tWalks & Walks     &  6.4349292\\\\\n",
       "\tCRBI & CRBI      &  6.0409054\\\\\n",
       "\tHits & Hits      &  5.7927393\\\\\n",
       "\tCRuns & CRuns     &  5.2627954\\\\\n",
       "\tErrors & Errors    &  5.0024357\\\\\n",
       "\tCHmRun & CHmRun    &  4.9664448\\\\\n",
       "\tCWalks & CWalks    &  4.7276873\\\\\n",
       "\tAtBat & AtBat     &  4.6014572\\\\\n",
       "\tHmRun & HmRun     &  4.4716892\\\\\n",
       "\tAssists & Assists   &  4.3645556\\\\\n",
       "\tRuns & Runs      &  3.4883833\\\\\n",
       "\tYears & Years     &  3.4272627\\\\\n",
       "\tDivision & Division  &  1.3354213\\\\\n",
       "\tCHits & CHits     &  1.2757693\\\\\n",
       "\tLeague & League    &  0.9467047\\\\\n",
       "\tNewLeague & NewLeague &  0.2649578\\\\\n",
       "\\end{tabular}\n"
      ],
      "text/markdown": [
       "\n",
       "A data.frame: 19 × 2\n",
       "\n",
       "| <!--/--> | var &lt;chr&gt; | rel.inf &lt;dbl&gt; |\n",
       "|---|---|---|\n",
       "| CAtBat | CAtBat    | 21.8788716 |\n",
       "| PutOuts | PutOuts   |  8.7242807 |\n",
       "| RBI | RBI       |  6.9927095 |\n",
       "| Walks | Walks     |  6.4349292 |\n",
       "| CRBI | CRBI      |  6.0409054 |\n",
       "| Hits | Hits      |  5.7927393 |\n",
       "| CRuns | CRuns     |  5.2627954 |\n",
       "| Errors | Errors    |  5.0024357 |\n",
       "| CHmRun | CHmRun    |  4.9664448 |\n",
       "| CWalks | CWalks    |  4.7276873 |\n",
       "| AtBat | AtBat     |  4.6014572 |\n",
       "| HmRun | HmRun     |  4.4716892 |\n",
       "| Assists | Assists   |  4.3645556 |\n",
       "| Runs | Runs      |  3.4883833 |\n",
       "| Years | Years     |  3.4272627 |\n",
       "| Division | Division  |  1.3354213 |\n",
       "| CHits | CHits     |  1.2757693 |\n",
       "| League | League    |  0.9467047 |\n",
       "| NewLeague | NewLeague |  0.2649578 |\n",
       "\n"
      ],
      "text/plain": [
       "          var       rel.inf   \n",
       "CAtBat    CAtBat    21.8788716\n",
       "PutOuts   PutOuts    8.7242807\n",
       "RBI       RBI        6.9927095\n",
       "Walks     Walks      6.4349292\n",
       "CRBI      CRBI       6.0409054\n",
       "Hits      Hits       5.7927393\n",
       "CRuns     CRuns      5.2627954\n",
       "Errors    Errors     5.0024357\n",
       "CHmRun    CHmRun     4.9664448\n",
       "CWalks    CWalks     4.7276873\n",
       "AtBat     AtBat      4.6014572\n",
       "HmRun     HmRun      4.4716892\n",
       "Assists   Assists    4.3645556\n",
       "Runs      Runs       3.4883833\n",
       "Years     Years      3.4272627\n",
       "Division  Division   1.3354213\n",
       "CHits     CHits      1.2757693\n",
       "League    League     0.9467047\n",
       "NewLeague NewLeague  0.2649578"
      ]
     },
     "metadata": {},
     "output_type": "display_data"
    },
    {
     "data": {
      "image/png": "[encoded data removed]",
      "text/plain": [
       "plot without title"
      ]
     },
     "metadata": {
      "image/png": {
       "height": 390,
       "width": 360
      }
     },
     "output_type": "display_data"
    }
   ],
   "source": [
    "#Most important predictors in the bossted model\n",
    "options(repr.plot.width=6, repr.plot.height=6.5)\n",
    "summary(hit_boosttree)"
   ]
  },
  {
   "cell_type": "markdown",
   "id": "87f1c2a2",
   "metadata": {},
   "source": [
    "<b>The most important variables og the boosted model are CHits and Putouts."
   ]
  },
  {
   "cell_type": "code",
   "execution_count": 48,
   "id": "f5368212",
   "metadata": {},
   "outputs": [
    {
     "data": {
      "text/plain": [
       "\n",
       "Call:\n",
       " randomForest(formula = Salary ~ ., data = train_hit, mtry = 19,      importance = T) \n",
       "               Type of random forest: regression\n",
       "                     Number of trees: 500\n",
       "No. of variables tried at each split: 19\n",
       "\n",
       "          Mean of squared residuals: 0.1725994\n",
       "                    % Var explained: 77"
      ]
     },
     "metadata": {},
     "output_type": "display_data"
    }
   ],
   "source": [
    "# Fit bagging model, use all predictors\n",
    "set.seed(1)\n",
    "hit_bagtree <- randomForest(Salary~., data=train_hit, mtry=19, importance=T)\n",
    "hit_bagtree"
   ]
  },
  {
   "cell_type": "code",
   "execution_count": 49,
   "id": "2f001233",
   "metadata": {},
   "outputs": [
    {
     "data": {
      "text/html": [
       "0.235279830514751"
      ],
      "text/latex": [
       "0.235279830514751"
      ],
      "text/markdown": [
       "0.235279830514751"
      ],
      "text/plain": [
       "[1] 0.2352798"
      ]
     },
     "metadata": {},
     "output_type": "display_data"
    }
   ],
   "source": [
    "# Make prediction\n",
    "pred <- predict(hit_bagtree, newdata=test_hit)\n",
    "\n",
    "# MSE\n",
    "mean((pred - test_hit$Salary) ^ 2)"
   ]
  },
  {
   "cell_type": "markdown",
   "id": "1c77000e",
   "metadata": {},
   "source": [
    "<b>Conclusion:The test set MSE for bagging approach is slightly lower (0.235) than the Boosting method (0.249)"
   ]
  }
 ],
 "metadata": {
  "kernelspec": {
   "display_name": "R",
   "language": "R",
   "name": "ir"
  },
  "language_info": {
   "codemirror_mode": "r",
   "file_extension": ".r",
   "mimetype": "text/x-r-source",
   "name": "R",
   "pygments_lexer": "r",
   "version": "4.0.5"
  }
 },
 "nbformat": 4,
 "nbformat_minor": 5
}
