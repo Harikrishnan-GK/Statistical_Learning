{
 "cells": [
  {
   "cell_type": "markdown",
   "id": "6aa07d82",
   "metadata": {},
   "source": [
    "# Session 3 Exercises"
   ]
  },
  {
   "cell_type": "code",
   "execution_count": 2,
   "id": "6baa8437",
   "metadata": {},
   "outputs": [
    {
     "name": "stderr",
     "output_type": "stream",
     "text": [
      "Loading required package: ParamHelpers\n",
      "\n",
      "Warning message: 'mlr' is in 'maintenance-only' mode since July 2019.\n",
      "Future development will only happen in 'mlr3'\n",
      "(<https://mlr3.mlr-org.com>). Due to the focus on 'mlr3' there might be\n",
      "uncaught bugs meanwhile in {mlr} - please consider switching.\n",
      "\n",
      "Loading required package: ggplot2\n",
      "\n",
      "Loading required package: lattice\n",
      "\n",
      "\n",
      "Attaching package: 'caret'\n",
      "\n",
      "\n",
      "The following object is masked from 'package:mlr':\n",
      "\n",
      "    train\n",
      "\n",
      "\n",
      "Type 'citation(\"pROC\")' for a citation.\n",
      "\n",
      "\n",
      "Attaching package: 'pROC'\n",
      "\n",
      "\n",
      "The following objects are masked from 'package:stats':\n",
      "\n",
      "    cov, smooth, var\n",
      "\n",
      "\n",
      "\n",
      "Attaching package: 'e1071'\n",
      "\n",
      "\n",
      "The following object is masked from 'package:mlr':\n",
      "\n",
      "    impute\n",
      "\n",
      "\n",
      "\n",
      "Attaching package: 'kknn'\n",
      "\n",
      "\n",
      "The following object is masked from 'package:caret':\n",
      "\n",
      "    contr.dummy\n",
      "\n",
      "\n",
      "dummies-1.5.6 provided by Decision Patterns\n",
      "\n",
      "\n"
     ]
    }
   ],
   "source": [
    "# Set environment params\n",
    "Sys.setenv(LANG='en')  # English\n",
    "\n",
    "# Import libraries\n",
    "library(data.table)  # Data manipulate\n",
    "library(mlr)         # ML toolkit\n",
    "library(caret)       # ML toolkit\n",
    "library(ggplot2)     # Visualization\n",
    "library(pROC)        # AUC, ROC\n",
    "library(e1071)       # Evaluation\n",
    "library(gridExtra)   # Visualization\n",
    "library(kknn)        # kNN model\n",
    "library(nnet)        # One-vs-All Logistic Regression\n",
    "library(dummies)     # Data processing\n",
    "\n",
    "# Import data\n",
    "library(ISLR)      # Data from the course book\n",
    "library(MASS)      # Boston housing dataset\n",
    "library(datasets)  # US crime dataset\n",
    "\n",
    "# Resize plot\n",
    "library(repr)  # String and binary representations\n",
    "#options(repr.plot.width=4, repr.plot.height=4)\n"
   ]
  },
  {
   "cell_type": "markdown",
   "id": "5a1402e6",
   "metadata": {},
   "source": [
    "## Question-1 "
   ]
  },
  {
   "cell_type": "markdown",
   "id": "f45e8607",
   "metadata": {},
   "source": [
    "## Review K-Fold Cross validation"
   ]
  },
  {
   "cell_type": "markdown",
   "id": "6bbc55a5",
   "metadata": {},
   "source": [
    "## (a)"
   ]
  },
  {
   "cell_type": "markdown",
   "id": "7870b6cc",
   "metadata": {},
   "source": [
    " K-fold Cross validation is implemented by taking n observations at random and splitting them into k non-overlapping groups of approximately n/k."
   ]
  },
  {
   "cell_type": "markdown",
   "id": "9609f22c",
   "metadata": {},
   "source": [
    "## (b)"
   ]
  },
  {
   "cell_type": "markdown",
   "id": "81110332",
   "metadata": {},
   "source": [
    "i. \n",
    "Advantages:Reduced bias and variance of the resulting estimate is reduced as k increases\n",
    "Disadvantages:The training algorithm has to be re-run from scratch k no of times\n",
    "\n",
    "<br> ii.\n",
    "Advantages:K-fold CV gives more accurate estimates of the test error rate \n",
    "Disadvantages:As we use entire datset for training,So it has Less bias when compared K-fold CV\n"
   ]
  },
  {
   "cell_type": "markdown",
   "id": "172e02f5",
   "metadata": {},
   "source": [
    "## Question-2"
   ]
  },
  {
   "cell_type": "markdown",
   "id": "6662366e",
   "metadata": {},
   "source": [
    "## Solution : (a)"
   ]
  },
  {
   "cell_type": "code",
   "execution_count": 3,
   "id": "dbec0f1f",
   "metadata": {},
   "outputs": [],
   "source": [
    "#Generate a simulated data\n",
    "set.seed(1)\n",
    "y=rnorm(100)\n",
    "x=rnorm(100)\n",
    "y=x-2*x^2+rnorm (100)"
   ]
  },
  {
   "cell_type": "markdown",
   "id": "03bbfac9",
   "metadata": {},
   "source": [
    "n=100 and p=2.the model used to generate the data in equation form: y = x - 2*x^2 + ε(eps)"
   ]
  },
  {
   "cell_type": "markdown",
   "id": "82c84924",
   "metadata": {},
   "source": [
    "## Solution : (b)"
   ]
  },
  {
   "cell_type": "code",
   "execution_count": 4,
   "id": "bf8f9e3a",
   "metadata": {},
   "outputs": [
    {
     "data": {
      "image/png": "[encoded data removed]",
      "text/plain": [
       "plot without title"
      ]
     },
     "metadata": {
      "image/png": {
       "height": 420,
       "width": 420
      }
     },
     "output_type": "display_data"
    }
   ],
   "source": [
    "#Scatterplot of X against Y\n",
    "plot(x,y)"
   ]
  },
  {
   "cell_type": "markdown",
   "id": "2c5d0351",
   "metadata": {},
   "source": [
    "From the above graph,we can see that there is a quadratic relationship between x and y"
   ]
  },
  {
   "cell_type": "markdown",
   "id": "15086aa2",
   "metadata": {},
   "source": [
    "## Solution : (c)"
   ]
  },
  {
   "cell_type": "markdown",
   "id": "8418afa5",
   "metadata": {},
   "source": [
    " i. Y=β0+β1X+ε"
   ]
  },
  {
   "cell_type": "code",
   "execution_count": 5,
   "id": "da9ebfc4",
   "metadata": {},
   "outputs": [
    {
     "name": "stderr",
     "output_type": "stream",
     "text": [
      "\n",
      "Attaching package: 'boot'\n",
      "\n",
      "\n",
      "The following object is masked from 'package:lattice':\n",
      "\n",
      "    melanoma\n",
      "\n",
      "\n"
     ]
    },
    {
     "data": {
      "text/html": [
       "5.89097855988842"
      ],
      "text/latex": [
       "5.89097855988842"
      ],
      "text/markdown": [
       "5.89097855988842"
      ],
      "text/plain": [
       "[1] 5.890979"
      ]
     },
     "metadata": {},
     "output_type": "display_data"
    }
   ],
   "source": [
    "library(boot)\n",
    "set.seed(10)\n",
    "df <- data.frame(x, y)\n",
    "fit.glm.1 <- glm(y ~ x)\n",
    "cv.glm(df, fit.glm.1)$delta[1]"
   ]
  },
  {
   "cell_type": "markdown",
   "id": "5f461159",
   "metadata": {},
   "source": [
    "ii. Y=β0+β1X+β2X2+ε"
   ]
  },
  {
   "cell_type": "code",
   "execution_count": 6,
   "id": "bbb2fa21",
   "metadata": {},
   "outputs": [
    {
     "data": {
      "text/html": [
       "1.0865955642745"
      ],
      "text/latex": [
       "1.0865955642745"
      ],
      "text/markdown": [
       "1.0865955642745"
      ],
      "text/plain": [
       "[1] 1.086596"
      ]
     },
     "metadata": {},
     "output_type": "display_data"
    }
   ],
   "source": [
    "fit.glm.2 <- glm(y ~ poly(x, 2))\n",
    "cv.glm(df, fit.glm.2)$delta[1]"
   ]
  },
  {
   "cell_type": "markdown",
   "id": "6bf5f3dd",
   "metadata": {},
   "source": [
    "iii. Y=β0+β1X+β2X2+β3X3+"
   ]
  },
  {
   "cell_type": "code",
   "execution_count": 7,
   "id": "8096b4f4",
   "metadata": {},
   "outputs": [
    {
     "data": {
      "text/html": [
       "1.10258509387339"
      ],
      "text/latex": [
       "1.10258509387339"
      ],
      "text/markdown": [
       "1.10258509387339"
      ],
      "text/plain": [
       "[1] 1.102585"
      ]
     },
     "metadata": {},
     "output_type": "display_data"
    }
   ],
   "source": [
    "fit.glm.3 <- glm(y ~ poly(x, 3))\n",
    "cv.glm(df, fit.glm.3)$delta[1]"
   ]
  },
  {
   "cell_type": "markdown",
   "id": "fd8f97d8",
   "metadata": {},
   "source": [
    "iv. Y=β0+β1X+β2X2+β3X3+β4X4+ε"
   ]
  },
  {
   "cell_type": "code",
   "execution_count": 8,
   "id": "f21c6d6f",
   "metadata": {},
   "outputs": [
    {
     "data": {
      "text/html": [
       "1.11477226814507"
      ],
      "text/latex": [
       "1.11477226814507"
      ],
      "text/markdown": [
       "1.11477226814507"
      ],
      "text/plain": [
       "[1] 1.114772"
      ]
     },
     "metadata": {},
     "output_type": "display_data"
    }
   ],
   "source": [
    "fit.glm.4 <- glm(y ~ poly(x, 4))\n",
    "cv.glm(df, fit.glm.4)$delta[1]"
   ]
  },
  {
   "cell_type": "markdown",
   "id": "d2a2e978",
   "metadata": {},
   "source": [
    "## Solution : (d)"
   ]
  },
  {
   "cell_type": "code",
   "execution_count": 9,
   "id": "90ea42ff",
   "metadata": {},
   "outputs": [
    {
     "data": {
      "text/html": [
       "5.89097855988842"
      ],
      "text/latex": [
       "5.89097855988842"
      ],
      "text/markdown": [
       "5.89097855988842"
      ],
      "text/plain": [
       "[1] 5.890979"
      ]
     },
     "metadata": {},
     "output_type": "display_data"
    }
   ],
   "source": [
    "set.seed(123)\n",
    "df <- data.frame(x, y)\n",
    "fit.glm.1 <- glm(y ~ x)\n",
    "cv.glm(df, fit.glm.1)$delta[1]"
   ]
  },
  {
   "cell_type": "code",
   "execution_count": 10,
   "id": "859b0cad",
   "metadata": {},
   "outputs": [
    {
     "data": {
      "text/html": [
       "1.0865955642745"
      ],
      "text/latex": [
       "1.0865955642745"
      ],
      "text/markdown": [
       "1.0865955642745"
      ],
      "text/plain": [
       "[1] 1.086596"
      ]
     },
     "metadata": {},
     "output_type": "display_data"
    }
   ],
   "source": [
    "fit.glm.2 <- glm(y ~ poly(x, 2))\n",
    "cv.glm(df, fit.glm.2)$delta[1]"
   ]
  },
  {
   "cell_type": "code",
   "execution_count": 11,
   "id": "d7c1f522",
   "metadata": {},
   "outputs": [
    {
     "data": {
      "text/html": [
       "1.10258509387339"
      ],
      "text/latex": [
       "1.10258509387339"
      ],
      "text/markdown": [
       "1.10258509387339"
      ],
      "text/plain": [
       "[1] 1.102585"
      ]
     },
     "metadata": {},
     "output_type": "display_data"
    }
   ],
   "source": [
    "fit.glm.3 <- glm(y ~ poly(x, 3))\n",
    "cv.glm(df, fit.glm.3)$delta[1]"
   ]
  },
  {
   "cell_type": "code",
   "execution_count": 12,
   "id": "15b5fdc7",
   "metadata": {},
   "outputs": [
    {
     "data": {
      "text/html": [
       "1.11477226814507"
      ],
      "text/latex": [
       "1.11477226814507"
      ],
      "text/markdown": [
       "1.11477226814507"
      ],
      "text/plain": [
       "[1] 1.114772"
      ]
     },
     "metadata": {},
     "output_type": "display_data"
    }
   ],
   "source": [
    "fit.glm.4 <- glm(y ~ poly(x, 4))\n",
    "cv.glm(df, fit.glm.4)$delta[1]"
   ]
  },
  {
   "cell_type": "markdown",
   "id": "f2a9a3af",
   "metadata": {},
   "source": [
    "Both (c) and (d) are similar because LOOCV evaluates for one observation in this case"
   ]
  },
  {
   "cell_type": "markdown",
   "id": "dce4c05a",
   "metadata": {},
   "source": [
    "## Solution : (e)"
   ]
  },
  {
   "cell_type": "markdown",
   "id": "a6446134",
   "metadata": {},
   "source": [
    "The cross-validation error is minimum (say 1.0865955642745 ) for the quadratic function Y=β0+β1X+β2X2+error.It is minimum because we clearly saw that there is  quadratic relationship between x and y."
   ]
  },
  {
   "cell_type": "markdown",
   "id": "119d516d",
   "metadata": {},
   "source": [
    "## Solution : (f)"
   ]
  },
  {
   "cell_type": "code",
   "execution_count": 13,
   "id": "e16005b5",
   "metadata": {},
   "outputs": [
    {
     "data": {
      "text/plain": [
       "\n",
       "Call:\n",
       "glm(formula = y ~ poly(x, 4))\n",
       "\n",
       "Deviance Residuals: \n",
       "    Min       1Q   Median       3Q      Max  \n",
       "-2.8914  -0.5244   0.0749   0.5932   2.7796  \n",
       "\n",
       "Coefficients:\n",
       "            Estimate Std. Error t value Pr(>|t|)    \n",
       "(Intercept)  -1.8277     0.1041 -17.549   <2e-16 ***\n",
       "poly(x, 4)1   2.3164     1.0415   2.224   0.0285 *  \n",
       "poly(x, 4)2 -21.0586     1.0415 -20.220   <2e-16 ***\n",
       "poly(x, 4)3  -0.3048     1.0415  -0.293   0.7704    \n",
       "poly(x, 4)4  -0.4926     1.0415  -0.473   0.6373    \n",
       "---\n",
       "Signif. codes:  0 '***' 0.001 '**' 0.01 '*' 0.05 '.' 0.1 ' ' 1\n",
       "\n",
       "(Dispersion parameter for gaussian family taken to be 1.084654)\n",
       "\n",
       "    Null deviance: 552.21  on 99  degrees of freedom\n",
       "Residual deviance: 103.04  on 95  degrees of freedom\n",
       "AIC: 298.78\n",
       "\n",
       "Number of Fisher Scoring iterations: 2\n"
      ]
     },
     "metadata": {},
     "output_type": "display_data"
    }
   ],
   "source": [
    "#statistical significance of the coefficient estimates\n",
    "summary(fit.glm.4)"
   ]
  },
  {
   "cell_type": "markdown",
   "id": "c078aa02",
   "metadata": {},
   "source": [
    "The p-values suggests that the linear and quadratic variables are statistically significant and that the 3rd and 4th degree terms are not statistically significant.It further matches with quadratic equation where we get the lowest LOOCV error  "
   ]
  },
  {
   "cell_type": "markdown",
   "id": "6fc33816",
   "metadata": {},
   "source": [
    "## Question-3"
   ]
  },
  {
   "cell_type": "markdown",
   "id": "118d8787",
   "metadata": {},
   "source": [
    "## Solution (a)"
   ]
  },
  {
   "cell_type": "markdown",
   "id": "51638827",
   "metadata": {},
   "source": [
    "The model with best subset selection has the smallest training RSS(Residual sum of squares) because it considers every posible model with K predictors and best subset selection values can't deviate much from expected values thereby leading to low variance  "
   ]
  },
  {
   "cell_type": "markdown",
   "id": "2554b8c6",
   "metadata": {},
   "source": [
    "## Solution (b)"
   ]
  },
  {
   "cell_type": "markdown",
   "id": "08fd5850",
   "metadata": {},
   "source": [
    "The model with best subset selection - k predictors has the smallest test RSSit beacuse it can take into account more models when compared to the other models."
   ]
  },
  {
   "cell_type": "markdown",
   "id": "05e528a4",
   "metadata": {},
   "source": [
    "## Solution (c)"
   ]
  },
  {
   "cell_type": "markdown",
   "id": "d4a55e4f",
   "metadata": {},
   "source": [
    "i.TRUE\n",
    "ii.TRUE\n",
    "iii.FALSE\n",
    "iv.FALSE\n",
    "v.FALSE"
   ]
  },
  {
   "cell_type": "markdown",
   "id": "1de40f38",
   "metadata": {},
   "source": [
    "## Question-4"
   ]
  },
  {
   "cell_type": "markdown",
   "id": "397b4bd5",
   "metadata": {},
   "source": [
    "## (a)"
   ]
  },
  {
   "cell_type": "code",
   "execution_count": 14,
   "id": "2463770d",
   "metadata": {},
   "outputs": [],
   "source": [
    "library(ISLR)\n",
    "attach(College)"
   ]
  },
  {
   "cell_type": "code",
   "execution_count": 15,
   "id": "b9c8f79c",
   "metadata": {},
   "outputs": [
    {
     "data": {
      "text/html": [
       "<table class=\"dataframe\">\n",
       "<caption>A data.frame: 545 × 18</caption>\n",
       "<thead>\n",
       "\t<tr><th></th><th scope=col>Private</th><th scope=col>Apps</th><th scope=col>Accept</th><th scope=col>Enroll</th><th scope=col>Top10perc</th><th scope=col>Top25perc</th><th scope=col>F.Undergrad</th><th scope=col>P.Undergrad</th><th scope=col>Outstate</th><th scope=col>Room.Board</th><th scope=col>Books</th><th scope=col>Personal</th><th scope=col>PhD</th><th scope=col>Terminal</th><th scope=col>S.F.Ratio</th><th scope=col>perc.alumni</th><th scope=col>Expend</th><th scope=col>Grad.Rate</th></tr>\n",
       "\t<tr><th></th><th scope=col>&lt;fct&gt;</th><th scope=col>&lt;dbl&gt;</th><th scope=col>&lt;dbl&gt;</th><th scope=col>&lt;dbl&gt;</th><th scope=col>&lt;dbl&gt;</th><th scope=col>&lt;dbl&gt;</th><th scope=col>&lt;dbl&gt;</th><th scope=col>&lt;dbl&gt;</th><th scope=col>&lt;dbl&gt;</th><th scope=col>&lt;dbl&gt;</th><th scope=col>&lt;dbl&gt;</th><th scope=col>&lt;dbl&gt;</th><th scope=col>&lt;dbl&gt;</th><th scope=col>&lt;dbl&gt;</th><th scope=col>&lt;dbl&gt;</th><th scope=col>&lt;dbl&gt;</th><th scope=col>&lt;dbl&gt;</th><th scope=col>&lt;dbl&gt;</th></tr>\n",
       "</thead>\n",
       "<tbody>\n",
       "\t<tr><th scope=row>Adrian College</th><td>Yes</td><td>1428</td><td>1097</td><td> 336</td><td>22</td><td>50</td><td>1036</td><td>  99</td><td>11250</td><td>3750</td><td> 400</td><td>1165</td><td>53</td><td> 66</td><td>12.9</td><td>30</td><td> 8735</td><td> 54</td></tr>\n",
       "\t<tr><th scope=row>Albertus Magnus College</th><td>Yes</td><td> 353</td><td> 340</td><td> 103</td><td>17</td><td>45</td><td> 416</td><td> 230</td><td>13290</td><td>5720</td><td> 500</td><td>1500</td><td>90</td><td> 93</td><td>11.5</td><td>26</td><td> 8861</td><td> 63</td></tr>\n",
       "\t<tr><th scope=row>Albion College</th><td>Yes</td><td>1899</td><td>1720</td><td> 489</td><td>37</td><td>68</td><td>1594</td><td>  32</td><td>13868</td><td>4826</td><td> 450</td><td> 850</td><td>89</td><td>100</td><td>13.7</td><td>37</td><td>11487</td><td> 73</td></tr>\n",
       "\t<tr><th scope=row>Albright College</th><td>Yes</td><td>1038</td><td> 839</td><td> 227</td><td>30</td><td>63</td><td> 973</td><td> 306</td><td>15595</td><td>4400</td><td> 300</td><td> 500</td><td>79</td><td> 84</td><td>11.3</td><td>23</td><td>11644</td><td> 80</td></tr>\n",
       "\t<tr><th scope=row>Alderson-Broaddus College</th><td>Yes</td><td> 582</td><td> 498</td><td> 172</td><td>21</td><td>44</td><td> 799</td><td>  78</td><td>10468</td><td>3380</td><td> 660</td><td>1800</td><td>40</td><td> 41</td><td>11.5</td><td>15</td><td> 8991</td><td> 52</td></tr>\n",
       "\t<tr><th scope=row>Alfred University</th><td>Yes</td><td>1732</td><td>1425</td><td> 472</td><td>37</td><td>75</td><td>1830</td><td> 110</td><td>16548</td><td>5406</td><td> 500</td><td> 600</td><td>82</td><td> 88</td><td>11.3</td><td>31</td><td>10932</td><td> 73</td></tr>\n",
       "\t<tr><th scope=row>Allegheny College</th><td>Yes</td><td>2652</td><td>1900</td><td> 484</td><td>44</td><td>77</td><td>1707</td><td>  44</td><td>17080</td><td>4440</td><td> 400</td><td> 600</td><td>73</td><td> 91</td><td> 9.9</td><td>41</td><td>11711</td><td> 76</td></tr>\n",
       "\t<tr><th scope=row>Alma College</th><td>Yes</td><td>1267</td><td>1080</td><td> 385</td><td>44</td><td>73</td><td>1306</td><td>  28</td><td>12572</td><td>4552</td><td> 400</td><td> 400</td><td>79</td><td> 87</td><td>15.3</td><td>32</td><td> 9305</td><td> 68</td></tr>\n",
       "\t<tr><th scope=row>Alverno College</th><td>Yes</td><td> 494</td><td> 313</td><td> 157</td><td>23</td><td>46</td><td>1317</td><td>1235</td><td> 8352</td><td>3640</td><td> 650</td><td>2449</td><td>36</td><td> 69</td><td>11.1</td><td>26</td><td> 8127</td><td> 55</td></tr>\n",
       "\t<tr><th scope=row>American International College</th><td>Yes</td><td>1420</td><td>1093</td><td> 220</td><td> 9</td><td>22</td><td>1018</td><td> 287</td><td> 8700</td><td>4780</td><td> 450</td><td>1400</td><td>78</td><td> 84</td><td>14.7</td><td>19</td><td> 7355</td><td> 69</td></tr>\n",
       "\t<tr><th scope=row>Amherst College</th><td>Yes</td><td>4302</td><td> 992</td><td> 418</td><td>83</td><td>96</td><td>1593</td><td>   5</td><td>19760</td><td>5300</td><td> 660</td><td>1598</td><td>93</td><td> 98</td><td> 8.4</td><td>63</td><td>21424</td><td>100</td></tr>\n",
       "\t<tr><th scope=row>Anderson University</th><td>Yes</td><td>1216</td><td> 908</td><td> 423</td><td>19</td><td>40</td><td>1819</td><td> 281</td><td>10100</td><td>3520</td><td> 550</td><td>1100</td><td>48</td><td> 61</td><td>12.1</td><td>14</td><td> 7994</td><td> 59</td></tr>\n",
       "\t<tr><th scope=row>Andrews University</th><td>Yes</td><td>1130</td><td> 704</td><td> 322</td><td>14</td><td>23</td><td>1586</td><td> 326</td><td> 9996</td><td>3090</td><td> 900</td><td>1320</td><td>62</td><td> 66</td><td>11.5</td><td>18</td><td>10908</td><td> 46</td></tr>\n",
       "\t<tr><th scope=row>Angelo State University</th><td>No </td><td>3540</td><td>2001</td><td>1016</td><td>24</td><td>54</td><td>4190</td><td>1512</td><td> 5130</td><td>3592</td><td> 500</td><td>2000</td><td>60</td><td> 62</td><td>23.1</td><td> 5</td><td> 4010</td><td> 34</td></tr>\n",
       "\t<tr><th scope=row>Antioch University</th><td>Yes</td><td> 713</td><td> 661</td><td> 252</td><td>25</td><td>44</td><td> 712</td><td>  23</td><td>15476</td><td>3336</td><td> 400</td><td>1100</td><td>69</td><td> 82</td><td>11.3</td><td>35</td><td>42926</td><td> 48</td></tr>\n",
       "\t<tr><th scope=row>Appalachian State University</th><td>No </td><td>7313</td><td>4664</td><td>1910</td><td>20</td><td>63</td><td>9940</td><td>1035</td><td> 6806</td><td>2540</td><td>  96</td><td>2000</td><td>83</td><td> 96</td><td>18.3</td><td>14</td><td> 5854</td><td> 70</td></tr>\n",
       "\t<tr><th scope=row>Aquinas College</th><td>Yes</td><td> 619</td><td> 516</td><td> 219</td><td>20</td><td>51</td><td>1251</td><td> 767</td><td>11208</td><td>4124</td><td> 350</td><td>1615</td><td>55</td><td> 65</td><td>12.7</td><td>25</td><td> 6584</td><td> 65</td></tr>\n",
       "\t<tr><th scope=row>Arkansas College (Lyon College)</th><td>Yes</td><td> 708</td><td> 334</td><td> 166</td><td>46</td><td>74</td><td> 530</td><td> 182</td><td> 8644</td><td>3922</td><td> 500</td><td> 800</td><td>79</td><td> 88</td><td>12.6</td><td>24</td><td>14579</td><td> 54</td></tr>\n",
       "\t<tr><th scope=row>Assumption College</th><td>Yes</td><td>2135</td><td>1700</td><td> 491</td><td>23</td><td>59</td><td>1708</td><td> 689</td><td>12000</td><td>5920</td><td> 500</td><td> 500</td><td>93</td><td> 93</td><td>13.8</td><td>30</td><td> 7100</td><td> 88</td></tr>\n",
       "\t<tr><th scope=row>Augustana College IL</th><td>Yes</td><td>1879</td><td>1658</td><td> 497</td><td>36</td><td>69</td><td>1950</td><td>  38</td><td>13353</td><td>4173</td><td> 540</td><td> 821</td><td>78</td><td> 83</td><td>12.7</td><td>40</td><td> 9220</td><td> 71</td></tr>\n",
       "\t<tr><th scope=row>Austin College</th><td>Yes</td><td> 948</td><td> 798</td><td> 295</td><td>42</td><td>74</td><td>1120</td><td>  15</td><td>11280</td><td>4342</td><td> 400</td><td>1150</td><td>81</td><td> 95</td><td>13.0</td><td>33</td><td>11361</td><td> 71</td></tr>\n",
       "\t<tr><th scope=row>Averett College</th><td>Yes</td><td> 627</td><td> 556</td><td> 172</td><td>16</td><td>40</td><td> 777</td><td> 538</td><td> 9925</td><td>4135</td><td> 750</td><td>1350</td><td>59</td><td> 67</td><td>22.4</td><td>11</td><td> 6523</td><td> 48</td></tr>\n",
       "\t<tr><th scope=row>Baker University</th><td>Yes</td><td> 602</td><td> 483</td><td> 206</td><td>21</td><td>47</td><td> 958</td><td> 466</td><td> 8620</td><td>4100</td><td> 400</td><td>2250</td><td>58</td><td> 68</td><td>11.0</td><td>21</td><td> 6136</td><td> 65</td></tr>\n",
       "\t<tr><th scope=row>Baldwin-Wallace College</th><td>Yes</td><td>1690</td><td>1366</td><td> 662</td><td>30</td><td>61</td><td>2718</td><td>1460</td><td>10995</td><td>4410</td><td>1000</td><td>1000</td><td>68</td><td> 74</td><td>17.6</td><td>20</td><td> 8086</td><td> 85</td></tr>\n",
       "\t<tr><th scope=row>Barat College</th><td>Yes</td><td> 261</td><td> 192</td><td> 111</td><td>15</td><td>36</td><td> 453</td><td> 266</td><td> 9690</td><td>4300</td><td> 500</td><td> 500</td><td>57</td><td> 77</td><td> 9.7</td><td>35</td><td> 9337</td><td> 71</td></tr>\n",
       "\t<tr><th scope=row>Bard College</th><td>Yes</td><td>1910</td><td> 838</td><td> 285</td><td>50</td><td>85</td><td>1004</td><td>  15</td><td>19264</td><td>6206</td><td> 750</td><td> 750</td><td>98</td><td> 98</td><td>10.4</td><td>30</td><td>13894</td><td> 79</td></tr>\n",
       "\t<tr><th scope=row>Barnard College</th><td>Yes</td><td>2496</td><td>1402</td><td> 531</td><td>53</td><td>95</td><td>2121</td><td>  69</td><td>17926</td><td>8124</td><td> 600</td><td> 850</td><td>83</td><td> 93</td><td>10.3</td><td>33</td><td>12580</td><td> 91</td></tr>\n",
       "\t<tr><th scope=row>Barry University</th><td>Yes</td><td> 990</td><td> 784</td><td> 279</td><td>18</td><td>45</td><td>1811</td><td>3144</td><td>11290</td><td>5360</td><td> 600</td><td>1800</td><td>76</td><td> 78</td><td>12.6</td><td>11</td><td> 9084</td><td> 72</td></tr>\n",
       "\t<tr><th scope=row>Beaver College</th><td>Yes</td><td>1163</td><td> 850</td><td> 348</td><td>23</td><td>56</td><td> 878</td><td> 519</td><td>12850</td><td>5400</td><td> 400</td><td> 800</td><td>78</td><td> 89</td><td>12.2</td><td>30</td><td> 8954</td><td> 73</td></tr>\n",
       "\t<tr><th scope=row>Bellarmine College</th><td>Yes</td><td> 807</td><td> 707</td><td> 308</td><td>39</td><td>63</td><td>1198</td><td> 605</td><td> 8840</td><td>2950</td><td> 750</td><td>1290</td><td>74</td><td> 82</td><td>13.1</td><td>31</td><td> 6668</td><td> 84</td></tr>\n",
       "\t<tr><th scope=row>⋮</th><td>⋮</td><td>⋮</td><td>⋮</td><td>⋮</td><td>⋮</td><td>⋮</td><td>⋮</td><td>⋮</td><td>⋮</td><td>⋮</td><td>⋮</td><td>⋮</td><td>⋮</td><td>⋮</td><td>⋮</td><td>⋮</td><td>⋮</td><td>⋮</td></tr>\n",
       "\t<tr><th scope=row>Wesley College</th><td>Yes</td><td>  980</td><td> 807</td><td> 350</td><td>10</td><td>25</td><td>  872</td><td> 448</td><td> 9890</td><td>4674</td><td> 500</td><td>1350</td><td>52</td><td>57</td><td>14.4</td><td>15</td><td> 6243</td><td>84</td></tr>\n",
       "\t<tr><th scope=row>Wesleyan University</th><td>Yes</td><td> 4772</td><td>1973</td><td> 712</td><td>60</td><td>86</td><td> 2714</td><td>  27</td><td>19130</td><td>5600</td><td>1400</td><td>1400</td><td>90</td><td>94</td><td>12.1</td><td>39</td><td>16262</td><td>92</td></tr>\n",
       "\t<tr><th scope=row>West Chester University of Penn.</th><td>No </td><td> 6502</td><td>3539</td><td>1372</td><td>11</td><td>51</td><td> 7484</td><td>1904</td><td> 7844</td><td>4108</td><td> 400</td><td>2000</td><td>76</td><td>79</td><td>15.3</td><td>16</td><td> 6773</td><td>52</td></tr>\n",
       "\t<tr><th scope=row>West Liberty State College</th><td>No </td><td> 1164</td><td>1062</td><td> 478</td><td>12</td><td>25</td><td> 2138</td><td> 227</td><td> 4470</td><td>2890</td><td> 600</td><td>1210</td><td>33</td><td>33</td><td>16.3</td><td>10</td><td> 4249</td><td>60</td></tr>\n",
       "\t<tr><th scope=row>Western Maryland College</th><td>Yes</td><td> 1205</td><td> 984</td><td> 278</td><td>31</td><td>50</td><td> 1071</td><td>  98</td><td>14510</td><td>5340</td><td> 500</td><td>1400</td><td>84</td><td>91</td><td>12.5</td><td>39</td><td>10026</td><td>60</td></tr>\n",
       "\t<tr><th scope=row>Western Michigan University</th><td>No </td><td> 9167</td><td>7191</td><td>2738</td><td>24</td><td>53</td><td>15739</td><td>4278</td><td> 6940</td><td>4100</td><td> 500</td><td>1700</td><td>80</td><td>84</td><td>24.7</td><td>11</td><td> 5983</td><td>55</td></tr>\n",
       "\t<tr><th scope=row>Western New England College</th><td>Yes</td><td> 1650</td><td>1471</td><td> 409</td><td> 7</td><td>21</td><td> 1803</td><td>1116</td><td> 8994</td><td>5500</td><td> 498</td><td>2065</td><td>74</td><td>97</td><td>15.4</td><td>15</td><td> 8409</td><td>59</td></tr>\n",
       "\t<tr><th scope=row>Western State College of Colorado</th><td>No </td><td> 2702</td><td>1623</td><td> 604</td><td> 7</td><td>24</td><td> 2315</td><td> 146</td><td> 5918</td><td>3755</td><td> 500</td><td>2050</td><td>76</td><td>79</td><td>19.4</td><td> 4</td><td> 4599</td><td>52</td></tr>\n",
       "\t<tr><th scope=row>Westfield State College</th><td>No </td><td> 3100</td><td>2150</td><td> 825</td><td> 3</td><td>20</td><td> 3234</td><td> 941</td><td> 5542</td><td>3788</td><td> 500</td><td>1300</td><td>75</td><td>79</td><td>15.7</td><td>20</td><td> 4222</td><td>65</td></tr>\n",
       "\t<tr><th scope=row>Westminster College MO</th><td>Yes</td><td>  662</td><td> 553</td><td> 184</td><td>20</td><td>43</td><td>  665</td><td>  37</td><td>10720</td><td>4050</td><td> 600</td><td>1650</td><td>66</td><td>70</td><td>12.5</td><td>20</td><td> 7925</td><td>62</td></tr>\n",
       "\t<tr><th scope=row>Westminster College</th><td>Yes</td><td>  996</td><td> 866</td><td> 377</td><td>29</td><td>58</td><td> 1411</td><td>  72</td><td>12065</td><td>3615</td><td> 430</td><td> 685</td><td>62</td><td>78</td><td>12.5</td><td>41</td><td> 8596</td><td>80</td></tr>\n",
       "\t<tr><th scope=row>Westminster College of Salt Lake City</th><td>Yes</td><td>  917</td><td> 720</td><td> 213</td><td>21</td><td>60</td><td>  979</td><td> 743</td><td> 8820</td><td>4050</td><td> 600</td><td>2025</td><td>68</td><td>83</td><td>10.5</td><td>34</td><td> 7170</td><td>50</td></tr>\n",
       "\t<tr><th scope=row>Westmont College</th><td>No </td><td>  950</td><td> 713</td><td> 351</td><td>42</td><td>72</td><td> 1276</td><td>   9</td><td>14320</td><td>5304</td><td> 490</td><td>1410</td><td>77</td><td>77</td><td>14.9</td><td>17</td><td> 8837</td><td>87</td></tr>\n",
       "\t<tr><th scope=row>Wheaton College IL</th><td>Yes</td><td> 1432</td><td> 920</td><td> 548</td><td>56</td><td>84</td><td> 2200</td><td>  56</td><td>11480</td><td>4200</td><td> 530</td><td>1400</td><td>81</td><td>83</td><td>12.7</td><td>40</td><td>11916</td><td>85</td></tr>\n",
       "\t<tr><th scope=row>Westminster College PA</th><td>Yes</td><td> 1738</td><td>1373</td><td> 417</td><td>21</td><td>55</td><td> 1335</td><td>  30</td><td>18460</td><td>5970</td><td> 700</td><td> 850</td><td>92</td><td>96</td><td>13.2</td><td>41</td><td>22704</td><td>71</td></tr>\n",
       "\t<tr><th scope=row>Wheeling Jesuit College</th><td>Yes</td><td>  903</td><td> 755</td><td> 213</td><td>15</td><td>49</td><td>  971</td><td> 305</td><td>10500</td><td>4545</td><td> 600</td><td> 600</td><td>66</td><td>71</td><td>14.1</td><td>27</td><td> 7494</td><td>72</td></tr>\n",
       "\t<tr><th scope=row>Whitman College</th><td>Yes</td><td> 1861</td><td> 998</td><td> 359</td><td>45</td><td>77</td><td> 1220</td><td>  46</td><td>16670</td><td>4900</td><td> 750</td><td> 800</td><td>80</td><td>83</td><td>10.5</td><td>51</td><td>13198</td><td>72</td></tr>\n",
       "\t<tr><th scope=row>Whittier College</th><td>Yes</td><td> 1681</td><td>1069</td><td> 344</td><td>35</td><td>63</td><td> 1235</td><td>  30</td><td>16249</td><td>5699</td><td> 500</td><td>1998</td><td>84</td><td>92</td><td>13.6</td><td>29</td><td>11778</td><td>52</td></tr>\n",
       "\t<tr><th scope=row>Wilkes University</th><td>Yes</td><td> 1631</td><td>1431</td><td> 434</td><td>15</td><td>36</td><td> 1803</td><td> 603</td><td>11150</td><td>5130</td><td> 550</td><td>1260</td><td>78</td><td>92</td><td>13.3</td><td>24</td><td> 8543</td><td>67</td></tr>\n",
       "\t<tr><th scope=row>William Jewell College</th><td>Yes</td><td>  663</td><td> 547</td><td> 315</td><td>32</td><td>67</td><td> 1279</td><td>  75</td><td>10060</td><td>2970</td><td> 500</td><td>2600</td><td>74</td><td>80</td><td>11.2</td><td>19</td><td> 7885</td><td>59</td></tr>\n",
       "\t<tr><th scope=row>William Woods University</th><td>Yes</td><td>  469</td><td> 435</td><td> 227</td><td>17</td><td>39</td><td>  851</td><td> 120</td><td>10535</td><td>4365</td><td> 550</td><td>3700</td><td>39</td><td>66</td><td>12.9</td><td>16</td><td> 7438</td><td>52</td></tr>\n",
       "\t<tr><th scope=row>Wilson College</th><td>Yes</td><td>  167</td><td> 130</td><td>  46</td><td>16</td><td>50</td><td>  199</td><td> 676</td><td>11428</td><td>5084</td><td> 450</td><td> 475</td><td>67</td><td>76</td><td> 8.3</td><td>43</td><td>10291</td><td>67</td></tr>\n",
       "\t<tr><th scope=row>Winona State University</th><td>No </td><td> 3325</td><td>2047</td><td>1301</td><td>20</td><td>45</td><td> 5800</td><td> 872</td><td> 4200</td><td>2700</td><td> 300</td><td>1200</td><td>53</td><td>60</td><td>20.2</td><td>18</td><td> 5318</td><td>58</td></tr>\n",
       "\t<tr><th scope=row>Winthrop University</th><td>No </td><td> 2320</td><td>1805</td><td> 769</td><td>24</td><td>61</td><td> 3395</td><td> 670</td><td> 6400</td><td>3392</td><td> 580</td><td>2150</td><td>71</td><td>80</td><td>12.8</td><td>26</td><td> 6729</td><td>59</td></tr>\n",
       "\t<tr><th scope=row>Wisconsin Lutheran College</th><td>Yes</td><td>  152</td><td> 128</td><td>  75</td><td>17</td><td>41</td><td>  282</td><td>  22</td><td> 9100</td><td>3700</td><td> 500</td><td>1400</td><td>48</td><td>48</td><td> 8.5</td><td>26</td><td> 8960</td><td>50</td></tr>\n",
       "\t<tr><th scope=row>Wittenberg University</th><td>Yes</td><td> 1979</td><td>1739</td><td> 575</td><td>42</td><td>68</td><td> 1980</td><td> 144</td><td>15948</td><td>4404</td><td> 400</td><td> 800</td><td>82</td><td>95</td><td>12.8</td><td>29</td><td>10414</td><td>78</td></tr>\n",
       "\t<tr><th scope=row>Worcester State College</th><td>No </td><td> 2197</td><td>1515</td><td> 543</td><td> 4</td><td>26</td><td> 3089</td><td>2029</td><td> 6797</td><td>3900</td><td> 500</td><td>1200</td><td>60</td><td>60</td><td>21.0</td><td>14</td><td> 4469</td><td>40</td></tr>\n",
       "\t<tr><th scope=row>Xavier University</th><td>Yes</td><td> 1959</td><td>1805</td><td> 695</td><td>24</td><td>47</td><td> 2849</td><td>1107</td><td>11520</td><td>4960</td><td> 600</td><td>1250</td><td>73</td><td>75</td><td>13.3</td><td>31</td><td> 9189</td><td>83</td></tr>\n",
       "\t<tr><th scope=row>Xavier University of Louisiana</th><td>Yes</td><td> 2097</td><td>1915</td><td> 695</td><td>34</td><td>61</td><td> 2793</td><td> 166</td><td> 6900</td><td>4200</td><td> 617</td><td> 781</td><td>67</td><td>75</td><td>14.4</td><td>20</td><td> 8323</td><td>49</td></tr>\n",
       "\t<tr><th scope=row>Yale University</th><td>Yes</td><td>10705</td><td>2453</td><td>1317</td><td>95</td><td>99</td><td> 5217</td><td>  83</td><td>19840</td><td>6510</td><td> 630</td><td>2115</td><td>96</td><td>96</td><td> 5.8</td><td>49</td><td>40386</td><td>99</td></tr>\n",
       "</tbody>\n",
       "</table>\n"
      ],
      "text/latex": [
       "A data.frame: 545 × 18\n",
       "\\begin{tabular}{r|llllllllllllllllll}\n",
       "  & Private & Apps & Accept & Enroll & Top10perc & Top25perc & F.Undergrad & P.Undergrad & Outstate & Room.Board & Books & Personal & PhD & Terminal & S.F.Ratio & perc.alumni & Expend & Grad.Rate\\\\\n",
       "  & <fct> & <dbl> & <dbl> & <dbl> & <dbl> & <dbl> & <dbl> & <dbl> & <dbl> & <dbl> & <dbl> & <dbl> & <dbl> & <dbl> & <dbl> & <dbl> & <dbl> & <dbl>\\\\\n",
       "\\hline\n",
       "\tAdrian College & Yes & 1428 & 1097 &  336 & 22 & 50 & 1036 &   99 & 11250 & 3750 &  400 & 1165 & 53 &  66 & 12.9 & 30 &  8735 &  54\\\\\n",
       "\tAlbertus Magnus College & Yes &  353 &  340 &  103 & 17 & 45 &  416 &  230 & 13290 & 5720 &  500 & 1500 & 90 &  93 & 11.5 & 26 &  8861 &  63\\\\\n",
       "\tAlbion College & Yes & 1899 & 1720 &  489 & 37 & 68 & 1594 &   32 & 13868 & 4826 &  450 &  850 & 89 & 100 & 13.7 & 37 & 11487 &  73\\\\\n",
       "\tAlbright College & Yes & 1038 &  839 &  227 & 30 & 63 &  973 &  306 & 15595 & 4400 &  300 &  500 & 79 &  84 & 11.3 & 23 & 11644 &  80\\\\\n",
       "\tAlderson-Broaddus College & Yes &  582 &  498 &  172 & 21 & 44 &  799 &   78 & 10468 & 3380 &  660 & 1800 & 40 &  41 & 11.5 & 15 &  8991 &  52\\\\\n",
       "\tAlfred University & Yes & 1732 & 1425 &  472 & 37 & 75 & 1830 &  110 & 16548 & 5406 &  500 &  600 & 82 &  88 & 11.3 & 31 & 10932 &  73\\\\\n",
       "\tAllegheny College & Yes & 2652 & 1900 &  484 & 44 & 77 & 1707 &   44 & 17080 & 4440 &  400 &  600 & 73 &  91 &  9.9 & 41 & 11711 &  76\\\\\n",
       "\tAlma College & Yes & 1267 & 1080 &  385 & 44 & 73 & 1306 &   28 & 12572 & 4552 &  400 &  400 & 79 &  87 & 15.3 & 32 &  9305 &  68\\\\\n",
       "\tAlverno College & Yes &  494 &  313 &  157 & 23 & 46 & 1317 & 1235 &  8352 & 3640 &  650 & 2449 & 36 &  69 & 11.1 & 26 &  8127 &  55\\\\\n",
       "\tAmerican International College & Yes & 1420 & 1093 &  220 &  9 & 22 & 1018 &  287 &  8700 & 4780 &  450 & 1400 & 78 &  84 & 14.7 & 19 &  7355 &  69\\\\\n",
       "\tAmherst College & Yes & 4302 &  992 &  418 & 83 & 96 & 1593 &    5 & 19760 & 5300 &  660 & 1598 & 93 &  98 &  8.4 & 63 & 21424 & 100\\\\\n",
       "\tAnderson University & Yes & 1216 &  908 &  423 & 19 & 40 & 1819 &  281 & 10100 & 3520 &  550 & 1100 & 48 &  61 & 12.1 & 14 &  7994 &  59\\\\\n",
       "\tAndrews University & Yes & 1130 &  704 &  322 & 14 & 23 & 1586 &  326 &  9996 & 3090 &  900 & 1320 & 62 &  66 & 11.5 & 18 & 10908 &  46\\\\\n",
       "\tAngelo State University & No  & 3540 & 2001 & 1016 & 24 & 54 & 4190 & 1512 &  5130 & 3592 &  500 & 2000 & 60 &  62 & 23.1 &  5 &  4010 &  34\\\\\n",
       "\tAntioch University & Yes &  713 &  661 &  252 & 25 & 44 &  712 &   23 & 15476 & 3336 &  400 & 1100 & 69 &  82 & 11.3 & 35 & 42926 &  48\\\\\n",
       "\tAppalachian State University & No  & 7313 & 4664 & 1910 & 20 & 63 & 9940 & 1035 &  6806 & 2540 &   96 & 2000 & 83 &  96 & 18.3 & 14 &  5854 &  70\\\\\n",
       "\tAquinas College & Yes &  619 &  516 &  219 & 20 & 51 & 1251 &  767 & 11208 & 4124 &  350 & 1615 & 55 &  65 & 12.7 & 25 &  6584 &  65\\\\\n",
       "\tArkansas College (Lyon College) & Yes &  708 &  334 &  166 & 46 & 74 &  530 &  182 &  8644 & 3922 &  500 &  800 & 79 &  88 & 12.6 & 24 & 14579 &  54\\\\\n",
       "\tAssumption College & Yes & 2135 & 1700 &  491 & 23 & 59 & 1708 &  689 & 12000 & 5920 &  500 &  500 & 93 &  93 & 13.8 & 30 &  7100 &  88\\\\\n",
       "\tAugustana College IL & Yes & 1879 & 1658 &  497 & 36 & 69 & 1950 &   38 & 13353 & 4173 &  540 &  821 & 78 &  83 & 12.7 & 40 &  9220 &  71\\\\\n",
       "\tAustin College & Yes &  948 &  798 &  295 & 42 & 74 & 1120 &   15 & 11280 & 4342 &  400 & 1150 & 81 &  95 & 13.0 & 33 & 11361 &  71\\\\\n",
       "\tAverett College & Yes &  627 &  556 &  172 & 16 & 40 &  777 &  538 &  9925 & 4135 &  750 & 1350 & 59 &  67 & 22.4 & 11 &  6523 &  48\\\\\n",
       "\tBaker University & Yes &  602 &  483 &  206 & 21 & 47 &  958 &  466 &  8620 & 4100 &  400 & 2250 & 58 &  68 & 11.0 & 21 &  6136 &  65\\\\\n",
       "\tBaldwin-Wallace College & Yes & 1690 & 1366 &  662 & 30 & 61 & 2718 & 1460 & 10995 & 4410 & 1000 & 1000 & 68 &  74 & 17.6 & 20 &  8086 &  85\\\\\n",
       "\tBarat College & Yes &  261 &  192 &  111 & 15 & 36 &  453 &  266 &  9690 & 4300 &  500 &  500 & 57 &  77 &  9.7 & 35 &  9337 &  71\\\\\n",
       "\tBard College & Yes & 1910 &  838 &  285 & 50 & 85 & 1004 &   15 & 19264 & 6206 &  750 &  750 & 98 &  98 & 10.4 & 30 & 13894 &  79\\\\\n",
       "\tBarnard College & Yes & 2496 & 1402 &  531 & 53 & 95 & 2121 &   69 & 17926 & 8124 &  600 &  850 & 83 &  93 & 10.3 & 33 & 12580 &  91\\\\\n",
       "\tBarry University & Yes &  990 &  784 &  279 & 18 & 45 & 1811 & 3144 & 11290 & 5360 &  600 & 1800 & 76 &  78 & 12.6 & 11 &  9084 &  72\\\\\n",
       "\tBeaver College & Yes & 1163 &  850 &  348 & 23 & 56 &  878 &  519 & 12850 & 5400 &  400 &  800 & 78 &  89 & 12.2 & 30 &  8954 &  73\\\\\n",
       "\tBellarmine College & Yes &  807 &  707 &  308 & 39 & 63 & 1198 &  605 &  8840 & 2950 &  750 & 1290 & 74 &  82 & 13.1 & 31 &  6668 &  84\\\\\n",
       "\t⋮ & ⋮ & ⋮ & ⋮ & ⋮ & ⋮ & ⋮ & ⋮ & ⋮ & ⋮ & ⋮ & ⋮ & ⋮ & ⋮ & ⋮ & ⋮ & ⋮ & ⋮ & ⋮\\\\\n",
       "\tWesley College & Yes &   980 &  807 &  350 & 10 & 25 &   872 &  448 &  9890 & 4674 &  500 & 1350 & 52 & 57 & 14.4 & 15 &  6243 & 84\\\\\n",
       "\tWesleyan University & Yes &  4772 & 1973 &  712 & 60 & 86 &  2714 &   27 & 19130 & 5600 & 1400 & 1400 & 90 & 94 & 12.1 & 39 & 16262 & 92\\\\\n",
       "\tWest Chester University of Penn. & No  &  6502 & 3539 & 1372 & 11 & 51 &  7484 & 1904 &  7844 & 4108 &  400 & 2000 & 76 & 79 & 15.3 & 16 &  6773 & 52\\\\\n",
       "\tWest Liberty State College & No  &  1164 & 1062 &  478 & 12 & 25 &  2138 &  227 &  4470 & 2890 &  600 & 1210 & 33 & 33 & 16.3 & 10 &  4249 & 60\\\\\n",
       "\tWestern Maryland College & Yes &  1205 &  984 &  278 & 31 & 50 &  1071 &   98 & 14510 & 5340 &  500 & 1400 & 84 & 91 & 12.5 & 39 & 10026 & 60\\\\\n",
       "\tWestern Michigan University & No  &  9167 & 7191 & 2738 & 24 & 53 & 15739 & 4278 &  6940 & 4100 &  500 & 1700 & 80 & 84 & 24.7 & 11 &  5983 & 55\\\\\n",
       "\tWestern New England College & Yes &  1650 & 1471 &  409 &  7 & 21 &  1803 & 1116 &  8994 & 5500 &  498 & 2065 & 74 & 97 & 15.4 & 15 &  8409 & 59\\\\\n",
       "\tWestern State College of Colorado & No  &  2702 & 1623 &  604 &  7 & 24 &  2315 &  146 &  5918 & 3755 &  500 & 2050 & 76 & 79 & 19.4 &  4 &  4599 & 52\\\\\n",
       "\tWestfield State College & No  &  3100 & 2150 &  825 &  3 & 20 &  3234 &  941 &  5542 & 3788 &  500 & 1300 & 75 & 79 & 15.7 & 20 &  4222 & 65\\\\\n",
       "\tWestminster College MO & Yes &   662 &  553 &  184 & 20 & 43 &   665 &   37 & 10720 & 4050 &  600 & 1650 & 66 & 70 & 12.5 & 20 &  7925 & 62\\\\\n",
       "\tWestminster College & Yes &   996 &  866 &  377 & 29 & 58 &  1411 &   72 & 12065 & 3615 &  430 &  685 & 62 & 78 & 12.5 & 41 &  8596 & 80\\\\\n",
       "\tWestminster College of Salt Lake City & Yes &   917 &  720 &  213 & 21 & 60 &   979 &  743 &  8820 & 4050 &  600 & 2025 & 68 & 83 & 10.5 & 34 &  7170 & 50\\\\\n",
       "\tWestmont College & No  &   950 &  713 &  351 & 42 & 72 &  1276 &    9 & 14320 & 5304 &  490 & 1410 & 77 & 77 & 14.9 & 17 &  8837 & 87\\\\\n",
       "\tWheaton College IL & Yes &  1432 &  920 &  548 & 56 & 84 &  2200 &   56 & 11480 & 4200 &  530 & 1400 & 81 & 83 & 12.7 & 40 & 11916 & 85\\\\\n",
       "\tWestminster College PA & Yes &  1738 & 1373 &  417 & 21 & 55 &  1335 &   30 & 18460 & 5970 &  700 &  850 & 92 & 96 & 13.2 & 41 & 22704 & 71\\\\\n",
       "\tWheeling Jesuit College & Yes &   903 &  755 &  213 & 15 & 49 &   971 &  305 & 10500 & 4545 &  600 &  600 & 66 & 71 & 14.1 & 27 &  7494 & 72\\\\\n",
       "\tWhitman College & Yes &  1861 &  998 &  359 & 45 & 77 &  1220 &   46 & 16670 & 4900 &  750 &  800 & 80 & 83 & 10.5 & 51 & 13198 & 72\\\\\n",
       "\tWhittier College & Yes &  1681 & 1069 &  344 & 35 & 63 &  1235 &   30 & 16249 & 5699 &  500 & 1998 & 84 & 92 & 13.6 & 29 & 11778 & 52\\\\\n",
       "\tWilkes University & Yes &  1631 & 1431 &  434 & 15 & 36 &  1803 &  603 & 11150 & 5130 &  550 & 1260 & 78 & 92 & 13.3 & 24 &  8543 & 67\\\\\n",
       "\tWilliam Jewell College & Yes &   663 &  547 &  315 & 32 & 67 &  1279 &   75 & 10060 & 2970 &  500 & 2600 & 74 & 80 & 11.2 & 19 &  7885 & 59\\\\\n",
       "\tWilliam Woods University & Yes &   469 &  435 &  227 & 17 & 39 &   851 &  120 & 10535 & 4365 &  550 & 3700 & 39 & 66 & 12.9 & 16 &  7438 & 52\\\\\n",
       "\tWilson College & Yes &   167 &  130 &   46 & 16 & 50 &   199 &  676 & 11428 & 5084 &  450 &  475 & 67 & 76 &  8.3 & 43 & 10291 & 67\\\\\n",
       "\tWinona State University & No  &  3325 & 2047 & 1301 & 20 & 45 &  5800 &  872 &  4200 & 2700 &  300 & 1200 & 53 & 60 & 20.2 & 18 &  5318 & 58\\\\\n",
       "\tWinthrop University & No  &  2320 & 1805 &  769 & 24 & 61 &  3395 &  670 &  6400 & 3392 &  580 & 2150 & 71 & 80 & 12.8 & 26 &  6729 & 59\\\\\n",
       "\tWisconsin Lutheran College & Yes &   152 &  128 &   75 & 17 & 41 &   282 &   22 &  9100 & 3700 &  500 & 1400 & 48 & 48 &  8.5 & 26 &  8960 & 50\\\\\n",
       "\tWittenberg University & Yes &  1979 & 1739 &  575 & 42 & 68 &  1980 &  144 & 15948 & 4404 &  400 &  800 & 82 & 95 & 12.8 & 29 & 10414 & 78\\\\\n",
       "\tWorcester State College & No  &  2197 & 1515 &  543 &  4 & 26 &  3089 & 2029 &  6797 & 3900 &  500 & 1200 & 60 & 60 & 21.0 & 14 &  4469 & 40\\\\\n",
       "\tXavier University & Yes &  1959 & 1805 &  695 & 24 & 47 &  2849 & 1107 & 11520 & 4960 &  600 & 1250 & 73 & 75 & 13.3 & 31 &  9189 & 83\\\\\n",
       "\tXavier University of Louisiana & Yes &  2097 & 1915 &  695 & 34 & 61 &  2793 &  166 &  6900 & 4200 &  617 &  781 & 67 & 75 & 14.4 & 20 &  8323 & 49\\\\\n",
       "\tYale University & Yes & 10705 & 2453 & 1317 & 95 & 99 &  5217 &   83 & 19840 & 6510 &  630 & 2115 & 96 & 96 &  5.8 & 49 & 40386 & 99\\\\\n",
       "\\end{tabular}\n"
      ],
      "text/markdown": [
       "\n",
       "A data.frame: 545 × 18\n",
       "\n",
       "| <!--/--> | Private &lt;fct&gt; | Apps &lt;dbl&gt; | Accept &lt;dbl&gt; | Enroll &lt;dbl&gt; | Top10perc &lt;dbl&gt; | Top25perc &lt;dbl&gt; | F.Undergrad &lt;dbl&gt; | P.Undergrad &lt;dbl&gt; | Outstate &lt;dbl&gt; | Room.Board &lt;dbl&gt; | Books &lt;dbl&gt; | Personal &lt;dbl&gt; | PhD &lt;dbl&gt; | Terminal &lt;dbl&gt; | S.F.Ratio &lt;dbl&gt; | perc.alumni &lt;dbl&gt; | Expend &lt;dbl&gt; | Grad.Rate &lt;dbl&gt; |\n",
       "|---|---|---|---|---|---|---|---|---|---|---|---|---|---|---|---|---|---|---|\n",
       "| Adrian College | Yes | 1428 | 1097 |  336 | 22 | 50 | 1036 |   99 | 11250 | 3750 |  400 | 1165 | 53 |  66 | 12.9 | 30 |  8735 |  54 |\n",
       "| Albertus Magnus College | Yes |  353 |  340 |  103 | 17 | 45 |  416 |  230 | 13290 | 5720 |  500 | 1500 | 90 |  93 | 11.5 | 26 |  8861 |  63 |\n",
       "| Albion College | Yes | 1899 | 1720 |  489 | 37 | 68 | 1594 |   32 | 13868 | 4826 |  450 |  850 | 89 | 100 | 13.7 | 37 | 11487 |  73 |\n",
       "| Albright College | Yes | 1038 |  839 |  227 | 30 | 63 |  973 |  306 | 15595 | 4400 |  300 |  500 | 79 |  84 | 11.3 | 23 | 11644 |  80 |\n",
       "| Alderson-Broaddus College | Yes |  582 |  498 |  172 | 21 | 44 |  799 |   78 | 10468 | 3380 |  660 | 1800 | 40 |  41 | 11.5 | 15 |  8991 |  52 |\n",
       "| Alfred University | Yes | 1732 | 1425 |  472 | 37 | 75 | 1830 |  110 | 16548 | 5406 |  500 |  600 | 82 |  88 | 11.3 | 31 | 10932 |  73 |\n",
       "| Allegheny College | Yes | 2652 | 1900 |  484 | 44 | 77 | 1707 |   44 | 17080 | 4440 |  400 |  600 | 73 |  91 |  9.9 | 41 | 11711 |  76 |\n",
       "| Alma College | Yes | 1267 | 1080 |  385 | 44 | 73 | 1306 |   28 | 12572 | 4552 |  400 |  400 | 79 |  87 | 15.3 | 32 |  9305 |  68 |\n",
       "| Alverno College | Yes |  494 |  313 |  157 | 23 | 46 | 1317 | 1235 |  8352 | 3640 |  650 | 2449 | 36 |  69 | 11.1 | 26 |  8127 |  55 |\n",
       "| American International College | Yes | 1420 | 1093 |  220 |  9 | 22 | 1018 |  287 |  8700 | 4780 |  450 | 1400 | 78 |  84 | 14.7 | 19 |  7355 |  69 |\n",
       "| Amherst College | Yes | 4302 |  992 |  418 | 83 | 96 | 1593 |    5 | 19760 | 5300 |  660 | 1598 | 93 |  98 |  8.4 | 63 | 21424 | 100 |\n",
       "| Anderson University | Yes | 1216 |  908 |  423 | 19 | 40 | 1819 |  281 | 10100 | 3520 |  550 | 1100 | 48 |  61 | 12.1 | 14 |  7994 |  59 |\n",
       "| Andrews University | Yes | 1130 |  704 |  322 | 14 | 23 | 1586 |  326 |  9996 | 3090 |  900 | 1320 | 62 |  66 | 11.5 | 18 | 10908 |  46 |\n",
       "| Angelo State University | No  | 3540 | 2001 | 1016 | 24 | 54 | 4190 | 1512 |  5130 | 3592 |  500 | 2000 | 60 |  62 | 23.1 |  5 |  4010 |  34 |\n",
       "| Antioch University | Yes |  713 |  661 |  252 | 25 | 44 |  712 |   23 | 15476 | 3336 |  400 | 1100 | 69 |  82 | 11.3 | 35 | 42926 |  48 |\n",
       "| Appalachian State University | No  | 7313 | 4664 | 1910 | 20 | 63 | 9940 | 1035 |  6806 | 2540 |   96 | 2000 | 83 |  96 | 18.3 | 14 |  5854 |  70 |\n",
       "| Aquinas College | Yes |  619 |  516 |  219 | 20 | 51 | 1251 |  767 | 11208 | 4124 |  350 | 1615 | 55 |  65 | 12.7 | 25 |  6584 |  65 |\n",
       "| Arkansas College (Lyon College) | Yes |  708 |  334 |  166 | 46 | 74 |  530 |  182 |  8644 | 3922 |  500 |  800 | 79 |  88 | 12.6 | 24 | 14579 |  54 |\n",
       "| Assumption College | Yes | 2135 | 1700 |  491 | 23 | 59 | 1708 |  689 | 12000 | 5920 |  500 |  500 | 93 |  93 | 13.8 | 30 |  7100 |  88 |\n",
       "| Augustana College IL | Yes | 1879 | 1658 |  497 | 36 | 69 | 1950 |   38 | 13353 | 4173 |  540 |  821 | 78 |  83 | 12.7 | 40 |  9220 |  71 |\n",
       "| Austin College | Yes |  948 |  798 |  295 | 42 | 74 | 1120 |   15 | 11280 | 4342 |  400 | 1150 | 81 |  95 | 13.0 | 33 | 11361 |  71 |\n",
       "| Averett College | Yes |  627 |  556 |  172 | 16 | 40 |  777 |  538 |  9925 | 4135 |  750 | 1350 | 59 |  67 | 22.4 | 11 |  6523 |  48 |\n",
       "| Baker University | Yes |  602 |  483 |  206 | 21 | 47 |  958 |  466 |  8620 | 4100 |  400 | 2250 | 58 |  68 | 11.0 | 21 |  6136 |  65 |\n",
       "| Baldwin-Wallace College | Yes | 1690 | 1366 |  662 | 30 | 61 | 2718 | 1460 | 10995 | 4410 | 1000 | 1000 | 68 |  74 | 17.6 | 20 |  8086 |  85 |\n",
       "| Barat College | Yes |  261 |  192 |  111 | 15 | 36 |  453 |  266 |  9690 | 4300 |  500 |  500 | 57 |  77 |  9.7 | 35 |  9337 |  71 |\n",
       "| Bard College | Yes | 1910 |  838 |  285 | 50 | 85 | 1004 |   15 | 19264 | 6206 |  750 |  750 | 98 |  98 | 10.4 | 30 | 13894 |  79 |\n",
       "| Barnard College | Yes | 2496 | 1402 |  531 | 53 | 95 | 2121 |   69 | 17926 | 8124 |  600 |  850 | 83 |  93 | 10.3 | 33 | 12580 |  91 |\n",
       "| Barry University | Yes |  990 |  784 |  279 | 18 | 45 | 1811 | 3144 | 11290 | 5360 |  600 | 1800 | 76 |  78 | 12.6 | 11 |  9084 |  72 |\n",
       "| Beaver College | Yes | 1163 |  850 |  348 | 23 | 56 |  878 |  519 | 12850 | 5400 |  400 |  800 | 78 |  89 | 12.2 | 30 |  8954 |  73 |\n",
       "| Bellarmine College | Yes |  807 |  707 |  308 | 39 | 63 | 1198 |  605 |  8840 | 2950 |  750 | 1290 | 74 |  82 | 13.1 | 31 |  6668 |  84 |\n",
       "| ⋮ | ⋮ | ⋮ | ⋮ | ⋮ | ⋮ | ⋮ | ⋮ | ⋮ | ⋮ | ⋮ | ⋮ | ⋮ | ⋮ | ⋮ | ⋮ | ⋮ | ⋮ | ⋮ |\n",
       "| Wesley College | Yes |   980 |  807 |  350 | 10 | 25 |   872 |  448 |  9890 | 4674 |  500 | 1350 | 52 | 57 | 14.4 | 15 |  6243 | 84 |\n",
       "| Wesleyan University | Yes |  4772 | 1973 |  712 | 60 | 86 |  2714 |   27 | 19130 | 5600 | 1400 | 1400 | 90 | 94 | 12.1 | 39 | 16262 | 92 |\n",
       "| West Chester University of Penn. | No  |  6502 | 3539 | 1372 | 11 | 51 |  7484 | 1904 |  7844 | 4108 |  400 | 2000 | 76 | 79 | 15.3 | 16 |  6773 | 52 |\n",
       "| West Liberty State College | No  |  1164 | 1062 |  478 | 12 | 25 |  2138 |  227 |  4470 | 2890 |  600 | 1210 | 33 | 33 | 16.3 | 10 |  4249 | 60 |\n",
       "| Western Maryland College | Yes |  1205 |  984 |  278 | 31 | 50 |  1071 |   98 | 14510 | 5340 |  500 | 1400 | 84 | 91 | 12.5 | 39 | 10026 | 60 |\n",
       "| Western Michigan University | No  |  9167 | 7191 | 2738 | 24 | 53 | 15739 | 4278 |  6940 | 4100 |  500 | 1700 | 80 | 84 | 24.7 | 11 |  5983 | 55 |\n",
       "| Western New England College | Yes |  1650 | 1471 |  409 |  7 | 21 |  1803 | 1116 |  8994 | 5500 |  498 | 2065 | 74 | 97 | 15.4 | 15 |  8409 | 59 |\n",
       "| Western State College of Colorado | No  |  2702 | 1623 |  604 |  7 | 24 |  2315 |  146 |  5918 | 3755 |  500 | 2050 | 76 | 79 | 19.4 |  4 |  4599 | 52 |\n",
       "| Westfield State College | No  |  3100 | 2150 |  825 |  3 | 20 |  3234 |  941 |  5542 | 3788 |  500 | 1300 | 75 | 79 | 15.7 | 20 |  4222 | 65 |\n",
       "| Westminster College MO | Yes |   662 |  553 |  184 | 20 | 43 |   665 |   37 | 10720 | 4050 |  600 | 1650 | 66 | 70 | 12.5 | 20 |  7925 | 62 |\n",
       "| Westminster College | Yes |   996 |  866 |  377 | 29 | 58 |  1411 |   72 | 12065 | 3615 |  430 |  685 | 62 | 78 | 12.5 | 41 |  8596 | 80 |\n",
       "| Westminster College of Salt Lake City | Yes |   917 |  720 |  213 | 21 | 60 |   979 |  743 |  8820 | 4050 |  600 | 2025 | 68 | 83 | 10.5 | 34 |  7170 | 50 |\n",
       "| Westmont College | No  |   950 |  713 |  351 | 42 | 72 |  1276 |    9 | 14320 | 5304 |  490 | 1410 | 77 | 77 | 14.9 | 17 |  8837 | 87 |\n",
       "| Wheaton College IL | Yes |  1432 |  920 |  548 | 56 | 84 |  2200 |   56 | 11480 | 4200 |  530 | 1400 | 81 | 83 | 12.7 | 40 | 11916 | 85 |\n",
       "| Westminster College PA | Yes |  1738 | 1373 |  417 | 21 | 55 |  1335 |   30 | 18460 | 5970 |  700 |  850 | 92 | 96 | 13.2 | 41 | 22704 | 71 |\n",
       "| Wheeling Jesuit College | Yes |   903 |  755 |  213 | 15 | 49 |   971 |  305 | 10500 | 4545 |  600 |  600 | 66 | 71 | 14.1 | 27 |  7494 | 72 |\n",
       "| Whitman College | Yes |  1861 |  998 |  359 | 45 | 77 |  1220 |   46 | 16670 | 4900 |  750 |  800 | 80 | 83 | 10.5 | 51 | 13198 | 72 |\n",
       "| Whittier College | Yes |  1681 | 1069 |  344 | 35 | 63 |  1235 |   30 | 16249 | 5699 |  500 | 1998 | 84 | 92 | 13.6 | 29 | 11778 | 52 |\n",
       "| Wilkes University | Yes |  1631 | 1431 |  434 | 15 | 36 |  1803 |  603 | 11150 | 5130 |  550 | 1260 | 78 | 92 | 13.3 | 24 |  8543 | 67 |\n",
       "| William Jewell College | Yes |   663 |  547 |  315 | 32 | 67 |  1279 |   75 | 10060 | 2970 |  500 | 2600 | 74 | 80 | 11.2 | 19 |  7885 | 59 |\n",
       "| William Woods University | Yes |   469 |  435 |  227 | 17 | 39 |   851 |  120 | 10535 | 4365 |  550 | 3700 | 39 | 66 | 12.9 | 16 |  7438 | 52 |\n",
       "| Wilson College | Yes |   167 |  130 |   46 | 16 | 50 |   199 |  676 | 11428 | 5084 |  450 |  475 | 67 | 76 |  8.3 | 43 | 10291 | 67 |\n",
       "| Winona State University | No  |  3325 | 2047 | 1301 | 20 | 45 |  5800 |  872 |  4200 | 2700 |  300 | 1200 | 53 | 60 | 20.2 | 18 |  5318 | 58 |\n",
       "| Winthrop University | No  |  2320 | 1805 |  769 | 24 | 61 |  3395 |  670 |  6400 | 3392 |  580 | 2150 | 71 | 80 | 12.8 | 26 |  6729 | 59 |\n",
       "| Wisconsin Lutheran College | Yes |   152 |  128 |   75 | 17 | 41 |   282 |   22 |  9100 | 3700 |  500 | 1400 | 48 | 48 |  8.5 | 26 |  8960 | 50 |\n",
       "| Wittenberg University | Yes |  1979 | 1739 |  575 | 42 | 68 |  1980 |  144 | 15948 | 4404 |  400 |  800 | 82 | 95 | 12.8 | 29 | 10414 | 78 |\n",
       "| Worcester State College | No  |  2197 | 1515 |  543 |  4 | 26 |  3089 | 2029 |  6797 | 3900 |  500 | 1200 | 60 | 60 | 21.0 | 14 |  4469 | 40 |\n",
       "| Xavier University | Yes |  1959 | 1805 |  695 | 24 | 47 |  2849 | 1107 | 11520 | 4960 |  600 | 1250 | 73 | 75 | 13.3 | 31 |  9189 | 83 |\n",
       "| Xavier University of Louisiana | Yes |  2097 | 1915 |  695 | 34 | 61 |  2793 |  166 |  6900 | 4200 |  617 |  781 | 67 | 75 | 14.4 | 20 |  8323 | 49 |\n",
       "| Yale University | Yes | 10705 | 2453 | 1317 | 95 | 99 |  5217 |   83 | 19840 | 6510 |  630 | 2115 | 96 | 96 |  5.8 | 49 | 40386 | 99 |\n",
       "\n"
      ],
      "text/plain": [
       "                                      Private Apps  Accept Enroll Top10perc\n",
       "Adrian College                        Yes     1428  1097    336   22       \n",
       "Albertus Magnus College               Yes      353   340    103   17       \n",
       "Albion College                        Yes     1899  1720    489   37       \n",
       "Albright College                      Yes     1038   839    227   30       \n",
       "Alderson-Broaddus College             Yes      582   498    172   21       \n",
       "Alfred University                     Yes     1732  1425    472   37       \n",
       "Allegheny College                     Yes     2652  1900    484   44       \n",
       "Alma College                          Yes     1267  1080    385   44       \n",
       "Alverno College                       Yes      494   313    157   23       \n",
       "American International College        Yes     1420  1093    220    9       \n",
       "Amherst College                       Yes     4302   992    418   83       \n",
       "Anderson University                   Yes     1216   908    423   19       \n",
       "Andrews University                    Yes     1130   704    322   14       \n",
       "Angelo State University               No      3540  2001   1016   24       \n",
       "Antioch University                    Yes      713   661    252   25       \n",
       "Appalachian State University          No      7313  4664   1910   20       \n",
       "Aquinas College                       Yes      619   516    219   20       \n",
       "Arkansas College (Lyon College)       Yes      708   334    166   46       \n",
       "Assumption College                    Yes     2135  1700    491   23       \n",
       "Augustana College IL                  Yes     1879  1658    497   36       \n",
       "Austin College                        Yes      948   798    295   42       \n",
       "Averett College                       Yes      627   556    172   16       \n",
       "Baker University                      Yes      602   483    206   21       \n",
       "Baldwin-Wallace College               Yes     1690  1366    662   30       \n",
       "Barat College                         Yes      261   192    111   15       \n",
       "Bard College                          Yes     1910   838    285   50       \n",
       "Barnard College                       Yes     2496  1402    531   53       \n",
       "Barry University                      Yes      990   784    279   18       \n",
       "Beaver College                        Yes     1163   850    348   23       \n",
       "Bellarmine College                    Yes      807   707    308   39       \n",
       "<U+22EE>                                     <U+22EE> <U+22EE> <U+22EE> <U+22EE> <U+22EE> \n",
       "Wesley College                        Yes       980  807    350   10       \n",
       "Wesleyan University                   Yes      4772 1973    712   60       \n",
       "West Chester University of Penn.      No       6502 3539   1372   11       \n",
       "West Liberty State College            No       1164 1062    478   12       \n",
       "Western Maryland College              Yes      1205  984    278   31       \n",
       "Western Michigan University           No       9167 7191   2738   24       \n",
       "Western New England College           Yes      1650 1471    409    7       \n",
       "Western State College of Colorado     No       2702 1623    604    7       \n",
       "Westfield State College               No       3100 2150    825    3       \n",
       "Westminster College MO                Yes       662  553    184   20       \n",
       "Westminster College                   Yes       996  866    377   29       \n",
       "Westminster College of Salt Lake City Yes       917  720    213   21       \n",
       "Westmont College                      No        950  713    351   42       \n",
       "Wheaton College IL                    Yes      1432  920    548   56       \n",
       "Westminster College PA                Yes      1738 1373    417   21       \n",
       "Wheeling Jesuit College               Yes       903  755    213   15       \n",
       "Whitman College                       Yes      1861  998    359   45       \n",
       "Whittier College                      Yes      1681 1069    344   35       \n",
       "Wilkes University                     Yes      1631 1431    434   15       \n",
       "William Jewell College                Yes       663  547    315   32       \n",
       "William Woods University              Yes       469  435    227   17       \n",
       "Wilson College                        Yes       167  130     46   16       \n",
       "Winona State University               No       3325 2047   1301   20       \n",
       "Winthrop University                   No       2320 1805    769   24       \n",
       "Wisconsin Lutheran College            Yes       152  128     75   17       \n",
       "Wittenberg University                 Yes      1979 1739    575   42       \n",
       "Worcester State College               No       2197 1515    543    4       \n",
       "Xavier University                     Yes      1959 1805    695   24       \n",
       "Xavier University of Louisiana        Yes      2097 1915    695   34       \n",
       "Yale University                       Yes     10705 2453   1317   95       \n",
       "                                      Top25perc F.Undergrad P.Undergrad\n",
       "Adrian College                        50        1036          99       \n",
       "Albertus Magnus College               45         416         230       \n",
       "Albion College                        68        1594          32       \n",
       "Albright College                      63         973         306       \n",
       "Alderson-Broaddus College             44         799          78       \n",
       "Alfred University                     75        1830         110       \n",
       "Allegheny College                     77        1707          44       \n",
       "Alma College                          73        1306          28       \n",
       "Alverno College                       46        1317        1235       \n",
       "American International College        22        1018         287       \n",
       "Amherst College                       96        1593           5       \n",
       "Anderson University                   40        1819         281       \n",
       "Andrews University                    23        1586         326       \n",
       "Angelo State University               54        4190        1512       \n",
       "Antioch University                    44         712          23       \n",
       "Appalachian State University          63        9940        1035       \n",
       "Aquinas College                       51        1251         767       \n",
       "Arkansas College (Lyon College)       74         530         182       \n",
       "Assumption College                    59        1708         689       \n",
       "Augustana College IL                  69        1950          38       \n",
       "Austin College                        74        1120          15       \n",
       "Averett College                       40         777         538       \n",
       "Baker University                      47         958         466       \n",
       "Baldwin-Wallace College               61        2718        1460       \n",
       "Barat College                         36         453         266       \n",
       "Bard College                          85        1004          15       \n",
       "Barnard College                       95        2121          69       \n",
       "Barry University                      45        1811        3144       \n",
       "Beaver College                        56         878         519       \n",
       "Bellarmine College                    63        1198         605       \n",
       "<U+22EE>                                     <U+22EE>  <U+22EE>    <U+22EE>   \n",
       "Wesley College                        25          872        448       \n",
       "Wesleyan University                   86         2714         27       \n",
       "West Chester University of Penn.      51         7484       1904       \n",
       "West Liberty State College            25         2138        227       \n",
       "Western Maryland College              50         1071         98       \n",
       "Western Michigan University           53        15739       4278       \n",
       "Western New England College           21         1803       1116       \n",
       "Western State College of Colorado     24         2315        146       \n",
       "Westfield State College               20         3234        941       \n",
       "Westminster College MO                43          665         37       \n",
       "Westminster College                   58         1411         72       \n",
       "Westminster College of Salt Lake City 60          979        743       \n",
       "Westmont College                      72         1276          9       \n",
       "Wheaton College IL                    84         2200         56       \n",
       "Westminster College PA                55         1335         30       \n",
       "Wheeling Jesuit College               49          971        305       \n",
       "Whitman College                       77         1220         46       \n",
       "Whittier College                      63         1235         30       \n",
       "Wilkes University                     36         1803        603       \n",
       "William Jewell College                67         1279         75       \n",
       "William Woods University              39          851        120       \n",
       "Wilson College                        50          199        676       \n",
       "Winona State University               45         5800        872       \n",
       "Winthrop University                   61         3395        670       \n",
       "Wisconsin Lutheran College            41          282         22       \n",
       "Wittenberg University                 68         1980        144       \n",
       "Worcester State College               26         3089       2029       \n",
       "Xavier University                     47         2849       1107       \n",
       "Xavier University of Louisiana        61         2793        166       \n",
       "Yale University                       99         5217         83       \n",
       "                                      Outstate Room.Board Books Personal PhD\n",
       "Adrian College                        11250    3750        400  1165     53 \n",
       "Albertus Magnus College               13290    5720        500  1500     90 \n",
       "Albion College                        13868    4826        450   850     89 \n",
       "Albright College                      15595    4400        300   500     79 \n",
       "Alderson-Broaddus College             10468    3380        660  1800     40 \n",
       "Alfred University                     16548    5406        500   600     82 \n",
       "Allegheny College                     17080    4440        400   600     73 \n",
       "Alma College                          12572    4552        400   400     79 \n",
       "Alverno College                        8352    3640        650  2449     36 \n",
       "American International College         8700    4780        450  1400     78 \n",
       "Amherst College                       19760    5300        660  1598     93 \n",
       "Anderson University                   10100    3520        550  1100     48 \n",
       "Andrews University                     9996    3090        900  1320     62 \n",
       "Angelo State University                5130    3592        500  2000     60 \n",
       "Antioch University                    15476    3336        400  1100     69 \n",
       "Appalachian State University           6806    2540         96  2000     83 \n",
       "Aquinas College                       11208    4124        350  1615     55 \n",
       "Arkansas College (Lyon College)        8644    3922        500   800     79 \n",
       "Assumption College                    12000    5920        500   500     93 \n",
       "Augustana College IL                  13353    4173        540   821     78 \n",
       "Austin College                        11280    4342        400  1150     81 \n",
       "Averett College                        9925    4135        750  1350     59 \n",
       "Baker University                       8620    4100        400  2250     58 \n",
       "Baldwin-Wallace College               10995    4410       1000  1000     68 \n",
       "Barat College                          9690    4300        500   500     57 \n",
       "Bard College                          19264    6206        750   750     98 \n",
       "Barnard College                       17926    8124        600   850     83 \n",
       "Barry University                      11290    5360        600  1800     76 \n",
       "Beaver College                        12850    5400        400   800     78 \n",
       "Bellarmine College                     8840    2950        750  1290     74 \n",
       "<U+22EE>                                     <U+22EE> <U+22EE>   <U+22EE> <U+22EE> <U+22EE>\n",
       "Wesley College                         9890    4674        500  1350     52 \n",
       "Wesleyan University                   19130    5600       1400  1400     90 \n",
       "West Chester University of Penn.       7844    4108        400  2000     76 \n",
       "West Liberty State College             4470    2890        600  1210     33 \n",
       "Western Maryland College              14510    5340        500  1400     84 \n",
       "Western Michigan University            6940    4100        500  1700     80 \n",
       "Western New England College            8994    5500        498  2065     74 \n",
       "Western State College of Colorado      5918    3755        500  2050     76 \n",
       "Westfield State College                5542    3788        500  1300     75 \n",
       "Westminster College MO                10720    4050        600  1650     66 \n",
       "Westminster College                   12065    3615        430   685     62 \n",
       "Westminster College of Salt Lake City  8820    4050        600  2025     68 \n",
       "Westmont College                      14320    5304        490  1410     77 \n",
       "Wheaton College IL                    11480    4200        530  1400     81 \n",
       "Westminster College PA                18460    5970        700   850     92 \n",
       "Wheeling Jesuit College               10500    4545        600   600     66 \n",
       "Whitman College                       16670    4900        750   800     80 \n",
       "Whittier College                      16249    5699        500  1998     84 \n",
       "Wilkes University                     11150    5130        550  1260     78 \n",
       "William Jewell College                10060    2970        500  2600     74 \n",
       "William Woods University              10535    4365        550  3700     39 \n",
       "Wilson College                        11428    5084        450   475     67 \n",
       "Winona State University                4200    2700        300  1200     53 \n",
       "Winthrop University                    6400    3392        580  2150     71 \n",
       "Wisconsin Lutheran College             9100    3700        500  1400     48 \n",
       "Wittenberg University                 15948    4404        400   800     82 \n",
       "Worcester State College                6797    3900        500  1200     60 \n",
       "Xavier University                     11520    4960        600  1250     73 \n",
       "Xavier University of Louisiana         6900    4200        617   781     67 \n",
       "Yale University                       19840    6510        630  2115     96 \n",
       "                                      Terminal S.F.Ratio perc.alumni Expend\n",
       "Adrian College                         66      12.9      30           8735 \n",
       "Albertus Magnus College                93      11.5      26           8861 \n",
       "Albion College                        100      13.7      37          11487 \n",
       "Albright College                       84      11.3      23          11644 \n",
       "Alderson-Broaddus College              41      11.5      15           8991 \n",
       "Alfred University                      88      11.3      31          10932 \n",
       "Allegheny College                      91       9.9      41          11711 \n",
       "Alma College                           87      15.3      32           9305 \n",
       "Alverno College                        69      11.1      26           8127 \n",
       "American International College         84      14.7      19           7355 \n",
       "Amherst College                        98       8.4      63          21424 \n",
       "Anderson University                    61      12.1      14           7994 \n",
       "Andrews University                     66      11.5      18          10908 \n",
       "Angelo State University                62      23.1       5           4010 \n",
       "Antioch University                     82      11.3      35          42926 \n",
       "Appalachian State University           96      18.3      14           5854 \n",
       "Aquinas College                        65      12.7      25           6584 \n",
       "Arkansas College (Lyon College)        88      12.6      24          14579 \n",
       "Assumption College                     93      13.8      30           7100 \n",
       "Augustana College IL                   83      12.7      40           9220 \n",
       "Austin College                         95      13.0      33          11361 \n",
       "Averett College                        67      22.4      11           6523 \n",
       "Baker University                       68      11.0      21           6136 \n",
       "Baldwin-Wallace College                74      17.6      20           8086 \n",
       "Barat College                          77       9.7      35           9337 \n",
       "Bard College                           98      10.4      30          13894 \n",
       "Barnard College                        93      10.3      33          12580 \n",
       "Barry University                       78      12.6      11           9084 \n",
       "Beaver College                         89      12.2      30           8954 \n",
       "Bellarmine College                     82      13.1      31           6668 \n",
       "<U+22EE>                                     <U+22EE> <U+22EE>  <U+22EE>    <U+22EE>\n",
       "Wesley College                        57       14.4      15           6243 \n",
       "Wesleyan University                   94       12.1      39          16262 \n",
       "West Chester University of Penn.      79       15.3      16           6773 \n",
       "West Liberty State College            33       16.3      10           4249 \n",
       "Western Maryland College              91       12.5      39          10026 \n",
       "Western Michigan University           84       24.7      11           5983 \n",
       "Western New England College           97       15.4      15           8409 \n",
       "Western State College of Colorado     79       19.4       4           4599 \n",
       "Westfield State College               79       15.7      20           4222 \n",
       "Westminster College MO                70       12.5      20           7925 \n",
       "Westminster College                   78       12.5      41           8596 \n",
       "Westminster College of Salt Lake City 83       10.5      34           7170 \n",
       "Westmont College                      77       14.9      17           8837 \n",
       "Wheaton College IL                    83       12.7      40          11916 \n",
       "Westminster College PA                96       13.2      41          22704 \n",
       "Wheeling Jesuit College               71       14.1      27           7494 \n",
       "Whitman College                       83       10.5      51          13198 \n",
       "Whittier College                      92       13.6      29          11778 \n",
       "Wilkes University                     92       13.3      24           8543 \n",
       "William Jewell College                80       11.2      19           7885 \n",
       "William Woods University              66       12.9      16           7438 \n",
       "Wilson College                        76        8.3      43          10291 \n",
       "Winona State University               60       20.2      18           5318 \n",
       "Winthrop University                   80       12.8      26           6729 \n",
       "Wisconsin Lutheran College            48        8.5      26           8960 \n",
       "Wittenberg University                 95       12.8      29          10414 \n",
       "Worcester State College               60       21.0      14           4469 \n",
       "Xavier University                     75       13.3      31           9189 \n",
       "Xavier University of Louisiana        75       14.4      20           8323 \n",
       "Yale University                       96        5.8      49          40386 \n",
       "                                      Grad.Rate\n",
       "Adrian College                         54      \n",
       "Albertus Magnus College                63      \n",
       "Albion College                         73      \n",
       "Albright College                       80      \n",
       "Alderson-Broaddus College              52      \n",
       "Alfred University                      73      \n",
       "Allegheny College                      76      \n",
       "Alma College                           68      \n",
       "Alverno College                        55      \n",
       "American International College         69      \n",
       "Amherst College                       100      \n",
       "Anderson University                    59      \n",
       "Andrews University                     46      \n",
       "Angelo State University                34      \n",
       "Antioch University                     48      \n",
       "Appalachian State University           70      \n",
       "Aquinas College                        65      \n",
       "Arkansas College (Lyon College)        54      \n",
       "Assumption College                     88      \n",
       "Augustana College IL                   71      \n",
       "Austin College                         71      \n",
       "Averett College                        48      \n",
       "Baker University                       65      \n",
       "Baldwin-Wallace College                85      \n",
       "Barat College                          71      \n",
       "Bard College                           79      \n",
       "Barnard College                        91      \n",
       "Barry University                       72      \n",
       "Beaver College                         73      \n",
       "Bellarmine College                     84      \n",
       "<U+22EE>                                     <U+22EE> \n",
       "Wesley College                        84       \n",
       "Wesleyan University                   92       \n",
       "West Chester University of Penn.      52       \n",
       "West Liberty State College            60       \n",
       "Western Maryland College              60       \n",
       "Western Michigan University           55       \n",
       "Western New England College           59       \n",
       "Western State College of Colorado     52       \n",
       "Westfield State College               65       \n",
       "Westminster College MO                62       \n",
       "Westminster College                   80       \n",
       "Westminster College of Salt Lake City 50       \n",
       "Westmont College                      87       \n",
       "Wheaton College IL                    85       \n",
       "Westminster College PA                71       \n",
       "Wheeling Jesuit College               72       \n",
       "Whitman College                       72       \n",
       "Whittier College                      52       \n",
       "Wilkes University                     67       \n",
       "William Jewell College                59       \n",
       "William Woods University              52       \n",
       "Wilson College                        67       \n",
       "Winona State University               58       \n",
       "Winthrop University                   59       \n",
       "Wisconsin Lutheran College            50       \n",
       "Wittenberg University                 78       \n",
       "Worcester State College               40       \n",
       "Xavier University                     83       \n",
       "Xavier University of Louisiana        49       \n",
       "Yale University                       99       "
      ]
     },
     "metadata": {},
     "output_type": "display_data"
    }
   ],
   "source": [
    "# Train test spliting\n",
    "set.seed(123)\n",
    "train_set <- createDataPartition(College$Apps, p = 0.7, list = FALSE)\n",
    "train <- College[train_set,]\n",
    "test <- College[-train_set,]\n",
    "train"
   ]
  },
  {
   "cell_type": "markdown",
   "id": "8c5e238e",
   "metadata": {},
   "source": [
    "## (b)"
   ]
  },
  {
   "cell_type": "code",
   "execution_count": 16,
   "id": "798691ef",
   "metadata": {},
   "outputs": [
    {
     "data": {
      "text/html": [
       "<style>\n",
       ".dl-inline {width: auto; margin:0; padding: 0}\n",
       ".dl-inline>dt, .dl-inline>dd {float: none; width: auto; display: inline-block}\n",
       ".dl-inline>dt::after {content: \":\\0020\"; padding-right: .5ex}\n",
       ".dl-inline>dt:not(:first-of-type) {padding-left: .5ex}\n",
       "</style><dl class=dl-inline><dt>RMSE</dt><dd>1371.88696050318</dd><dt>Rsquared</dt><dd>0.942493724610965</dd><dt>MAE</dt><dd>645.029781892353</dd></dl>\n"
      ],
      "text/latex": [
       "\\begin{description*}\n",
       "\\item[RMSE] 1371.88696050318\n",
       "\\item[Rsquared] 0.942493724610965\n",
       "\\item[MAE] 645.029781892353\n",
       "\\end{description*}\n"
      ],
      "text/markdown": [
       "RMSE\n",
       ":   1371.88696050318Rsquared\n",
       ":   0.942493724610965MAE\n",
       ":   645.029781892353\n",
       "\n"
      ],
      "text/plain": [
       "        RMSE     Rsquared          MAE \n",
       "1371.8869605    0.9424937  645.0297819 "
      ]
     },
     "metadata": {},
     "output_type": "display_data"
    }
   ],
   "source": [
    "#Fit a linear model using least squares on the training set\n",
    "lm.fit <-  lm(Apps ~ . , data = train)\n",
    "lm.pred <-  predict(lm.fit, test)\n",
    "test_info <- postResample(lm.pred, test$Apps) #Calculates performance across resamples #REF: https://www.rdocumentation.org/packages/caret/versions/3.21/topics/postResample\n",
    "test_info"
   ]
  },
  {
   "cell_type": "markdown",
   "id": "4af9ffa8",
   "metadata": {},
   "source": [
    "## (c)"
   ]
  },
  {
   "cell_type": "code",
   "execution_count": 17,
   "id": "67c3f06a",
   "metadata": {},
   "outputs": [
    {
     "name": "stderr",
     "output_type": "stream",
     "text": [
      "Loading required package: Matrix\n",
      "\n",
      "Loaded glmnet 4.1-2\n",
      "\n"
     ]
    },
    {
     "data": {
      "text/html": [
       "21.5443469003188"
      ],
      "text/latex": [
       "21.5443469003188"
      ],
      "text/markdown": [
       "21.5443469003188"
      ],
      "text/plain": [
       "[1] 21.54435"
      ]
     },
     "metadata": {},
     "output_type": "display_data"
    }
   ],
   "source": [
    "# Fit a ridge regression model on the training set\n",
    "library(glmnet)\n",
    "train.matrix <-  model.matrix(Apps ~ . -1 , data = train)\n",
    "test.matrix <-  model.matrix(Apps ~ . -1, data = test)\n",
    "grid <-  10 ^ seq(4, -2, length = 100)\n",
    "ridge <-  cv.glmnet(train.matrix, train[, \"Apps\"], \n",
    "                        alpha = 0, lambda = grid, thresh = 1e-12)\n",
    "lambda.val <-  ridge$lambda.min\n",
    "lambda.val"
   ]
  },
  {
   "cell_type": "code",
   "execution_count": 18,
   "id": "98bd8862",
   "metadata": {},
   "outputs": [
    {
     "data": {
      "text/html": [
       "2036598.24942198"
      ],
      "text/latex": [
       "2036598.24942198"
      ],
      "text/markdown": [
       "2036598.24942198"
      ],
      "text/plain": [
       "[1] 2036598"
      ]
     },
     "metadata": {},
     "output_type": "display_data"
    }
   ],
   "source": [
    "ridge_pred <-  predict(ridge, newx = test.matrix, s = lambda.val)\n",
    "mean((test[, \"Apps\"] - ridge_pred)^2)"
   ]
  },
  {
   "cell_type": "markdown",
   "id": "21331847",
   "metadata": {},
   "source": [
    "## (d)"
   ]
  },
  {
   "cell_type": "code",
   "execution_count": 19,
   "id": "593ae924",
   "metadata": {},
   "outputs": [
    {
     "data": {
      "text/html": [
       "6.13590727341317"
      ],
      "text/latex": [
       "6.13590727341317"
      ],
      "text/markdown": [
       "6.13590727341317"
      ],
      "text/plain": [
       "[1] 6.135907"
      ]
     },
     "metadata": {},
     "output_type": "display_data"
    }
   ],
   "source": [
    "# Fit a lasso model on the training set\n",
    "lasso <-  cv.glmnet(train.matrix, train[, \"Apps\"], \n",
    "                        alpha = 1, lambda = grid, thresh = 1e-12)\n",
    "lambda.val <-  lasso$lambda.min\n",
    "lambda.val"
   ]
  },
  {
   "cell_type": "code",
   "execution_count": 20,
   "id": "028b8f48",
   "metadata": {},
   "outputs": [
    {
     "data": {
      "text/html": [
       "1943358.7544884"
      ],
      "text/latex": [
       "1943358.7544884"
      ],
      "text/markdown": [
       "1943358.7544884"
      ],
      "text/plain": [
       "[1] 1943359"
      ]
     },
     "metadata": {},
     "output_type": "display_data"
    }
   ],
   "source": [
    "lasso_pred <-  predict(lasso, newx = test.matrix, s = lambda.val)\n",
    "mean((test[, \"Apps\"] - lasso_pred)^2)"
   ]
  },
  {
   "cell_type": "markdown",
   "id": "92b9438e",
   "metadata": {},
   "source": [
    "## (e)"
   ]
  },
  {
   "cell_type": "code",
   "execution_count": 21,
   "id": "c1be7f64",
   "metadata": {
    "scrolled": true
   },
   "outputs": [
    {
     "name": "stderr",
     "output_type": "stream",
     "text": [
      "\n",
      "Attaching package: 'pls'\n",
      "\n",
      "\n",
      "The following object is masked from 'package:caret':\n",
      "\n",
      "    R2\n",
      "\n",
      "\n",
      "The following object is masked from 'package:mlr':\n",
      "\n",
      "    crossval\n",
      "\n",
      "\n",
      "The following object is masked from 'package:stats':\n",
      "\n",
      "    loadings\n",
      "\n",
      "\n"
     ]
    }
   ],
   "source": [
    "# Fit a PCR model on the training set\n",
    "library(pls)\n",
    "set.seed(1)\n",
    "pcr.fit=pcr(Apps~., data=train, scale=TRUE, validation=\"CV\")\n"
   ]
  },
  {
   "cell_type": "code",
   "execution_count": 22,
   "id": "fbc65d45",
   "metadata": {
    "scrolled": false
   },
   "outputs": [
    {
     "name": "stdout",
     "output_type": "stream",
     "text": [
      "Data: \tX dimension: 545 17 \n",
      "\tY dimension: 545 1\n",
      "Fit method: svdpc\n",
      "Number of components considered: 17\n",
      "\n",
      "VALIDATION: RMSEP\n",
      "Cross-validated using 10 random segments.\n",
      "       (Intercept)  1 comps  2 comps  3 comps  4 comps  5 comps  6 comps\n",
      "CV            3389     3376     1660     1659     1449     1279     1277\n",
      "adjCV         3389     3376     1658     1657     1422     1266     1271\n",
      "       7 comps  8 comps  9 comps  10 comps  11 comps  12 comps  13 comps\n",
      "CV        1254     1234     1177      1175      1170      1170      1171\n",
      "adjCV     1258     1220     1175      1173      1168      1167      1168\n",
      "       14 comps  15 comps  16 comps  17 comps\n",
      "CV         1168      1164      1003     995.0\n",
      "adjCV      1166      1162      1000     992.2\n",
      "\n",
      "TRAINING: % variance explained\n",
      "      1 comps  2 comps  3 comps  4 comps  5 comps  6 comps  7 comps  8 comps\n",
      "X      31.892    57.49    64.60    70.26    75.69    80.70    84.36    87.81\n",
      "Apps    1.358    76.76    76.85    84.55    87.14    87.14    87.28    88.46\n",
      "      9 comps  10 comps  11 comps  12 comps  13 comps  14 comps  15 comps\n",
      "X       90.88     93.17     95.25     97.13     98.20     98.95     99.47\n",
      "Apps    88.69     88.77     88.90     88.98     89.04     89.09     89.37\n",
      "      16 comps  17 comps\n",
      "X        99.86    100.00\n",
      "Apps     92.08     92.22\n"
     ]
    }
   ],
   "source": [
    "summary(pcr.fit)"
   ]
  },
  {
   "cell_type": "markdown",
   "id": "3f63d538",
   "metadata": {},
   "source": [
    "Choosing M = 16.Since it has low CV error value"
   ]
  },
  {
   "cell_type": "code",
   "execution_count": 23,
   "id": "bbc9c7c2",
   "metadata": {},
   "outputs": [
    {
     "data": {
      "text/html": [
       "2086797.87950609"
      ],
      "text/latex": [
       "2086797.87950609"
      ],
      "text/markdown": [
       "2086797.87950609"
      ],
      "text/plain": [
       "[1] 2086798"
      ]
     },
     "metadata": {},
     "output_type": "display_data"
    }
   ],
   "source": [
    "pcr_pred=predict(pcr.fit,test,ncomp=16)\n",
    "mean((test$Apps-pcr_pred)^2) #test error"
   ]
  },
  {
   "cell_type": "markdown",
   "id": "a08d691a",
   "metadata": {},
   "source": [
    "## (f)"
   ]
  },
  {
   "cell_type": "code",
   "execution_count": 24,
   "id": "9a9eb7fa",
   "metadata": {
    "scrolled": false
   },
   "outputs": [
    {
     "name": "stdout",
     "output_type": "stream",
     "text": [
      "Data: \tX dimension: 545 17 \n",
      "\tY dimension: 545 1\n",
      "Fit method: kernelpls\n",
      "Number of components considered: 17\n",
      "\n",
      "VALIDATION: RMSEP\n",
      "Cross-validated using 10 random segments.\n",
      "       (Intercept)  1 comps  2 comps  3 comps  4 comps  5 comps  6 comps\n",
      "CV            3389     1500     1214     1133     1116     1036     1017\n",
      "adjCV         3389     1497     1214     1131     1110     1033     1014\n",
      "       7 comps  8 comps  9 comps  10 comps  11 comps  12 comps  13 comps\n",
      "CV      1001.8    998.9    997.9     997.8     995.8     994.9     994.9\n",
      "adjCV    998.8    996.1    995.0     994.8     992.9     992.1     992.2\n",
      "       14 comps  15 comps  16 comps  17 comps\n",
      "CV        994.9     995.1     994.9     995.0\n",
      "adjCV     992.2     992.3     992.2     992.2\n",
      "\n",
      "TRAINING: % variance explained\n",
      "      1 comps  2 comps  3 comps  4 comps  5 comps  6 comps  7 comps  8 comps\n",
      "X       25.63    38.41    62.86    66.01    69.22    73.83    76.90    81.19\n",
      "Apps    81.30    87.78    89.41    90.52    91.58    92.03    92.14    92.17\n",
      "      9 comps  10 comps  11 comps  12 comps  13 comps  14 comps  15 comps\n",
      "X       83.07     85.38     87.23     90.36     93.14     95.35     97.20\n",
      "Apps    92.19     92.20     92.21     92.21     92.22     92.22     92.22\n",
      "      16 comps  17 comps\n",
      "X        98.56    100.00\n",
      "Apps     92.22     92.22\n"
     ]
    }
   ],
   "source": [
    "#  Fit a PLS model on the training set\n",
    "set.seed(1)\n",
    "pls.fit = plsr(Apps~., data=train, scale=TRUE,validation=\"CV\")\n",
    "summary(pls.fit) #determine M value"
   ]
  },
  {
   "cell_type": "markdown",
   "id": "7baa6d8f",
   "metadata": {},
   "source": [
    "Choosing M = 12.Since it has low CV error value"
   ]
  },
  {
   "cell_type": "code",
   "execution_count": 25,
   "id": "31e4418f",
   "metadata": {},
   "outputs": [
    {
     "data": {
      "text/html": [
       "1897755.84704109"
      ],
      "text/latex": [
       "1897755.84704109"
      ],
      "text/markdown": [
       "1897755.84704109"
      ],
      "text/plain": [
       "[1] 1897756"
      ]
     },
     "metadata": {},
     "output_type": "display_data"
    }
   ],
   "source": [
    "pls_pred = predict(pls.fit, test, ncomp = 12)\n",
    "mean((pls_pred - test$Apps)^2)"
   ]
  },
  {
   "cell_type": "markdown",
   "id": "8a243832",
   "metadata": {},
   "source": [
    "## (g)"
   ]
  },
  {
   "cell_type": "markdown",
   "id": "dc1d7f0a",
   "metadata": {},
   "source": [
    "Yes there is a slight difference among the test errors resulting from these five approaches.PLS model is the best one wth less test error value(say 0.126).To say how accurately we can predict the number of applications received, let’s compute the PLS model R-square value."
   ]
  },
  {
   "cell_type": "code",
   "execution_count": 26,
   "id": "48a7ed4b",
   "metadata": {},
   "outputs": [
    {
     "data": {
      "text/html": [
       "0.918011680258346"
      ],
      "text/latex": [
       "0.918011680258346"
      ],
      "text/markdown": [
       "0.918011680258346"
      ],
      "text/plain": [
       "[1] 0.9180117"
      ]
     },
     "metadata": {},
     "output_type": "display_data"
    }
   ],
   "source": [
    "TSS = sum((mean(test$Apps) - test$Apps)^2)\n",
    "RSS = sum((pls_pred - test$Apps)^2)\n",
    "1 - (RSS)/(TSS)"
   ]
  },
  {
   "cell_type": "markdown",
   "id": "28391a08",
   "metadata": {},
   "source": [
    "The R-squared for my best model (Partial least squares) can explain 91.8% of the variance in Apps using this model"
   ]
  },
  {
   "cell_type": "markdown",
   "id": "cf46b832",
   "metadata": {},
   "source": [
    "## QUestion -5"
   ]
  },
  {
   "cell_type": "markdown",
   "id": "d9168022",
   "metadata": {},
   "source": [
    "## (a)"
   ]
  },
  {
   "cell_type": "code",
   "execution_count": 27,
   "id": "25954477",
   "metadata": {},
   "outputs": [
    {
     "data": {
      "text/html": [
       "<table class=\"dataframe\">\n",
       "<caption>A data.frame: 6 × 14</caption>\n",
       "<thead>\n",
       "\t<tr><th></th><th scope=col>crim</th><th scope=col>zn</th><th scope=col>indus</th><th scope=col>chas</th><th scope=col>nox</th><th scope=col>rm</th><th scope=col>age</th><th scope=col>dis</th><th scope=col>rad</th><th scope=col>tax</th><th scope=col>ptratio</th><th scope=col>black</th><th scope=col>lstat</th><th scope=col>medv</th></tr>\n",
       "\t<tr><th></th><th scope=col>&lt;dbl&gt;</th><th scope=col>&lt;dbl&gt;</th><th scope=col>&lt;dbl&gt;</th><th scope=col>&lt;int&gt;</th><th scope=col>&lt;dbl&gt;</th><th scope=col>&lt;dbl&gt;</th><th scope=col>&lt;dbl&gt;</th><th scope=col>&lt;dbl&gt;</th><th scope=col>&lt;int&gt;</th><th scope=col>&lt;dbl&gt;</th><th scope=col>&lt;dbl&gt;</th><th scope=col>&lt;dbl&gt;</th><th scope=col>&lt;dbl&gt;</th><th scope=col>&lt;dbl&gt;</th></tr>\n",
       "</thead>\n",
       "<tbody>\n",
       "\t<tr><th scope=row>1</th><td>0.00632</td><td>18</td><td>2.31</td><td>0</td><td>0.538</td><td>6.575</td><td>65.2</td><td>4.0900</td><td>1</td><td>296</td><td>15.3</td><td>396.90</td><td>4.98</td><td>24.0</td></tr>\n",
       "\t<tr><th scope=row>2</th><td>0.02731</td><td> 0</td><td>7.07</td><td>0</td><td>0.469</td><td>6.421</td><td>78.9</td><td>4.9671</td><td>2</td><td>242</td><td>17.8</td><td>396.90</td><td>9.14</td><td>21.6</td></tr>\n",
       "\t<tr><th scope=row>3</th><td>0.02729</td><td> 0</td><td>7.07</td><td>0</td><td>0.469</td><td>7.185</td><td>61.1</td><td>4.9671</td><td>2</td><td>242</td><td>17.8</td><td>392.83</td><td>4.03</td><td>34.7</td></tr>\n",
       "\t<tr><th scope=row>4</th><td>0.03237</td><td> 0</td><td>2.18</td><td>0</td><td>0.458</td><td>6.998</td><td>45.8</td><td>6.0622</td><td>3</td><td>222</td><td>18.7</td><td>394.63</td><td>2.94</td><td>33.4</td></tr>\n",
       "\t<tr><th scope=row>5</th><td>0.06905</td><td> 0</td><td>2.18</td><td>0</td><td>0.458</td><td>7.147</td><td>54.2</td><td>6.0622</td><td>3</td><td>222</td><td>18.7</td><td>396.90</td><td>5.33</td><td>36.2</td></tr>\n",
       "\t<tr><th scope=row>6</th><td>0.02985</td><td> 0</td><td>2.18</td><td>0</td><td>0.458</td><td>6.430</td><td>58.7</td><td>6.0622</td><td>3</td><td>222</td><td>18.7</td><td>394.12</td><td>5.21</td><td>28.7</td></tr>\n",
       "</tbody>\n",
       "</table>\n"
      ],
      "text/latex": [
       "A data.frame: 6 × 14\n",
       "\\begin{tabular}{r|llllllllllllll}\n",
       "  & crim & zn & indus & chas & nox & rm & age & dis & rad & tax & ptratio & black & lstat & medv\\\\\n",
       "  & <dbl> & <dbl> & <dbl> & <int> & <dbl> & <dbl> & <dbl> & <dbl> & <int> & <dbl> & <dbl> & <dbl> & <dbl> & <dbl>\\\\\n",
       "\\hline\n",
       "\t1 & 0.00632 & 18 & 2.31 & 0 & 0.538 & 6.575 & 65.2 & 4.0900 & 1 & 296 & 15.3 & 396.90 & 4.98 & 24.0\\\\\n",
       "\t2 & 0.02731 &  0 & 7.07 & 0 & 0.469 & 6.421 & 78.9 & 4.9671 & 2 & 242 & 17.8 & 396.90 & 9.14 & 21.6\\\\\n",
       "\t3 & 0.02729 &  0 & 7.07 & 0 & 0.469 & 7.185 & 61.1 & 4.9671 & 2 & 242 & 17.8 & 392.83 & 4.03 & 34.7\\\\\n",
       "\t4 & 0.03237 &  0 & 2.18 & 0 & 0.458 & 6.998 & 45.8 & 6.0622 & 3 & 222 & 18.7 & 394.63 & 2.94 & 33.4\\\\\n",
       "\t5 & 0.06905 &  0 & 2.18 & 0 & 0.458 & 7.147 & 54.2 & 6.0622 & 3 & 222 & 18.7 & 396.90 & 5.33 & 36.2\\\\\n",
       "\t6 & 0.02985 &  0 & 2.18 & 0 & 0.458 & 6.430 & 58.7 & 6.0622 & 3 & 222 & 18.7 & 394.12 & 5.21 & 28.7\\\\\n",
       "\\end{tabular}\n"
      ],
      "text/markdown": [
       "\n",
       "A data.frame: 6 × 14\n",
       "\n",
       "| <!--/--> | crim &lt;dbl&gt; | zn &lt;dbl&gt; | indus &lt;dbl&gt; | chas &lt;int&gt; | nox &lt;dbl&gt; | rm &lt;dbl&gt; | age &lt;dbl&gt; | dis &lt;dbl&gt; | rad &lt;int&gt; | tax &lt;dbl&gt; | ptratio &lt;dbl&gt; | black &lt;dbl&gt; | lstat &lt;dbl&gt; | medv &lt;dbl&gt; |\n",
       "|---|---|---|---|---|---|---|---|---|---|---|---|---|---|---|\n",
       "| 1 | 0.00632 | 18 | 2.31 | 0 | 0.538 | 6.575 | 65.2 | 4.0900 | 1 | 296 | 15.3 | 396.90 | 4.98 | 24.0 |\n",
       "| 2 | 0.02731 |  0 | 7.07 | 0 | 0.469 | 6.421 | 78.9 | 4.9671 | 2 | 242 | 17.8 | 396.90 | 9.14 | 21.6 |\n",
       "| 3 | 0.02729 |  0 | 7.07 | 0 | 0.469 | 7.185 | 61.1 | 4.9671 | 2 | 242 | 17.8 | 392.83 | 4.03 | 34.7 |\n",
       "| 4 | 0.03237 |  0 | 2.18 | 0 | 0.458 | 6.998 | 45.8 | 6.0622 | 3 | 222 | 18.7 | 394.63 | 2.94 | 33.4 |\n",
       "| 5 | 0.06905 |  0 | 2.18 | 0 | 0.458 | 7.147 | 54.2 | 6.0622 | 3 | 222 | 18.7 | 396.90 | 5.33 | 36.2 |\n",
       "| 6 | 0.02985 |  0 | 2.18 | 0 | 0.458 | 6.430 | 58.7 | 6.0622 | 3 | 222 | 18.7 | 394.12 | 5.21 | 28.7 |\n",
       "\n"
      ],
      "text/plain": [
       "  crim    zn indus chas nox   rm    age  dis    rad tax ptratio black  lstat\n",
       "1 0.00632 18 2.31  0    0.538 6.575 65.2 4.0900 1   296 15.3    396.90 4.98 \n",
       "2 0.02731  0 7.07  0    0.469 6.421 78.9 4.9671 2   242 17.8    396.90 9.14 \n",
       "3 0.02729  0 7.07  0    0.469 7.185 61.1 4.9671 2   242 17.8    392.83 4.03 \n",
       "4 0.03237  0 2.18  0    0.458 6.998 45.8 6.0622 3   222 18.7    394.63 2.94 \n",
       "5 0.06905  0 2.18  0    0.458 7.147 54.2 6.0622 3   222 18.7    396.90 5.33 \n",
       "6 0.02985  0 2.18  0    0.458 6.430 58.7 6.0622 3   222 18.7    394.12 5.21 \n",
       "  medv\n",
       "1 24.0\n",
       "2 21.6\n",
       "3 34.7\n",
       "4 33.4\n",
       "5 36.2\n",
       "6 28.7"
      ]
     },
     "metadata": {},
     "output_type": "display_data"
    }
   ],
   "source": [
    "# Load ISLR Library #REF:http://rstudio-pubs-static.s3.amazonaws.com/392778_2c85eb882da9411aae9a0a82b77b4157.html\n",
    "library(ISLR)\n",
    "library(MASS) \n",
    "library(splines)\n",
    "library(boot)\n",
    "#load the data\n",
    "attach(Boston)\n",
    "head(Boston)"
   ]
  },
  {
   "cell_type": "code",
   "execution_count": 28,
   "id": "35d34064",
   "metadata": {},
   "outputs": [
    {
     "data": {
      "text/html": [
       "<table class=\"dataframe\">\n",
       "<caption>A matrix: 4 × 4 of type dbl</caption>\n",
       "<thead>\n",
       "\t<tr><th></th><th scope=col>Estimate</th><th scope=col>Std. Error</th><th scope=col>t value</th><th scope=col>Pr(&gt;|t|)</th></tr>\n",
       "</thead>\n",
       "<tbody>\n",
       "\t<tr><th scope=row>(Intercept)</th><td> 0.5546951</td><td>0.00275939</td><td>201.020894</td><td> 0.000000e+00</td></tr>\n",
       "\t<tr><th scope=row>poly(dis, 3)1</th><td>-2.0030959</td><td>0.06207094</td><td>-32.271071</td><td>1.597201e-124</td></tr>\n",
       "\t<tr><th scope=row>poly(dis, 3)2</th><td> 0.8563300</td><td>0.06207094</td><td> 13.795987</td><td> 6.133104e-37</td></tr>\n",
       "\t<tr><th scope=row>poly(dis, 3)3</th><td>-0.3180490</td><td>0.06207094</td><td> -5.123959</td><td> 4.274950e-07</td></tr>\n",
       "</tbody>\n",
       "</table>\n"
      ],
      "text/latex": [
       "A matrix: 4 × 4 of type dbl\n",
       "\\begin{tabular}{r|llll}\n",
       "  & Estimate & Std. Error & t value & Pr(>\\textbar{}t\\textbar{})\\\\\n",
       "\\hline\n",
       "\t(Intercept) &  0.5546951 & 0.00275939 & 201.020894 &  0.000000e+00\\\\\n",
       "\tpoly(dis, 3)1 & -2.0030959 & 0.06207094 & -32.271071 & 1.597201e-124\\\\\n",
       "\tpoly(dis, 3)2 &  0.8563300 & 0.06207094 &  13.795987 &  6.133104e-37\\\\\n",
       "\tpoly(dis, 3)3 & -0.3180490 & 0.06207094 &  -5.123959 &  4.274950e-07\\\\\n",
       "\\end{tabular}\n"
      ],
      "text/markdown": [
       "\n",
       "A matrix: 4 × 4 of type dbl\n",
       "\n",
       "| <!--/--> | Estimate | Std. Error | t value | Pr(&gt;|t|) |\n",
       "|---|---|---|---|---|\n",
       "| (Intercept) |  0.5546951 | 0.00275939 | 201.020894 |  0.000000e+00 |\n",
       "| poly(dis, 3)1 | -2.0030959 | 0.06207094 | -32.271071 | 1.597201e-124 |\n",
       "| poly(dis, 3)2 |  0.8563300 | 0.06207094 |  13.795987 |  6.133104e-37 |\n",
       "| poly(dis, 3)3 | -0.3180490 | 0.06207094 |  -5.123959 |  4.274950e-07 |\n",
       "\n"
      ],
      "text/plain": [
       "              Estimate   Std. Error t value    Pr(>|t|)     \n",
       "(Intercept)    0.5546951 0.00275939 201.020894  0.000000e+00\n",
       "poly(dis, 3)1 -2.0030959 0.06207094 -32.271071 1.597201e-124\n",
       "poly(dis, 3)2  0.8563300 0.06207094  13.795987  6.133104e-37\n",
       "poly(dis, 3)3 -0.3180490 0.06207094  -5.123959  4.274950e-07"
      ]
     },
     "metadata": {},
     "output_type": "display_data"
    }
   ],
   "source": [
    "# fit the data\n",
    "cubic_fit <- lm(nox ~ poly(dis, 3), data = Boston)\n",
    "coef(summary(cubic_fit))"
   ]
  },
  {
   "cell_type": "code",
   "execution_count": 29,
   "id": "41ba6a43",
   "metadata": {},
   "outputs": [
    {
     "data": {
      "image/png": "[encoded data removed]",
      "text/plain": [
       "plot without title"
      ]
     },
     "metadata": {
      "image/png": {
       "height": 420,
       "width": 420
      }
     },
     "output_type": "display_data"
    }
   ],
   "source": [
    "#plot the resulting data\n",
    "dis.grid <- seq(min(Boston$dis), max(Boston$dis), by = 0.1)\n",
    "preds <- predict(cubic_fit, list(dis = dis.grid), se = TRUE)\n",
    "se.bands <- cbind(preds$cubic_fit + 2* preds$se.cubic_fit, preds$cubic_fit - 2 * preds$se.cubic_fit)\n",
    "plot(nox ~ dis, data = Boston, col = \"darkgrey\")\n",
    "\n"
   ]
  },
  {
   "cell_type": "code",
   "execution_count": 30,
   "id": "61a348f2",
   "metadata": {},
   "outputs": [
    {
     "data": {
      "image/png": "[encoded data removed]",
      "text/plain": [
       "plot without title"
      ]
     },
     "metadata": {
      "image/png": {
       "height": 420,
       "width": 420
      }
     },
     "output_type": "display_data"
    }
   ],
   "source": [
    "#plot the polynomial fit \n",
    "preds <- predict(cubic_fit, list(dis = dis.grid))\n",
    "plot(nox ~ dis, data = Boston, col = \"darkgrey\")\n",
    "lines(dis.grid, preds, col = \"blue\", lwd = 2)"
   ]
  },
  {
   "cell_type": "markdown",
   "id": "65ef4b06",
   "metadata": {},
   "source": [
    "## (b)"
   ]
  },
  {
   "cell_type": "code",
   "execution_count": 31,
   "id": "334e0e6a",
   "metadata": {
    "scrolled": false
   },
   "outputs": [
    {
     "data": {
      "image/png": "[encoded data removed]",
      "text/plain": [
       "plot without title"
      ]
     },
     "metadata": {
      "image/png": {
       "height": 420,
       "width": 420
      }
     },
     "output_type": "display_data"
    }
   ],
   "source": [
    "#Plot the polynomial fits for a range of different polynomial degrees\n",
    "RSS <- rep(NA, 10)\n",
    "for (i in 1:10) {\n",
    "  fit <- lm(nox ~ poly(dis, i), data = Boston)\n",
    "  RSS[i] <- sum(fit$residuals ^ 2)\n",
    "}\n",
    "plot(1:10, RSS, type = 'l', xlab = \"Degree\", ylab = \"RSS\")"
   ]
  },
  {
   "cell_type": "markdown",
   "id": "3e55b9a4",
   "metadata": {},
   "source": [
    "The Residual sum of squares gradually decreases with increase in degree of polynomials"
   ]
  },
  {
   "cell_type": "markdown",
   "id": "335f50ed",
   "metadata": {},
   "source": [
    "## (c)"
   ]
  },
  {
   "cell_type": "code",
   "execution_count": 32,
   "id": "8533ed49",
   "metadata": {},
   "outputs": [
    {
     "data": {
      "image/png": "[encoded data removed]",
      "text/plain": [
       "plot without title"
      ]
     },
     "metadata": {
      "image/png": {
       "height": 420,
       "width": 420
      }
     },
     "output_type": "display_data"
    }
   ],
   "source": [
    "#Perform cross-validation or another approach to select the optimal degree for the polynomial\n",
    "testMSE <- rep(NA, 10)\n",
    "for (i in 1:10) {\n",
    "  fit <- glm(nox ~ poly(dis, i), data = Boston)\n",
    "  testMSE[i] <- cv.glm(Boston, fit, K = 10)$delta[1]\n",
    "}\n",
    "plot(1:10, testMSE, type = 'l', xlab = \"Degree\", ylab = \"Test MSE\")\n",
    "points(which.min(testMSE), testMSE[which.min(testMSE)], col = 'blue', pch = 19)"
   ]
  },
  {
   "cell_type": "markdown",
   "id": "d31016a5",
   "metadata": {},
   "source": [
    "From the above plot,we can conclude that the optimal polynomial degree is 3"
   ]
  },
  {
   "cell_type": "markdown",
   "id": "7537d787",
   "metadata": {},
   "source": [
    "## (d)"
   ]
  },
  {
   "cell_type": "code",
   "execution_count": 33,
   "id": "365446c8",
   "metadata": {},
   "outputs": [
    {
     "data": {
      "text/html": [
       "<strong>50%:</strong> 3.20745"
      ],
      "text/latex": [
       "\\textbf{50\\textbackslash{}\\%:} 3.20745"
      ],
      "text/markdown": [
       "**50%:** 3.20745"
      ],
      "text/plain": [
       "    50% \n",
       "3.20745 "
      ]
     },
     "metadata": {},
     "output_type": "display_data"
    }
   ],
   "source": [
    "#Use the bs() function to fit a regression spline\n",
    "dof <- 4\n",
    "fit <- lm(nox ~ bs(dis, df = dof), data = Boston)\n",
    "attr(bs(Boston$dis, df = dof), \"knots\")"
   ]
  },
  {
   "cell_type": "code",
   "execution_count": 34,
   "id": "2ec8531d",
   "metadata": {},
   "outputs": [
    {
     "data": {
      "image/png": "[encoded data removed]",
      "text/plain": [
       "plot without title"
      ]
     },
     "metadata": {
      "image/png": {
       "height": 420,
       "width": 420
      }
     },
     "output_type": "display_data"
    }
   ],
   "source": [
    "#plot\n",
    "preds <- predict(fit, list(dis = dis.grid), se = TRUE)\n",
    "se.bands <- cbind(preds$fit + 2* preds$se.fit, preds$fit - 2 * preds$se.fit)\n",
    "plot(nox ~ dis, data = Boston, col = \"darkgrey\")\n",
    "matlines(dis.grid, se.bands, lwd = 1, col = \"red\", lty = 3)"
   ]
  },
  {
   "cell_type": "markdown",
   "id": "8187c00a",
   "metadata": {},
   "source": [
    "degree of freedom (dof) is equal to the sum of the number of knots and degree.So 4(dof) = 3(default degree) + 1(No of knots),So the number of knot is 1"
   ]
  },
  {
   "cell_type": "markdown",
   "id": "232ae324",
   "metadata": {},
   "source": [
    "## (e)"
   ]
  },
  {
   "cell_type": "code",
   "execution_count": 35,
   "id": "f1f9d5a1",
   "metadata": {},
   "outputs": [
    {
     "data": {
      "image/png": "[encoded data removed]",
      "text/plain": [
       "plot without title"
      ]
     },
     "metadata": {
      "image/png": {
       "height": 420,
       "width": 420
      }
     },
     "output_type": "display_data"
    }
   ],
   "source": [
    "#fit a regreg_splsion spline for a range of degrees of freedom\n",
    "reg_spl <- c()\n",
    "df.range <- 3:16\n",
    "for (dof in df.range) {\n",
    "  fit <- lm(nox ~ bs(dis, df = dof), data = Boston)\n",
    "  reg_spl <- c(reg_spl, sum(fit$residuals ^ 2))\n",
    "}\n",
    "plot(df.range, reg_spl, type = 'l', xlab = 'degree of freedom', ylab = 'RSS')"
   ]
  },
  {
   "cell_type": "markdown",
   "id": "0033f584",
   "metadata": {},
   "source": [
    "From the above plot we can observe that dof = 10 is better as it has comparatively less RSS"
   ]
  },
  {
   "cell_type": "markdown",
   "id": "edd88a51",
   "metadata": {},
   "source": [
    "## (f)"
   ]
  },
  {
   "cell_type": "code",
   "execution_count": 36,
   "id": "dae0e0bd",
   "metadata": {
    "scrolled": true
   },
   "outputs": [
    {
     "name": "stderr",
     "output_type": "stream",
     "text": [
      "Warning message in bs(dis, degree = 3L, knots = numeric(0), Boundary.knots = c(1.1296, :\n",
      "\"some 'x' values beyond boundary knots may cause ill-conditioned bases\"\n",
      "Warning message in bs(dis, degree = 3L, knots = numeric(0), Boundary.knots = c(1.1296, :\n",
      "\"some 'x' values beyond boundary knots may cause ill-conditioned bases\"\n",
      "Warning message in bs(dis, degree = 3L, knots = numeric(0), Boundary.knots = c(1.137, :\n",
      "\"some 'x' values beyond boundary knots may cause ill-conditioned bases\"\n",
      "Warning message in bs(dis, degree = 3L, knots = numeric(0), Boundary.knots = c(1.137, :\n",
      "\"some 'x' values beyond boundary knots may cause ill-conditioned bases\"\n",
      "Warning message in bs(dis, degree = 3L, knots = c(`50%` = 3.2157), Boundary.knots = c(1.137, :\n",
      "\"some 'x' values beyond boundary knots may cause ill-conditioned bases\"\n",
      "Warning message in bs(dis, degree = 3L, knots = c(`50%` = 3.2157), Boundary.knots = c(1.137, :\n",
      "\"some 'x' values beyond boundary knots may cause ill-conditioned bases\"\n",
      "Warning message in bs(dis, degree = 3L, knots = c(`33.33333%` = 2.39623333333333, :\n",
      "\"some 'x' values beyond boundary knots may cause ill-conditioned bases\"\n",
      "Warning message in bs(dis, degree = 3L, knots = c(`33.33333%` = 2.39623333333333, :\n",
      "\"some 'x' values beyond boundary knots may cause ill-conditioned bases\"\n",
      "Warning message in bs(dis, degree = 3L, knots = c(`33.33333%` = 2.3817, `66.66667%` = 4.2965:\n",
      "\"some 'x' values beyond boundary knots may cause ill-conditioned bases\"\n",
      "Warning message in bs(dis, degree = 3L, knots = c(`33.33333%` = 2.3817, `66.66667%` = 4.2965:\n",
      "\"some 'x' values beyond boundary knots may cause ill-conditioned bases\"\n",
      "Warning message in bs(dis, degree = 3L, knots = c(`25%` = 2.11175, `50%` = 3.26745, :\n",
      "\"some 'x' values beyond boundary knots may cause ill-conditioned bases\"\n",
      "Warning message in bs(dis, degree = 3L, knots = c(`25%` = 2.11175, `50%` = 3.26745, :\n",
      "\"some 'x' values beyond boundary knots may cause ill-conditioned bases\"\n",
      "Warning message in bs(dis, degree = 3L, knots = c(`20%` = 1.9709, `40%` = 2.7344, :\n",
      "\"some 'x' values beyond boundary knots may cause ill-conditioned bases\"\n",
      "Warning message in bs(dis, degree = 3L, knots = c(`20%` = 1.9709, `40%` = 2.7344, :\n",
      "\"some 'x' values beyond boundary knots may cause ill-conditioned bases\"\n",
      "Warning message in bs(dis, degree = 3L, knots = c(`20%` = 1.9356, `40%` = 2.5806, :\n",
      "\"some 'x' values beyond boundary knots may cause ill-conditioned bases\"\n",
      "Warning message in bs(dis, degree = 3L, knots = c(`20%` = 1.9356, `40%` = 2.5806, :\n",
      "\"some 'x' values beyond boundary knots may cause ill-conditioned bases\"\n",
      "Warning message in bs(dis, degree = 3L, knots = c(`16.66667%` = 1.85738333333333, :\n",
      "\"some 'x' values beyond boundary knots may cause ill-conditioned bases\"\n",
      "Warning message in bs(dis, degree = 3L, knots = c(`16.66667%` = 1.85738333333333, :\n",
      "\"some 'x' values beyond boundary knots may cause ill-conditioned bases\"\n",
      "Warning message in bs(dis, degree = 3L, knots = c(`14.28571%` = 1.8172, `28.57143%` = 2.211, :\n",
      "\"some 'x' values beyond boundary knots may cause ill-conditioned bases\"\n",
      "Warning message in bs(dis, degree = 3L, knots = c(`14.28571%` = 1.8172, `28.57143%` = 2.211, :\n",
      "\"some 'x' values beyond boundary knots may cause ill-conditioned bases\"\n",
      "Warning message in bs(dis, degree = 3L, knots = c(`14.28571%` = 1.7821, `28.57143%` = 2.185, :\n",
      "\"some 'x' values beyond boundary knots may cause ill-conditioned bases\"\n",
      "Warning message in bs(dis, degree = 3L, knots = c(`14.28571%` = 1.7821, `28.57143%` = 2.185, :\n",
      "\"some 'x' values beyond boundary knots may cause ill-conditioned bases\"\n",
      "Warning message in bs(dis, degree = 3L, knots = c(`12.5%` = 1.75675, `25%` = 2.0959, :\n",
      "\"some 'x' values beyond boundary knots may cause ill-conditioned bases\"\n",
      "Warning message in bs(dis, degree = 3L, knots = c(`12.5%` = 1.75675, `25%` = 2.0959, :\n",
      "\"some 'x' values beyond boundary knots may cause ill-conditioned bases\"\n",
      "Warning message in bs(dis, degree = 3L, knots = c(`11.11111%` = 1.71552222222222, :\n",
      "\"some 'x' values beyond boundary knots may cause ill-conditioned bases\"\n",
      "Warning message in bs(dis, degree = 3L, knots = c(`11.11111%` = 1.71552222222222, :\n",
      "\"some 'x' values beyond boundary knots may cause ill-conditioned bases\"\n",
      "Warning message in bs(dis, degree = 3L, knots = c(`11.11111%` = 1.71297777777778, :\n",
      "\"some 'x' values beyond boundary knots may cause ill-conditioned bases\"\n",
      "Warning message in bs(dis, degree = 3L, knots = c(`11.11111%` = 1.71297777777778, :\n",
      "\"some 'x' values beyond boundary knots may cause ill-conditioned bases\"\n",
      "Warning message in bs(dis, degree = 3L, knots = c(`10%` = 1.6634, `20%` = 1.9669, :\n",
      "\"some 'x' values beyond boundary knots may cause ill-conditioned bases\"\n",
      "Warning message in bs(dis, degree = 3L, knots = c(`10%` = 1.6634, `20%` = 1.9669, :\n",
      "\"some 'x' values beyond boundary knots may cause ill-conditioned bases\"\n",
      "Warning message in bs(dis, degree = 3L, knots = c(`10%` = 1.63564, `20%` = 1.96376, :\n",
      "\"some 'x' values beyond boundary knots may cause ill-conditioned bases\"\n",
      "Warning message in bs(dis, degree = 3L, knots = c(`10%` = 1.63564, `20%` = 1.96376, :\n",
      "\"some 'x' values beyond boundary knots may cause ill-conditioned bases\"\n",
      "Warning message in bs(dis, degree = 3L, knots = c(`9.090909%` = 1.61450909090909, :\n",
      "\"some 'x' values beyond boundary knots may cause ill-conditioned bases\"\n",
      "Warning message in bs(dis, degree = 3L, knots = c(`9.090909%` = 1.61450909090909, :\n",
      "\"some 'x' values beyond boundary knots may cause ill-conditioned bases\"\n",
      "Warning message in bs(dis, degree = 3L, knots = c(`9.090909%` = 1.58942727272727, :\n",
      "\"some 'x' values beyond boundary knots may cause ill-conditioned bases\"\n",
      "Warning message in bs(dis, degree = 3L, knots = c(`9.090909%` = 1.58942727272727, :\n",
      "\"some 'x' values beyond boundary knots may cause ill-conditioned bases\"\n",
      "Warning message in bs(dis, degree = 3L, knots = c(`8.333333%` = 1.59125, `16.66667%` = 1.84476666666667, :\n",
      "\"some 'x' values beyond boundary knots may cause ill-conditioned bases\"\n",
      "Warning message in bs(dis, degree = 3L, knots = c(`8.333333%` = 1.59125, `16.66667%` = 1.84476666666667, :\n",
      "\"some 'x' values beyond boundary knots may cause ill-conditioned bases\"\n",
      "Warning message in bs(dis, degree = 3L, knots = c(`8.333333%` = 1.5881, `16.66667%` = 1.84728333333333, :\n",
      "\"some 'x' values beyond boundary knots may cause ill-conditioned bases\"\n",
      "Warning message in bs(dis, degree = 3L, knots = c(`8.333333%` = 1.5881, `16.66667%` = 1.84728333333333, :\n",
      "\"some 'x' values beyond boundary knots may cause ill-conditioned bases\"\n",
      "Warning message in bs(dis, degree = 3L, knots = c(`7.692308%` = 1.57254615384615, :\n",
      "\"some 'x' values beyond boundary knots may cause ill-conditioned bases\"\n",
      "Warning message in bs(dis, degree = 3L, knots = c(`7.692308%` = 1.57254615384615, :\n",
      "\"some 'x' values beyond boundary knots may cause ill-conditioned bases\"\n",
      "Warning message in bs(dis, degree = 3L, knots = c(`7.692308%` = 1.5539, `15.38462%` = 1.8125, :\n",
      "\"some 'x' values beyond boundary knots may cause ill-conditioned bases\"\n",
      "Warning message in bs(dis, degree = 3L, knots = c(`7.692308%` = 1.5539, `15.38462%` = 1.8125, :\n",
      "\"some 'x' values beyond boundary knots may cause ill-conditioned bases\"\n",
      "Warning message in bs(dis, degree = 3L, knots = c(`7.142857%` = 1.52245, `14.28571%` = 1.7659, :\n",
      "\"some 'x' values beyond boundary knots may cause ill-conditioned bases\"\n",
      "Warning message in bs(dis, degree = 3L, knots = c(`7.142857%` = 1.52245, `14.28571%` = 1.7659, :\n",
      "\"some 'x' values beyond boundary knots may cause ill-conditioned bases\"\n",
      "Warning message in bs(dis, degree = 3L, knots = c(`7.142857%` = 1.5311, `14.28571%` = 1.7936, :\n",
      "\"some 'x' values beyond boundary knots may cause ill-conditioned bases\"\n",
      "Warning message in bs(dis, degree = 3L, knots = c(`7.142857%` = 1.5311, `14.28571%` = 1.7936, :\n",
      "\"some 'x' values beyond boundary knots may cause ill-conditioned bases\"\n"
     ]
    }
   ],
   "source": [
    "#Cross validation\n",
    "\n",
    "res <- c()\n",
    "for (dof in df.range) {\n",
    "  fit <- glm(nox ~ bs(dis, df = dof), data = Boston)\n",
    "  testMSE <- cv.glm(Boston, fit, K = 10)$delta[1]\n",
    "  res <- c(res, testMSE)\n",
    "}\n"
   ]
  },
  {
   "cell_type": "code",
   "execution_count": 37,
   "id": "99e1bd99",
   "metadata": {
    "scrolled": false
   },
   "outputs": [
    {
     "data": {
      "image/png": "[encoded data removed]",
      "text/plain": [
       "plot without title"
      ]
     },
     "metadata": {
      "image/png": {
       "height": 420,
       "width": 420
      }
     },
     "output_type": "display_data"
    }
   ],
   "source": [
    "#plot\n",
    "plot(df.range, res, type = 'l', xlab = 'degree of freedom', ylab = 'Test MSE')\n",
    "points(which.min(res) + 2, res[which.min(res)], col = 'red', pch = 19)"
   ]
  },
  {
   "cell_type": "markdown",
   "id": "894e5b33",
   "metadata": {},
   "source": [
    "Based on the above plot,Dof = 10 is chosen"
   ]
  }
 ],
 "metadata": {
  "kernelspec": {
   "display_name": "R",
   "language": "R",
   "name": "ir"
  },
  "language_info": {
   "codemirror_mode": "r",
   "file_extension": ".r",
   "mimetype": "text/x-r-source",
   "name": "R",
   "pygments_lexer": "r",
   "version": "4.0.5"
  }
 },
 "nbformat": 4,
 "nbformat_minor": 5
}
